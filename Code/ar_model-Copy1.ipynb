{
 "cells": [
  {
   "cell_type": "code",
   "execution_count": 24,
   "id": "0e2cbf42",
   "metadata": {},
   "outputs": [],
   "source": [
    "torch.cuda.empty_cache()"
   ]
  },
  {
   "cell_type": "markdown",
   "id": "138589c4",
   "metadata": {},
   "source": [
    "# OOS "
   ]
  },
  {
   "cell_type": "code",
   "execution_count": 4,
   "id": "f984fa0e",
   "metadata": {},
   "outputs": [],
   "source": [
    "import data_loading\n",
    "import numpy as np"
   ]
  },
  {
   "cell_type": "code",
   "execution_count": 2,
   "id": "46c75f60",
   "metadata": {},
   "outputs": [
    {
     "name": "stdout",
     "output_type": "stream",
     "text": [
      "Index(['A2ME', 'AC', 'AT', 'ATO', 'B2M', 'BETA_d', 'BETA_m', 'C2A', 'CF2B',\n",
      "       'CF2P', 'CTO', 'D2A', 'D2P', 'DPI2A', 'E2P', 'FC2Y', 'HIGH52', 'INV',\n",
      "       'IdioVol', 'LEV', 'ME', 'NI', 'NOA', 'OA', 'OL', 'OP', 'PCM', 'PM',\n",
      "       'PROF', 'Q', 'R12_2', 'R12_7', 'R2_1', 'R36_13', 'R60_13', 'RNA', 'ROA',\n",
      "       'ROE', 'RVAR', 'S2P', 'SGA2S', 'SPREAD', 'SUV', 'TURN', 'VAR', 'return',\n",
      "       'date', 'permno', 'monthly_update'],\n",
      "      dtype='object')\n",
      "['A2ME' 'AC' 'AT' 'ATO' 'B2M' 'BETA_d' 'BETA_m' 'C2A' 'CF2B' 'CF2P' 'CTO'\n",
      " 'D2A' 'D2P' 'DPI2A' 'E2P' 'FC2Y' 'HIGH52' 'INV' 'IdioVol' 'LEV' 'ME' 'NI'\n",
      " 'NOA' 'OA' 'OL' 'OP' 'PCM' 'PM' 'PROF' 'Q' 'R12_2' 'R12_7' 'R2_1'\n",
      " 'R36_13' 'R60_13' 'RNA' 'ROA' 'ROE' 'RVAR' 'S2P' 'SGA2S' 'SPREAD' 'SUV'\n",
      " 'TURN' 'VAR']\n"
     ]
    },
    {
     "name": "stderr",
     "output_type": "stream",
     "text": [
      "100%|████████████████████████████████████████████████████████████████████████████| 648/648 [03:06<00:00,  3.48it/s]\n"
     ]
    }
   ],
   "source": [
    "percentile_rank_chars, _, chars, _,\\\n",
    "    returns, _, rfts, monthly_updates = data_loading.get_data_panel(\"../Data/raw_chars_returns_df_all_dates_yearly_fb.fthr\",\n",
    "                                                            \"../Data/ff_rf.csv\", computstat_data_present_filter=True,\n",
    "                                                                              financial_firm_filter=False)"
   ]
  },
  {
   "cell_type": "code",
   "execution_count": 5,
   "id": "0b4f606d",
   "metadata": {},
   "outputs": [],
   "source": [
    "excess_returns = returns - np.expand_dims(np.array(rfts), axis=1)"
   ]
  },
  {
   "cell_type": "code",
   "execution_count": 6,
   "id": "4ab9b2c9",
   "metadata": {},
   "outputs": [
    {
     "data": {
      "text/plain": [
       "(648, 22630)"
      ]
     },
     "execution_count": 6,
     "metadata": {},
     "output_type": "execute_result"
    }
   ],
   "source": [
    "excess_returns.shape"
   ]
  },
  {
   "cell_type": "code",
   "execution_count": null,
   "id": "301ec9f1",
   "metadata": {},
   "outputs": [],
   "source": [
    "rft_map = {i: rf for i, rf in enumerate(rfts)}"
   ]
  },
  {
   "cell_type": "code",
   "execution_count": null,
   "id": "0078111e",
   "metadata": {},
   "outputs": [],
   "source": [
    "import numpy as np"
   ]
  },
  {
   "cell_type": "code",
   "execution_count": 7,
   "id": "d80097c8",
   "metadata": {},
   "outputs": [],
   "source": [
    "any_present = np.any(~np.isnan(percentile_rank_chars), axis=2)\n",
    "present_counts = np.sum(np.sum(np.logical_and(~np.isnan(percentile_rank_chars),\n",
    "                                             np.expand_dims(any_present, axis=2)), axis=0), axis=0)\n",
    "del any_present"
   ]
  },
  {
   "cell_type": "code",
   "execution_count": 8,
   "id": "00a34a3e",
   "metadata": {},
   "outputs": [
    {
     "name": "stdout",
     "output_type": "stream",
     "text": [
      "['ME' 'R2_1' 'D2P' 'SPREAD' 'RVAR' 'VAR' 'IdioVol' 'TURN' 'SUV' 'R12_7'\n",
      " 'CF2P' 'E2P' 'R12_2' 'S2P' 'B2M' 'CF2B' 'AT' 'A2ME' 'Q' 'PROF' 'PM' 'PCM'\n",
      " 'BETA_m' 'C2A' 'OL' 'ROE' 'CTO' 'ATO' 'LEV' 'NOA' 'ROA' 'RNA' 'OP' 'NI'\n",
      " 'INV' 'BETA_d' 'R36_13' 'D2A' 'FC2Y' 'SGA2S' 'OA' 'AC' 'HIGH52' 'R60_13'\n",
      " 'DPI2A']\n"
     ]
    }
   ],
   "source": [
    "ordering = np.argsort(present_counts)[::-1]\n",
    "print(chars[ordering])\n",
    "percentile_rank_chars = percentile_rank_chars[:,:,ordering]\n",
    "chars = chars[ordering]"
   ]
  },
  {
   "cell_type": "code",
   "execution_count": 9,
   "id": "da0fc123",
   "metadata": {},
   "outputs": [],
   "source": [
    "del percentile_rank_chars"
   ]
  },
  {
   "cell_type": "code",
   "execution_count": 10,
   "id": "74e95ab3",
   "metadata": {},
   "outputs": [],
   "source": [
    "def load_imputation(name, full=False):\n",
    "    base_path = '../Data/'\n",
    "    result_file_name = base_path + name + '.npz'\n",
    "    res = np.load(result_file_name)\n",
    "    if not full:\n",
    "        return res['data']\n",
    "    else:\n",
    "        return res['data'], res['dates'], res['permnos'], res['chars']"
   ]
  },
  {
   "cell_type": "code",
   "execution_count": 11,
   "id": "e9de3826",
   "metadata": {},
   "outputs": [],
   "source": [
    "from torch.utils.data import TensorDataset, DataLoader, Dataset"
   ]
  },
  {
   "cell_type": "code",
   "execution_count": null,
   "id": "f91d29cc",
   "metadata": {},
   "outputs": [],
   "source": [
    "del masked_data, eval_data, gamma_ts"
   ]
  },
  {
   "cell_type": "code",
   "execution_count": 13,
   "id": "51b40558",
   "metadata": {},
   "outputs": [
    {
     "data": {
      "text/plain": [
       "<module 'eval_fn' from '/home/selwin_p_george/CS 236 Project/Code/eval_fn.py'>"
      ]
     },
     "execution_count": 13,
     "metadata": {},
     "output_type": "execute_result"
    }
   ],
   "source": [
    "import importlib\n",
    "import eval_fn\n",
    "importlib.reload(data_loading)\n",
    "importlib.reload(eval_fn)"
   ]
  },
  {
   "cell_type": "code",
   "execution_count": 37,
   "id": "5aa76fd9",
   "metadata": {},
   "outputs": [
    {
     "name": "stdout",
     "output_type": "stream",
     "text": [
      "loaded\n",
      "1578149\n"
     ]
    },
    {
     "name": "stderr",
     "output_type": "stream",
     "text": [
      "100%|████████████████████████████████████████████████████████████████████████████| 400/400 [00:10<00:00, 39.71it/s]\n"
     ]
    },
    {
     "name": "stdout",
     "output_type": "stream",
     "text": [
      "loaded\n",
      "loaded\n",
      "loaded\n"
     ]
    },
    {
     "name": "stderr",
     "output_type": "stream",
     "text": [
      "100%|████████████████████████████████████████████████████████████████████████████| 100/100 [00:01<00:00, 53.06it/s]\n",
      "100%|████████████████████████████████████████████████████████████████████████████| 145/145 [00:02<00:00, 66.23it/s]\n"
     ]
    }
   ],
   "source": [
    "return_lag = 3\n",
    "gamma_ts = load_imputation('MAR_xs_factors_cs236_2')\n",
    "print(\"loaded\")\n",
    "first_masked_data = load_imputation('MAR_fit_data_cs236')[:, :, ordering]\n",
    "train_data_seq = data_loading.get_data(first_masked_data[:400], min_chars_present=10, fill_val=-1, \n",
    "                                   gamma_ts=gamma_ts[:400], ordered=True,\n",
    "                                        return_panel=excess_returns[return_lag:400+return_lag],\n",
    "                                      t_start=return_lag)\n",
    "\n",
    "del first_masked_data\n",
    "print(\"loaded\")\n",
    "masked_data = load_imputation('MAR_fit_data_cs236_2')[:, :, ordering]\n",
    "print(\"loaded\")\n",
    "eval_data = load_imputation('MAR_eval_data_cs236_2')[:, :, ordering]\n",
    "print(\"loaded\")\n",
    "eval_data_seq = data_loading.get_data(masked_data[400:500], min_chars_present=10, fill_val=-1, \n",
    "                                   gamma_ts=gamma_ts[400:500], ordered=False,\n",
    "                    oos_mask=~np.isnan(eval_data[400:500]), oos_eval_data=eval_data[400:500],\n",
    "                                        return_panel=excess_returns[400+return_lag:500+return_lag],\n",
    "                                      t_start=return_lag+400)\n",
    "test_data_seq = data_loading.get_data(masked_data[500:-return_lag], min_chars_present=10, fill_val=-1, \n",
    "                                   gamma_ts=gamma_ts[500:-return_lag], ordered=False,\n",
    "                    oos_mask=~np.isnan(eval_data[500:-return_lag]), oos_eval_data=eval_data[500:-return_lag],\n",
    "                                        return_panel=excess_returns[500+return_lag:],\n",
    "                                      t_start=return_lag+500)\n",
    "del masked_data\n",
    "del eval_data"
   ]
  },
  {
   "cell_type": "code",
   "execution_count": 15,
   "id": "0a7b39e4",
   "metadata": {},
   "outputs": [
    {
     "data": {
      "text/plain": [
       "(8674, 2924, 2669)"
      ]
     },
     "execution_count": 15,
     "metadata": {},
     "output_type": "execute_result"
    }
   ],
   "source": [
    "len(train_data_seq), len(eval_data_seq), len(test_data_seq)"
   ]
  },
  {
   "cell_type": "code",
   "execution_count": 16,
   "id": "2bb87a65",
   "metadata": {},
   "outputs": [
    {
     "data": {
      "text/plain": [
       "<module 'data_loading' from '/home/selwin_p_george/CS 236 Project/Code/data_loading.py'>"
      ]
     },
     "execution_count": 16,
     "metadata": {},
     "output_type": "execute_result"
    }
   ],
   "source": [
    "importlib.reload(data_loading)"
   ]
  },
  {
   "cell_type": "code",
   "execution_count": 39,
   "id": "3ca5f210",
   "metadata": {},
   "outputs": [],
   "source": [
    "chunk_size = 20\n",
    "batch_size = 100\n",
    "\n",
    "all_dataset = data_loading.ListDatasetWithFactors(train_data_seq, batch_size=chunk_size,return_returns=True)\n",
    "train_data_loader = data_loading.DataLoader(all_dataset, batch_size=batch_size, shuffle=True, num_workers=4)\n",
    "\n",
    "all_dataset = data_loading.ListDatasetWithFactors(eval_data_seq, batch_size=chunk_size,\n",
    "                                                 return_oos_data=True,return_returns=True)\n",
    "eval_data_loader = data_loading.DataLoader(all_dataset, batch_size=batch_size, shuffle=True, num_workers=4)\n",
    "\n",
    "all_dataset = data_loading.ListDatasetWithFactors(test_data_seq, batch_size=chunk_size,\n",
    "                                                 return_oos_data=True,return_returns=True)\n",
    "test_data_loader = data_loading.DataLoader(all_dataset, batch_size=batch_size, shuffle=True, num_workers=4)\n"
   ]
  },
  {
   "cell_type": "code",
   "execution_count": 18,
   "id": "b934760c",
   "metadata": {},
   "outputs": [],
   "source": [
    "import models\n",
    "import loss_functions\n",
    "from tqdm.notebook import tqdm"
   ]
  },
  {
   "cell_type": "code",
   "execution_count": 19,
   "id": "eb629dd8",
   "metadata": {},
   "outputs": [],
   "source": [
    "import numpy as np\n",
    "import csv\n",
    "import pandas as pd\n",
    "import torch\n",
    "import torch.nn as nn\n",
    "from torch.optim.lr_scheduler import MultiStepLR\n",
    "import time"
   ]
  },
  {
   "cell_type": "code",
   "execution_count": 20,
   "id": "381c9fd7",
   "metadata": {
    "scrolled": true
   },
   "outputs": [
    {
     "data": {
      "text/plain": [
       "<module 'models' from '/home/selwin_p_george/CS 236 Project/Code/models.py'>"
      ]
     },
     "execution_count": 20,
     "metadata": {},
     "output_type": "execute_result"
    }
   ],
   "source": [
    "import models\n",
    "import loss_functions\n",
    "importlib.reload(models)"
   ]
  },
  {
   "cell_type": "code",
   "execution_count": 21,
   "id": "336e1466",
   "metadata": {},
   "outputs": [
    {
     "data": {
      "text/plain": [
       "<module 'loss_functions' from '/home/selwin_p_george/CS 236 Project/Code/loss_functions.py'>"
      ]
     },
     "execution_count": 21,
     "metadata": {},
     "output_type": "execute_result"
    }
   ],
   "source": [
    "import importlib\n",
    "importlib.reload(models)\n",
    "importlib.reload(loss_functions)"
   ]
  },
  {
   "cell_type": "markdown",
   "id": "bc6501d4",
   "metadata": {},
   "source": [
    "# Returns"
   ]
  },
  {
   "cell_type": "code",
   "execution_count": 148,
   "id": "e3745041",
   "metadata": {},
   "outputs": [],
   "source": [
    "del eval_data_loader, ar_model, optimizer"
   ]
  },
  {
   "cell_type": "code",
   "execution_count": 46,
   "id": "28df5677",
   "metadata": {},
   "outputs": [
    {
     "data": {
      "text/plain": [
       "2097152"
      ]
     },
     "execution_count": 46,
     "metadata": {},
     "output_type": "execute_result"
    }
   ],
   "source": [
    "torch.cuda.memory_reserved(0)"
   ]
  },
  {
   "cell_type": "code",
   "execution_count": 43,
   "id": "52edcd3b",
   "metadata": {},
   "outputs": [],
   "source": [
    "gc.collect()\n",
    "torch.cuda.empty_cache()"
   ]
  },
  {
   "cell_type": "code",
   "execution_count": 30,
   "id": "1ce7a66f",
   "metadata": {},
   "outputs": [],
   "source": [
    "import gc"
   ]
  },
  {
   "cell_type": "code",
   "execution_count": 125,
   "id": "bc2cbb83",
   "metadata": {},
   "outputs": [],
   "source": [
    "def markowitz(factors):\n",
    "    cov = np.cov(factors.T)\n",
    "    mu = np.mean(factors, axis=0)\n",
    "    print(cov.shape, mu.shape)\n",
    "    return np.linalg.solve(cov, mu) "
   ]
  },
  {
   "cell_type": "code",
   "execution_count": 109,
   "id": "c8b0800d",
   "metadata": {},
   "outputs": [],
   "source": [
    "for i in is_hidden:\n",
    "    np.array(eval_returns[i])\n",
    "    np.array(eval_hidden[i])\n",
    "\n",
    "for i in eval_returns:\n",
    "    np.array(eval_returns[i])\n",
    "    np.array(eval_hidden[i])"
   ]
  },
  {
   "cell_type": "code",
   "execution_count": 91,
   "id": "c131d235",
   "metadata": {},
   "outputs": [
    {
     "data": {
      "text/plain": [
       "<module 'models' from '/home/selwin_p_george/CS 236 Project/Code/models.py'>"
      ]
     },
     "execution_count": 91,
     "metadata": {},
     "output_type": "execute_result"
    }
   ],
   "source": [
    "importlib.reload(models)"
   ]
  },
  {
   "cell_type": "code",
   "execution_count": 207,
   "id": "c672d34a",
   "metadata": {},
   "outputs": [
    {
     "name": "stdout",
     "output_type": "stream",
     "text": [
      "Parameter containing:\n",
      "tensor([[0., 0., 0.,  ..., 0., 0., 0.],\n",
      "        [1., 0., 0.,  ..., 0., 0., 0.],\n",
      "        [1., 1., 0.,  ..., 0., 0., 0.],\n",
      "        ...,\n",
      "        [1., 1., 1.,  ..., 1., 0., 0.],\n",
      "        [1., 1., 1.,  ..., 1., 1., 0.],\n",
      "        [1., 1., 1.,  ..., 1., 1., 1.]], requires_grad=True) torch.Size([46, 45])\n",
      "torch device is cuda:0\n",
      "epoch 0\n"
     ]
    },
    {
     "data": {
      "application/vnd.jupyter.widget-view+json": {
       "model_id": "526d36dc878b482694568286eecadd3d",
       "version_major": 2,
       "version_minor": 0
      },
      "text/plain": [
       "  0%|          | 0/731 [00:00<?, ?it/s]"
      ]
     },
     "metadata": {},
     "output_type": "display_data"
    },
    {
     "name": "stdout",
     "output_type": "stream",
     "text": [
      "epoch 0, avg ar model loss 45.24089431762695\n",
      "epoch 0 took 0.4922452251116435 minutes\n",
      "epoch 1\n"
     ]
    },
    {
     "data": {
      "application/vnd.jupyter.widget-view+json": {
       "model_id": "c3bd662eb24446ffa67840fd03dc8e67",
       "version_major": 2,
       "version_minor": 0
      },
      "text/plain": [
       "  0%|          | 0/731 [00:00<?, ?it/s]"
      ]
     },
     "metadata": {},
     "output_type": "display_data"
    },
    {
     "name": "stdout",
     "output_type": "stream",
     "text": [
      "epoch 1, avg ar model loss -0.30153363943099976\n",
      "epoch 1 took 0.4990278482437134 minutes\n",
      "epoch 2\n"
     ]
    },
    {
     "data": {
      "application/vnd.jupyter.widget-view+json": {
       "model_id": "6626c28f35004a9ca47cde504b33e7e6",
       "version_major": 2,
       "version_minor": 0
      },
      "text/plain": [
       "  0%|          | 0/731 [00:00<?, ?it/s]"
      ]
     },
     "metadata": {},
     "output_type": "display_data"
    },
    {
     "ename": "KeyboardInterrupt",
     "evalue": "",
     "output_type": "error",
     "traceback": [
      "\u001b[0;31m---------------------------------------------------------------------------\u001b[0m",
      "\u001b[0;31mKeyboardInterrupt\u001b[0m                         Traceback (most recent call last)",
      "\u001b[0;32m/tmp/ipykernel_4667/998578314.py\u001b[0m in \u001b[0;36m<module>\u001b[0;34m\u001b[0m\n\u001b[1;32m     51\u001b[0m             \u001b[0mreturn_sample_reshape\u001b[0m \u001b[0;34m=\u001b[0m \u001b[0mreturn_sample\u001b[0m\u001b[0;34m.\u001b[0m\u001b[0mreshape\u001b[0m\u001b[0;34m(\u001b[0m\u001b[0mbatch_size\u001b[0m \u001b[0;34m*\u001b[0m \u001b[0mbatch_length\u001b[0m\u001b[0;34m,\u001b[0m \u001b[0;36m1\u001b[0m\u001b[0;34m)\u001b[0m\u001b[0;34m\u001b[0m\u001b[0;34m\u001b[0m\u001b[0m\n\u001b[1;32m     52\u001b[0m \u001b[0;34m\u001b[0m\u001b[0m\n\u001b[0;32m---> 53\u001b[0;31m             \u001b[0malphas_pred\u001b[0m\u001b[0;34m,\u001b[0m \u001b[0mbetas_pred\u001b[0m\u001b[0;34m,\u001b[0m \u001b[0mreturn_mus\u001b[0m\u001b[0;34m,\u001b[0m \u001b[0mreturn_sigmas\u001b[0m \u001b[0;34m=\u001b[0m \u001b[0mar_model\u001b[0m\u001b[0;34m(\u001b[0m\u001b[0mmodel_input\u001b[0m\u001b[0;34m)\u001b[0m\u001b[0;34m\u001b[0m\u001b[0;34m\u001b[0m\u001b[0m\n\u001b[0m\u001b[1;32m     54\u001b[0m \u001b[0;34m\u001b[0m\u001b[0m\n\u001b[1;32m     55\u001b[0m             ar_loss = loss_fn(C_train_reshape,\n",
      "\u001b[0;32m~/anaconda3/lib/python3.8/site-packages/torch/nn/modules/module.py\u001b[0m in \u001b[0;36m_call_impl\u001b[0;34m(self, *input, **kwargs)\u001b[0m\n\u001b[1;32m   1100\u001b[0m         if not (self._backward_hooks or self._forward_hooks or self._forward_pre_hooks or _global_backward_hooks\n\u001b[1;32m   1101\u001b[0m                 or _global_forward_hooks or _global_forward_pre_hooks):\n\u001b[0;32m-> 1102\u001b[0;31m             \u001b[0;32mreturn\u001b[0m \u001b[0mforward_call\u001b[0m\u001b[0;34m(\u001b[0m\u001b[0;34m*\u001b[0m\u001b[0minput\u001b[0m\u001b[0;34m,\u001b[0m \u001b[0;34m**\u001b[0m\u001b[0mkwargs\u001b[0m\u001b[0;34m)\u001b[0m\u001b[0;34m\u001b[0m\u001b[0;34m\u001b[0m\u001b[0m\n\u001b[0m\u001b[1;32m   1103\u001b[0m         \u001b[0;31m# Do not call functions when jit is used\u001b[0m\u001b[0;34m\u001b[0m\u001b[0;34m\u001b[0m\u001b[0;34m\u001b[0m\u001b[0m\n\u001b[1;32m   1104\u001b[0m         \u001b[0mfull_backward_hooks\u001b[0m\u001b[0;34m,\u001b[0m \u001b[0mnon_full_backward_hooks\u001b[0m \u001b[0;34m=\u001b[0m \u001b[0;34m[\u001b[0m\u001b[0;34m]\u001b[0m\u001b[0;34m,\u001b[0m \u001b[0;34m[\u001b[0m\u001b[0;34m]\u001b[0m\u001b[0;34m\u001b[0m\u001b[0;34m\u001b[0m\u001b[0m\n",
      "\u001b[0;32m~/CS 236 Project/Code/models.py\u001b[0m in \u001b[0;36mforward\u001b[0;34m(self, x)\u001b[0m\n\u001b[1;32m    203\u001b[0m     \u001b[0;32mdef\u001b[0m \u001b[0mforward\u001b[0m\u001b[0;34m(\u001b[0m\u001b[0mself\u001b[0m\u001b[0;34m,\u001b[0m \u001b[0mx\u001b[0m\u001b[0;34m)\u001b[0m\u001b[0;34m:\u001b[0m\u001b[0;34m\u001b[0m\u001b[0;34m\u001b[0m\u001b[0m\n\u001b[1;32m    204\u001b[0m         \u001b[0;31m# Obtain mean vectors.\u001b[0m\u001b[0;34m\u001b[0m\u001b[0;34m\u001b[0m\u001b[0;34m\u001b[0m\u001b[0m\n\u001b[0;32m--> 205\u001b[0;31m         \u001b[0;32mreturn\u001b[0m \u001b[0mself\u001b[0m\u001b[0;34m.\u001b[0m\u001b[0mshape_vectors\u001b[0m\u001b[0;34m(\u001b[0m\u001b[0mx\u001b[0m\u001b[0;34m)\u001b[0m\u001b[0;34m\u001b[0m\u001b[0;34m\u001b[0m\u001b[0m\n\u001b[0m\u001b[1;32m    206\u001b[0m \u001b[0;34m\u001b[0m\u001b[0m\n\u001b[1;32m    207\u001b[0m     \u001b[0;32mdef\u001b[0m \u001b[0mimpute\u001b[0m\u001b[0;34m(\u001b[0m\u001b[0mself\u001b[0m\u001b[0;34m,\u001b[0m \u001b[0mx\u001b[0m\u001b[0;34m)\u001b[0m\u001b[0;34m:\u001b[0m\u001b[0;34m\u001b[0m\u001b[0;34m\u001b[0m\u001b[0m\n",
      "\u001b[0;32m~/CS 236 Project/Code/models.py\u001b[0m in \u001b[0;36mshape_vectors\u001b[0;34m(self, x, get_hidden_state)\u001b[0m\n\u001b[1;32m    174\u001b[0m     \u001b[0;32mdef\u001b[0m \u001b[0mshape_vectors\u001b[0m\u001b[0;34m(\u001b[0m\u001b[0mself\u001b[0m\u001b[0;34m,\u001b[0m \u001b[0mx\u001b[0m\u001b[0;34m,\u001b[0m \u001b[0mget_hidden_state\u001b[0m\u001b[0;34m=\u001b[0m\u001b[0;32mFalse\u001b[0m\u001b[0;34m)\u001b[0m\u001b[0;34m:\u001b[0m\u001b[0;34m\u001b[0m\u001b[0;34m\u001b[0m\u001b[0m\n\u001b[1;32m    175\u001b[0m         \u001b[0;31m# Expand each sample as a diagonal matrix.\u001b[0m\u001b[0;34m\u001b[0m\u001b[0;34m\u001b[0m\u001b[0;34m\u001b[0m\u001b[0m\n\u001b[0;32m--> 176\u001b[0;31m         \u001b[0mx_diag\u001b[0m \u001b[0;34m=\u001b[0m \u001b[0mtorch\u001b[0m\u001b[0;34m.\u001b[0m\u001b[0mstack\u001b[0m\u001b[0;34m(\u001b[0m\u001b[0;34m[\u001b[0m\u001b[0mtorch\u001b[0m\u001b[0;34m.\u001b[0m\u001b[0mdiag\u001b[0m\u001b[0;34m(\u001b[0m\u001b[0mx_j\u001b[0m\u001b[0;34m)\u001b[0m \u001b[0;32mfor\u001b[0m \u001b[0mx_j\u001b[0m \u001b[0;32min\u001b[0m \u001b[0mx\u001b[0m\u001b[0;34m]\u001b[0m\u001b[0;34m)\u001b[0m\u001b[0;34m\u001b[0m\u001b[0;34m\u001b[0m\u001b[0m\n\u001b[0m\u001b[1;32m    177\u001b[0m \u001b[0;34m\u001b[0m\u001b[0m\n\u001b[1;32m    178\u001b[0m         \u001b[0;31m# Compute xi*Wi + bi for each dimension in each sample.\u001b[0m\u001b[0;34m\u001b[0m\u001b[0;34m\u001b[0m\u001b[0;34m\u001b[0m\u001b[0m\n",
      "\u001b[0;32m~/CS 236 Project/Code/models.py\u001b[0m in \u001b[0;36m<listcomp>\u001b[0;34m(.0)\u001b[0m\n\u001b[1;32m    174\u001b[0m     \u001b[0;32mdef\u001b[0m \u001b[0mshape_vectors\u001b[0m\u001b[0;34m(\u001b[0m\u001b[0mself\u001b[0m\u001b[0;34m,\u001b[0m \u001b[0mx\u001b[0m\u001b[0;34m,\u001b[0m \u001b[0mget_hidden_state\u001b[0m\u001b[0;34m=\u001b[0m\u001b[0;32mFalse\u001b[0m\u001b[0;34m)\u001b[0m\u001b[0;34m:\u001b[0m\u001b[0;34m\u001b[0m\u001b[0;34m\u001b[0m\u001b[0m\n\u001b[1;32m    175\u001b[0m         \u001b[0;31m# Expand each sample as a diagonal matrix.\u001b[0m\u001b[0;34m\u001b[0m\u001b[0;34m\u001b[0m\u001b[0;34m\u001b[0m\u001b[0m\n\u001b[0;32m--> 176\u001b[0;31m         \u001b[0mx_diag\u001b[0m \u001b[0;34m=\u001b[0m \u001b[0mtorch\u001b[0m\u001b[0;34m.\u001b[0m\u001b[0mstack\u001b[0m\u001b[0;34m(\u001b[0m\u001b[0;34m[\u001b[0m\u001b[0mtorch\u001b[0m\u001b[0;34m.\u001b[0m\u001b[0mdiag\u001b[0m\u001b[0;34m(\u001b[0m\u001b[0mx_j\u001b[0m\u001b[0;34m)\u001b[0m \u001b[0;32mfor\u001b[0m \u001b[0mx_j\u001b[0m \u001b[0;32min\u001b[0m \u001b[0mx\u001b[0m\u001b[0;34m]\u001b[0m\u001b[0;34m)\u001b[0m\u001b[0;34m\u001b[0m\u001b[0;34m\u001b[0m\u001b[0m\n\u001b[0m\u001b[1;32m    177\u001b[0m \u001b[0;34m\u001b[0m\u001b[0m\n\u001b[1;32m    178\u001b[0m         \u001b[0;31m# Compute xi*Wi + bi for each dimension in each sample.\u001b[0m\u001b[0;34m\u001b[0m\u001b[0;34m\u001b[0m\u001b[0;34m\u001b[0m\u001b[0m\n",
      "\u001b[0;31mKeyboardInterrupt\u001b[0m: "
     ]
    }
   ],
   "source": [
    "ar_model = models.Beta_NADE(hidden_state_dim=0, latent_dimensions=5, predict_returns=True)\n",
    "exp_batch_size=50\n",
    "\n",
    "num_epochs = 41\n",
    "eval_freq = 10\n",
    "\n",
    "optimizer = torch.optim.AdamW(ar_model.parameters(), lr=0.01, weight_decay=0.1)\n",
    "\n",
    "\n",
    "scheduler = MultiStepLR(optimizer, [20, 35], gamma=0.1, last_epoch=-1)\n",
    "\n",
    "device = torch.device(\"cuda:0\" if torch.cuda.is_available() else \"cpu\")\n",
    "print(f'torch device is {device}')\n",
    "\n",
    "ar_model = ar_model.to(device)\n",
    "loss_fn = loss_functions.beta_ll_loss\n",
    "\n",
    "\n",
    "#basic training loop for local development\n",
    "for epoch in range(num_epochs):\n",
    "    epoch_start = time.time()\n",
    "    losses = []\n",
    "    ar_losses = []\n",
    "    # Forward pass\n",
    "    print(f'epoch {epoch}')\n",
    "    for i, data in enumerate(tqdm(train_data_loader)):\n",
    "\n",
    "        ts_idxs, stock_idxs, data, mask, ordered_mask, factors, return_sample = data\n",
    "        assert not torch.isnan(data).any()\n",
    "#         print(data, mask)\n",
    "        assert not torch.logical_and(data <= 0, ~mask).any(), torch.min(data * mask)\n",
    "\n",
    "        C_train = data.transpose_(0, 1).float().to(device)[:-1]\n",
    "\n",
    "        C_mask = mask.float().to(device).transpose_(0, 1)[:-1]\n",
    "        return_sample = return_sample.float().to(device).transpose_(0, 1)[:-1]\n",
    "        C_ordered_mask = ordered_mask.float().to(device).transpose_(0, 1)[:-1]\n",
    "\n",
    "        factors = factors.transpose_(0, 1).float().to(device)[1:]\n",
    "\n",
    "        train_input = torch.cat([C_train, C_mask, factors], axis=2)\n",
    "\n",
    "\n",
    "        if train_input.shape[1] > 0:\n",
    "\n",
    "            batch_size, batch_length, dim = C_train.shape\n",
    "            model_input = C_train.reshape(batch_size * batch_length, dim)\n",
    "\n",
    "            C_ordered_mask_reshape = C_ordered_mask.reshape(batch_size * batch_length, 45)\n",
    "            C_train_reshape = C_train.reshape(batch_size * batch_length, 45)\n",
    "            return_sample_reshape = return_sample.reshape(batch_size * batch_length, 1)\n",
    "\n",
    "            alphas_pred, betas_pred, return_mus, return_sigmas = ar_model(model_input)\n",
    "\n",
    "            ar_loss = loss_fn(C_train_reshape,\n",
    "                              alphas_pred, betas_pred, mask=C_ordered_mask_reshape,\n",
    "                             reduce_axis=1, ret_mus=return_mus, ret_sigmas=return_sigmas,\n",
    "                             return_gts=return_sample_reshape).mean()\n",
    "\n",
    "            net_loss = ar_loss\n",
    "            net_loss.backward()\n",
    "            ar_losses.append(ar_loss.data.detach().cpu().numpy())\n",
    "\n",
    "#             if i % 100 == 0:\n",
    "#                 print(loss)\n",
    "#                 print(ar_loss)\n",
    "\n",
    "#             if i % 10 == 0:\n",
    "    #             torch.nn.utils.clip_grad_norm_(model.parameters(), 50)\n",
    "            optimizer.step()\n",
    "            ar_model.zero_grad()\n",
    "            optimizer.zero_grad()   \n",
    "\n",
    "    print(f'epoch {epoch}, avg ar model loss {np.mean(ar_losses)}')\n",
    "    print(f'epoch {epoch} took {(time.time() - epoch_start)/60.0} minutes')\n",
    "    scheduler.step()\n",
    "    if (epoch + 1) % eval_freq == 0 or np.mean(ar_losses) <= -15:\n",
    "        print(eval_model_is(exp_batch_size, None, ar_model, eval_data_loader, return_metrics=True, expect_oos_data=True))\n",
    "        ar_model.predict_returns = False\n",
    "        print(eval_model_oos(exp_batch_size, None, ar_model, eval_data_loader))\n",
    "        ar_model.predict_returns = True"
   ]
  },
  {
   "cell_type": "code",
   "execution_count": 206,
   "id": "d9a94b3a",
   "metadata": {},
   "outputs": [
    {
     "data": {
      "application/vnd.jupyter.widget-view+json": {
       "model_id": "31fd657580ca4495a800d3642b93c7f1",
       "version_major": 2,
       "version_minor": 0
      },
      "text/plain": [
       "  0%|          | 0/731 [00:00<?, ?it/s]"
      ]
     },
     "metadata": {},
     "output_type": "display_data"
    },
    {
     "data": {
      "application/vnd.jupyter.widget-view+json": {
       "model_id": "a60a2a47c4944733b14e38f565f808b3",
       "version_major": 2,
       "version_minor": 0
      },
      "text/plain": [
       "  0%|          | 0/125 [00:00<?, ?it/s]"
      ]
     },
     "metadata": {},
     "output_type": "display_data"
    },
    {
     "name": "stdout",
     "output_type": "stream",
     "text": [
      "(5, 5) (5,)\n"
     ]
    },
    {
     "data": {
      "text/plain": [
       "(0.3402409271881175, 0.10340032069601024)"
      ]
     },
     "execution_count": 206,
     "metadata": {},
     "output_type": "execute_result"
    }
   ],
   "source": [
    "is_hidden, is_returns = get_factors_returns(model=None, ar_model=ar_model, \n",
    "                                            data_loader=train_data_loader, expect_oos_data=False)\n",
    "\n",
    "eval_hidden, eval_returns = get_factors_returns(model=None, ar_model=ar_model, \n",
    "                                            data_loader=eval_data_loader, expect_oos_data=True)\n",
    "\n",
    "\n",
    "is_factors = get_factors(is_hidden, is_returns).squeeze()\n",
    "\n",
    "eval_factors = get_factors(eval_hidden, eval_returns).squeeze()\n",
    "\n",
    "weights = markowitz(is_factors.squeeze())\n",
    "\n",
    "np.mean(is_factors @ weights) / np.std(is_factors @ weights),\\\n",
    "    np.mean(eval_factors @ weights) / np.std(eval_factors @ weights)"
   ]
  },
  {
   "cell_type": "code",
   "execution_count": 226,
   "id": "ae1ee503",
   "metadata": {},
   "outputs": [
    {
     "data": {
      "text/plain": [
       "<module 'models' from '/home/selwin_p_george/CS 236 Project/Code/models.py'>"
      ]
     },
     "execution_count": 226,
     "metadata": {},
     "output_type": "execute_result"
    }
   ],
   "source": [
    "importlib.reload(eval_fn)\n",
    "importlib.reload(models)\n"
   ]
  },
  {
   "cell_type": "code",
   "execution_count": 213,
   "id": "e1834442",
   "metadata": {},
   "outputs": [],
   "source": [
    "import eval_fn"
   ]
  },
  {
   "cell_type": "code",
   "execution_count": 53,
   "id": "155484c9",
   "metadata": {
    "scrolled": true
   },
   "outputs": [
    {
     "name": "stdout",
     "output_type": "stream",
     "text": [
      "torch device is cuda:0\n",
      "epoch 0\n"
     ]
    },
    {
     "data": {
      "application/vnd.jupyter.widget-view+json": {
       "model_id": "a0dccc284c694632bba35614add1208a",
       "version_major": 2,
       "version_minor": 0
      },
      "text/plain": [
       "  0%|          | 0/370 [00:00<?, ?it/s]"
      ]
     },
     "metadata": {},
     "output_type": "display_data"
    },
    {
     "name": "stdout",
     "output_type": "stream",
     "text": [
      "epoch 0 avg lstm loss -25.44904327392578, avg ar model loss -75.0473861694336\n",
      "epoch 0 took 0.42998618284861245 minutes\n"
     ]
    },
    {
     "data": {
      "application/vnd.jupyter.widget-view+json": {
       "model_id": "f611ac14c678489e9c148d6190a212dd",
       "version_major": 2,
       "version_minor": 0
      },
      "text/plain": [
       "  0%|          | 0/77 [00:00<?, ?it/s]"
      ]
     },
     "metadata": {},
     "output_type": "display_data"
    },
    {
     "name": "stdout",
     "output_type": "stream",
     "text": [
      "([('ME', 0.028430201), ('R2_1', 0.0068970406), ('D2P', 0.006089899), ('SPREAD', 0.007317093), ('RVAR', 0.02488415), ('VAR', 0.022310214), ('IdioVol', 0.009900408), ('TURN', 0.009013364), ('SUV', 0.0075842696), ('R12_7', 0.011956483), ('CF2P', 0.009550339), ('E2P', 0.012644095), ('R12_2', 0.01072837), ('S2P', 0.017609159), ('B2M', 0.009717444), ('CF2B', 0.0076990467), ('AT', 0.02976493), ('A2ME', 0.036694176), ('Q', 0.018211769), ('PROF', 0.012442904), ('PM', 0.009598165), ('PCM', 0.010238426), ('BETA_m', 0.0121489335), ('C2A', 0.007945801), ('OL', 0.017189058), ('ROE', 0.010375021), ('CTO', 0.016877003), ('ATO', 0.011355337), ('LEV', 0.009615761), ('NOA', 0.008768651), ('ROA', 0.012248337), ('RNA', 0.006668899), ('OP', 0.011724933), ('NI', 0.008366426), ('INV', 0.008878861), ('BETA_d', 0.012716819), ('R36_13', 0.014101563), ('D2A', 0.012403686), ('FC2Y', 0.017296191), ('SGA2S', 0.011085946), ('OA', 0.0071569923), ('AC', 0.01192571), ('HIGH52', 0.009070999), ('R60_13', 0.014208964), ('DPI2A', 0.010469208)], 0.014445665, 0.0009205347673847397, -38.07686503185342, [-0.060717518328283634, 0.06236681364923503, 0.06284391266425843, 0.04079562353183185, 0.012630940147575206, 0.15137465584317267, 0.04255427126855044, 0.08223794946029614, 0.13092870189356776, 0.23708067037201785, 0.2569914353091736])\n",
      "epoch 1\n"
     ]
    },
    {
     "data": {
      "application/vnd.jupyter.widget-view+json": {
       "model_id": "cfaf7eb91db14fe88985b688754b8364",
       "version_major": 2,
       "version_minor": 0
      },
      "text/plain": [
       "  0%|          | 0/370 [00:00<?, ?it/s]"
      ]
     },
     "metadata": {},
     "output_type": "display_data"
    },
    {
     "name": "stdout",
     "output_type": "stream",
     "text": [
      "epoch 1 avg lstm loss -25.44755744934082, avg ar model loss -76.22473907470703\n",
      "epoch 1 took 0.4152739723523458 minutes\n"
     ]
    },
    {
     "data": {
      "application/vnd.jupyter.widget-view+json": {
       "model_id": "3c3b5360bdb3463996f46f5bd325da96",
       "version_major": 2,
       "version_minor": 0
      },
      "text/plain": [
       "  0%|          | 0/77 [00:00<?, ?it/s]"
      ]
     },
     "metadata": {},
     "output_type": "display_data"
    },
    {
     "ename": "KeyboardInterrupt",
     "evalue": "",
     "output_type": "error",
     "traceback": [
      "\u001b[0;31m---------------------------------------------------------------------------\u001b[0m",
      "\u001b[0;31mKeyboardInterrupt\u001b[0m                         Traceback (most recent call last)",
      "\u001b[0;32m/tmp/ipykernel_2373/2746242363.py\u001b[0m in \u001b[0;36m<module>\u001b[0;34m\u001b[0m\n\u001b[1;32m     88\u001b[0m \u001b[0;31m#         print(eval_fn.eval_model_is(chars, exp_batch_size, model, ar_model, train_data_loader, return_metrics=True, expect_oos_data=False))\u001b[0m\u001b[0;34m\u001b[0m\u001b[0;34m\u001b[0m\u001b[0;34m\u001b[0m\u001b[0m\n\u001b[1;32m     89\u001b[0m \u001b[0;31m#         print(eval_fn.eval_model_is(chars, exp_batch_size, model, ar_model, eval_data_loader, return_metrics=True, expect_oos_data=True))\u001b[0m\u001b[0;34m\u001b[0m\u001b[0;34m\u001b[0m\u001b[0;34m\u001b[0m\u001b[0m\n\u001b[0;32m---> 90\u001b[0;31m         \u001b[0mprint\u001b[0m\u001b[0;34m(\u001b[0m\u001b[0meval_fn\u001b[0m\u001b[0;34m.\u001b[0m\u001b[0meval_model_is\u001b[0m\u001b[0;34m(\u001b[0m\u001b[0mchars\u001b[0m\u001b[0;34m,\u001b[0m \u001b[0mexp_batch_size\u001b[0m\u001b[0;34m,\u001b[0m \u001b[0mmodel\u001b[0m\u001b[0;34m,\u001b[0m \u001b[0mar_model\u001b[0m\u001b[0;34m,\u001b[0m \u001b[0mtest_data_loader\u001b[0m\u001b[0;34m,\u001b[0m \u001b[0mreturn_metrics\u001b[0m\u001b[0;34m=\u001b[0m\u001b[0;32mTrue\u001b[0m\u001b[0;34m,\u001b[0m \u001b[0mexpect_oos_data\u001b[0m\u001b[0;34m=\u001b[0m\u001b[0;32mTrue\u001b[0m\u001b[0;34m)\u001b[0m\u001b[0;34m)\u001b[0m\u001b[0;34m\u001b[0m\u001b[0;34m\u001b[0m\u001b[0m\n\u001b[0m\u001b[1;32m     91\u001b[0m \u001b[0;31m#         ar_model.predict_returns = False\u001b[0m\u001b[0;34m\u001b[0m\u001b[0;34m\u001b[0m\u001b[0;34m\u001b[0m\u001b[0m\n\u001b[1;32m     92\u001b[0m \u001b[0;31m#         print(eval_fn.eval_model_oos(chars, exp_batch_size ,model, ar_model, eval_data_loader))\u001b[0m\u001b[0;34m\u001b[0m\u001b[0;34m\u001b[0m\u001b[0;34m\u001b[0m\u001b[0m\n",
      "\u001b[0;32m~/CS 236 Project/Code/eval_fn.py\u001b[0m in \u001b[0;36meval_model_is\u001b[0;34m(chars, expected_batch_size, model, ar_model, data_loader, return_metrics, expect_oos_data)\u001b[0m\n\u001b[1;32m    196\u001b[0m                     \u001b[0;32mfor\u001b[0m \u001b[0mi\u001b[0m \u001b[0;32min\u001b[0m \u001b[0mrange\u001b[0m\u001b[0;34m(\u001b[0m\u001b[0mpred\u001b[0m\u001b[0;34m.\u001b[0m\u001b[0mshape\u001b[0m\u001b[0;34m[\u001b[0m\u001b[0;36m0\u001b[0m\u001b[0;34m]\u001b[0m\u001b[0;34m)\u001b[0m\u001b[0;34m:\u001b[0m\u001b[0;34m\u001b[0m\u001b[0;34m\u001b[0m\u001b[0m\n\u001b[1;32m    197\u001b[0m                         ts_maps[time_steps_reshape[i, 0].item()].append((rhat[i, 0].item(),\n\u001b[0;32m--> 198\u001b[0;31m                                                                          returns_reshape[i, 0].item()))\n\u001b[0m\u001b[1;32m    199\u001b[0m                         xs_maps[stock_idxs_reshape[i, 0].item()].append((rhat[i, 0].item(),\n\u001b[1;32m    200\u001b[0m                                                                          returns_reshape[i, 0].item()))\n",
      "\u001b[0;31mKeyboardInterrupt\u001b[0m: "
     ]
    }
   ],
   "source": [
    "torch.manual_seed(0)\n",
    "exp_batch_size = 100\n",
    "# model = models.XSCharLSTM(input_dim=96, hidden_dims=[30, 40], num_layers=4, batch_size=exp_batch_size)\n",
    "\n",
    "# ar_model = models.Beta_NADE(hidden_state_dim=30, latent_dimensions=30, predict_returns=True)\n",
    "\n",
    "num_epochs = 10\n",
    "\n",
    "eval_freq = 1\n",
    "\n",
    "# optimizer = torch.optim.AdamW(list(model.parameters()) + list(ar_model.parameters()), lr=0.01,\n",
    "#                              weight_decay=0.01)\n",
    "optimizer = torch.optim.AdamW(ar_model.parameters(), lr=0.01,\n",
    "                             weight_decay=0.01)\n",
    "\n",
    "\n",
    "scheduler = MultiStepLR(optimizer, [30], gamma=0.1, last_epoch=-1)\n",
    "\n",
    "device = torch.device(\"cuda:0\" if torch.cuda.is_available() else \"cpu\")\n",
    "print(f'torch device is {device}')\n",
    "model = model.to(device)\n",
    "ar_model = ar_model.to(device)\n",
    "loss_fn = loss_functions.beta_ll_loss\n",
    "\n",
    "\n",
    "#basic training loop for local development\n",
    "for epoch in range(num_epochs):\n",
    "    epoch_start = time.time()\n",
    "    losses = []\n",
    "    ar_losses = []\n",
    "    # Forward pass\n",
    "    print(f'epoch {epoch}')\n",
    "    for i, data in enumerate(tqdm(train_data_loader)):\n",
    "        ts_idxs, stock_idxs, data, mask, ordered_mask, factors, return_sample = data\n",
    "        assert not torch.isnan(data).any()\n",
    "#         print(data, mask)\n",
    "        assert not torch.logical_and(data <= 0, ~mask).any(), torch.min(data * mask)\n",
    "        \n",
    "        C_train = data.transpose_(0, 1).float().to(device)[:-1]\n",
    "        \n",
    "        C_mask = mask.float().to(device).transpose_(0, 1)[:-1]\n",
    "        C_ordered_mask = ordered_mask.float().to(device).transpose_(0, 1)[:-1]\n",
    "        return_sample = return_sample.float().to(device).transpose_(0, 1)[:-1]\n",
    "        factors = factors.transpose_(0, 1).float().to(device)[1:]\n",
    "        \n",
    "        train_input = torch.cat([C_train, C_mask, factors], axis=2)\n",
    "        \n",
    "      \n",
    "        if train_input.shape[1] == exp_batch_size:\n",
    "            alpha_pred, beta_pred, hidden_out = model(train_input)\n",
    "            loss = loss_fn(C_train[1:], alpha_pred[:-1], beta_pred[:-1], mask=C_mask[1:]).mean()\n",
    "            assert not torch.isnan(loss).any()\n",
    "            \n",
    "#             loss.backward()\n",
    "            losses.append(loss.data.detach().cpu().numpy())\n",
    "            \n",
    "#             print(hidden_out.shape, C_train.shape)\n",
    "            model_input = torch.cat([hidden_out[:-1].detach(), C_train[1:]], axis=2)\n",
    "            batch_dim, batch_length, dim = model_input.shape\n",
    "            model_input = model_input.reshape(batch_dim * batch_length, dim)\n",
    "            \n",
    "            C_ordered_mask_reshape = C_ordered_mask[1:].reshape(batch_dim * batch_length, 45)\n",
    "            C_train_reshape = C_train[1:].reshape(batch_dim * batch_length, 45)\n",
    "            return_sample_reshape = return_sample[1:].reshape(batch_dim * batch_length, 1)\n",
    "            \n",
    "            alphas_pred, betas_pred, return_mus, return_sigmas = ar_model(model_input)\n",
    "            \n",
    "            \n",
    "            ar_loss = loss_fn(C_train_reshape,\n",
    "                              alphas_pred, betas_pred, mask=C_ordered_mask_reshape,\n",
    "                             reduce_axis=1, ret_mus=return_mus, ret_sigmas=return_sigmas,\n",
    "                             return_gts=return_sample_reshape).mean()\n",
    "            \n",
    "#             net_loss = ar_loss + loss\n",
    "            net_loss = ar_loss\n",
    "            net_loss.backward()\n",
    "            ar_losses.append(ar_loss.data.detach().cpu().numpy())\n",
    "            \n",
    "\n",
    "            optimizer.step()\n",
    "            model.zero_grad()\n",
    "            optimizer.zero_grad()       \n",
    "\n",
    "    print(f'epoch {epoch} avg lstm loss {np.mean(losses)}, avg ar model loss {np.mean(ar_losses)}')\n",
    "    print(f'epoch {epoch} took {(time.time() - epoch_start)/60.0} minutes')\n",
    "    scheduler.step()\n",
    "    if (epoch + 1) % eval_freq == 0:\n",
    "#         print(eval_fn.eval_model_is(chars, exp_batch_size, model, ar_model, train_data_loader, return_metrics=True, expect_oos_data=False))\n",
    "#         print(eval_fn.eval_model_is(chars, exp_batch_size, model, ar_model, eval_data_loader, return_metrics=True, expect_oos_data=True))\n",
    "        print(eval_fn.eval_model_is(chars, exp_batch_size, model, ar_model, test_data_loader, return_metrics=True, expect_oos_data=True))\n",
    "#         ar_model.predict_returns = False\n",
    "#         print(eval_fn.eval_model_oos(chars, exp_batch_size ,model, ar_model, eval_data_loader))\n",
    "#         ar_model.predict_returns = True\n",
    "#         print(eval_fn.eval_ts_model_oos(chars, exp_batch_size,model, eval_data_loader))"
   ]
  },
  {
   "cell_type": "code",
   "execution_count": null,
   "id": "5eb3cf20",
   "metadata": {},
   "outputs": [],
   "source": [
    "@ 4 [0.001977953470518154, 0.07228942832286273, 0.060806419080847954, -0.011563901668093778, 0.00026002147163928355, 0.06765969975657786, 0.14694436342760686, 0.11438107251132079, 0.07199162741893389, 0.22428494061929422, 0.12180594761727552]"
   ]
  },
  {
   "cell_type": "code",
   "execution_count": 290,
   "id": "cf56a787",
   "metadata": {},
   "outputs": [
    {
     "data": {
      "text/plain": [
       "<module 'eval_fn' from '/home/selwin_p_george/CS 236 Project/Code/eval_fn.py'>"
      ]
     },
     "execution_count": 290,
     "metadata": {},
     "output_type": "execute_result"
    }
   ],
   "source": [
    "importlib.reload(eval_fn)"
   ]
  },
  {
   "cell_type": "code",
   "execution_count": 54,
   "id": "1ed13b31",
   "metadata": {},
   "outputs": [
    {
     "data": {
      "application/vnd.jupyter.widget-view+json": {
       "model_id": "3c034f61a18b4ca6a9d04559f2875e32",
       "version_major": 2,
       "version_minor": 0
      },
      "text/plain": [
       "  0%|          | 0/370 [00:00<?, ?it/s]"
      ]
     },
     "metadata": {},
     "output_type": "display_data"
    },
    {
     "name": "stdout",
     "output_type": "stream",
     "text": [
      "([('ME', 0.008855535), ('R2_1', 0.005697643), ('D2P', 0.006664096), ('SPREAD', 0.006592712), ('RVAR', 0.010827155), ('VAR', 0.010680204), ('IdioVol', 0.0073566106), ('TURN', 0.008304125), ('SUV', 0.006479653), ('R12_7', 0.00808746), ('CF2P', 0.008772258), ('E2P', 0.0065189614), ('R12_2', 0.006516874), ('S2P', 0.010319276), ('B2M', 0.008913608), ('CF2B', 0.0059681376), ('AT', 0.009221396), ('A2ME', 0.011313069), ('Q', 0.008509975), ('PROF', 0.0073401593), ('PM', 0.006816445), ('PCM', 0.0061151786), ('BETA_m', 0.007682451), ('C2A', 0.007110572), ('OL', 0.009288064), ('ROE', 0.008334165), ('CTO', 0.00988218), ('ATO', 0.0074910237), ('LEV', 0.00793094), ('NOA', 0.0064094993), ('ROA', 0.007166346), ('RNA', 0.0052977544), ('OP', 0.008012586), ('NI', 0.0067808195), ('INV', 0.00845476), ('BETA_d', 0.011215329), ('R36_13', 0.00838214), ('D2A', 0.00789875), ('FC2Y', 0.00909588), ('SGA2S', 0.0068780496), ('OA', 0.0069415015), ('AC', 0.007709105), ('HIGH52', 0.0072687874), ('R60_13', 0.011510137), ('DPI2A', 0.0067100516)], 0.0081346445, 0.0026587089104112005, -73.08041971606201, [-0.1083606023081554, -0.054274006844707116, 0.026903154290322882, 0.0592945082843435, 0.0956380790635009, 0.14405603925795113, 0.1353764819266986, 0.1762798701258339, 0.22878292174979067, 0.28114045768636253, 0.6039820706714982])\n"
     ]
    },
    {
     "data": {
      "application/vnd.jupyter.widget-view+json": {
       "model_id": "f38470c1462345a08378fb32e94206f0",
       "version_major": 2,
       "version_minor": 0
      },
      "text/plain": [
       "  0%|          | 0/64 [00:00<?, ?it/s]"
      ]
     },
     "metadata": {},
     "output_type": "display_data"
    },
    {
     "name": "stdout",
     "output_type": "stream",
     "text": [
      "([('ME', 0.023574956), ('R2_1', 0.0060577486), ('D2P', 0.0067644934), ('SPREAD', 0.0070135877), ('RVAR', 0.014069514), ('VAR', 0.01309053), ('IdioVol', 0.00834095), ('TURN', 0.00811267), ('SUV', 0.006484365), ('R12_7', 0.009563644), ('CF2P', 0.010170094), ('E2P', 0.009615251), ('R12_2', 0.008498814), ('S2P', 0.014604301), ('B2M', 0.009639329), ('CF2B', 0.006657991), ('AT', 0.022795033), ('A2ME', 0.02177308), ('Q', 0.012942621), ('PROF', 0.00855805), ('PM', 0.0075769103), ('PCM', 0.0076797763), ('BETA_m', 0.008974282), ('C2A', 0.007126991), ('OL', 0.010616143), ('ROE', 0.009237268), ('CTO', 0.011900856), ('ATO', 0.0083425455), ('LEV', 0.009050978), ('NOA', 0.0069432645), ('ROA', 0.009631499), ('RNA', 0.005374136), ('OP', 0.009074297), ('NI', 0.0071789715), ('INV', 0.009012678), ('BETA_d', 0.012404959), ('R36_13', 0.010076339), ('D2A', 0.009472845), ('FC2Y', 0.013879378), ('SGA2S', 0.0076361243), ('OA', 0.0071610636), ('AC', 0.008647786), ('HIGH52', 0.007755195), ('R60_13', 0.013583305), ('DPI2A', 0.008043261)], 0.0108873835, 0.004086141623328543, -45.94646838340277, [-0.14925396922165926, -0.13261072856300749, -0.11362292754083876, -0.03715124168906961, -0.09891845662975406, -0.02441739071571656, 0.08084299559269886, 0.08824057228461836, 0.16990889856511618, 0.20435767422774032, 0.35433852889943884])\n"
     ]
    },
    {
     "data": {
      "application/vnd.jupyter.widget-view+json": {
       "model_id": "7ca248572902466a915ee4d217835ff6",
       "version_major": 2,
       "version_minor": 0
      },
      "text/plain": [
       "  0%|          | 0/77 [00:00<?, ?it/s]"
      ]
     },
     "metadata": {},
     "output_type": "display_data"
    },
    {
     "name": "stdout",
     "output_type": "stream",
     "text": [
      "([('ME', 0.023513164), ('R2_1', 0.006032398), ('D2P', 0.0065296274), ('SPREAD', 0.007177128), ('RVAR', 0.01952104), ('VAR', 0.018112466), ('IdioVol', 0.008639014), ('TURN', 0.0082338685), ('SUV', 0.006549479), ('R12_7', 0.009524478), ('CF2P', 0.010289551), ('E2P', 0.009681828), ('R12_2', 0.008537712), ('S2P', 0.014661506), ('B2M', 0.009631356), ('CF2B', 0.006654524), ('AT', 0.023182243), ('A2ME', 0.026068285), ('Q', 0.014435117), ('PROF', 0.009324116), ('PM', 0.008073493), ('PCM', 0.008778263), ('BETA_m', 0.009323122), ('C2A', 0.0069631324), ('OL', 0.011486181), ('ROE', 0.009373486), ('CTO', 0.012633923), ('ATO', 0.008830623), ('LEV', 0.009046309), ('NOA', 0.0071038315), ('ROA', 0.010023458), ('RNA', 0.0052379104), ('OP', 0.009554217), ('NI', 0.0076110284), ('INV', 0.009000656), ('BETA_d', 0.01208373), ('R36_13', 0.0101788845), ('D2A', 0.010709635), ('FC2Y', 0.014697587), ('SGA2S', 0.009498118), ('OA', 0.0072221565), ('AC', 0.009426906), ('HIGH52', 0.007480727), ('R60_13', 0.014865014), ('DPI2A', 0.007853287)], 0.0117199, -0.0005014921507990877, -38.4343231259139, [-0.022170012574196606, 0.058304355003246516, -0.0008081416124003304, 0.038323316689289774, 0.05778721815135652, 0.044889856917186756, 0.10586986284820417, 0.1193830477715884, 0.14592325818474905, 0.2027508455119424, 0.2292689600373955])\n"
     ]
    }
   ],
   "source": [
    "print(eval_fn.eval_model_is(chars, exp_batch_size, model, ar_model, train_data_loader,\n",
    "                            return_metrics=True, expect_oos_data=False))\n",
    "print(eval_fn.eval_model_is(chars, exp_batch_size, model, ar_model, eval_data_loader,\n",
    "                            return_metrics=True, expect_oos_data=True))\n",
    "print(eval_fn.eval_model_is(chars, exp_batch_size, model, ar_model, test_data_loader,\n",
    "                            return_metrics=True, expect_oos_data=True))"
   ]
  },
  {
   "cell_type": "code",
   "execution_count": 241,
   "id": "21ef3a2e",
   "metadata": {},
   "outputs": [
    {
     "data": {
      "application/vnd.jupyter.widget-view+json": {
       "model_id": "68224cb94bc447ebae824a384c4f2427",
       "version_major": 2,
       "version_minor": 0
      },
      "text/plain": [
       "  0%|          | 0/366 [00:00<?, ?it/s]"
      ]
     },
     "metadata": {},
     "output_type": "display_data"
    },
    {
     "data": {
      "application/vnd.jupyter.widget-view+json": {
       "model_id": "40f9ba62f9d54095be345e26b8edb837",
       "version_major": 2,
       "version_minor": 0
      },
      "text/plain": [
       "  0%|          | 0/63 [00:00<?, ?it/s]"
      ]
     },
     "metadata": {},
     "output_type": "display_data"
    },
    {
     "name": "stdout",
     "output_type": "stream",
     "text": [
      "(5, 5) (5,)\n"
     ]
    },
    {
     "data": {
      "text/plain": [
       "(0.138095236684946, 0.10802225494038135)"
      ]
     },
     "execution_count": 241,
     "metadata": {},
     "output_type": "execute_result"
    }
   ],
   "source": [
    "is_hidden, is_returns = eval_fn.get_factors_returns(exp_batch_size, model=model, ar_model=ar_model, \n",
    "                                            data_loader=train_data_loader, expect_oos_data=False)\n",
    "\n",
    "eval_hidden, eval_returns = eval_fn.get_factors_returns(exp_batch_size, model=model, ar_model=ar_model, \n",
    "                                            data_loader=eval_data_loader, expect_oos_data=True)\n",
    "\n",
    "\n",
    "is_factors = eval_fn.get_factors(is_hidden, is_returns).squeeze()\n",
    "\n",
    "eval_factors = eval_fn.get_factors(eval_hidden, eval_returns).squeeze()\n",
    "\n",
    "weights = markowitz(is_factors.squeeze())\n",
    "\n",
    "np.mean(is_factors @ weights) / np.std(is_factors @ weights),\\\n",
    "    np.mean(eval_factors @ weights) / np.std(eval_factors @ weights)"
   ]
  },
  {
   "cell_type": "markdown",
   "id": "d16e3249",
   "metadata": {},
   "source": [
    "# OOS validation"
   ]
  },
  {
   "cell_type": "code",
   "execution_count": 159,
   "id": "399e9110",
   "metadata": {},
   "outputs": [
    {
     "data": {
      "text/plain": [
       "49"
      ]
     },
     "execution_count": 159,
     "metadata": {},
     "output_type": "execute_result"
    }
   ],
   "source": []
  },
  {
   "cell_type": "code",
   "execution_count": 248,
   "id": "098dc8fd",
   "metadata": {},
   "outputs": [
    {
     "data": {
      "text/plain": [
       "<module 'eval_fn' from '/home/selwin_p_george/CS 236 Project/Code/eval_fn.py'>"
      ]
     },
     "execution_count": 248,
     "metadata": {},
     "output_type": "execute_result"
    }
   ],
   "source": [
    "importlib.reload(eval_fn)"
   ]
  },
  {
   "cell_type": "code",
   "execution_count": 29,
   "id": "91be5d88",
   "metadata": {
    "scrolled": true
   },
   "outputs": [
    {
     "name": "stdout",
     "output_type": "stream",
     "text": [
      "torch device is cuda:0\n",
      "epoch 0\n"
     ]
    },
    {
     "data": {
      "application/vnd.jupyter.widget-view+json": {
       "model_id": "1dbf0cbe31564191be3415a34e6363c9",
       "version_major": 2,
       "version_minor": 0
      },
      "text/plain": [
       "  0%|          | 0/367 [00:00<?, ?it/s]"
      ]
     },
     "metadata": {},
     "output_type": "display_data"
    },
    {
     "name": "stdout",
     "output_type": "stream",
     "text": [
      "epoch 0 avg loss 15.583824157714844\n",
      "epoch 0 took 0.1231488307317098 minutes\n"
     ]
    },
    {
     "data": {
      "application/vnd.jupyter.widget-view+json": {
       "model_id": "59a76540ebcb413a839d1dd3dbbf4c31",
       "version_major": 2,
       "version_minor": 0
      },
      "text/plain": [
       "  0%|          | 0/367 [00:00<?, ?it/s]"
      ]
     },
     "metadata": {},
     "output_type": "display_data"
    },
    {
     "name": "stdout",
     "output_type": "stream",
     "text": [
      "train is ([('ME', 0.20462418), ('R2_1', 0.2837318), ('D2P', 0.24477395), ('SPREAD', 0.18411347), ('RVAR', 0.14534199), ('VAR', 0.14846684), ('IdioVol', 0.15650497), ('TURN', 0.27052894), ('SUV', 0.28476137), ('R12_7', 0.26853973), ('CF2P', 0.24004841), ('E2P', 0.2607011), ('R12_2', 0.25920385), ('S2P', 0.21611597), ('B2M', 0.19027111), ('CF2B', 0.28137174), ('AT', 0.18840744), ('A2ME', 0.081389695), ('Q', 0.085096054), ('PROF', 0.2870594), ('PM', 0.24301358), ('PCM', 0.27915263), ('BETA_m', 0.2702548), ('C2A', 0.26354107), ('OL', 0.28260407), ('ROE', 0.25338334), ('CTO', 0.28518856), ('ATO', 0.28645617), ('LEV', 0.24650545), ('NOA', 0.28789398), ('ROA', 0.23578961), ('RNA', 0.24221665), ('OP', 0.2764733), ('NI', 0.28117236), ('INV', 0.27354708), ('BETA_d', 0.26724747), ('R36_13', 0.2608023), ('D2A', 0.2846741), ('FC2Y', 0.2596851), ('SGA2S', 0.25768143), ('OA', 0.28704214), ('AC', 0.29069173), ('HIGH52', 0.24122564), ('R60_13', 0.25474936), ('DPI2A', 0.28291437)], 0.24388792)\n"
     ]
    },
    {
     "data": {
      "application/vnd.jupyter.widget-view+json": {
       "model_id": "c0471aa68066470096e54a9b7cc24203",
       "version_major": 2,
       "version_minor": 0
      },
      "text/plain": [
       "  0%|          | 0/63 [00:00<?, ?it/s]"
      ]
     },
     "metadata": {},
     "output_type": "display_data"
    },
    {
     "name": "stdout",
     "output_type": "stream",
     "text": [
      "eval is ([('ME', 0.222813), ('R2_1', 0.2902647), ('D2P', 0.25698858), ('SPREAD', 0.16305673), ('RVAR', 0.15017635), ('VAR', 0.15418407), ('IdioVol', 0.15805025), ('TURN', 0.26903445), ('SUV', 0.28435257), ('R12_7', 0.2770552), ('CF2P', 0.2405686), ('E2P', 0.24771883), ('R12_2', 0.26843566), ('S2P', 0.24041842), ('B2M', 0.21951598), ('CF2B', 0.27305275), ('AT', 0.2107948), ('A2ME', 0.11521229), ('Q', 0.10501195), ('PROF', 0.29284006), ('PM', 0.2205701), ('PCM', 0.28217787), ('BETA_m', 0.2519984), ('C2A', 0.25825122), ('OL', 0.2770955), ('ROE', 0.25704074), ('CTO', 0.2915507), ('ATO', 0.2985985), ('LEV', 0.24869971), ('NOA', 0.29869854), ('ROA', 0.2526108), ('RNA', 0.2613505), ('OP', 0.26855016), ('NI', 0.27280793), ('INV', 0.27537218), ('BETA_d', 0.2543159), ('R36_13', 0.27634424), ('D2A', 0.2786461), ('FC2Y', 0.24823432), ('SGA2S', 0.25025687), ('OA', 0.29094064), ('AC', 0.29353568), ('HIGH52', 0.23226248), ('R60_13', 0.26022008), ('DPI2A', 0.28542954)], 0.24722455)\n"
     ]
    },
    {
     "data": {
      "application/vnd.jupyter.widget-view+json": {
       "model_id": "557ae9710c8844f0bed0f9820164505c",
       "version_major": 2,
       "version_minor": 0
      },
      "text/plain": [
       "  0%|          | 0/63 [00:00<?, ?it/s]"
      ]
     },
     "metadata": {},
     "output_type": "display_data"
    },
    {
     "name": "stdout",
     "output_type": "stream",
     "text": [
      "eval oos ([('ME', 0.22830354), ('R2_1', 0.2906669), ('D2P', 0.25517517), ('SPREAD', 0.16609912), ('RVAR', 0.15391059), ('VAR', 0.160125), ('IdioVol', 0.15862396), ('TURN', 0.2690405), ('SUV', 0.28413147), ('R12_7', 0.27837178), ('CF2P', 0.24244834), ('E2P', 0.24890038), ('R12_2', 0.26875815), ('S2P', 0.24491076), ('B2M', 0.22297285), ('CF2B', 0.27206582), ('AT', 0.21779895), ('A2ME', 0.13095352), ('Q', 0.15514693), ('PROF', 0.2940272), ('PM', 0.22122379), ('PCM', 0.2829574), ('BETA_m', 0.25146794), ('C2A', 0.25837407), ('OL', 0.2771314), ('ROE', 0.26178926), ('CTO', 0.2912112), ('ATO', 0.2993437), ('LEV', 0.24977064), ('NOA', 0.29860398), ('ROA', 0.26048926), ('RNA', 0.259742), ('OP', 0.26913342), ('NI', 0.2731719), ('INV', 0.27486196), ('BETA_d', 0.25541937), ('R36_13', 0.27603957), ('D2A', 0.27804255), ('FC2Y', 0.2495354), ('SGA2S', 0.24989729), ('OA', 0.2910943), ('AC', 0.29417565), ('HIGH52', 0.23244844), ('R60_13', 0.26034388), ('DPI2A', 0.28643885)], 0.24989194)\n"
     ]
    },
    {
     "data": {
      "application/vnd.jupyter.widget-view+json": {
       "model_id": "c2d8a6eecf884eed9823bbe179715bc4",
       "version_major": 2,
       "version_minor": 0
      },
      "text/plain": [
       "  0%|          | 0/76 [00:00<?, ?it/s]"
      ]
     },
     "metadata": {},
     "output_type": "display_data"
    },
    {
     "name": "stdout",
     "output_type": "stream",
     "text": [
      "test oos ([('ME', 0.19941455), ('R2_1', 0.29601267), ('D2P', 0.26223958), ('SPREAD', 0.16229302), ('RVAR', 0.15795828), ('VAR', 0.17420821), ('IdioVol', 0.16625945), ('TURN', 0.29353556), ('SUV', 0.28474882), ('R12_7', 0.27996156), ('CF2P', 0.26162094), ('E2P', 0.25975463), ('R12_2', 0.27097303), ('S2P', 0.25222898), ('B2M', 0.21111284), ('CF2B', 0.28167453), ('AT', 0.2024173), ('A2ME', 0.13655919), ('Q', 0.16323659), ('PROF', 0.30003175), ('PM', 0.24464042), ('PCM', 0.284219), ('BETA_m', 0.2870581), ('C2A', 0.2587317), ('OL', 0.2743651), ('ROE', 0.2653827), ('CTO', 0.28405502), ('ATO', 0.29011446), ('LEV', 0.261441), ('NOA', 0.30039832), ('ROA', 0.26108918), ('RNA', 0.26619285), ('OP', 0.27478224), ('NI', 0.27774042), ('INV', 0.28581887), ('BETA_d', 0.29495168), ('R36_13', 0.26246208), ('D2A', 0.29801875), ('FC2Y', 0.26940027), ('SGA2S', 0.27205747), ('OA', 0.2906222), ('AC', 0.2968163), ('HIGH52', 0.23399809), ('R60_13', 0.24695492), ('DPI2A', 0.29391545)], 0.25536594)\n",
      "epoch 1\n"
     ]
    },
    {
     "data": {
      "application/vnd.jupyter.widget-view+json": {
       "model_id": "ab1e68eea6ff472aa42d841e636fdb27",
       "version_major": 2,
       "version_minor": 0
      },
      "text/plain": [
       "  0%|          | 0/367 [00:00<?, ?it/s]"
      ]
     },
     "metadata": {},
     "output_type": "display_data"
    },
    {
     "name": "stdout",
     "output_type": "stream",
     "text": [
      "epoch 1 avg loss -8.51754379272461\n",
      "epoch 1 took 0.12246195475260417 minutes\n",
      "epoch 2\n"
     ]
    },
    {
     "data": {
      "application/vnd.jupyter.widget-view+json": {
       "model_id": "c4483488e6fb463b9c1cc6875daed08d",
       "version_major": 2,
       "version_minor": 0
      },
      "text/plain": [
       "  0%|          | 0/367 [00:00<?, ?it/s]"
      ]
     },
     "metadata": {},
     "output_type": "display_data"
    },
    {
     "name": "stdout",
     "output_type": "stream",
     "text": [
      "epoch 2 avg loss -9.099652290344238\n",
      "epoch 2 took 0.12161788940429688 minutes\n",
      "epoch 3\n"
     ]
    },
    {
     "data": {
      "application/vnd.jupyter.widget-view+json": {
       "model_id": "28beb6de6f8d4ac688041f821853eb66",
       "version_major": 2,
       "version_minor": 0
      },
      "text/plain": [
       "  0%|          | 0/367 [00:00<?, ?it/s]"
      ]
     },
     "metadata": {},
     "output_type": "display_data"
    },
    {
     "name": "stdout",
     "output_type": "stream",
     "text": [
      "epoch 3 avg loss -9.381604194641113\n",
      "epoch 3 took 0.12393402655919393 minutes\n",
      "epoch 4\n"
     ]
    },
    {
     "data": {
      "application/vnd.jupyter.widget-view+json": {
       "model_id": "2fc7ec8de7f144cf84bb35d0103d91e4",
       "version_major": 2,
       "version_minor": 0
      },
      "text/plain": [
       "  0%|          | 0/367 [00:00<?, ?it/s]"
      ]
     },
     "metadata": {},
     "output_type": "display_data"
    },
    {
     "name": "stdout",
     "output_type": "stream",
     "text": [
      "epoch 4 avg loss -9.514997482299805\n",
      "epoch 4 took 0.12309871912002564 minutes\n",
      "epoch 5\n"
     ]
    },
    {
     "data": {
      "application/vnd.jupyter.widget-view+json": {
       "model_id": "5072679c9293485f963d61b8b1199e74",
       "version_major": 2,
       "version_minor": 0
      },
      "text/plain": [
       "  0%|          | 0/367 [00:00<?, ?it/s]"
      ]
     },
     "metadata": {},
     "output_type": "display_data"
    },
    {
     "name": "stdout",
     "output_type": "stream",
     "text": [
      "epoch 5 avg loss -9.55242919921875\n",
      "epoch 5 took 0.12304898103078206 minutes\n",
      "epoch 6\n"
     ]
    },
    {
     "data": {
      "application/vnd.jupyter.widget-view+json": {
       "model_id": "da958a41675e4e0cab43fce90b1ff6a8",
       "version_major": 2,
       "version_minor": 0
      },
      "text/plain": [
       "  0%|          | 0/367 [00:00<?, ?it/s]"
      ]
     },
     "metadata": {},
     "output_type": "display_data"
    },
    {
     "name": "stdout",
     "output_type": "stream",
     "text": [
      "epoch 6 avg loss -10.690084457397461\n",
      "epoch 6 took 0.12299037377039591 minutes\n",
      "epoch 7\n"
     ]
    },
    {
     "data": {
      "application/vnd.jupyter.widget-view+json": {
       "model_id": "df556aaf1bb749fc89b5951c2724de47",
       "version_major": 2,
       "version_minor": 0
      },
      "text/plain": [
       "  0%|          | 0/367 [00:00<?, ?it/s]"
      ]
     },
     "metadata": {},
     "output_type": "display_data"
    },
    {
     "name": "stdout",
     "output_type": "stream",
     "text": [
      "epoch 7 avg loss -13.118688583374023\n",
      "epoch 7 took 0.12198561429977417 minutes\n",
      "epoch 8\n"
     ]
    },
    {
     "data": {
      "application/vnd.jupyter.widget-view+json": {
       "model_id": "855153951c7f4102894f12151ff404f7",
       "version_major": 2,
       "version_minor": 0
      },
      "text/plain": [
       "  0%|          | 0/367 [00:00<?, ?it/s]"
      ]
     },
     "metadata": {},
     "output_type": "display_data"
    },
    {
     "name": "stdout",
     "output_type": "stream",
     "text": [
      "epoch 8 avg loss -13.60598373413086\n",
      "epoch 8 took 0.12356330156326294 minutes\n",
      "epoch 9\n"
     ]
    },
    {
     "data": {
      "application/vnd.jupyter.widget-view+json": {
       "model_id": "53d2ec7baacd4b6e9294a4352e4e8682",
       "version_major": 2,
       "version_minor": 0
      },
      "text/plain": [
       "  0%|          | 0/367 [00:00<?, ?it/s]"
      ]
     },
     "metadata": {},
     "output_type": "display_data"
    },
    {
     "name": "stdout",
     "output_type": "stream",
     "text": [
      "epoch 9 avg loss -13.768157005310059\n",
      "epoch 9 took 0.12468624909718831 minutes\n",
      "epoch 10\n"
     ]
    },
    {
     "data": {
      "application/vnd.jupyter.widget-view+json": {
       "model_id": "0026e6e354204d5d879168be6db2118c",
       "version_major": 2,
       "version_minor": 0
      },
      "text/plain": [
       "  0%|          | 0/367 [00:00<?, ?it/s]"
      ]
     },
     "metadata": {},
     "output_type": "display_data"
    },
    {
     "name": "stdout",
     "output_type": "stream",
     "text": [
      "epoch 10 avg loss -13.926301956176758\n",
      "epoch 10 took 0.12407182455062866 minutes\n"
     ]
    },
    {
     "data": {
      "application/vnd.jupyter.widget-view+json": {
       "model_id": "4c576eb201e64ab494377aaef0c8d16d",
       "version_major": 2,
       "version_minor": 0
      },
      "text/plain": [
       "  0%|          | 0/367 [00:00<?, ?it/s]"
      ]
     },
     "metadata": {},
     "output_type": "display_data"
    },
    {
     "name": "stdout",
     "output_type": "stream",
     "text": [
      "train is ([('ME', 0.23204225), ('R2_1', 0.28472868), ('D2P', 0.2515526), ('SPREAD', 0.2086662), ('RVAR', 0.13257764), ('VAR', 0.13438252), ('IdioVol', 0.12774554), ('TURN', 0.27191588), ('SUV', 0.28481254), ('R12_7', 0.2739616), ('CF2P', 0.24216062), ('E2P', 0.26488164), ('R12_2', 0.26632002), ('S2P', 0.06866791), ('B2M', 0.19334687), ('CF2B', 0.28318813), ('AT', 0.20598584), ('A2ME', 0.051859763), ('Q', 0.05218958), ('PROF', 0.24397239), ('PM', 0.25856382), ('PCM', 0.2734302), ('BETA_m', 0.27294096), ('C2A', 0.26356578), ('OL', 0.09506189), ('ROE', 0.2673418), ('CTO', 0.075250104), ('ATO', 0.16623347), ('LEV', 0.24390998), ('NOA', 0.29035738), ('ROA', 0.24826145), ('RNA', 0.24849707), ('OP', 0.27579886), ('NI', 0.28210598), ('INV', 0.28284252), ('BETA_d', 0.2629015), ('R36_13', 0.2700682), ('D2A', 0.2803858), ('FC2Y', 0.2639087), ('SGA2S', 0.25997686), ('OA', 0.28726462), ('AC', 0.2920157), ('HIGH52', 0.24642473), ('R60_13', 0.26386476), ('DPI2A', 0.2864782)], 0.22960909)\n"
     ]
    },
    {
     "data": {
      "application/vnd.jupyter.widget-view+json": {
       "model_id": "cf578053e3a34b1f87221a71bc37a0bd",
       "version_major": 2,
       "version_minor": 0
      },
      "text/plain": [
       "  0%|          | 0/63 [00:00<?, ?it/s]"
      ]
     },
     "metadata": {},
     "output_type": "display_data"
    },
    {
     "name": "stdout",
     "output_type": "stream",
     "text": [
      "eval is ([('ME', 0.24965627), ('R2_1', 0.29186952), ('D2P', 0.26781577), ('SPREAD', 0.17980748), ('RVAR', 0.16655505), ('VAR', 0.16467972), ('IdioVol', 0.1482934), ('TURN', 0.27456066), ('SUV', 0.28454614), ('R12_7', 0.28657424), ('CF2P', 0.24640614), ('E2P', 0.26158607), ('R12_2', 0.2792935), ('S2P', 0.1076938), ('B2M', 0.23653997), ('CF2B', 0.2796105), ('AT', 0.22843577), ('A2ME', 0.11990528), ('Q', 0.10836496), ('PROF', 0.25070584), ('PM', 0.25874007), ('PCM', 0.27556288), ('BETA_m', 0.25664595), ('C2A', 0.2610602), ('OL', 0.14053799), ('ROE', 0.27184528), ('CTO', 0.105241776), ('ATO', 0.20655337), ('LEV', 0.2599349), ('NOA', 0.29177865), ('ROA', 0.270076), ('RNA', 0.27301937), ('OP', 0.2649476), ('NI', 0.27717182), ('INV', 0.28487614), ('BETA_d', 0.2574528), ('R36_13', 0.2881497), ('D2A', 0.264413), ('FC2Y', 0.24106137), ('SGA2S', 0.23922656), ('OA', 0.29146233), ('AC', 0.2976712), ('HIGH52', 0.24222758), ('R60_13', 0.27553618), ('DPI2A', 0.28858122)], 0.24037054)\n"
     ]
    },
    {
     "data": {
      "application/vnd.jupyter.widget-view+json": {
       "model_id": "46a924a35ebf4acdb76595b7ebc27bf7",
       "version_major": 2,
       "version_minor": 0
      },
      "text/plain": [
       "  0%|          | 0/63 [00:00<?, ?it/s]"
      ]
     },
     "metadata": {},
     "output_type": "display_data"
    },
    {
     "name": "stdout",
     "output_type": "stream",
     "text": [
      "eval oos ([('ME', 0.2505598), ('R2_1', 0.29208383), ('D2P', 0.26597568), ('SPREAD', 0.18297818), ('RVAR', 0.17473131), ('VAR', 0.18220569), ('IdioVol', 0.19139743), ('TURN', 0.2748421), ('SUV', 0.28429693), ('R12_7', 0.28700593), ('CF2P', 0.24638003), ('E2P', 0.2613416), ('R12_2', 0.27877572), ('S2P', 0.10877991), ('B2M', 0.2346011), ('CF2B', 0.27775413), ('AT', 0.23247895), ('A2ME', 0.20095816), ('Q', 0.20143566), ('PROF', 0.25188848), ('PM', 0.25924125), ('PCM', 0.27859765), ('BETA_m', 0.2560965), ('C2A', 0.26122904), ('OL', 0.14522158), ('ROE', 0.27642432), ('CTO', 0.1281124), ('ATO', 0.21314193), ('LEV', 0.2582386), ('NOA', 0.29143792), ('ROA', 0.2763572), ('RNA', 0.2704447), ('OP', 0.2643142), ('NI', 0.27691832), ('INV', 0.28422377), ('BETA_d', 0.2576701), ('R36_13', 0.28732577), ('D2A', 0.26324692), ('FC2Y', 0.24088876), ('SGA2S', 0.23696615), ('OA', 0.29098043), ('AC', 0.29560384), ('HIGH52', 0.24172789), ('R60_13', 0.27449867), ('DPI2A', 0.2904149)], 0.24666208)\n"
     ]
    },
    {
     "data": {
      "application/vnd.jupyter.widget-view+json": {
       "model_id": "bdf7dc6121a34efcadeb4e6aa4ef0e6f",
       "version_major": 2,
       "version_minor": 0
      },
      "text/plain": [
       "  0%|          | 0/76 [00:00<?, ?it/s]"
      ]
     },
     "metadata": {},
     "output_type": "display_data"
    },
    {
     "name": "stdout",
     "output_type": "stream",
     "text": [
      "test oos ([('ME', 0.22694714), ('R2_1', 0.2972065), ('D2P', 0.27246696), ('SPREAD', 0.18040939), ('RVAR', 0.1804067), ('VAR', 0.19580093), ('IdioVol', 0.19941628), ('TURN', 0.30009863), ('SUV', 0.2847751), ('R12_7', 0.2885492), ('CF2P', 0.26472592), ('E2P', 0.26875472), ('R12_2', 0.2797069), ('S2P', 0.114944816), ('B2M', 0.21874021), ('CF2B', 0.29074323), ('AT', 0.21594562), ('A2ME', 0.20513648), ('Q', 0.20364174), ('PROF', 0.25297675), ('PM', 0.27148435), ('PCM', 0.27396116), ('BETA_m', 0.29157022), ('C2A', 0.2649463), ('OL', 0.15338981), ('ROE', 0.27409866), ('CTO', 0.12751795), ('ATO', 0.19968806), ('LEV', 0.27012014), ('NOA', 0.29634535), ('ROA', 0.27952492), ('RNA', 0.27504748), ('OP', 0.27041015), ('NI', 0.27861407), ('INV', 0.29213148), ('BETA_d', 0.29374695), ('R36_13', 0.2753023), ('D2A', 0.28260928), ('FC2Y', 0.25668606), ('SGA2S', 0.25397515), ('OA', 0.29091978), ('AC', 0.29879558), ('HIGH52', 0.24125735), ('R60_13', 0.2639804), ('DPI2A', 0.29707357)], 0.25143534)\n",
      "epoch 11\n"
     ]
    },
    {
     "data": {
      "application/vnd.jupyter.widget-view+json": {
       "model_id": "a0825e9d0e8b47a9bfd5dcfd008a5ee5",
       "version_major": 2,
       "version_minor": 0
      },
      "text/plain": [
       "  0%|          | 0/367 [00:00<?, ?it/s]"
      ]
     },
     "metadata": {},
     "output_type": "display_data"
    },
    {
     "name": "stdout",
     "output_type": "stream",
     "text": [
      "epoch 11 avg loss -14.063592910766602\n",
      "epoch 11 took 0.123277481396993 minutes\n",
      "epoch 12\n"
     ]
    },
    {
     "data": {
      "application/vnd.jupyter.widget-view+json": {
       "model_id": "4e73b9a53cc04dab9559cf794a8a52a7",
       "version_major": 2,
       "version_minor": 0
      },
      "text/plain": [
       "  0%|          | 0/367 [00:00<?, ?it/s]"
      ]
     },
     "metadata": {},
     "output_type": "display_data"
    },
    {
     "name": "stdout",
     "output_type": "stream",
     "text": [
      "epoch 12 avg loss -14.148005485534668\n",
      "epoch 12 took 0.12380437850952149 minutes\n",
      "epoch 13\n"
     ]
    },
    {
     "data": {
      "application/vnd.jupyter.widget-view+json": {
       "model_id": "1d26a412348e4e9887f8cc090f5cfc33",
       "version_major": 2,
       "version_minor": 0
      },
      "text/plain": [
       "  0%|          | 0/367 [00:00<?, ?it/s]"
      ]
     },
     "metadata": {},
     "output_type": "display_data"
    },
    {
     "name": "stdout",
     "output_type": "stream",
     "text": [
      "epoch 13 avg loss -14.196011543273926\n",
      "epoch 13 took 0.1238708257675171 minutes\n",
      "epoch 14\n"
     ]
    },
    {
     "data": {
      "application/vnd.jupyter.widget-view+json": {
       "model_id": "7e027b43c6aa42dbacc755cbe57e6936",
       "version_major": 2,
       "version_minor": 0
      },
      "text/plain": [
       "  0%|          | 0/367 [00:00<?, ?it/s]"
      ]
     },
     "metadata": {},
     "output_type": "display_data"
    },
    {
     "name": "stdout",
     "output_type": "stream",
     "text": [
      "epoch 14 avg loss -14.658578872680664\n",
      "epoch 14 took 0.12322738965352377 minutes\n",
      "epoch 15\n"
     ]
    },
    {
     "data": {
      "application/vnd.jupyter.widget-view+json": {
       "model_id": "47bd89d5cb36409cb36ae080a7a76a22",
       "version_major": 2,
       "version_minor": 0
      },
      "text/plain": [
       "  0%|          | 0/367 [00:00<?, ?it/s]"
      ]
     },
     "metadata": {},
     "output_type": "display_data"
    },
    {
     "name": "stdout",
     "output_type": "stream",
     "text": [
      "epoch 15 avg loss -16.63421058654785\n",
      "epoch 15 took 0.1222656806310018 minutes\n",
      "epoch 16\n"
     ]
    },
    {
     "data": {
      "application/vnd.jupyter.widget-view+json": {
       "model_id": "c1de89191c144d78a4b4ebe1042ad398",
       "version_major": 2,
       "version_minor": 0
      },
      "text/plain": [
       "  0%|          | 0/367 [00:00<?, ?it/s]"
      ]
     },
     "metadata": {},
     "output_type": "display_data"
    },
    {
     "name": "stdout",
     "output_type": "stream",
     "text": [
      "epoch 16 avg loss -16.933547973632812\n",
      "epoch 16 took 0.12459513346354166 minutes\n",
      "epoch 17\n"
     ]
    },
    {
     "data": {
      "application/vnd.jupyter.widget-view+json": {
       "model_id": "b00fd1e3f24f4086a84de99bd98847ab",
       "version_major": 2,
       "version_minor": 0
      },
      "text/plain": [
       "  0%|          | 0/367 [00:00<?, ?it/s]"
      ]
     },
     "metadata": {},
     "output_type": "display_data"
    },
    {
     "name": "stdout",
     "output_type": "stream",
     "text": [
      "epoch 17 avg loss -17.01402473449707\n",
      "epoch 17 took 0.12280491987864177 minutes\n",
      "epoch 18\n"
     ]
    },
    {
     "data": {
      "application/vnd.jupyter.widget-view+json": {
       "model_id": "ea86344ddea84c43b162e6e0ad467867",
       "version_major": 2,
       "version_minor": 0
      },
      "text/plain": [
       "  0%|          | 0/367 [00:00<?, ?it/s]"
      ]
     },
     "metadata": {},
     "output_type": "display_data"
    },
    {
     "name": "stdout",
     "output_type": "stream",
     "text": [
      "epoch 18 avg loss -18.72255516052246\n",
      "epoch 18 took 0.12324127753575644 minutes\n",
      "epoch 19\n"
     ]
    },
    {
     "data": {
      "application/vnd.jupyter.widget-view+json": {
       "model_id": "83ac243a42bf4bdd8eecbf302e2c6617",
       "version_major": 2,
       "version_minor": 0
      },
      "text/plain": [
       "  0%|          | 0/367 [00:00<?, ?it/s]"
      ]
     },
     "metadata": {},
     "output_type": "display_data"
    },
    {
     "name": "stdout",
     "output_type": "stream",
     "text": [
      "epoch 19 avg loss -21.056665420532227\n",
      "epoch 19 took 0.1253046751022339 minutes\n",
      "epoch 20\n"
     ]
    },
    {
     "data": {
      "application/vnd.jupyter.widget-view+json": {
       "model_id": "3f82d7e3db0f4e37a19b5dc7db424f42",
       "version_major": 2,
       "version_minor": 0
      },
      "text/plain": [
       "  0%|          | 0/367 [00:00<?, ?it/s]"
      ]
     },
     "metadata": {},
     "output_type": "display_data"
    },
    {
     "name": "stdout",
     "output_type": "stream",
     "text": [
      "epoch 20 avg loss -21.724313735961914\n",
      "epoch 20 took 0.1239267627398173 minutes\n"
     ]
    },
    {
     "data": {
      "application/vnd.jupyter.widget-view+json": {
       "model_id": "29086f2d14da452cac4c561f5d0d786b",
       "version_major": 2,
       "version_minor": 0
      },
      "text/plain": [
       "  0%|          | 0/367 [00:00<?, ?it/s]"
      ]
     },
     "metadata": {},
     "output_type": "display_data"
    },
    {
     "name": "stdout",
     "output_type": "stream",
     "text": [
      "train is ([('ME', 0.05096866), ('R2_1', 0.2838901), ('D2P', 0.25205165), ('SPREAD', 0.19385184), ('RVAR', 0.1231293), ('VAR', 0.12532815), ('IdioVol', 0.11995074), ('TURN', 0.2469802), ('SUV', 0.28542897), ('R12_7', 0.2657626), ('CF2P', 0.21011175), ('E2P', 0.20500207), ('R12_2', 0.2528187), ('S2P', 0.061177358), ('B2M', 0.19623879), ('CF2B', 0.26751515), ('AT', 0.0553556), ('A2ME', 0.048675086), ('Q', 0.053388324), ('PROF', 0.18685625), ('PM', 0.15935244), ('PCM', 0.1896768), ('BETA_m', 0.2512133), ('C2A', 0.26130816), ('OL', 0.07879882), ('ROE', 0.22726144), ('CTO', 0.07436555), ('ATO', 0.1709009), ('LEV', 0.24379754), ('NOA', 0.2819533), ('ROA', 0.20696062), ('RNA', 0.16622137), ('OP', 0.21691537), ('NI', 0.27668723), ('INV', 0.264172), ('BETA_d', 0.20807955), ('R36_13', 0.26114535), ('D2A', 0.27769837), ('FC2Y', 0.08942047), ('SGA2S', 0.08883854), ('OA', 0.28597856), ('AC', 0.28832883), ('HIGH52', 0.24250203), ('R60_13', 0.25617683), ('DPI2A', 0.2804154)], 0.19628114)\n"
     ]
    },
    {
     "data": {
      "application/vnd.jupyter.widget-view+json": {
       "model_id": "bdc1e474b6ba48c7ac0cc1986c8861e1",
       "version_major": 2,
       "version_minor": 0
      },
      "text/plain": [
       "  0%|          | 0/63 [00:00<?, ?it/s]"
      ]
     },
     "metadata": {},
     "output_type": "display_data"
    },
    {
     "name": "stdout",
     "output_type": "stream",
     "text": [
      "eval is ([('ME', 0.11848825), ('R2_1', 0.29012966), ('D2P', 0.26612195), ('SPREAD', 0.19230747), ('RVAR', 0.15615962), ('VAR', 0.15454713), ('IdioVol', 0.14200121), ('TURN', 0.25064206), ('SUV', 0.2842153), ('R12_7', 0.27691633), ('CF2P', 0.21425554), ('E2P', 0.20016491), ('R12_2', 0.26410294), ('S2P', 0.095362894), ('B2M', 0.2357973), ('CF2B', 0.24442495), ('AT', 0.12161433), ('A2ME', 0.11317944), ('Q', 0.11596162), ('PROF', 0.2198487), ('PM', 0.14590992), ('PCM', 0.21466315), ('BETA_m', 0.24499655), ('C2A', 0.25141117), ('OL', 0.13260974), ('ROE', 0.2237903), ('CTO', 0.11029536), ('ATO', 0.2124095), ('LEV', 0.262952), ('NOA', 0.28708392), ('ROA', 0.22621651), ('RNA', 0.20989926), ('OP', 0.19915956), ('NI', 0.27456272), ('INV', 0.266138), ('BETA_d', 0.24201967), ('R36_13', 0.28322718), ('D2A', 0.25843582), ('FC2Y', 0.16139297), ('SGA2S', 0.16793814), ('OA', 0.2905474), ('AC', 0.29289535), ('HIGH52', 0.23595236), ('R60_13', 0.27233958), ('DPI2A', 0.2837249)], 0.21570696)\n"
     ]
    },
    {
     "data": {
      "application/vnd.jupyter.widget-view+json": {
       "model_id": "1395632dc26f4bcbbce3341de7ee02fc",
       "version_major": 2,
       "version_minor": 0
      },
      "text/plain": [
       "  0%|          | 0/63 [00:00<?, ?it/s]"
      ]
     },
     "metadata": {},
     "output_type": "display_data"
    },
    {
     "name": "stdout",
     "output_type": "stream",
     "text": [
      "eval oos ([('ME', 0.2098008), ('R2_1', 0.29049832), ('D2P', 0.26454952), ('SPREAD', 0.1903321), ('RVAR', 0.16403802), ('VAR', 0.17950808), ('IdioVol', 0.1883987), ('TURN', 0.25079316), ('SUV', 0.28382236), ('R12_7', 0.2767672), ('CF2P', 0.21485248), ('E2P', 0.19338761), ('R12_2', 0.26454464), ('S2P', 0.10095593), ('B2M', 0.23339324), ('CF2B', 0.24053556), ('AT', 0.17805593), ('A2ME', 0.21005139), ('Q', 0.19441883), ('PROF', 0.22150865), ('PM', 0.14211777), ('PCM', 0.21820796), ('BETA_m', 0.24488012), ('C2A', 0.2512029), ('OL', 0.13694233), ('ROE', 0.23954757), ('CTO', 0.13055247), ('ATO', 0.21878064), ('LEV', 0.2602278), ('NOA', 0.28671423), ('ROA', 0.24461345), ('RNA', 0.20153745), ('OP', 0.19184412), ('NI', 0.2740682), ('INV', 0.26489177), ('BETA_d', 0.24236614), ('R36_13', 0.2819563), ('D2A', 0.25793833), ('FC2Y', 0.17535423), ('SGA2S', 0.17526576), ('OA', 0.2896446), ('AC', 0.2915043), ('HIGH52', 0.23507361), ('R60_13', 0.2721892), ('DPI2A', 0.28446132)], 0.22582431)\n"
     ]
    },
    {
     "data": {
      "application/vnd.jupyter.widget-view+json": {
       "model_id": "b6eee0a53c5e43d49ad1a53f7559c7da",
       "version_major": 2,
       "version_minor": 0
      },
      "text/plain": [
       "  0%|          | 0/76 [00:00<?, ?it/s]"
      ]
     },
     "metadata": {},
     "output_type": "display_data"
    },
    {
     "name": "stdout",
     "output_type": "stream",
     "text": [
      "test oos ([('ME', 0.20558129), ('R2_1', 0.29698408), ('D2P', 0.2692969), ('SPREAD', 0.18665887), ('RVAR', 0.17057307), ('VAR', 0.19383428), ('IdioVol', 0.19623037), ('TURN', 0.27047566), ('SUV', 0.28494394), ('R12_7', 0.2838585), ('CF2P', 0.23701149), ('E2P', 0.20712285), ('R12_2', 0.27363384), ('S2P', 0.106056064), ('B2M', 0.21843433), ('CF2B', 0.2581555), ('AT', 0.18178122), ('A2ME', 0.2113149), ('Q', 0.19712526), ('PROF', 0.22592191), ('PM', 0.15737), ('PCM', 0.21983616), ('BETA_m', 0.28067172), ('C2A', 0.25705722), ('OL', 0.14320007), ('ROE', 0.24658793), ('CTO', 0.12792628), ('ATO', 0.20550917), ('LEV', 0.26618803), ('NOA', 0.29161948), ('ROA', 0.25352398), ('RNA', 0.22935809), ('OP', 0.20651183), ('NI', 0.2797251), ('INV', 0.27657095), ('BETA_d', 0.2705992), ('R36_13', 0.26699445), ('D2A', 0.27755874), ('FC2Y', 0.18293563), ('SGA2S', 0.17749545), ('OA', 0.28960294), ('AC', 0.2952529), ('HIGH52', 0.23823074), ('R60_13', 0.25635827), ('DPI2A', 0.28918302)], 0.23246358)\n",
      "epoch 21\n"
     ]
    },
    {
     "data": {
      "application/vnd.jupyter.widget-view+json": {
       "model_id": "367450486f77434ab825e920e3a005f5",
       "version_major": 2,
       "version_minor": 0
      },
      "text/plain": [
       "  0%|          | 0/367 [00:00<?, ?it/s]"
      ]
     },
     "metadata": {},
     "output_type": "display_data"
    },
    {
     "name": "stdout",
     "output_type": "stream",
     "text": [
      "epoch 21 avg loss -22.26443099975586\n",
      "epoch 21 took 0.12512712478637694 minutes\n",
      "epoch 22\n"
     ]
    },
    {
     "data": {
      "application/vnd.jupyter.widget-view+json": {
       "model_id": "0595371ed8ad44958caa02671abf4d47",
       "version_major": 2,
       "version_minor": 0
      },
      "text/plain": [
       "  0%|          | 0/367 [00:00<?, ?it/s]"
      ]
     },
     "metadata": {},
     "output_type": "display_data"
    },
    {
     "name": "stdout",
     "output_type": "stream",
     "text": [
      "epoch 22 avg loss -23.910919189453125\n",
      "epoch 22 took 0.12596531709035239 minutes\n",
      "epoch 23\n"
     ]
    },
    {
     "data": {
      "application/vnd.jupyter.widget-view+json": {
       "model_id": "df25596cb13743cfa3e09491e550982d",
       "version_major": 2,
       "version_minor": 0
      },
      "text/plain": [
       "  0%|          | 0/367 [00:00<?, ?it/s]"
      ]
     },
     "metadata": {},
     "output_type": "display_data"
    },
    {
     "ename": "KeyboardInterrupt",
     "evalue": "",
     "output_type": "error",
     "traceback": [
      "\u001b[0;31m---------------------------------------------------------------------------\u001b[0m",
      "\u001b[0;31mKeyboardInterrupt\u001b[0m                         Traceback (most recent call last)",
      "\u001b[0;32m/tmp/ipykernel_2373/2595167451.py\u001b[0m in \u001b[0;36m<module>\u001b[0;34m\u001b[0m\n\u001b[1;32m     43\u001b[0m \u001b[0;34m\u001b[0m\u001b[0m\n\u001b[1;32m     44\u001b[0m             \u001b[0mloss\u001b[0m\u001b[0;34m.\u001b[0m\u001b[0mbackward\u001b[0m\u001b[0;34m(\u001b[0m\u001b[0;34m)\u001b[0m\u001b[0;34m\u001b[0m\u001b[0;34m\u001b[0m\u001b[0m\n\u001b[0;32m---> 45\u001b[0;31m             \u001b[0mlosses\u001b[0m\u001b[0;34m.\u001b[0m\u001b[0mappend\u001b[0m\u001b[0;34m(\u001b[0m\u001b[0mloss\u001b[0m\u001b[0;34m.\u001b[0m\u001b[0mdata\u001b[0m\u001b[0;34m.\u001b[0m\u001b[0mcpu\u001b[0m\u001b[0;34m(\u001b[0m\u001b[0;34m)\u001b[0m\u001b[0;34m.\u001b[0m\u001b[0mdetach\u001b[0m\u001b[0;34m(\u001b[0m\u001b[0;34m)\u001b[0m\u001b[0;34m.\u001b[0m\u001b[0mnumpy\u001b[0m\u001b[0;34m(\u001b[0m\u001b[0;34m)\u001b[0m\u001b[0;34m)\u001b[0m\u001b[0;34m\u001b[0m\u001b[0;34m\u001b[0m\u001b[0m\n\u001b[0m\u001b[1;32m     46\u001b[0m \u001b[0;34m\u001b[0m\u001b[0m\n\u001b[1;32m     47\u001b[0m             \u001b[0moptimizer\u001b[0m\u001b[0;34m.\u001b[0m\u001b[0mstep\u001b[0m\u001b[0;34m(\u001b[0m\u001b[0;34m)\u001b[0m\u001b[0;34m\u001b[0m\u001b[0;34m\u001b[0m\u001b[0m\n",
      "\u001b[0;31mKeyboardInterrupt\u001b[0m: "
     ]
    }
   ],
   "source": [
    "exp_batch_size = 100\n",
    "model = models.XSCharLSTM(input_dim=96, hidden_dims=[30, 30], num_layers=4, batch_size=exp_batch_size)\n",
    "\n",
    "num_epochs = 41\n",
    "eval_freq = 5\n",
    "\n",
    "optimizer = torch.optim.AdamW(model.parameters(), lr=0.01, weight_decay=0.01)\n",
    "# optimizer = torch.optim.SGD(model.parameters(), lr=0.01)\n",
    "\n",
    "\n",
    "scheduler = MultiStepLR(optimizer, [30], gamma=0.1, last_epoch=-1)\n",
    "device = torch.device(\"cuda:0\" if torch.cuda.is_available() else \"cpu\")\n",
    "print(f'torch device is {device}')\n",
    "model = model.to(device)\n",
    "loss_fn = loss_functions.beta_ll_loss\n",
    "\n",
    "\n",
    "#basic training loop for local development\n",
    "for epoch in range(num_epochs):\n",
    "    epoch_start = time.time()\n",
    "    losses = []\n",
    "    # Forward pass\n",
    "    print(f'epoch {epoch}')\n",
    "    for i, data in enumerate(tqdm(train_data_loader)):\n",
    "        ts_idxs, stock_idxs, data, mask, ordered_mask, factors, return_sample = data\n",
    "        assert not torch.isnan(data).any()\n",
    "#         assert not (data <= 0).any(), torch.min(data)\n",
    "#         print(data.shape)\n",
    "        C_train = data.transpose_(0, 1).float().to(device)[:-1]\n",
    "        \n",
    "        C_mask = mask.float().to(device).transpose_(0, 1)[:-1]\n",
    "        C_ordered_mask = ordered_mask.float().to(device).transpose_(0, 1)[:-1]\n",
    "        \n",
    "        factors = factors.transpose_(0, 1).float().to(device)[1:]\n",
    "        \n",
    "        train_input = torch.cat([C_train, C_mask, factors], axis=2)\n",
    "        if train_input.shape[1] == exp_batch_size and train_input.shape[2] > 0:\n",
    "            alpha_pred, beta_pred, hidden_out = model(train_input)\n",
    "#             print(hidden_out.shape)\n",
    "\n",
    "            loss = loss_fn(C_train[1:], alpha_pred[:-1], beta_pred[:-1], mask=C_mask[1:]).mean()\n",
    "            assert not torch.isnan(loss).any()\n",
    "\n",
    "            loss.backward()\n",
    "            losses.append(loss.data.cpu().detach().numpy())\n",
    "\n",
    "            optimizer.step()\n",
    "            model.zero_grad()\n",
    "            optimizer.zero_grad()       \n",
    "\n",
    "\n",
    "    print(f'epoch {epoch} avg loss {np.mean(losses)}')\n",
    "    print(f'epoch {epoch} took {(time.time() - epoch_start)/60.0} minutes')\n",
    "    scheduler.step()\n",
    "    if (epoch) % eval_freq == 0:\n",
    "#         print(\"train is\", eval_fn.eval_ts_model_is(chars, exp_batch_size, model, train_data_loader))\n",
    "#         print(\"eval is\", eval_fn.eval_ts_model_is(chars, exp_batch_size, model, eval_data_loader))\n",
    "        print(\"eval oos\", eval_fn.eval_ts_model_oos(chars, exp_batch_size, model, eval_data_loader))\n",
    "        print(\"test oos\", eval_fn.eval_ts_model_oos(chars, exp_batch_size, model, test_data_loader))\n",
    "        "
   ]
  },
  {
   "cell_type": "code",
   "execution_count": 34,
   "id": "26fb6373",
   "metadata": {
    "scrolled": true
   },
   "outputs": [
    {
     "name": "stdout",
     "output_type": "stream",
     "text": [
      "Parameter containing:\n",
      "tensor([[0., 0., 0.,  ..., 0., 0., 0.],\n",
      "        [1., 0., 0.,  ..., 0., 0., 0.],\n",
      "        [1., 1., 0.,  ..., 0., 0., 0.],\n",
      "        ...,\n",
      "        [1., 1., 1.,  ..., 0., 0., 0.],\n",
      "        [1., 1., 1.,  ..., 1., 0., 0.],\n",
      "        [1., 1., 1.,  ..., 1., 1., 0.]], requires_grad=True) torch.Size([45, 45])\n",
      "torch device is cuda:0\n",
      "epoch 0\n"
     ]
    },
    {
     "data": {
      "application/vnd.jupyter.widget-view+json": {
       "model_id": "414bee6810a34b0081490e51394c592b",
       "version_major": 2,
       "version_minor": 0
      },
      "text/plain": [
       "  0%|          | 0/367 [00:00<?, ?it/s]"
      ]
     },
     "metadata": {},
     "output_type": "display_data"
    },
    {
     "name": "stdout",
     "output_type": "stream",
     "text": [
      "epoch 0, avg ar model loss 21.132387161254883\n",
      "epoch 0 took 0.3734210809071859 minutes\n"
     ]
    },
    {
     "data": {
      "application/vnd.jupyter.widget-view+json": {
       "model_id": "b30fbb1009e64f458d2c2a401ad8d058",
       "version_major": 2,
       "version_minor": 0
      },
      "text/plain": [
       "  0%|          | 0/63 [00:00<?, ?it/s]"
      ]
     },
     "metadata": {},
     "output_type": "display_data"
    },
    {
     "name": "stdout",
     "output_type": "stream",
     "text": [
      "eval oos ([('ME', 0.26400554), ('R2_1', 0.28582013), ('D2P', 0.22921543), ('SPREAD', 0.26570666), ('RVAR', 0.11779517), ('VAR', 0.108356304), ('IdioVol', 0.12682123), ('TURN', 0.20516038), ('SUV', 0.27478975), ('R12_7', 0.27662283), ('CF2P', 0.14684032), ('E2P', 0.21235281), ('R12_2', 0.115088515), ('S2P', 0.2725678), ('B2M', 0.20063977), ('CF2B', 0.2579328), ('AT', 0.15077086), ('A2ME', 0.09117512), ('Q', 0.16427444), ('PROF', 0.24424551), ('PM', 0.15542577), ('PCM', 0.23026715), ('BETA_m', 0.25838113), ('C2A', 0.28103545), ('OL', 0.0936213), ('ROE', 0.22381441), ('CTO', 0.09475306), ('ATO', 0.18122514), ('LEV', 0.25888768), ('NOA', 0.27354398), ('ROA', 0.19402462), ('RNA', 0.12596945), ('OP', 0.21742477), ('NI', 0.28308764), ('INV', 0.18242493), ('BETA_d', 0.14880358), ('R36_13', 0.24941748), ('D2A', 0.21591991), ('FC2Y', 0.12505284), ('SGA2S', 0.10998739), ('OA', 0.27956313), ('AC', 0.18924841), ('HIGH52', 0.23083307), ('R60_13', 0.18059899), ('DPI2A', 0.28129378)], 0.21115443)\n"
     ]
    },
    {
     "data": {
      "application/vnd.jupyter.widget-view+json": {
       "model_id": "1935833c6f934d1da317d9f03eed7b2b",
       "version_major": 2,
       "version_minor": 0
      },
      "text/plain": [
       "  0%|          | 0/76 [00:00<?, ?it/s]"
      ]
     },
     "metadata": {},
     "output_type": "display_data"
    },
    {
     "name": "stdout",
     "output_type": "stream",
     "text": [
      "test oos ([('ME', 0.2567822), ('R2_1', 0.291137), ('D2P', 0.24009663), ('SPREAD', 0.26391816), ('RVAR', 0.11506268), ('VAR', 0.11953541), ('IdioVol', 0.13363701), ('TURN', 0.21936452), ('SUV', 0.27568048), ('R12_7', 0.27983862), ('CF2P', 0.15941016), ('E2P', 0.22249429), ('R12_2', 0.119944304), ('S2P', 0.2744053), ('B2M', 0.21312931), ('CF2B', 0.26804826), ('AT', 0.1601084), ('A2ME', 0.10023963), ('Q', 0.16947357), ('PROF', 0.25027916), ('PM', 0.17479561), ('PCM', 0.22149047), ('BETA_m', 0.28017706), ('C2A', 0.28505778), ('OL', 0.10389892), ('ROE', 0.23102011), ('CTO', 0.09942722), ('ATO', 0.17222317), ('LEV', 0.26402318), ('NOA', 0.27461228), ('ROA', 0.19832052), ('RNA', 0.13965054), ('OP', 0.22714302), ('NI', 0.27947113), ('INV', 0.18638451), ('BETA_d', 0.16975372), ('R36_13', 0.24466468), ('D2A', 0.2239196), ('FC2Y', 0.13137339), ('SGA2S', 0.1073176), ('OA', 0.2783058), ('AC', 0.19657153), ('HIGH52', 0.24013104), ('R60_13', 0.1767633), ('DPI2A', 0.2838932)], 0.21599354)\n",
      "epoch 1\n"
     ]
    },
    {
     "data": {
      "application/vnd.jupyter.widget-view+json": {
       "model_id": "cf35ebc9f9314f898ef17b5fe909803b",
       "version_major": 2,
       "version_minor": 0
      },
      "text/plain": [
       "  0%|          | 0/367 [00:00<?, ?it/s]"
      ]
     },
     "metadata": {},
     "output_type": "display_data"
    },
    {
     "name": "stdout",
     "output_type": "stream",
     "text": [
      "epoch 1, avg ar model loss -36.23366928100586\n",
      "epoch 1 took 0.3697120785713196 minutes\n"
     ]
    },
    {
     "data": {
      "application/vnd.jupyter.widget-view+json": {
       "model_id": "79de4aa312054b00906fd347bbb523f3",
       "version_major": 2,
       "version_minor": 0
      },
      "text/plain": [
       "  0%|          | 0/63 [00:00<?, ?it/s]"
      ]
     },
     "metadata": {},
     "output_type": "display_data"
    },
    {
     "name": "stdout",
     "output_type": "stream",
     "text": [
      "eval oos ([('ME', 0.10741254), ('R2_1', 0.19416022), ('D2P', 0.19485828), ('SPREAD', 0.11652908), ('RVAR', 0.044253748), ('VAR', 0.043132506), ('IdioVol', 0.19060159), ('TURN', 0.19302197), ('SUV', 0.19490144), ('R12_7', 0.11306017), ('CF2P', 0.17708443), ('E2P', 0.18520401), ('R12_2', 0.121402696), ('S2P', 0.104469754), ('B2M', 0.17786595), ('CF2B', 0.17511426), ('AT', 0.06297482), ('A2ME', 0.04211257), ('Q', 0.056355372), ('PROF', 0.19137691), ('PM', 0.14481908), ('PCM', 0.18086514), ('BETA_m', 0.20550638), ('C2A', 0.18491846), ('OL', 0.1163838), ('ROE', 0.14792573), ('CTO', 0.054102775), ('ATO', 0.17626187), ('LEV', 0.18590216), ('NOA', 0.12510173), ('ROA', 0.16906747), ('RNA', 0.17188676), ('OP', 0.16068271), ('NI', 0.20516452), ('INV', 0.18337838), ('BETA_d', 0.19263597), ('R36_13', 0.17168492), ('D2A', 0.17257555), ('FC2Y', 0.17139326), ('SGA2S', 0.14227973), ('OA', 0.18179628), ('AC', 0.18597603), ('HIGH52', 0.16941018), ('R60_13', 0.16042897), ('DPI2A', 0.26913363)], 0.16179673)\n"
     ]
    },
    {
     "data": {
      "application/vnd.jupyter.widget-view+json": {
       "model_id": "66ade49467ba4be2a5772f312b363aee",
       "version_major": 2,
       "version_minor": 0
      },
      "text/plain": [
       "  0%|          | 0/76 [00:00<?, ?it/s]"
      ]
     },
     "metadata": {},
     "output_type": "display_data"
    },
    {
     "name": "stdout",
     "output_type": "stream",
     "text": [
      "test oos ([('ME', 0.104206555), ('R2_1', 0.19336377), ('D2P', 0.18546677), ('SPREAD', 0.10324635), ('RVAR', 0.054992724), ('VAR', 0.059175752), ('IdioVol', 0.1956378), ('TURN', 0.19499373), ('SUV', 0.19917053), ('R12_7', 0.11592357), ('CF2P', 0.17724836), ('E2P', 0.18446352), ('R12_2', 0.12113495), ('S2P', 0.12488252), ('B2M', 0.17772405), ('CF2B', 0.18064584), ('AT', 0.06572987), ('A2ME', 0.07315312), ('Q', 0.06584543), ('PROF', 0.18527864), ('PM', 0.15647207), ('PCM', 0.17510417), ('BETA_m', 0.23022293), ('C2A', 0.19211268), ('OL', 0.11644807), ('ROE', 0.14816043), ('CTO', 0.057026554), ('ATO', 0.17405552), ('LEV', 0.19341041), ('NOA', 0.13242854), ('ROA', 0.16718541), ('RNA', 0.1689702), ('OP', 0.16290233), ('NI', 0.1995297), ('INV', 0.18808943), ('BETA_d', 0.1953812), ('R36_13', 0.16664392), ('D2A', 0.1782079), ('FC2Y', 0.1772658), ('SGA2S', 0.14652221), ('OA', 0.18116643), ('AC', 0.18829061), ('HIGH52', 0.16618758), ('R60_13', 0.16308728), ('DPI2A', 0.27331728)], 0.1641529)\n",
      "epoch 2\n"
     ]
    },
    {
     "data": {
      "application/vnd.jupyter.widget-view+json": {
       "model_id": "a04ca11276a2425b802378e172849ac9",
       "version_major": 2,
       "version_minor": 0
      },
      "text/plain": [
       "  0%|          | 0/367 [00:00<?, ?it/s]"
      ]
     },
     "metadata": {},
     "output_type": "display_data"
    },
    {
     "name": "stdout",
     "output_type": "stream",
     "text": [
      "epoch 2, avg ar model loss -61.048866271972656\n",
      "epoch 2 took 0.3710253636042277 minutes\n"
     ]
    },
    {
     "data": {
      "application/vnd.jupyter.widget-view+json": {
       "model_id": "fda1b652cbf5404e880e2c06d44017a0",
       "version_major": 2,
       "version_minor": 0
      },
      "text/plain": [
       "  0%|          | 0/63 [00:00<?, ?it/s]"
      ]
     },
     "metadata": {},
     "output_type": "display_data"
    },
    {
     "name": "stdout",
     "output_type": "stream",
     "text": [
      "eval oos ([('ME', 0.1160122), ('R2_1', 0.176297), ('D2P', 0.19363472), ('SPREAD', 0.19830336), ('RVAR', 0.041485813), ('VAR', 0.043994714), ('IdioVol', 0.16629958), ('TURN', 0.21027343), ('SUV', 0.2062132), ('R12_7', 0.17185187), ('CF2P', 0.15259847), ('E2P', 0.1503608), ('R12_2', 0.16423342), ('S2P', 0.06860489), ('B2M', 0.19173981), ('CF2B', 0.19303799), ('AT', 0.06832329), ('A2ME', 0.04821993), ('Q', 0.11112205), ('PROF', 0.21365695), ('PM', 0.1463921), ('PCM', 0.19098815), ('BETA_m', 0.19552675), ('C2A', 0.1650898), ('OL', 0.12230198), ('ROE', 0.13472807), ('CTO', 0.06207148), ('ATO', 0.20520806), ('LEV', 0.2036188), ('NOA', 0.1476719), ('ROA', 0.16553847), ('RNA', 0.16145407), ('OP', 0.1786825), ('NI', 0.20481661), ('INV', 0.20166111), ('BETA_d', 0.20620005), ('R36_13', 0.18754673), ('D2A', 0.18843172), ('FC2Y', 0.18300548), ('SGA2S', 0.1698175), ('OA', 0.18099557), ('AC', 0.17952232), ('HIGH52', 0.19511156), ('R60_13', 0.16019708), ('DPI2A', 0.19952166)], 0.1675535)\n"
     ]
    },
    {
     "data": {
      "application/vnd.jupyter.widget-view+json": {
       "model_id": "22420bbba1754598995168374981801d",
       "version_major": 2,
       "version_minor": 0
      },
      "text/plain": [
       "  0%|          | 0/76 [00:00<?, ?it/s]"
      ]
     },
     "metadata": {},
     "output_type": "display_data"
    },
    {
     "name": "stdout",
     "output_type": "stream",
     "text": [
      "test oos ([('ME', 0.11421501), ('R2_1', 0.1780236), ('D2P', 0.18368852), ('SPREAD', 0.20709813), ('RVAR', 0.04897987), ('VAR', 0.05328819), ('IdioVol', 0.17435396), ('TURN', 0.21154724), ('SUV', 0.21135233), ('R12_7', 0.17135474), ('CF2P', 0.16590971), ('E2P', 0.15047115), ('R12_2', 0.16147575), ('S2P', 0.07714967), ('B2M', 0.19429271), ('CF2B', 0.19554722), ('AT', 0.071340516), ('A2ME', 0.07589357), ('Q', 0.11366249), ('PROF', 0.20700666), ('PM', 0.15428446), ('PCM', 0.1840623), ('BETA_m', 0.18125112), ('C2A', 0.15836076), ('OL', 0.1221919), ('ROE', 0.12788023), ('CTO', 0.0609608), ('ATO', 0.19996355), ('LEV', 0.21079655), ('NOA', 0.15153426), ('ROA', 0.1685353), ('RNA', 0.15993331), ('OP', 0.18266313), ('NI', 0.19861813), ('INV', 0.2001739), ('BETA_d', 0.20602554), ('R36_13', 0.18740107), ('D2A', 0.18973504), ('FC2Y', 0.18587019), ('SGA2S', 0.17051172), ('OA', 0.18542957), ('AC', 0.17952399), ('HIGH52', 0.18397963), ('R60_13', 0.16008836), ('DPI2A', 0.19711225)], 0.16783509)\n",
      "epoch 3\n"
     ]
    },
    {
     "data": {
      "application/vnd.jupyter.widget-view+json": {
       "model_id": "d4461cccbaef4b4a92e2cfca1b205abc",
       "version_major": 2,
       "version_minor": 0
      },
      "text/plain": [
       "  0%|          | 0/367 [00:00<?, ?it/s]"
      ]
     },
     "metadata": {},
     "output_type": "display_data"
    },
    {
     "name": "stdout",
     "output_type": "stream",
     "text": [
      "epoch 3, avg ar model loss -69.39411926269531\n",
      "epoch 3 took 0.37095653216044105 minutes\n"
     ]
    },
    {
     "data": {
      "application/vnd.jupyter.widget-view+json": {
       "model_id": "4a0b18e2dbae43b9af8fd26a34f928ec",
       "version_major": 2,
       "version_minor": 0
      },
      "text/plain": [
       "  0%|          | 0/63 [00:00<?, ?it/s]"
      ]
     },
     "metadata": {},
     "output_type": "display_data"
    },
    {
     "ename": "KeyboardInterrupt",
     "evalue": "",
     "output_type": "error",
     "traceback": [
      "\u001b[0;31m---------------------------------------------------------------------------\u001b[0m",
      "\u001b[0;31mKeyboardInterrupt\u001b[0m                         Traceback (most recent call last)",
      "\u001b[0;32m/tmp/ipykernel_2373/1393451326.py\u001b[0m in \u001b[0;36m<module>\u001b[0;34m\u001b[0m\n\u001b[1;32m     69\u001b[0m \u001b[0;34m\u001b[0m\u001b[0m\n\u001b[1;32m     70\u001b[0m \u001b[0;31m#         print(\"train is\", eval_fn.eval_model_is(chars, exp_batch_size, None, ar_model, train_data_loader))\u001b[0m\u001b[0;34m\u001b[0m\u001b[0;34m\u001b[0m\u001b[0;34m\u001b[0m\u001b[0m\n\u001b[0;32m---> 71\u001b[0;31m         \u001b[0mprint\u001b[0m\u001b[0;34m(\u001b[0m\u001b[0;34m\"eval oos\"\u001b[0m\u001b[0;34m,\u001b[0m \u001b[0meval_fn\u001b[0m\u001b[0;34m.\u001b[0m\u001b[0meval_model_oos\u001b[0m\u001b[0;34m(\u001b[0m\u001b[0mchars\u001b[0m\u001b[0;34m,\u001b[0m \u001b[0mexp_batch_size\u001b[0m\u001b[0;34m,\u001b[0m \u001b[0;32mNone\u001b[0m\u001b[0;34m,\u001b[0m \u001b[0mar_model\u001b[0m\u001b[0;34m,\u001b[0m \u001b[0meval_data_loader\u001b[0m\u001b[0;34m)\u001b[0m\u001b[0;34m)\u001b[0m\u001b[0;34m\u001b[0m\u001b[0;34m\u001b[0m\u001b[0m\n\u001b[0m\u001b[1;32m     72\u001b[0m         \u001b[0mprint\u001b[0m\u001b[0;34m(\u001b[0m\u001b[0;34m\"test oos\"\u001b[0m\u001b[0;34m,\u001b[0m \u001b[0meval_fn\u001b[0m\u001b[0;34m.\u001b[0m\u001b[0meval_model_oos\u001b[0m\u001b[0;34m(\u001b[0m\u001b[0mchars\u001b[0m\u001b[0;34m,\u001b[0m \u001b[0mexp_batch_size\u001b[0m\u001b[0;34m,\u001b[0m \u001b[0;32mNone\u001b[0m\u001b[0;34m,\u001b[0m \u001b[0mar_model\u001b[0m\u001b[0;34m,\u001b[0m \u001b[0mtest_data_loader\u001b[0m\u001b[0;34m)\u001b[0m\u001b[0;34m)\u001b[0m\u001b[0;34m\u001b[0m\u001b[0;34m\u001b[0m\u001b[0m\n",
      "\u001b[0;32m~/CS 236 Project/Code/eval_fn.py\u001b[0m in \u001b[0;36meval_model_oos\u001b[0;34m(chars, expected_batch_size, model, ar_model, data_loader)\u001b[0m\n\u001b[1;32m    269\u001b[0m                     \u001b[0mC_test_reshape\u001b[0m \u001b[0;34m=\u001b[0m \u001b[0mC_test\u001b[0m\u001b[0;34m.\u001b[0m\u001b[0mreshape\u001b[0m\u001b[0;34m(\u001b[0m\u001b[0mbatch_size\u001b[0m \u001b[0;34m*\u001b[0m \u001b[0mbatch_length\u001b[0m\u001b[0;34m,\u001b[0m \u001b[0;36m45\u001b[0m\u001b[0;34m)\u001b[0m\u001b[0;34m\u001b[0m\u001b[0;34m\u001b[0m\u001b[0m\n\u001b[1;32m    270\u001b[0m \u001b[0;34m\u001b[0m\u001b[0m\n\u001b[0;32m--> 271\u001b[0;31m                 \u001b[0mpred\u001b[0m \u001b[0;34m=\u001b[0m \u001b[0mar_model\u001b[0m\u001b[0;34m.\u001b[0m\u001b[0mimpute\u001b[0m\u001b[0;34m(\u001b[0m\u001b[0mmodel_input\u001b[0m\u001b[0;34m)\u001b[0m\u001b[0;34m\u001b[0m\u001b[0;34m\u001b[0m\u001b[0m\n\u001b[0m\u001b[1;32m    272\u001b[0m                 \u001b[0mpreds\u001b[0m\u001b[0;34m.\u001b[0m\u001b[0mappend\u001b[0m\u001b[0;34m(\u001b[0m\u001b[0mpred\u001b[0m\u001b[0;34m.\u001b[0m\u001b[0mdetach\u001b[0m\u001b[0;34m(\u001b[0m\u001b[0;34m)\u001b[0m\u001b[0;34m.\u001b[0m\u001b[0mcpu\u001b[0m\u001b[0;34m(\u001b[0m\u001b[0;34m)\u001b[0m\u001b[0;34m.\u001b[0m\u001b[0mnumpy\u001b[0m\u001b[0;34m(\u001b[0m\u001b[0;34m)\u001b[0m\u001b[0;34m)\u001b[0m\u001b[0;34m\u001b[0m\u001b[0;34m\u001b[0m\u001b[0m\n\u001b[1;32m    273\u001b[0m                 \u001b[0mgts\u001b[0m\u001b[0;34m.\u001b[0m\u001b[0mappend\u001b[0m\u001b[0;34m(\u001b[0m\u001b[0mC_test_reshape\u001b[0m\u001b[0;34m.\u001b[0m\u001b[0mdetach\u001b[0m\u001b[0;34m(\u001b[0m\u001b[0;34m)\u001b[0m\u001b[0;34m.\u001b[0m\u001b[0mcpu\u001b[0m\u001b[0;34m(\u001b[0m\u001b[0;34m)\u001b[0m\u001b[0;34m.\u001b[0m\u001b[0mnumpy\u001b[0m\u001b[0;34m(\u001b[0m\u001b[0;34m)\u001b[0m\u001b[0;34m)\u001b[0m\u001b[0;34m\u001b[0m\u001b[0;34m\u001b[0m\u001b[0m\n",
      "\u001b[0;32m~/CS 236 Project/Code/models.py\u001b[0m in \u001b[0;36mimpute\u001b[0;34m(self, x)\u001b[0m\n\u001b[1;32m    216\u001b[0m                 \u001b[0malphas\u001b[0m\u001b[0;34m,\u001b[0m \u001b[0mbetas\u001b[0m\u001b[0;34m,\u001b[0m \u001b[0mret_mean\u001b[0m\u001b[0;34m,\u001b[0m \u001b[0mret_sigma\u001b[0m \u001b[0;34m=\u001b[0m \u001b[0mself\u001b[0m\u001b[0;34m.\u001b[0m\u001b[0mshape_vectors\u001b[0m\u001b[0;34m(\u001b[0m\u001b[0mx_copy\u001b[0m\u001b[0;34m)\u001b[0m\u001b[0;34m\u001b[0m\u001b[0;34m\u001b[0m\u001b[0m\n\u001b[1;32m    217\u001b[0m             \u001b[0;32melse\u001b[0m\u001b[0;34m:\u001b[0m\u001b[0;34m\u001b[0m\u001b[0;34m\u001b[0m\u001b[0m\n\u001b[0;32m--> 218\u001b[0;31m                 \u001b[0malphas\u001b[0m\u001b[0;34m,\u001b[0m \u001b[0mbetas\u001b[0m \u001b[0;34m=\u001b[0m \u001b[0mself\u001b[0m\u001b[0;34m.\u001b[0m\u001b[0mshape_vectors\u001b[0m\u001b[0;34m(\u001b[0m\u001b[0mx_copy\u001b[0m\u001b[0;34m)\u001b[0m\u001b[0;34m\u001b[0m\u001b[0;34m\u001b[0m\u001b[0m\n\u001b[0m\u001b[1;32m    219\u001b[0m             \u001b[0mpred\u001b[0m \u001b[0;34m=\u001b[0m \u001b[0malphas\u001b[0m \u001b[0;34m/\u001b[0m \u001b[0;34m(\u001b[0m\u001b[0malphas\u001b[0m \u001b[0;34m+\u001b[0m \u001b[0mbetas\u001b[0m\u001b[0;34m)\u001b[0m\u001b[0;34m\u001b[0m\u001b[0;34m\u001b[0m\u001b[0m\n\u001b[1;32m    220\u001b[0m \u001b[0;31m#             print(x_copy)\u001b[0m\u001b[0;34m\u001b[0m\u001b[0;34m\u001b[0m\u001b[0;34m\u001b[0m\u001b[0m\n",
      "\u001b[0;32m~/CS 236 Project/Code/models.py\u001b[0m in \u001b[0;36mshape_vectors\u001b[0;34m(self, x, get_hidden_state)\u001b[0m\n\u001b[1;32m    174\u001b[0m     \u001b[0;32mdef\u001b[0m \u001b[0mshape_vectors\u001b[0m\u001b[0;34m(\u001b[0m\u001b[0mself\u001b[0m\u001b[0;34m,\u001b[0m \u001b[0mx\u001b[0m\u001b[0;34m,\u001b[0m \u001b[0mget_hidden_state\u001b[0m\u001b[0;34m=\u001b[0m\u001b[0;32mFalse\u001b[0m\u001b[0;34m)\u001b[0m\u001b[0;34m:\u001b[0m\u001b[0;34m\u001b[0m\u001b[0;34m\u001b[0m\u001b[0m\n\u001b[1;32m    175\u001b[0m         \u001b[0;31m# Expand each sample as a diagonal matrix.\u001b[0m\u001b[0;34m\u001b[0m\u001b[0;34m\u001b[0m\u001b[0;34m\u001b[0m\u001b[0m\n\u001b[0;32m--> 176\u001b[0;31m         \u001b[0mx_diag\u001b[0m \u001b[0;34m=\u001b[0m \u001b[0mtorch\u001b[0m\u001b[0;34m.\u001b[0m\u001b[0mstack\u001b[0m\u001b[0;34m(\u001b[0m\u001b[0;34m[\u001b[0m\u001b[0mtorch\u001b[0m\u001b[0;34m.\u001b[0m\u001b[0mdiag\u001b[0m\u001b[0;34m(\u001b[0m\u001b[0mx_j\u001b[0m\u001b[0;34m)\u001b[0m \u001b[0;32mfor\u001b[0m \u001b[0mx_j\u001b[0m \u001b[0;32min\u001b[0m \u001b[0mx\u001b[0m\u001b[0;34m]\u001b[0m\u001b[0;34m)\u001b[0m\u001b[0;34m\u001b[0m\u001b[0;34m\u001b[0m\u001b[0m\n\u001b[0m\u001b[1;32m    177\u001b[0m \u001b[0;34m\u001b[0m\u001b[0m\n\u001b[1;32m    178\u001b[0m         \u001b[0;31m# Compute xi*Wi + bi for each dimension in each sample.\u001b[0m\u001b[0;34m\u001b[0m\u001b[0;34m\u001b[0m\u001b[0;34m\u001b[0m\u001b[0m\n",
      "\u001b[0;32m~/CS 236 Project/Code/models.py\u001b[0m in \u001b[0;36m<listcomp>\u001b[0;34m(.0)\u001b[0m\n\u001b[1;32m    174\u001b[0m     \u001b[0;32mdef\u001b[0m \u001b[0mshape_vectors\u001b[0m\u001b[0;34m(\u001b[0m\u001b[0mself\u001b[0m\u001b[0;34m,\u001b[0m \u001b[0mx\u001b[0m\u001b[0;34m,\u001b[0m \u001b[0mget_hidden_state\u001b[0m\u001b[0;34m=\u001b[0m\u001b[0;32mFalse\u001b[0m\u001b[0;34m)\u001b[0m\u001b[0;34m:\u001b[0m\u001b[0;34m\u001b[0m\u001b[0;34m\u001b[0m\u001b[0m\n\u001b[1;32m    175\u001b[0m         \u001b[0;31m# Expand each sample as a diagonal matrix.\u001b[0m\u001b[0;34m\u001b[0m\u001b[0;34m\u001b[0m\u001b[0;34m\u001b[0m\u001b[0m\n\u001b[0;32m--> 176\u001b[0;31m         \u001b[0mx_diag\u001b[0m \u001b[0;34m=\u001b[0m \u001b[0mtorch\u001b[0m\u001b[0;34m.\u001b[0m\u001b[0mstack\u001b[0m\u001b[0;34m(\u001b[0m\u001b[0;34m[\u001b[0m\u001b[0mtorch\u001b[0m\u001b[0;34m.\u001b[0m\u001b[0mdiag\u001b[0m\u001b[0;34m(\u001b[0m\u001b[0mx_j\u001b[0m\u001b[0;34m)\u001b[0m \u001b[0;32mfor\u001b[0m \u001b[0mx_j\u001b[0m \u001b[0;32min\u001b[0m \u001b[0mx\u001b[0m\u001b[0;34m]\u001b[0m\u001b[0;34m)\u001b[0m\u001b[0;34m\u001b[0m\u001b[0;34m\u001b[0m\u001b[0m\n\u001b[0m\u001b[1;32m    177\u001b[0m \u001b[0;34m\u001b[0m\u001b[0m\n\u001b[1;32m    178\u001b[0m         \u001b[0;31m# Compute xi*Wi + bi for each dimension in each sample.\u001b[0m\u001b[0;34m\u001b[0m\u001b[0;34m\u001b[0m\u001b[0;34m\u001b[0m\u001b[0m\n",
      "\u001b[0;31mKeyboardInterrupt\u001b[0m: "
     ]
    }
   ],
   "source": [
    "exp_batch_size = 100\n",
    "ar_model = models.Beta_NADE(hidden_state_dim=0, latent_dimensions=30)\n",
    "\n",
    "num_epochs = 41\n",
    "eval_freq = 1\n",
    "\n",
    "optimizer = torch.optim.AdamW(ar_model.parameters(), lr=0.01,\n",
    "                             weight_decay=0.01)\n",
    "\n",
    "scheduler = MultiStepLR(optimizer, [20, 35], gamma=0.1, last_epoch=-1)\n",
    "\n",
    "device = torch.device(\"cuda:0\" if torch.cuda.is_available() else \"cpu\")\n",
    "print(f'torch device is {device}')\n",
    "model = model.to(device)\n",
    "ar_model = ar_model.to(device)\n",
    "loss_fn = loss_functions.beta_ll_loss\n",
    "\n",
    "\n",
    "#basic training loop for local development\n",
    "for epoch in range(num_epochs):\n",
    "    epoch_start = time.time()\n",
    "    losses = []\n",
    "    ar_losses = []\n",
    "    # Forward pass\n",
    "    print(f'epoch {epoch}')\n",
    "    for i, data in enumerate(tqdm(train_data_loader)):\n",
    "        ts_idxs, stock_idxs, data, mask, ordered_mask, factors, return_sample = data\n",
    "        assert not torch.isnan(data).any()\n",
    "#         print(data, mask)\n",
    "        assert not torch.logical_and(data <= 0, ~mask).any(), torch.min(data * mask)\n",
    "        \n",
    "        C_train = data.transpose_(0, 1).float().to(device)[:-1]\n",
    "        \n",
    "        C_mask = mask.float().to(device).transpose_(0, 1)[:-1]\n",
    "        C_ordered_mask = ordered_mask.float().to(device).transpose_(0, 1)[:-1]\n",
    "        \n",
    "        factors = factors.transpose_(0, 1).float().to(device)[1:]\n",
    "        \n",
    "        train_input = torch.cat([C_train, C_mask, factors], axis=2)\n",
    "        \n",
    "      \n",
    "        if train_input.shape[1] > 0:\n",
    "            \n",
    "            batch_size, batch_length, dim = C_train.shape\n",
    "            model_input = C_train.reshape(batch_size * batch_length, dim)\n",
    "            \n",
    "            C_ordered_mask_reshape = C_ordered_mask.reshape(batch_size * batch_length, 45)\n",
    "            C_train_reshape = C_train.reshape(batch_size * batch_length, 45)\n",
    "\n",
    "            alphas_pred, betas_pred = ar_model(model_input)\n",
    "            \n",
    "            ar_loss = loss_fn(C_train_reshape,\n",
    "                              alphas_pred, betas_pred, mask=C_ordered_mask_reshape,\n",
    "                             reduce_axis=1).mean()\n",
    "            \n",
    "            net_loss = ar_loss\n",
    "            net_loss.backward()\n",
    "            ar_losses.append(ar_loss.data.detach().cpu().numpy())\n",
    "            \n",
    "\n",
    "            optimizer.step()\n",
    "            model.zero_grad()\n",
    "            optimizer.zero_grad()       \n",
    "\n",
    "    print(f'epoch {epoch}, avg ar model loss {np.mean(ar_losses)}')\n",
    "    print(f'epoch {epoch} took {(time.time() - epoch_start)/60.0} minutes')\n",
    "    scheduler.step()\n",
    "    if (epoch + 1) % eval_freq == 0:\n",
    "\n",
    "#         print(\"train is\", eval_fn.eval_model_is(chars, exp_batch_size, None, ar_model, train_data_loader))\n",
    "        print(\"eval oos\", eval_fn.eval_model_oos(chars, exp_batch_size, None, ar_model, eval_data_loader))\n",
    "        print(\"test oos\", eval_fn.eval_model_oos(chars, exp_batch_size, None, ar_model, test_data_loader))"
   ]
  },
  {
   "cell_type": "code",
   "execution_count": 256,
   "id": "f318ee52",
   "metadata": {},
   "outputs": [
    {
     "data": {
      "application/vnd.jupyter.widget-view+json": {
       "model_id": "2e7551fc81bf44cc80dde2b6dd37efa6",
       "version_major": 2,
       "version_minor": 0
      },
      "text/plain": [
       "  0%|          | 0/366 [00:00<?, ?it/s]"
      ]
     },
     "metadata": {},
     "output_type": "display_data"
    },
    {
     "name": "stdout",
     "output_type": "stream",
     "text": [
      "train is ([('A2ME', 0.013976982), ('AC', 0.005806589), ('AT', 0.010489577), ('ATO', 0.0053844713), ('B2M', 0.0056127436), ('BETA_d', 0.0053472123), ('BETA_m', 0.011935077), ('C2A', 0.010163785), ('CF2B', 0.015316576), ('CF2P', 0.0068335677), ('CTO', 0.014923305), ('D2A', 0.011769143), ('D2P', 0.0058370223), ('DPI2A', 0.0050148973), ('E2P', 0.01504475), ('FC2Y', 0.01381663), ('HIGH52', 0.013624067), ('INV', 0.020456163), ('IdioVol', 0.0084419735), ('LEV', 0.007519309), ('ME', 0.00839054), ('NI', 0.009119356), ('NOA', 0.22738501), ('OA', 0.013912534), ('OL', 0.012288307), ('OP', 0.015225656), ('PCM', 0.012945927), ('PM', 0.014856877), ('PROF', 0.009664656), ('Q', 0.005674054), ('R12_2', 0.012534675), ('R12_7', 0.009883886), ('R2_1', 0.011054655), ('R36_13', 0.25573757), ('R60_13', 0.021404624), ('RNA', 0.013092114), ('ROA', 0.23576026), ('ROE', 0.006940409), ('RVAR', 0.012545756), ('S2P', 0.014058761), ('SGA2S', 0.009228436), ('SPREAD', 0.008892003), ('SUV', 0.0062662964), ('TURN', 0.009971801), ('VAR', 0.24968235)], 0.073107414)\n"
     ]
    }
   ],
   "source": [
    "print(\"train is\", eval_fn.eval_model_is(chars, exp_batch_size, None, ar_model, train_data_loader))"
   ]
  },
  {
   "cell_type": "code",
   "execution_count": 253,
   "id": "4688f60a",
   "metadata": {},
   "outputs": [
    {
     "data": {
      "text/plain": [
       "<module 'eval_fn' from '/home/selwin_p_george/CS 236 Project/Code/eval_fn.py'>"
      ]
     },
     "execution_count": 253,
     "metadata": {},
     "output_type": "execute_result"
    }
   ],
   "source": [
    "importlib.reload(eval_fn)"
   ]
  },
  {
   "cell_type": "code",
   "execution_count": 35,
   "id": "4458dece",
   "metadata": {
    "scrolled": true
   },
   "outputs": [
    {
     "name": "stdout",
     "output_type": "stream",
     "text": [
      "Parameter containing:\n",
      "tensor([[1., 1., 1.,  ..., 0., 0., 0.],\n",
      "        [1., 1., 1.,  ..., 0., 0., 0.],\n",
      "        [1., 1., 1.,  ..., 0., 0., 0.],\n",
      "        ...,\n",
      "        [1., 1., 1.,  ..., 0., 0., 0.],\n",
      "        [1., 1., 1.,  ..., 1., 0., 0.],\n",
      "        [1., 1., 1.,  ..., 1., 1., 0.]], requires_grad=True) torch.Size([45, 75])\n",
      "torch device is cuda:0\n",
      "epoch 0\n"
     ]
    },
    {
     "data": {
      "application/vnd.jupyter.widget-view+json": {
       "model_id": "6a10e321748c448b99cd3b470ea53722",
       "version_major": 2,
       "version_minor": 0
      },
      "text/plain": [
       "  0%|          | 0/367 [00:00<?, ?it/s]"
      ]
     },
     "metadata": {},
     "output_type": "display_data"
    },
    {
     "name": "stdout",
     "output_type": "stream",
     "text": [
      "epoch 0 avg lstm loss -25.458040237426758, avg ar model loss 20.773578643798828\n",
      "epoch 0 took 0.3939926862716675 minutes\n"
     ]
    },
    {
     "data": {
      "application/vnd.jupyter.widget-view+json": {
       "model_id": "a33491fa3e694bd8b8c0b944708edf77",
       "version_major": 2,
       "version_minor": 0
      },
      "text/plain": [
       "  0%|          | 0/63 [00:00<?, ?it/s]"
      ]
     },
     "metadata": {},
     "output_type": "display_data"
    },
    {
     "name": "stdout",
     "output_type": "stream",
     "text": [
      "eval oos ([('ME', 0.11557899), ('R2_1', 0.2828822), ('D2P', 0.25621563), ('SPREAD', 0.20610106), ('RVAR', 0.083032496), ('VAR', 0.07997706), ('IdioVol', 0.09153421), ('TURN', 0.23710197), ('SUV', 0.2818259), ('R12_7', 0.1840996), ('CF2P', 0.15172286), ('E2P', 0.11375432), ('R12_2', 0.12520052), ('S2P', 0.12048655), ('B2M', 0.18432994), ('CF2B', 0.25605598), ('AT', 0.10248418), ('A2ME', 0.113484204), ('Q', 0.101084754), ('PROF', 0.12630165), ('PM', 0.1287645), ('PCM', 0.14800009), ('BETA_m', 0.2319436), ('C2A', 0.12984702), ('OL', 0.12908821), ('ROE', 0.1724781), ('CTO', 0.1024023), ('ATO', 0.13093932), ('LEV', 0.15297104), ('NOA', 0.11328644), ('ROA', 0.15200529), ('RNA', 0.11486773), ('OP', 0.16860591), ('NI', 0.24893853), ('INV', 0.19132118), ('BETA_d', 0.15222718), ('R36_13', 0.1786704), ('D2A', 0.20277497), ('FC2Y', 0.11724991), ('SGA2S', 0.0867942), ('OA', 0.19587594), ('AC', 0.2904638), ('HIGH52', 0.1462593), ('R60_13', 0.18672259), ('DPI2A', 0.1977596)], 0.17167643)\n"
     ]
    },
    {
     "data": {
      "application/vnd.jupyter.widget-view+json": {
       "model_id": "2271b2f0822644e6901eda2d5ff5b122",
       "version_major": 2,
       "version_minor": 0
      },
      "text/plain": [
       "  0%|          | 0/76 [00:00<?, ?it/s]"
      ]
     },
     "metadata": {},
     "output_type": "display_data"
    },
    {
     "name": "stdout",
     "output_type": "stream",
     "text": [
      "test oos ([('ME', 0.113265574), ('R2_1', 0.28793505), ('D2P', 0.2640618), ('SPREAD', 0.2102815), ('RVAR', 0.08821507), ('VAR', 0.08898765), ('IdioVol', 0.096786365), ('TURN', 0.25914782), ('SUV', 0.28312615), ('R12_7', 0.18364374), ('CF2P', 0.16969807), ('E2P', 0.12237281), ('R12_2', 0.13005131), ('S2P', 0.124083295), ('B2M', 0.1730345), ('CF2B', 0.26258254), ('AT', 0.101708055), ('A2ME', 0.111336865), ('Q', 0.12089625), ('PROF', 0.13318361), ('PM', 0.1416414), ('PCM', 0.15096799), ('BETA_m', 0.25564545), ('C2A', 0.13907765), ('OL', 0.13589714), ('ROE', 0.17298132), ('CTO', 0.10885993), ('ATO', 0.13398966), ('LEV', 0.17191343), ('NOA', 0.11801579), ('ROA', 0.15498921), ('RNA', 0.12748694), ('OP', 0.17904963), ('NI', 0.24941841), ('INV', 0.19081756), ('BETA_d', 0.16416545), ('R36_13', 0.18191873), ('D2A', 0.21009846), ('FC2Y', 0.11561568), ('SGA2S', 0.08613825), ('OA', 0.19587064), ('AC', 0.29227397), ('HIGH52', 0.14571413), ('R60_13', 0.18802965), ('DPI2A', 0.1948103)], 0.17697103)\n",
      "epoch 1\n"
     ]
    },
    {
     "data": {
      "application/vnd.jupyter.widget-view+json": {
       "model_id": "4c58bda06393458abc6dbab086fefb4b",
       "version_major": 2,
       "version_minor": 0
      },
      "text/plain": [
       "  0%|          | 0/367 [00:00<?, ?it/s]"
      ]
     },
     "metadata": {},
     "output_type": "display_data"
    },
    {
     "name": "stdout",
     "output_type": "stream",
     "text": [
      "epoch 1 avg lstm loss -25.45865821838379, avg ar model loss -47.970298767089844\n",
      "epoch 1 took 0.39236928621927897 minutes\n"
     ]
    },
    {
     "data": {
      "application/vnd.jupyter.widget-view+json": {
       "model_id": "ba0c6633a5a548bcb3ac0f045e9e5a7f",
       "version_major": 2,
       "version_minor": 0
      },
      "text/plain": [
       "  0%|          | 0/63 [00:00<?, ?it/s]"
      ]
     },
     "metadata": {},
     "output_type": "display_data"
    },
    {
     "name": "stdout",
     "output_type": "stream",
     "text": [
      "eval oos ([('ME', 0.09886422), ('R2_1', 0.1727533), ('D2P', 0.17913634), ('SPREAD', 0.19965786), ('RVAR', 0.053398684), ('VAR', 0.054885566), ('IdioVol', 0.1658226), ('TURN', 0.19435728), ('SUV', 0.19045903), ('R12_7', 0.16690956), ('CF2P', 0.17288676), ('E2P', 0.12095609), ('R12_2', 0.106735125), ('S2P', 0.06692478), ('B2M', 0.19616818), ('CF2B', 0.16819978), ('AT', 0.07957187), ('A2ME', 0.08668227), ('Q', 0.0631961), ('PROF', 0.15981075), ('PM', 0.10170931), ('PCM', 0.16140422), ('BETA_m', 0.18607125), ('C2A', 0.20813772), ('OL', 0.07608006), ('ROE', 0.15772402), ('CTO', 0.07797069), ('ATO', 0.17713848), ('LEV', 0.15191883), ('NOA', 0.118076034), ('ROA', 0.18708484), ('RNA', 0.14670536), ('OP', 0.16600531), ('NI', 0.21501313), ('INV', 0.17603658), ('BETA_d', 0.18258221), ('R36_13', 0.16326523), ('D2A', 0.18296671), ('FC2Y', 0.09849083), ('SGA2S', 0.07537061), ('OA', 0.19739594), ('AC', 0.22895356), ('HIGH52', 0.13793124), ('R60_13', 0.18494444), ('DPI2A', 0.1785101)], 0.15517)\n"
     ]
    },
    {
     "data": {
      "application/vnd.jupyter.widget-view+json": {
       "model_id": "59b186b6e621464a8269bff9216a6a2a",
       "version_major": 2,
       "version_minor": 0
      },
      "text/plain": [
       "  0%|          | 0/76 [00:00<?, ?it/s]"
      ]
     },
     "metadata": {},
     "output_type": "display_data"
    },
    {
     "name": "stdout",
     "output_type": "stream",
     "text": [
      "test oos ([('ME', 0.097472526), ('R2_1', 0.1757041), ('D2P', 0.17254452), ('SPREAD', 0.20674527), ('RVAR', 0.060809746), ('VAR', 0.06284526), ('IdioVol', 0.1712079), ('TURN', 0.19606523), ('SUV', 0.19303833), ('R12_7', 0.16693474), ('CF2P', 0.17471422), ('E2P', 0.12530144), ('R12_2', 0.11109828), ('S2P', 0.07073216), ('B2M', 0.19760796), ('CF2B', 0.17324334), ('AT', 0.08111615), ('A2ME', 0.08934147), ('Q', 0.0780701), ('PROF', 0.16312608), ('PM', 0.10965605), ('PCM', 0.1573737), ('BETA_m', 0.18169728), ('C2A', 0.20417513), ('OL', 0.07954827), ('ROE', 0.15706055), ('CTO', 0.0793698), ('ATO', 0.1713101), ('LEV', 0.15950994), ('NOA', 0.11956725), ('ROA', 0.18831204), ('RNA', 0.14999396), ('OP', 0.1730648), ('NI', 0.20723201), ('INV', 0.17572686), ('BETA_d', 0.18040867), ('R36_13', 0.16498113), ('D2A', 0.18752827), ('FC2Y', 0.10027995), ('SGA2S', 0.07629959), ('OA', 0.19580555), ('AC', 0.23046896), ('HIGH52', 0.14543447), ('R60_13', 0.17828311), ('DPI2A', 0.17673475)], 0.15630233)\n",
      "epoch 2\n"
     ]
    },
    {
     "data": {
      "application/vnd.jupyter.widget-view+json": {
       "model_id": "dda5266f24d347609ee64da81dcda00a",
       "version_major": 2,
       "version_minor": 0
      },
      "text/plain": [
       "  0%|          | 0/367 [00:00<?, ?it/s]"
      ]
     },
     "metadata": {},
     "output_type": "display_data"
    },
    {
     "name": "stdout",
     "output_type": "stream",
     "text": [
      "epoch 2 avg lstm loss -25.464027404785156, avg ar model loss -64.64750671386719\n",
      "epoch 2 took 0.385468320051829 minutes\n"
     ]
    },
    {
     "data": {
      "application/vnd.jupyter.widget-view+json": {
       "model_id": "08ce65ab1a9c4ec690500e81073d0e79",
       "version_major": 2,
       "version_minor": 0
      },
      "text/plain": [
       "  0%|          | 0/63 [00:00<?, ?it/s]"
      ]
     },
     "metadata": {},
     "output_type": "display_data"
    },
    {
     "name": "stdout",
     "output_type": "stream",
     "text": [
      "eval oos ([('ME', 0.09236818), ('R2_1', 0.20117113), ('D2P', 0.20351522), ('SPREAD', 0.18946223), ('RVAR', 0.045304563), ('VAR', 0.045304075), ('IdioVol', 0.17888866), ('TURN', 0.2006099), ('SUV', 0.1952014), ('R12_7', 0.11313843), ('CF2P', 0.1587347), ('E2P', 0.18032622), ('R12_2', 0.10317977), ('S2P', 0.056593336), ('B2M', 0.2109542), ('CF2B', 0.19724204), ('AT', 0.066172265), ('A2ME', 0.07466907), ('Q', 0.05054835), ('PROF', 0.1902591), ('PM', 0.10480217), ('PCM', 0.18462639), ('BETA_m', 0.21282817), ('C2A', 0.2133907), ('OL', 0.070440345), ('ROE', 0.16445959), ('CTO', 0.07277224), ('ATO', 0.18182927), ('LEV', 0.16230763), ('NOA', 0.1257639), ('ROA', 0.17312516), ('RNA', 0.14832012), ('OP', 0.17607222), ('NI', 0.21490331), ('INV', 0.20343553), ('BETA_d', 0.19699988), ('R36_13', 0.18426713), ('D2A', 0.17504363), ('FC2Y', 0.07995747), ('SGA2S', 0.07105912), ('OA', 0.20412399), ('AC', 0.19346479), ('HIGH52', 0.17112294), ('R60_13', 0.13658063), ('DPI2A', 0.20282091)], 0.16050151)\n"
     ]
    },
    {
     "data": {
      "application/vnd.jupyter.widget-view+json": {
       "model_id": "b93050d9dd5c40f9ac89626ea4ef5942",
       "version_major": 2,
       "version_minor": 0
      },
      "text/plain": [
       "  0%|          | 0/76 [00:00<?, ?it/s]"
      ]
     },
     "metadata": {},
     "output_type": "display_data"
    },
    {
     "ename": "KeyboardInterrupt",
     "evalue": "",
     "output_type": "error",
     "traceback": [
      "\u001b[0;31m---------------------------------------------------------------------------\u001b[0m",
      "\u001b[0;31mKeyboardInterrupt\u001b[0m                         Traceback (most recent call last)",
      "\u001b[0;32m/tmp/ipykernel_2373/3744848987.py\u001b[0m in \u001b[0;36m<module>\u001b[0;34m\u001b[0m\n\u001b[1;32m     82\u001b[0m     \u001b[0;32mif\u001b[0m \u001b[0;34m(\u001b[0m\u001b[0mepoch\u001b[0m \u001b[0;34m+\u001b[0m \u001b[0;36m1\u001b[0m\u001b[0;34m)\u001b[0m \u001b[0;34m%\u001b[0m \u001b[0meval_freq\u001b[0m \u001b[0;34m==\u001b[0m \u001b[0;36m0\u001b[0m\u001b[0;34m:\u001b[0m\u001b[0;34m\u001b[0m\u001b[0;34m\u001b[0m\u001b[0m\n\u001b[1;32m     83\u001b[0m         \u001b[0mprint\u001b[0m\u001b[0;34m(\u001b[0m\u001b[0;34m\"eval oos\"\u001b[0m\u001b[0;34m,\u001b[0m \u001b[0meval_fn\u001b[0m\u001b[0;34m.\u001b[0m\u001b[0meval_model_oos\u001b[0m\u001b[0;34m(\u001b[0m\u001b[0mchars\u001b[0m\u001b[0;34m,\u001b[0m \u001b[0mexp_batch_size\u001b[0m\u001b[0;34m,\u001b[0m \u001b[0mmodel\u001b[0m\u001b[0;34m,\u001b[0m \u001b[0mar_model\u001b[0m\u001b[0;34m,\u001b[0m \u001b[0meval_data_loader\u001b[0m\u001b[0;34m)\u001b[0m\u001b[0;34m)\u001b[0m\u001b[0;34m\u001b[0m\u001b[0;34m\u001b[0m\u001b[0m\n\u001b[0;32m---> 84\u001b[0;31m         \u001b[0mprint\u001b[0m\u001b[0;34m(\u001b[0m\u001b[0;34m\"test oos\"\u001b[0m\u001b[0;34m,\u001b[0m \u001b[0meval_fn\u001b[0m\u001b[0;34m.\u001b[0m\u001b[0meval_model_oos\u001b[0m\u001b[0;34m(\u001b[0m\u001b[0mchars\u001b[0m\u001b[0;34m,\u001b[0m \u001b[0mexp_batch_size\u001b[0m\u001b[0;34m,\u001b[0m \u001b[0mmodel\u001b[0m\u001b[0;34m,\u001b[0m \u001b[0mar_model\u001b[0m\u001b[0;34m,\u001b[0m \u001b[0mtest_data_loader\u001b[0m\u001b[0;34m)\u001b[0m\u001b[0;34m)\u001b[0m\u001b[0;34m\u001b[0m\u001b[0;34m\u001b[0m\u001b[0m\n\u001b[0m",
      "\u001b[0;32m~/CS 236 Project/Code/eval_fn.py\u001b[0m in \u001b[0;36meval_model_oos\u001b[0;34m(chars, expected_batch_size, model, ar_model, data_loader)\u001b[0m\n\u001b[1;32m    269\u001b[0m                     \u001b[0mC_test_reshape\u001b[0m \u001b[0;34m=\u001b[0m \u001b[0mC_test\u001b[0m\u001b[0;34m.\u001b[0m\u001b[0mreshape\u001b[0m\u001b[0;34m(\u001b[0m\u001b[0mbatch_size\u001b[0m \u001b[0;34m*\u001b[0m \u001b[0mbatch_length\u001b[0m\u001b[0;34m,\u001b[0m \u001b[0;36m45\u001b[0m\u001b[0;34m)\u001b[0m\u001b[0;34m\u001b[0m\u001b[0;34m\u001b[0m\u001b[0m\n\u001b[1;32m    270\u001b[0m \u001b[0;34m\u001b[0m\u001b[0m\n\u001b[0;32m--> 271\u001b[0;31m                 \u001b[0mpred\u001b[0m \u001b[0;34m=\u001b[0m \u001b[0mar_model\u001b[0m\u001b[0;34m.\u001b[0m\u001b[0mimpute\u001b[0m\u001b[0;34m(\u001b[0m\u001b[0mmodel_input\u001b[0m\u001b[0;34m)\u001b[0m\u001b[0;34m\u001b[0m\u001b[0;34m\u001b[0m\u001b[0m\n\u001b[0m\u001b[1;32m    272\u001b[0m                 \u001b[0mpreds\u001b[0m\u001b[0;34m.\u001b[0m\u001b[0mappend\u001b[0m\u001b[0;34m(\u001b[0m\u001b[0mpred\u001b[0m\u001b[0;34m.\u001b[0m\u001b[0mdetach\u001b[0m\u001b[0;34m(\u001b[0m\u001b[0;34m)\u001b[0m\u001b[0;34m.\u001b[0m\u001b[0mcpu\u001b[0m\u001b[0;34m(\u001b[0m\u001b[0;34m)\u001b[0m\u001b[0;34m.\u001b[0m\u001b[0mnumpy\u001b[0m\u001b[0;34m(\u001b[0m\u001b[0;34m)\u001b[0m\u001b[0;34m)\u001b[0m\u001b[0;34m\u001b[0m\u001b[0;34m\u001b[0m\u001b[0m\n\u001b[1;32m    273\u001b[0m                 \u001b[0mgts\u001b[0m\u001b[0;34m.\u001b[0m\u001b[0mappend\u001b[0m\u001b[0;34m(\u001b[0m\u001b[0mC_test_reshape\u001b[0m\u001b[0;34m.\u001b[0m\u001b[0mdetach\u001b[0m\u001b[0;34m(\u001b[0m\u001b[0;34m)\u001b[0m\u001b[0;34m.\u001b[0m\u001b[0mcpu\u001b[0m\u001b[0;34m(\u001b[0m\u001b[0;34m)\u001b[0m\u001b[0;34m.\u001b[0m\u001b[0mnumpy\u001b[0m\u001b[0;34m(\u001b[0m\u001b[0;34m)\u001b[0m\u001b[0;34m)\u001b[0m\u001b[0;34m\u001b[0m\u001b[0;34m\u001b[0m\u001b[0m\n",
      "\u001b[0;32m~/CS 236 Project/Code/models.py\u001b[0m in \u001b[0;36mimpute\u001b[0;34m(self, x)\u001b[0m\n\u001b[1;32m    216\u001b[0m                 \u001b[0malphas\u001b[0m\u001b[0;34m,\u001b[0m \u001b[0mbetas\u001b[0m\u001b[0;34m,\u001b[0m \u001b[0mret_mean\u001b[0m\u001b[0;34m,\u001b[0m \u001b[0mret_sigma\u001b[0m \u001b[0;34m=\u001b[0m \u001b[0mself\u001b[0m\u001b[0;34m.\u001b[0m\u001b[0mshape_vectors\u001b[0m\u001b[0;34m(\u001b[0m\u001b[0mx_copy\u001b[0m\u001b[0;34m)\u001b[0m\u001b[0;34m\u001b[0m\u001b[0;34m\u001b[0m\u001b[0m\n\u001b[1;32m    217\u001b[0m             \u001b[0;32melse\u001b[0m\u001b[0;34m:\u001b[0m\u001b[0;34m\u001b[0m\u001b[0;34m\u001b[0m\u001b[0m\n\u001b[0;32m--> 218\u001b[0;31m                 \u001b[0malphas\u001b[0m\u001b[0;34m,\u001b[0m \u001b[0mbetas\u001b[0m \u001b[0;34m=\u001b[0m \u001b[0mself\u001b[0m\u001b[0;34m.\u001b[0m\u001b[0mshape_vectors\u001b[0m\u001b[0;34m(\u001b[0m\u001b[0mx_copy\u001b[0m\u001b[0;34m)\u001b[0m\u001b[0;34m\u001b[0m\u001b[0;34m\u001b[0m\u001b[0m\n\u001b[0m\u001b[1;32m    219\u001b[0m             \u001b[0mpred\u001b[0m \u001b[0;34m=\u001b[0m \u001b[0malphas\u001b[0m \u001b[0;34m/\u001b[0m \u001b[0;34m(\u001b[0m\u001b[0malphas\u001b[0m \u001b[0;34m+\u001b[0m \u001b[0mbetas\u001b[0m\u001b[0;34m)\u001b[0m\u001b[0;34m\u001b[0m\u001b[0;34m\u001b[0m\u001b[0m\n\u001b[1;32m    220\u001b[0m \u001b[0;31m#             print(x_copy)\u001b[0m\u001b[0;34m\u001b[0m\u001b[0;34m\u001b[0m\u001b[0;34m\u001b[0m\u001b[0m\n",
      "\u001b[0;32m~/CS 236 Project/Code/models.py\u001b[0m in \u001b[0;36mshape_vectors\u001b[0;34m(self, x, get_hidden_state)\u001b[0m\n\u001b[1;32m    187\u001b[0m                              + self.alpha_bias_beta)\n\u001b[1;32m    188\u001b[0m \u001b[0;34m\u001b[0m\u001b[0m\n\u001b[0;32m--> 189\u001b[0;31m         alpha_out = torch.sigmoid(torch.sum(torch.mul(hidden_beta_activations[:,:self.output_dmensions,:],\n\u001b[0m\u001b[1;32m    190\u001b[0m                                                       self.alpha_weights_alpha), dim=2)\n\u001b[1;32m    191\u001b[0m                              + self.alpha_bias_alpha)\n",
      "\u001b[0;31mKeyboardInterrupt\u001b[0m: "
     ]
    }
   ],
   "source": [
    "exp_batch_size = 100\n",
    "# model = models.XSCharLSTM(input_dim=96, hidden_dims=[30, 30], num_layers=4, batch_size=exp_batch_size)\n",
    "\n",
    "ar_model = models.Beta_NADE(hidden_state_dim=30, latent_dimensions=30)\n",
    "\n",
    "num_epochs = 5\n",
    "eval_freq = 1\n",
    "\n",
    "# optimizer = torch.optim.AdamW(list(model.parameters()) + list(ar_model.parameters()), lr=0.01,\n",
    "#                              weight_decay=0.01)\n",
    "optimizer = torch.optim.AdamW(ar_model.parameters(), lr=0.01,\n",
    "                             weight_decay=0.1)\n",
    "\n",
    "\n",
    "scheduler = MultiStepLR(optimizer, [30], gamma=0.1, last_epoch=-1)\n",
    "\n",
    "device = torch.device(\"cuda:0\" if torch.cuda.is_available() else \"cpu\")\n",
    "print(f'torch device is {device}')\n",
    "model = model.to(device)\n",
    "ar_model = ar_model.to(device)\n",
    "loss_fn = loss_functions.beta_ll_loss\n",
    "\n",
    "\n",
    "#basic training loop for local development\n",
    "for epoch in range(num_epochs):\n",
    "    epoch_start = time.time()\n",
    "    losses = []\n",
    "    ar_losses = []\n",
    "    # Forward pass\n",
    "    print(f'epoch {epoch}')\n",
    "    for i, data in enumerate(tqdm(train_data_loader)):\n",
    "        ts_idxs, stock_idxs, data, mask, ordered_mask, factors, return_sample = data\n",
    "        assert not torch.isnan(data).any()\n",
    "#         print(data, mask)\n",
    "        assert not torch.logical_and(data <= 0, ~mask).any(), torch.min(data * mask)\n",
    "        \n",
    "        C_train = data.transpose_(0, 1).float().to(device)[:-1]\n",
    "        \n",
    "        C_mask = mask.float().to(device).transpose_(0, 1)[:-1]\n",
    "        C_ordered_mask = ordered_mask.float().to(device).transpose_(0, 1)[:-1]\n",
    "        \n",
    "        factors = factors.transpose_(0, 1).float().to(device)[1:]\n",
    "        \n",
    "        train_input = torch.cat([C_train, C_mask, factors], axis=2)\n",
    "        \n",
    "      \n",
    "        if train_input.shape[1] == exp_batch_size:\n",
    "            alpha_pred, beta_pred, hidden_out = model(train_input)\n",
    "            loss = loss_fn(C_train[1:], alpha_pred[:-1], beta_pred[:-1], mask=C_mask[1:]).mean()\n",
    "            assert not torch.isnan(loss).any()\n",
    "            \n",
    "#             loss.backward()\n",
    "            losses.append(loss.data.detach().cpu().numpy())\n",
    "            \n",
    "#             print(hidden_out.shape, C_train.shape)\n",
    "            model_input = torch.cat([hidden_out[:-1].detach(), C_train[1:]], axis=2)\n",
    "            batch_dim, batch_length, dim = model_input.shape\n",
    "            model_input = model_input.reshape(batch_dim * batch_length, dim)\n",
    "            \n",
    "            C_ordered_mask_reshape = C_ordered_mask[1:].reshape(batch_dim * batch_length, 45)\n",
    "            C_train_reshape = C_train[1:].reshape(batch_dim * batch_length, 45)\n",
    "\n",
    "            alphas_pred, betas_pred = ar_model(model_input)\n",
    "            \n",
    "            ar_loss = loss_fn(C_train_reshape,\n",
    "                              alphas_pred, betas_pred, mask=C_ordered_mask_reshape,\n",
    "                             reduce_axis=1).mean()\n",
    "            \n",
    "#             net_loss = ar_loss + loss\n",
    "            net_loss = ar_loss\n",
    "            net_loss.backward()\n",
    "            ar_losses.append(ar_loss.data.detach().cpu().numpy())\n",
    "            \n",
    "\n",
    "            optimizer.step()\n",
    "            model.zero_grad()\n",
    "            optimizer.zero_grad()       \n",
    "\n",
    "    print(f'epoch {epoch} avg lstm loss {np.mean(losses)}, avg ar model loss {np.mean(ar_losses)}')\n",
    "    print(f'epoch {epoch} took {(time.time() - epoch_start)/60.0} minutes')\n",
    "    scheduler.step()\n",
    "    if (epoch + 1) % eval_freq == 0:\n",
    "        print(\"eval oos\", eval_fn.eval_model_oos(chars, exp_batch_size, model, ar_model, eval_data_loader))\n",
    "        print(\"test oos\", eval_fn.eval_model_oos(chars, exp_batch_size, model, ar_model, test_data_loader))"
   ]
  },
  {
   "cell_type": "code",
   "execution_count": null,
   "id": "0e8b83fb",
   "metadata": {},
   "outputs": [],
   "source": [
    "print(\"train is\", eval_fn.eval_model_is(chars, exp_batch_size, None, ar_model, train_data_loader))"
   ]
  },
  {
   "cell_type": "code",
   "execution_count": 265,
   "id": "f69e6cbd",
   "metadata": {},
   "outputs": [
    {
     "data": {
      "application/vnd.jupyter.widget-view+json": {
       "model_id": "a163bf3b4bf04e428ebe2d6d39ad92cb",
       "version_major": 2,
       "version_minor": 0
      },
      "text/plain": [
       "  0%|          | 0/63 [00:00<?, ?it/s]"
      ]
     },
     "metadata": {},
     "output_type": "display_data"
    },
    {
     "name": "stdout",
     "output_type": "stream",
     "text": [
      "eval oos ([('A2ME', 0.10536056), ('AC', 0.17449063), ('AT', 0.21230346), ('ATO', 0.19269145), ('B2M', 0.04092196), ('BETA_d', 0.04652951), ('BETA_m', 0.22659256), ('C2A', 0.209662), ('CF2B', 0.2146566), ('CF2P', 0.21060885), ('CTO', 0.2066392), ('D2A', 0.19175221), ('D2P', 0.1961372), ('DPI2A', 0.22832267), ('E2P', 0.20253451), ('FC2Y', 0.19534673), ('HIGH52', 0.08216147), ('INV', 0.03930987), ('IdioVol', 0.047781587), ('LEV', 0.21651003), ('ME', 0.1780023), ('NI', 0.20914699), ('NOA', 0.19389413), ('OA', 0.22030994), ('OL', 0.14608136), ('OP', 0.19803634), ('PCM', 0.2168286), ('PM', 0.22026871), ('PROF', 0.20430529), ('Q', 0.21752992), ('R12_2', 0.20087689), ('R12_7', 0.20444821), ('R2_1', 0.19684927), ('R36_13', 0.22137447), ('R60_13', 0.2044911), ('RNA', 0.22181948), ('ROA', 0.16629039), ('ROE', 0.2170001), ('RVAR', 0.1911478), ('S2P', 0.1954653), ('SGA2S', 0.21906675), ('SPREAD', 0.20701844), ('SUV', 0.1855979), ('TURN', 0.23054521), ('VAR', 0.2833535)], 0.19412988)\n"
     ]
    },
    {
     "data": {
      "application/vnd.jupyter.widget-view+json": {
       "model_id": "cb369390ec344b77bceb77cba29b6e0e",
       "version_major": 2,
       "version_minor": 0
      },
      "text/plain": [
       "  0%|          | 0/76 [00:00<?, ?it/s]"
      ]
     },
     "metadata": {},
     "output_type": "display_data"
    },
    {
     "name": "stdout",
     "output_type": "stream",
     "text": [
      "test oos ([('A2ME', 0.102465786), ('AC', 0.1764793), ('AT', 0.20257854), ('ATO', 0.197344), ('B2M', 0.04638074), ('BETA_d', 0.052178003), ('BETA_m', 0.22899298), ('C2A', 0.21090877), ('CF2B', 0.21832037), ('CF2P', 0.20767754), ('CTO', 0.20785756), ('D2A', 0.19394664), ('D2P', 0.19493258), ('DPI2A', 0.22279502), ('E2P', 0.20556602), ('FC2Y', 0.1991703), ('HIGH52', 0.08015465), ('INV', 0.044751428), ('IdioVol', 0.05725504), ('LEV', 0.20658676), ('ME', 0.17708695), ('NI', 0.20794658), ('NOA', 0.19245341), ('OA', 0.21245033), ('OL', 0.13937564), ('OP', 0.19273183), ('PCM', 0.2047311), ('PM', 0.20926191), ('PROF', 0.20979418), ('Q', 0.22187218), ('R12_2', 0.19587877), ('R12_7', 0.19468276), ('R2_1', 0.20189002), ('R36_13', 0.21197182), ('R60_13', 0.2004303), ('RNA', 0.22548553), ('ROA', 0.16615266), ('ROE', 0.22159225), ('RVAR', 0.19197169), ('S2P', 0.19198857), ('SGA2S', 0.21719897), ('SPREAD', 0.21168381), ('SUV', 0.17543414), ('TURN', 0.216192), ('VAR', 0.28491297)], 0.19237408)\n"
     ]
    }
   ],
   "source": [
    "print(\"eval oos\", eval_fn.eval_model_oos(chars, exp_batch_size, model, ar_model, eval_data_loader))\n",
    "print(\"test oos\", eval_fn.eval_model_oos(chars, exp_batch_size, model, ar_model, test_data_loader))"
   ]
  },
  {
   "cell_type": "code",
   "execution_count": null,
   "id": "03f1bd99",
   "metadata": {},
   "outputs": [],
   "source": []
  }
 ],
 "metadata": {
  "kernelspec": {
   "display_name": "Python 3 (ipykernel)",
   "language": "python",
   "name": "python3"
  },
  "language_info": {
   "codemirror_mode": {
    "name": "ipython",
    "version": 3
   },
   "file_extension": ".py",
   "mimetype": "text/x-python",
   "name": "python",
   "nbconvert_exporter": "python",
   "pygments_lexer": "ipython3",
   "version": "3.8.8"
  }
 },
 "nbformat": 4,
 "nbformat_minor": 5
}

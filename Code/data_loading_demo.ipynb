{
 "cells": [
  {
   "cell_type": "code",
   "execution_count": 3,
   "id": "110fe05e",
   "metadata": {},
   "outputs": [],
   "source": [
    "import numpy as np"
   ]
  },
  {
   "cell_type": "code",
   "execution_count": 4,
   "id": "a4b63536",
   "metadata": {},
   "outputs": [],
   "source": [
    "import data_loading"
   ]
  },
  {
   "cell_type": "code",
   "execution_count": 10,
   "id": "7a36800e",
   "metadata": {},
   "outputs": [
    {
     "name": "stdout",
     "output_type": "stream",
     "text": [
      "Index(['A2ME', 'AC', 'AT', 'ATO', 'B2M', 'BETA_d', 'BETA_m', 'C2A', 'CF2B',\n",
      "       'CF2P', 'CTO', 'D2A', 'D2P', 'DPI2A', 'E2P', 'FC2Y', 'HIGH52', 'INV',\n",
      "       'IdioVol', 'LEV', 'ME', 'NI', 'NOA', 'OA', 'OL', 'OP', 'PCM', 'PM',\n",
      "       'PROF', 'Q', 'R12_2', 'R12_7', 'R2_1', 'R36_13', 'R60_13', 'RNA', 'ROA',\n",
      "       'ROE', 'RVAR', 'S2P', 'SGA2S', 'SPREAD', 'SUV', 'TURN', 'VAR', 'return',\n",
      "       'date', 'permno', 'monthly_update'],\n",
      "      dtype='object')\n",
      "['A2ME' 'AC' 'AT' 'ATO' 'B2M' 'BETA_d' 'BETA_m' 'C2A' 'CF2B' 'CF2P' 'CTO'\n",
      " 'D2A' 'D2P' 'DPI2A' 'E2P' 'FC2Y' 'HIGH52' 'INV' 'IdioVol' 'LEV' 'ME' 'NI'\n",
      " 'NOA' 'OA' 'OL' 'OP' 'PCM' 'PM' 'PROF' 'Q' 'R12_2' 'R12_7' 'R2_1'\n",
      " 'R36_13' 'R60_13' 'RNA' 'ROA' 'ROE' 'RVAR' 'S2P' 'SGA2S' 'SPREAD' 'SUV'\n",
      " 'TURN' 'VAR']\n"
     ]
    },
    {
     "data": {
      "application/vnd.jupyter.widget-view+json": {
       "model_id": "f04c1473a7fc44269cab7f2c0f24101d",
       "version_major": 2,
       "version_minor": 0
      },
      "text/plain": [
       "  0%|          | 0/648 [00:00<?, ?it/s]"
      ]
     },
     "metadata": {},
     "output_type": "display_data"
    }
   ],
   "source": [
    "percentile_rank_chars, regular_chars, chars, dates,\\\n",
    "    return_panel, permnos, rts, monthly_updates = data_loading.get_data_panel(\"../Data/raw_chars_returns_df_all_dates_yearly_fb.fthr\",\n",
    "                                                            \"../Data/ff_rf.csv\",\n",
    "                                                                              computstat_data_present_filter=True,\n",
    "                                                                              financial_firm_filter=False)"
   ]
  },
  {
   "cell_type": "code",
   "execution_count": 139,
   "id": "fa208aca",
   "metadata": {},
   "outputs": [],
   "source": [
    "flat_rank_chars = percentile_rank_chars.reshape(percentile_rank_chars.shape[0] * percentile_rank_chars.shape[1], 45)\n",
    "flat_rank_chars = flat_rank_chars[np.any(~np.isnan(flat_rank_chars), axis=1)]"
   ]
  },
  {
   "cell_type": "code",
   "execution_count": 140,
   "id": "292f4226",
   "metadata": {},
   "outputs": [],
   "source": [
    "def get_ordered_missing_mat(ct):\n",
    "    missing_0 = np.isnan(ct)\n",
    "    missing_counts_by_stock = np.sum(missing_0, axis=1)\n",
    "    missing_counts_by_char = np.sum(missing_0, axis=0)\n",
    "    stock_inds_orderd_by_missing = np.array([x[1] for x in sorted([(x, i) for \n",
    "                                                                   i, x in enumerate(missing_counts_by_stock)])])\n",
    "\n",
    "    char_inds_orderd_by_missing = np.array([x[1] for x in sorted([(x, i) for \n",
    "                                                                  i, x in enumerate(missing_counts_by_char)])])\n",
    "    return stock_inds_orderd_by_missing, char_inds_orderd_by_missing"
   ]
  },
  {
   "cell_type": "code",
   "execution_count": 141,
   "id": "4d5e7767",
   "metadata": {},
   "outputs": [
    {
     "data": {
      "text/plain": [
       "(array([239013, 239802, 241025, ..., 562257, 566901, 571561]),\n",
       " array([12, 20, 32, 41, 38, 44, 18, 43, 42, 31,  9, 14, 30, 39,  4,  8,  0,\n",
       "         2, 29, 28, 27, 26,  6,  7, 24, 37, 10,  3, 19, 22, 36, 35, 25, 21,\n",
       "        17,  5, 33, 11, 15, 40, 23,  1, 16, 34, 13]))"
      ]
     },
     "execution_count": 141,
     "metadata": {},
     "output_type": "execute_result"
    }
   ],
   "source": [
    "get_ordered_missing_mat(flat_rank_chars)"
   ]
  },
  {
   "cell_type": "code",
   "execution_count": 6,
   "id": "3afc67c1",
   "metadata": {},
   "outputs": [],
   "source": [
    "from torch.utils.data import TensorDataset, DataLoader, Dataset\n",
    "import os\n",
    "import torch\n",
    "import torch.nn as nn\n",
    "import torch.nn.functional as F\n",
    "import numpy as np\n",
    "from tqdm import tqdm\n",
    "import copy\n",
    "\n",
    "\n"
   ]
  },
  {
   "cell_type": "code",
   "execution_count": 11,
   "id": "256ec700",
   "metadata": {},
   "outputs": [],
   "source": [
    "fully_present_mask = np.all(~np.isnan(percentile_rank_chars), axis=2)"
   ]
  },
  {
   "cell_type": "code",
   "execution_count": 143,
   "id": "3c74ce59",
   "metadata": {},
   "outputs": [],
   "source": [
    "ordering = [12, 20, 32, 41, 38, 44, 18, 43, 42, 31,  9, 14, 30, 39,  4,  8,  0,\n",
    "         2, 29, 28, 27, 26,  6,  7, 24, 37, 10,  3, 19, 22, 36, 35, 25, 21,\n",
    "        17,  5, 33, 11, 15, 40, 23,  1, 16, 34, 13]"
   ]
  },
  {
   "cell_type": "code",
   "execution_count": 145,
   "id": "9b055ab3",
   "metadata": {},
   "outputs": [],
   "source": [
    "train_data = (percentile_rank_chars[:-300,:,ordering], return_panel[:-300], fully_present_mask[:-300])\n",
    "val_data = (percentile_rank_chars[-300:-100,:,ordering], return_panel[-300:-100], fully_present_mask[-300:-100])\n",
    "test_data = (percentile_rank_chars[-100:,:,ordering], return_panel[-100:], fully_present_mask[-100:])\n",
    "train_loader, test_loader, val_loader = get_train_val_test_loaders(train_data, val_data, test_data)"
   ]
  },
  {
   "cell_type": "code",
   "execution_count": 146,
   "id": "769ef616",
   "metadata": {},
   "outputs": [],
   "source": [
    "# Neural Autoregressive Density Estimator (NADE)\n",
    "# Author: Ameya Daigavane\n",
    "\n",
    "import torch\n",
    "import torch.nn as nn\n",
    "import torch.distributions as dist\n",
    "\n",
    "class Beta_NADE(nn.Module):\n",
    "\n",
    "    # Initialize.\n",
    "    def __init__(self, inp_dimensions=45, latent_dimensions=5):\n",
    "        super(Beta_NADE, self).__init__()\n",
    "        self.inp_dimensions = inp_dimensions\n",
    "        self.latent_dimensions = latent_dimensions\n",
    "        self.hidden_beta = nn.Linear(inp_dimensions, latent_dimensions)\n",
    "        self.alpha_weights_beta = torch.rand(inp_dimensions, latent_dimensions, requires_grad=True)\n",
    "        self.alpha_bias_beta = torch.rand(inp_dimensions, requires_grad=True)\n",
    "        self.beta_scale = 100\n",
    "        \n",
    "        self.hidden_alpha = nn.Linear(inp_dimensions, latent_dimensions)\n",
    "        self.alpha_weights_alpha = torch.rand(inp_dimensions, latent_dimensions, requires_grad=True)\n",
    "        self.alpha_bias_alpha = torch.rand(inp_dimensions, requires_grad=True)\n",
    "        self.alpha_scale = 100\n",
    "        \n",
    "\n",
    "        # Helper matrix to compute prefix sums of dot-products for the forward pass.\n",
    "        self.sum_matrix = torch.ones(inp_dimensions, inp_dimensions, requires_grad=False)\n",
    "        for rownum, row in enumerate(self.sum_matrix):\n",
    "            row[rownum:] = 0\n",
    "    \n",
    "    # For a given input x, obtain the mean vectors describing the Bernoulli distributions for each dimension, and each sample.\n",
    "    def shape_vectors(self, x):\n",
    "        # Expand each sample as a diagonal matrix.\n",
    "        x_diag = torch.stack([torch.diag(x_j) for x_j in x])\n",
    "\n",
    "        # Compute xi*Wi + bi for each dimension in each sample.\n",
    "        beta_dot_products = self.hidden_beta(x_diag)\n",
    "\n",
    "        # Sigmoids of prefix sums of above to get hidden activations.\n",
    "        hidden_beta_activations = torch.sigmoid(torch.matmul(self.sum_matrix, beta_dot_products))\n",
    "\n",
    "        # Then multiply element-wise with alpha to get mean vectors.\n",
    "        beta_out= torch.sigmoid(torch.sum(torch.mul(hidden_beta_activations, self.alpha_weights_beta), dim=2)\n",
    "                             + self.alpha_bias_beta)\n",
    "        \n",
    "        \n",
    "        # Compute xi*Wi + bi for each dimension in each sample.\n",
    "        alpha_dot_products = self.hidden_beta(x_diag)\n",
    "\n",
    "        # Sigmoids of prefix sums of above to get hidden activations.\n",
    "        hidden_alpha_activations = torch.sigmoid(torch.matmul(self.sum_matrix, alpha_dot_products))\n",
    "\n",
    "        # Then multiply element-wise with alpha to get mean vectors.\n",
    "        alpha_out = torch.sigmoid(torch.sum(torch.mul(hidden_alpha_activations, self.alpha_weights_alpha), dim=2)\n",
    "                             + self.alpha_bias_alpha)\n",
    "        \n",
    "        return alpha_out * self.alpha_scale, beta_out * self.beta_scale\n",
    "    \n",
    "\n",
    "    # Forward pass to compute log-likelihoods for each input separately.\n",
    "    def forward(self, x):\n",
    "        # Obtain mean vectors.\n",
    "        alphas, betas = self.shape_vectors(x)\n",
    "        \n",
    "\n",
    "#         assert np.all(alphas.detach().numpy() > 0)\n",
    "        \n",
    "#         assert np.all(x.detach().numpy() > 0)\n",
    "#         assert np.all(x.detach().numpy() < 1)\n",
    "        # Compute log-likelihoods using the mean vectors.\n",
    "        log_likelihoods = (alphas - 1) * torch.log(x) + (betas - 1) * torch.log(1-x)\n",
    "#         assert ~np.any(np.isnan(log_likelihoods.detach().numpy()))\n",
    "        log_likelihoods += torch.lgamma(alphas + betas) - torch.lgamma(alphas) - torch.lgamma(betas)\n",
    "#         assert ~np.any(np.isnan(log_likelihoods.detach().numpy()))\n",
    "        \n",
    "        return torch.sum(log_likelihoods, dim=1)\n",
    "    \n",
    "    def impute(self, x):\n",
    "        # TODO add imputation for missing data\n",
    "        alphas, betas = self.shape_vectors(x)\n",
    "        return alphas / (alphas + betas)\n",
    "\n",
    "    # Sample.\n",
    "    def sample(self, num_samples):\n",
    "        samples = torch.zeros(num_samples, self.inp_dimensions)\n",
    "        for sample_num in range(num_samples):\n",
    "            sample = torch.zeros(self.inp_dimensions)\n",
    "            for dim in range(self.inp_dimensions):\n",
    "                h_dim = torch.sigmoid(self.hidden(sample))\n",
    "                bernoulli_mean_dim = torch.sigmoid(self.alpha_weights[dim].dot(h_dim) + self.alpha_bias[dim])\n",
    "                distribution = dist.bernoulli.Bernoulli(probs=bernoulli_mean_dim)\n",
    "                sample[dim] = distribution.sample()\n",
    "            samples[sample_num] = sample\n",
    "        return samples"
   ]
  },
  {
   "cell_type": "code",
   "execution_count": 147,
   "id": "261c76aa",
   "metadata": {
    "scrolled": true
   },
   "outputs": [
    {
     "name": "stderr",
     "output_type": "stream",
     "text": [
      "\r",
      "  0%|          | 0/50 [00:00<?, ?it/s]"
     ]
    },
    {
     "name": "stdout",
     "output_type": "stream",
     "text": [
      "tensor(1424.0934, grad_fn=<MulBackward0>)\n",
      "tensor([0.2455, 0.2724, 0.2672, 0.2609, 0.2719, 0.2685, 0.2659, 0.2477, 0.2784,\n",
      "        0.2638, 0.2349, 0.2372, 0.2421, 0.2801, 0.2623, 0.2626, 0.2757, 0.2636,\n",
      "        0.2630, 0.2623, 0.2795, 0.2592, 0.2682, 0.2742, 0.2511, 0.2579, 0.2289,\n",
      "        0.2144, 0.2713, 0.2619, 0.2733, 0.2708, 0.2701, 0.2730, 0.2796, 0.2548,\n",
      "        0.2728, 0.2754, 0.2620, 0.2641, 0.2591, 0.2574, 0.2792, 0.2617, 0.2603],\n",
      "       grad_fn=<SqrtBackward>)\n",
      "tensor(0.2624, grad_fn=<MeanBackward0>)\n",
      "\n"
     ]
    },
    {
     "name": "stderr",
     "output_type": "stream",
     "text": [
      " 10%|█         | 5/50 [00:41<05:50,  7.79s/it]"
     ]
    },
    {
     "name": "stdout",
     "output_type": "stream",
     "text": [
      "tensor(1297.2656, grad_fn=<MulBackward0>)\n",
      "tensor([0.2455, 0.2724, 0.2671, 0.2591, 0.2717, 0.2693, 0.2660, 0.2474, 0.2797,\n",
      "        0.2636, 0.2340, 0.2358, 0.2421, 0.2807, 0.2623, 0.2615, 0.2757, 0.2636,\n",
      "        0.2641, 0.2638, 0.2790, 0.2590, 0.2733, 0.2787, 0.2525, 0.2550, 0.2307,\n",
      "        0.2151, 0.2784, 0.2621, 0.2738, 0.2725, 0.2701, 0.2731, 0.2809, 0.2593,\n",
      "        0.2753, 0.2761, 0.2629, 0.2699, 0.2513, 0.2577, 0.2811, 0.2621, 0.2616],\n",
      "       grad_fn=<SqrtBackward>)\n",
      "tensor(0.2630, grad_fn=<MeanBackward0>)\n",
      "\n"
     ]
    },
    {
     "name": "stderr",
     "output_type": "stream",
     "text": [
      " 20%|██        | 10/50 [01:21<05:12,  7.82s/it]"
     ]
    },
    {
     "name": "stdout",
     "output_type": "stream",
     "text": [
      "tensor(1144.2139, grad_fn=<MulBackward0>)\n",
      "tensor([0.2455, 0.2724, 0.2668, 0.2571, 0.2713, 0.2704, 0.2660, 0.2469, 0.2806,\n",
      "        0.2640, 0.2346, 0.2347, 0.2428, 0.2813, 0.2619, 0.2618, 0.2757, 0.2636,\n",
      "        0.2656, 0.2645, 0.2793, 0.2593, 0.2644, 0.2840, 0.2496, 0.2548, 0.2300,\n",
      "        0.2180, 0.2891, 0.2618, 0.2725, 0.2757, 0.2704, 0.2731, 0.2871, 0.2545,\n",
      "        0.2801, 0.2749, 0.2660, 0.2724, 0.2486, 0.2581, 0.2821, 0.2653, 0.2591],\n",
      "       grad_fn=<SqrtBackward>)\n",
      "tensor(0.2635, grad_fn=<MeanBackward0>)\n",
      "\n"
     ]
    },
    {
     "name": "stderr",
     "output_type": "stream",
     "text": [
      " 30%|███       | 15/50 [02:04<04:40,  8.02s/it]"
     ]
    },
    {
     "name": "stdout",
     "output_type": "stream",
     "text": [
      "tensor(1079.5437, grad_fn=<MulBackward0>)\n",
      "tensor([0.2455, 0.2725, 0.2665, 0.2546, 0.2709, 0.2721, 0.2658, 0.2460, 0.2809,\n",
      "        0.2649, 0.2368, 0.2341, 0.2441, 0.2817, 0.2616, 0.2625, 0.2756, 0.2645,\n",
      "        0.2665, 0.2640, 0.2796, 0.2598, 0.2561, 0.2860, 0.2482, 0.2552, 0.2289,\n",
      "        0.2194, 0.2929, 0.2615, 0.2719, 0.2766, 0.2704, 0.2730, 0.2900, 0.2517,\n",
      "        0.2808, 0.2748, 0.2662, 0.2719, 0.2486, 0.2579, 0.2820, 0.2658, 0.2590],\n",
      "       grad_fn=<SqrtBackward>)\n",
      "tensor(0.2635, grad_fn=<MeanBackward0>)\n",
      "\n"
     ]
    },
    {
     "name": "stderr",
     "output_type": "stream",
     "text": [
      " 40%|████      | 20/50 [02:46<04:01,  8.05s/it]"
     ]
    },
    {
     "name": "stdout",
     "output_type": "stream",
     "text": [
      "tensor(1054.9264, grad_fn=<MulBackward0>)\n",
      "tensor([0.2455, 0.2725, 0.2662, 0.2519, 0.2704, 0.2743, 0.2655, 0.2453, 0.2808,\n",
      "        0.2659, 0.2393, 0.2338, 0.2454, 0.2819, 0.2618, 0.2628, 0.2756, 0.2651,\n",
      "        0.2667, 0.2637, 0.2797, 0.2600, 0.2540, 0.2864, 0.2479, 0.2553, 0.2287,\n",
      "        0.2196, 0.2934, 0.2614, 0.2718, 0.2767, 0.2704, 0.2729, 0.2903, 0.2513,\n",
      "        0.2808, 0.2748, 0.2662, 0.2719, 0.2486, 0.2578, 0.2820, 0.2658, 0.2590],\n",
      "       grad_fn=<SqrtBackward>)\n",
      "tensor(0.2636, grad_fn=<MeanBackward0>)\n",
      "\n"
     ]
    },
    {
     "name": "stderr",
     "output_type": "stream",
     "text": [
      " 50%|█████     | 25/50 [03:28<03:21,  8.07s/it]"
     ]
    },
    {
     "name": "stdout",
     "output_type": "stream",
     "text": [
      "tensor(1042.8389, grad_fn=<MulBackward0>)\n",
      "tensor([0.2455, 0.2725, 0.2658, 0.2492, 0.2700, 0.2766, 0.2652, 0.2448, 0.2807,\n",
      "        0.2667, 0.2409, 0.2336, 0.2461, 0.2819, 0.2619, 0.2628, 0.2756, 0.2653,\n",
      "        0.2668, 0.2636, 0.2797, 0.2600, 0.2537, 0.2864, 0.2478, 0.2553, 0.2287,\n",
      "        0.2197, 0.2934, 0.2614, 0.2717, 0.2767, 0.2704, 0.2729, 0.2903, 0.2513,\n",
      "        0.2808, 0.2748, 0.2662, 0.2719, 0.2486, 0.2578, 0.2820, 0.2658, 0.2590],\n",
      "       grad_fn=<SqrtBackward>)\n",
      "tensor(0.2636, grad_fn=<MeanBackward0>)\n",
      "\n"
     ]
    },
    {
     "name": "stderr",
     "output_type": "stream",
     "text": [
      " 60%|██████    | 30/50 [04:08<02:37,  7.86s/it]"
     ]
    },
    {
     "name": "stdout",
     "output_type": "stream",
     "text": [
      "tensor(1035.7844, grad_fn=<MulBackward0>)\n",
      "tensor([0.2455, 0.2725, 0.2655, 0.2466, 0.2699, 0.2788, 0.2650, 0.2446, 0.2805,\n",
      "        0.2671, 0.2418, 0.2336, 0.2464, 0.2820, 0.2620, 0.2629, 0.2756, 0.2654,\n",
      "        0.2668, 0.2636, 0.2797, 0.2600, 0.2536, 0.2864, 0.2478, 0.2553, 0.2287,\n",
      "        0.2197, 0.2934, 0.2614, 0.2717, 0.2767, 0.2704, 0.2729, 0.2903, 0.2513,\n",
      "        0.2808, 0.2748, 0.2662, 0.2719, 0.2486, 0.2578, 0.2820, 0.2658, 0.2590],\n",
      "       grad_fn=<SqrtBackward>)\n",
      "tensor(0.2636, grad_fn=<MeanBackward0>)\n",
      "\n"
     ]
    },
    {
     "name": "stderr",
     "output_type": "stream",
     "text": [
      " 70%|███████   | 35/50 [04:50<01:57,  7.86s/it]"
     ]
    },
    {
     "name": "stdout",
     "output_type": "stream",
     "text": [
      "tensor(1031.1946, grad_fn=<MulBackward0>)\n",
      "tensor([0.2455, 0.2725, 0.2651, 0.2442, 0.2699, 0.2805, 0.2649, 0.2446, 0.2804,\n",
      "        0.2673, 0.2421, 0.2335, 0.2465, 0.2820, 0.2620, 0.2629, 0.2756, 0.2654,\n",
      "        0.2668, 0.2636, 0.2797, 0.2600, 0.2536, 0.2864, 0.2478, 0.2553, 0.2287,\n",
      "        0.2197, 0.2934, 0.2614, 0.2717, 0.2767, 0.2704, 0.2729, 0.2903, 0.2513,\n",
      "        0.2808, 0.2748, 0.2662, 0.2719, 0.2486, 0.2578, 0.2820, 0.2658, 0.2590],\n",
      "       grad_fn=<SqrtBackward>)\n",
      "tensor(0.2636, grad_fn=<MeanBackward0>)\n",
      "\n"
     ]
    },
    {
     "name": "stderr",
     "output_type": "stream",
     "text": [
      " 80%|████████  | 40/50 [05:31<01:20,  8.03s/it]"
     ]
    },
    {
     "name": "stdout",
     "output_type": "stream",
     "text": [
      "tensor(1027.9718, grad_fn=<MulBackward0>)\n",
      "tensor([0.2455, 0.2725, 0.2648, 0.2421, 0.2700, 0.2819, 0.2649, 0.2446, 0.2804,\n",
      "        0.2673, 0.2423, 0.2335, 0.2465, 0.2820, 0.2620, 0.2629, 0.2756, 0.2654,\n",
      "        0.2668, 0.2636, 0.2797, 0.2600, 0.2536, 0.2865, 0.2478, 0.2553, 0.2287,\n",
      "        0.2197, 0.2934, 0.2614, 0.2717, 0.2767, 0.2704, 0.2729, 0.2903, 0.2513,\n",
      "        0.2808, 0.2748, 0.2662, 0.2719, 0.2486, 0.2578, 0.2820, 0.2658, 0.2590],\n",
      "       grad_fn=<SqrtBackward>)\n",
      "tensor(0.2636, grad_fn=<MeanBackward0>)\n",
      "\n"
     ]
    },
    {
     "name": "stderr",
     "output_type": "stream",
     "text": [
      " 90%|█████████ | 45/50 [06:15<00:42,  8.42s/it]"
     ]
    },
    {
     "name": "stdout",
     "output_type": "stream",
     "text": [
      "tensor(1025.5715, grad_fn=<MulBackward0>)\n",
      "tensor([0.2455, 0.2725, 0.2646, 0.2404, 0.2702, 0.2828, 0.2648, 0.2446, 0.2804,\n",
      "        0.2674, 0.2424, 0.2335, 0.2465, 0.2820, 0.2620, 0.2629, 0.2756, 0.2654,\n",
      "        0.2668, 0.2636, 0.2797, 0.2600, 0.2536, 0.2865, 0.2478, 0.2553, 0.2287,\n",
      "        0.2197, 0.2934, 0.2614, 0.2717, 0.2767, 0.2704, 0.2729, 0.2903, 0.2513,\n",
      "        0.2808, 0.2748, 0.2662, 0.2719, 0.2486, 0.2578, 0.2820, 0.2658, 0.2590],\n",
      "       grad_fn=<SqrtBackward>)\n",
      "tensor(0.2636, grad_fn=<MeanBackward0>)\n",
      "\n"
     ]
    },
    {
     "name": "stderr",
     "output_type": "stream",
     "text": [
      "100%|██████████| 50/50 [06:56<00:00,  8.33s/it]\n"
     ]
    }
   ],
   "source": [
    "X, Y, ind = train_loader\n",
    "X = X.float()\n",
    "\n",
    "X = (X + 0.5) * 0.95 + 0.025\n",
    "\n",
    "model = Beta_NADE()\n",
    "# model = model.float()\n",
    "optimizer = torch.optim.Adam(model.parameters(), lr=0.01)\n",
    "for i in tqdm(range(50)):\n",
    "    ll = -1 * model(X).mean()\n",
    "    if i % 5 == 0:\n",
    "        print(ll)\n",
    "        res = torch.sqrt(torch.mean(torch.square(model.impute(X_val) - X_val), axis=0))\n",
    "        print(res)\n",
    "        print(torch.mean(res))\n",
    "        print()\n",
    "    ll.backward()\n",
    "    optimizer.step()"
   ]
  },
  {
   "cell_type": "code",
   "execution_count": 133,
   "id": "93b773d9",
   "metadata": {},
   "outputs": [
    {
     "data": {
      "text/plain": [
       "tensor(0.2617)"
      ]
     },
     "execution_count": 133,
     "metadata": {},
     "output_type": "execute_result"
    }
   ],
   "source": [
    "torch.mean(torch.sqrt(torch.mean(torch.square(X_val - 0.5), axis=0)))"
   ]
  },
  {
   "cell_type": "code",
   "execution_count": 148,
   "id": "50e4e74a",
   "metadata": {
    "scrolled": true
   },
   "outputs": [
    {
     "name": "stderr",
     "output_type": "stream",
     "text": [
      "\r",
      "  0%|          | 0/50 [00:00<?, ?it/s]"
     ]
    },
    {
     "name": "stdout",
     "output_type": "stream",
     "text": [
      "tensor(1023.6982, grad_fn=<MulBackward0>)\n",
      "tensor([0.2455, 0.2725, 0.2644, 0.2390, 0.2704, 0.2835, 0.2648, 0.2446, 0.2803,\n",
      "        0.2674, 0.2424, 0.2335, 0.2465, 0.2820, 0.2620, 0.2629, 0.2756, 0.2654,\n",
      "        0.2668, 0.2636, 0.2797, 0.2600, 0.2536, 0.2865, 0.2478, 0.2553, 0.2287,\n",
      "        0.2197, 0.2934, 0.2614, 0.2717, 0.2767, 0.2704, 0.2729, 0.2903, 0.2513,\n",
      "        0.2808, 0.2748, 0.2662, 0.2719, 0.2486, 0.2578, 0.2820, 0.2658, 0.2590],\n",
      "       grad_fn=<SqrtBackward>)\n",
      "tensor(0.2635, grad_fn=<MeanBackward0>)\n",
      "\n"
     ]
    },
    {
     "name": "stderr",
     "output_type": "stream",
     "text": [
      " 10%|█         | 5/50 [00:42<06:15,  8.34s/it]"
     ]
    },
    {
     "name": "stdout",
     "output_type": "stream",
     "text": [
      "tensor(1022.3522, grad_fn=<MulBackward0>)\n",
      "tensor([0.2455, 0.2725, 0.2643, 0.2379, 0.2706, 0.2839, 0.2648, 0.2446, 0.2803,\n",
      "        0.2674, 0.2424, 0.2335, 0.2465, 0.2820, 0.2620, 0.2629, 0.2756, 0.2654,\n",
      "        0.2668, 0.2636, 0.2797, 0.2600, 0.2536, 0.2865, 0.2478, 0.2553, 0.2287,\n",
      "        0.2197, 0.2934, 0.2614, 0.2717, 0.2767, 0.2704, 0.2729, 0.2903, 0.2513,\n",
      "        0.2808, 0.2748, 0.2662, 0.2719, 0.2486, 0.2578, 0.2820, 0.2658, 0.2590],\n",
      "       grad_fn=<SqrtBackward>)\n",
      "tensor(0.2635, grad_fn=<MeanBackward0>)\n",
      "\n"
     ]
    },
    {
     "name": "stderr",
     "output_type": "stream",
     "text": [
      " 20%|██        | 10/50 [01:22<05:15,  7.90s/it]"
     ]
    },
    {
     "name": "stdout",
     "output_type": "stream",
     "text": [
      "tensor(1021.2036, grad_fn=<MulBackward0>)\n",
      "tensor([0.2455, 0.2725, 0.2642, 0.2371, 0.2707, 0.2842, 0.2648, 0.2446, 0.2803,\n",
      "        0.2674, 0.2424, 0.2335, 0.2465, 0.2820, 0.2620, 0.2629, 0.2756, 0.2654,\n",
      "        0.2668, 0.2636, 0.2797, 0.2600, 0.2536, 0.2865, 0.2478, 0.2553, 0.2287,\n",
      "        0.2197, 0.2934, 0.2614, 0.2717, 0.2767, 0.2704, 0.2729, 0.2903, 0.2513,\n",
      "        0.2808, 0.2748, 0.2662, 0.2719, 0.2486, 0.2578, 0.2820, 0.2658, 0.2590],\n",
      "       grad_fn=<SqrtBackward>)\n",
      "tensor(0.2635, grad_fn=<MeanBackward0>)\n",
      "\n"
     ]
    },
    {
     "name": "stderr",
     "output_type": "stream",
     "text": [
      " 30%|███       | 15/50 [02:04<04:40,  8.00s/it]"
     ]
    },
    {
     "name": "stdout",
     "output_type": "stream",
     "text": [
      "tensor(1020.2049, grad_fn=<MulBackward0>)\n",
      "tensor([0.2455, 0.2725, 0.2642, 0.2363, 0.2708, 0.2844, 0.2648, 0.2446, 0.2803,\n",
      "        0.2674, 0.2424, 0.2335, 0.2465, 0.2820, 0.2620, 0.2629, 0.2756, 0.2654,\n",
      "        0.2668, 0.2636, 0.2797, 0.2600, 0.2536, 0.2865, 0.2478, 0.2553, 0.2287,\n",
      "        0.2197, 0.2934, 0.2614, 0.2717, 0.2767, 0.2704, 0.2729, 0.2903, 0.2513,\n",
      "        0.2808, 0.2748, 0.2662, 0.2719, 0.2486, 0.2578, 0.2820, 0.2658, 0.2590],\n",
      "       grad_fn=<SqrtBackward>)\n",
      "tensor(0.2635, grad_fn=<MeanBackward0>)\n",
      "\n"
     ]
    },
    {
     "name": "stderr",
     "output_type": "stream",
     "text": [
      " 40%|████      | 20/50 [02:45<03:58,  7.96s/it]"
     ]
    },
    {
     "name": "stdout",
     "output_type": "stream",
     "text": [
      "tensor(1019.3242, grad_fn=<MulBackward0>)\n",
      "tensor([0.2455, 0.2725, 0.2642, 0.2357, 0.2709, 0.2845, 0.2648, 0.2446, 0.2803,\n",
      "        0.2674, 0.2424, 0.2335, 0.2465, 0.2820, 0.2620, 0.2629, 0.2756, 0.2654,\n",
      "        0.2668, 0.2636, 0.2797, 0.2600, 0.2536, 0.2865, 0.2478, 0.2553, 0.2287,\n",
      "        0.2197, 0.2934, 0.2614, 0.2717, 0.2767, 0.2704, 0.2729, 0.2903, 0.2513,\n",
      "        0.2808, 0.2748, 0.2662, 0.2719, 0.2486, 0.2578, 0.2820, 0.2658, 0.2590],\n",
      "       grad_fn=<SqrtBackward>)\n",
      "tensor(0.2635, grad_fn=<MeanBackward0>)\n",
      "\n"
     ]
    },
    {
     "name": "stderr",
     "output_type": "stream",
     "text": [
      " 50%|█████     | 25/50 [03:27<03:16,  7.86s/it]"
     ]
    },
    {
     "name": "stdout",
     "output_type": "stream",
     "text": [
      "tensor(1018.5383, grad_fn=<MulBackward0>)\n",
      "tensor([0.2455, 0.2725, 0.2643, 0.2353, 0.2710, 0.2846, 0.2648, 0.2446, 0.2803,\n",
      "        0.2674, 0.2424, 0.2335, 0.2465, 0.2820, 0.2620, 0.2629, 0.2756, 0.2654,\n",
      "        0.2668, 0.2636, 0.2797, 0.2600, 0.2536, 0.2865, 0.2478, 0.2553, 0.2287,\n",
      "        0.2197, 0.2934, 0.2614, 0.2717, 0.2767, 0.2704, 0.2729, 0.2903, 0.2513,\n",
      "        0.2808, 0.2748, 0.2662, 0.2719, 0.2486, 0.2578, 0.2820, 0.2658, 0.2590],\n",
      "       grad_fn=<SqrtBackward>)\n",
      "tensor(0.2635, grad_fn=<MeanBackward0>)\n",
      "\n"
     ]
    },
    {
     "name": "stderr",
     "output_type": "stream",
     "text": [
      " 60%|██████    | 30/50 [04:08<02:38,  7.94s/it]"
     ]
    },
    {
     "name": "stdout",
     "output_type": "stream",
     "text": [
      "tensor(1017.8309, grad_fn=<MulBackward0>)\n",
      "tensor([0.2455, 0.2725, 0.2644, 0.2348, 0.2711, 0.2847, 0.2648, 0.2446, 0.2803,\n",
      "        0.2674, 0.2424, 0.2335, 0.2465, 0.2820, 0.2620, 0.2629, 0.2756, 0.2654,\n",
      "        0.2668, 0.2636, 0.2797, 0.2600, 0.2536, 0.2865, 0.2478, 0.2553, 0.2287,\n",
      "        0.2197, 0.2934, 0.2614, 0.2717, 0.2767, 0.2704, 0.2729, 0.2903, 0.2513,\n",
      "        0.2808, 0.2748, 0.2662, 0.2719, 0.2486, 0.2578, 0.2820, 0.2658, 0.2590],\n",
      "       grad_fn=<SqrtBackward>)\n",
      "tensor(0.2635, grad_fn=<MeanBackward0>)\n",
      "\n"
     ]
    },
    {
     "name": "stderr",
     "output_type": "stream",
     "text": [
      " 70%|███████   | 35/50 [05:13<03:08, 12.59s/it]"
     ]
    },
    {
     "name": "stdout",
     "output_type": "stream",
     "text": [
      "tensor(1017.1895, grad_fn=<MulBackward0>)\n",
      "tensor([0.2455, 0.2725, 0.2645, 0.2345, 0.2712, 0.2847, 0.2648, 0.2447, 0.2803,\n",
      "        0.2674, 0.2424, 0.2335, 0.2465, 0.2820, 0.2620, 0.2629, 0.2756, 0.2654,\n",
      "        0.2668, 0.2636, 0.2797, 0.2600, 0.2536, 0.2865, 0.2478, 0.2553, 0.2287,\n",
      "        0.2197, 0.2934, 0.2614, 0.2717, 0.2767, 0.2704, 0.2729, 0.2903, 0.2513,\n",
      "        0.2808, 0.2748, 0.2662, 0.2719, 0.2486, 0.2578, 0.2820, 0.2658, 0.2590],\n",
      "       grad_fn=<SqrtBackward>)\n",
      "tensor(0.2635, grad_fn=<MeanBackward0>)\n",
      "\n"
     ]
    },
    {
     "name": "stderr",
     "output_type": "stream",
     "text": [
      " 80%|████████  | 40/50 [06:05<01:47, 10.73s/it]"
     ]
    },
    {
     "name": "stdout",
     "output_type": "stream",
     "text": [
      "tensor(1016.6048, grad_fn=<MulBackward0>)\n",
      "tensor([0.2455, 0.2725, 0.2646, 0.2342, 0.2712, 0.2847, 0.2648, 0.2447, 0.2803,\n",
      "        0.2674, 0.2424, 0.2335, 0.2465, 0.2820, 0.2620, 0.2629, 0.2756, 0.2654,\n",
      "        0.2668, 0.2636, 0.2797, 0.2600, 0.2536, 0.2865, 0.2478, 0.2553, 0.2287,\n",
      "        0.2197, 0.2934, 0.2614, 0.2717, 0.2767, 0.2704, 0.2729, 0.2903, 0.2513,\n",
      "        0.2808, 0.2748, 0.2662, 0.2719, 0.2486, 0.2578, 0.2820, 0.2658, 0.2590],\n",
      "       grad_fn=<SqrtBackward>)\n",
      "tensor(0.2635, grad_fn=<MeanBackward0>)\n",
      "\n"
     ]
    },
    {
     "name": "stderr",
     "output_type": "stream",
     "text": [
      " 90%|█████████ | 45/50 [07:10<01:00, 12.10s/it]"
     ]
    },
    {
     "name": "stdout",
     "output_type": "stream",
     "text": [
      "tensor(1016.0692, grad_fn=<MulBackward0>)\n",
      "tensor([0.2455, 0.2725, 0.2647, 0.2340, 0.2712, 0.2847, 0.2648, 0.2447, 0.2803,\n",
      "        0.2674, 0.2424, 0.2335, 0.2465, 0.2820, 0.2620, 0.2629, 0.2756, 0.2654,\n",
      "        0.2668, 0.2636, 0.2797, 0.2600, 0.2536, 0.2865, 0.2478, 0.2553, 0.2287,\n",
      "        0.2197, 0.2934, 0.2614, 0.2717, 0.2767, 0.2704, 0.2729, 0.2903, 0.2513,\n",
      "        0.2808, 0.2748, 0.2662, 0.2719, 0.2486, 0.2578, 0.2820, 0.2658, 0.2590],\n",
      "       grad_fn=<SqrtBackward>)\n",
      "tensor(0.2635, grad_fn=<MeanBackward0>)\n",
      "\n"
     ]
    },
    {
     "name": "stderr",
     "output_type": "stream",
     "text": [
      "100%|██████████| 50/50 [08:22<00:00, 10.06s/it]\n"
     ]
    }
   ],
   "source": [
    "optimizer = torch.optim.Adam(model.parameters(), lr=0.01)\n",
    "for i in tqdm(range(50)):\n",
    "    ll = -1 * model(X).mean()\n",
    "    if i % 5 == 0:\n",
    "        print(ll)\n",
    "        res = torch.sqrt(torch.mean(torch.square(model.impute(X_val) - X_val), axis=0))\n",
    "        print(res)\n",
    "        print(torch.mean(res))\n",
    "        print()\n",
    "    ll.backward()\n",
    "    optimizer.step()"
   ]
  },
  {
   "cell_type": "code",
   "execution_count": 116,
   "id": "03405950",
   "metadata": {},
   "outputs": [],
   "source": [
    "loss = nn.MSELoss(reduction='none')\n"
   ]
  },
  {
   "cell_type": "code",
   "execution_count": 102,
   "id": "4acc2543",
   "metadata": {},
   "outputs": [
    {
     "data": {
      "text/plain": [
       "tensor(0.2878, grad_fn=<SqrtBackward>)"
      ]
     },
     "execution_count": 102,
     "metadata": {},
     "output_type": "execute_result"
    }
   ],
   "source": [
    "torch.sqrt(mse(model.impute(X), X))"
   ]
  },
  {
   "cell_type": "code",
   "execution_count": 82,
   "id": "5283868a",
   "metadata": {},
   "outputs": [],
   "source": [
    "X_val, Y_val, ind = val_loader\n",
    "X_val = X_val.float()\n",
    "\n",
    "X_val = (X_val + 0.5) * 0.95 + 0.025"
   ]
  },
  {
   "cell_type": "code",
   "execution_count": 117,
   "id": "100ec0bc",
   "metadata": {},
   "outputs": [
    {
     "data": {
      "text/plain": [
       "torch.Size([])"
      ]
     },
     "execution_count": 117,
     "metadata": {},
     "output_type": "execute_result"
    }
   ],
   "source": [
    "mse(model.impute(X_val), X_val).shape"
   ]
  },
  {
   "cell_type": "code",
   "execution_count": 118,
   "id": "5515bd37",
   "metadata": {},
   "outputs": [
    {
     "data": {
      "text/plain": [
       "tensor([0.3116, 0.2984, 0.2690, 0.2476, 0.2911, 0.2740, 0.2750, 0.2679, 0.3063,\n",
       "        0.2662, 0.2315, 0.2128, 0.2759, 0.4540, 0.2633, 0.3141, 0.2844, 0.2760,\n",
       "        0.4000, 0.2619, 0.2804, 0.2878, 0.3503, 0.2814, 0.2381, 0.2558, 0.2488,\n",
       "        0.2546, 0.3227, 0.2678, 0.2810, 0.2782, 0.2765, 0.3059, 0.2811, 0.2513,\n",
       "        0.2733, 0.3512, 0.3701, 0.2491, 0.2498, 0.5043, 0.2763, 0.2590, 0.2682],\n",
       "       grad_fn=<SqrtBackward>)"
      ]
     },
     "execution_count": 118,
     "metadata": {},
     "output_type": "execute_result"
    }
   ],
   "source": [
    "torch.sqrt(torch.mean(torch.square(model.impute(X_val) - X_val), axis=0))"
   ]
  },
  {
   "cell_type": "code",
   "execution_count": 105,
   "id": "cb8b4a80",
   "metadata": {},
   "outputs": [],
   "source": [
    "missing_pattern = np.isnan(percentile_rank_chars).reshape(percentile_rank_chars.shape[0] *\n",
    "                                                          percentile_rank_chars.shape[1],45)"
   ]
  },
  {
   "cell_type": "code",
   "execution_count": 106,
   "id": "75459f50",
   "metadata": {},
   "outputs": [],
   "source": [
    "all_patterns = set()\n",
    "for i in range(missing_pattern.shape[0]):\n",
    "    all_patterns.add(tuple(missing_pattern[i]))"
   ]
  },
  {
   "cell_type": "code",
   "execution_count": 107,
   "id": "b98a6e88",
   "metadata": {},
   "outputs": [
    {
     "data": {
      "text/plain": [
       "14568"
      ]
     },
     "execution_count": 107,
     "metadata": {},
     "output_type": "execute_result"
    }
   ],
   "source": [
    "len(all_patterns)"
   ]
  },
  {
   "cell_type": "code",
   "execution_count": 111,
   "id": "3b5b7750",
   "metadata": {},
   "outputs": [
    {
     "data": {
      "text/plain": [
       "35184372088832"
      ]
     },
     "execution_count": 111,
     "metadata": {},
     "output_type": "execute_result"
    }
   ],
   "source": [
    "2**45"
   ]
  },
  {
   "cell_type": "code",
   "execution_count": null,
   "id": "9ff211b0",
   "metadata": {},
   "outputs": [],
   "source": []
  }
 ],
 "metadata": {
  "kernelspec": {
   "display_name": "Python 3 (ipykernel)",
   "language": "python",
   "name": "python3"
  },
  "language_info": {
   "codemirror_mode": {
    "name": "ipython",
    "version": 3
   },
   "file_extension": ".py",
   "mimetype": "text/x-python",
   "name": "python",
   "nbconvert_exporter": "python",
   "pygments_lexer": "ipython3",
   "version": "3.8.8"
  }
 },
 "nbformat": 4,
 "nbformat_minor": 5
}

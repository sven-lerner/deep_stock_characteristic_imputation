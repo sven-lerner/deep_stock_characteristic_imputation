{
 "cells": [
  {
   "cell_type": "markdown",
   "id": "138589c4",
   "metadata": {},
   "source": [
    "# OOS "
   ]
  },
  {
   "cell_type": "code",
   "execution_count": 1,
   "id": "f984fa0e",
   "metadata": {},
   "outputs": [],
   "source": [
    "import data_loading\n",
    "import numpy as np"
   ]
  },
  {
   "cell_type": "code",
   "execution_count": 173,
   "id": "46c75f60",
   "metadata": {},
   "outputs": [
    {
     "name": "stdout",
     "output_type": "stream",
     "text": [
      "Index(['A2ME', 'AC', 'AT', 'ATO', 'B2M', 'BETA_d', 'BETA_m', 'C2A', 'CF2B',\n",
      "       'CF2P', 'CTO', 'D2A', 'D2P', 'DPI2A', 'E2P', 'FC2Y', 'HIGH52', 'INV',\n",
      "       'IdioVol', 'LEV', 'ME', 'NI', 'NOA', 'OA', 'OL', 'OP', 'PCM', 'PM',\n",
      "       'PROF', 'Q', 'R12_2', 'R12_7', 'R2_1', 'R36_13', 'R60_13', 'RNA', 'ROA',\n",
      "       'ROE', 'RVAR', 'S2P', 'SGA2S', 'SPREAD', 'SUV', 'TURN', 'VAR', 'return',\n",
      "       'date', 'permno', 'monthly_update'],\n",
      "      dtype='object')\n",
      "['A2ME' 'AC' 'AT' 'ATO' 'B2M' 'BETA_d' 'BETA_m' 'C2A' 'CF2B' 'CF2P' 'CTO'\n",
      " 'D2A' 'D2P' 'DPI2A' 'E2P' 'FC2Y' 'HIGH52' 'INV' 'IdioVol' 'LEV' 'ME' 'NI'\n",
      " 'NOA' 'OA' 'OL' 'OP' 'PCM' 'PM' 'PROF' 'Q' 'R12_2' 'R12_7' 'R2_1'\n",
      " 'R36_13' 'R60_13' 'RNA' 'ROA' 'ROE' 'RVAR' 'S2P' 'SGA2S' 'SPREAD' 'SUV'\n",
      " 'TURN' 'VAR']\n"
     ]
    },
    {
     "name": "stderr",
     "output_type": "stream",
     "text": [
      "100%|████████████████████████████████████████████████████████████████████████████| 648/648 [03:15<00:00,  3.32it/s]\n"
     ]
    }
   ],
   "source": [
    "percentile_rank_chars, _, chars, dates,\\\n",
    "    returns, _, rfts, monthly_updates = data_loading.get_data_panel(\"../Data/raw_chars_returns_df_all_dates_yearly_fb.fthr\",\n",
    "                                                            \"../Data/ff_rf.csv\", computstat_data_present_filter=True,\n",
    "                                                                              financial_firm_filter=False)"
   ]
  },
  {
   "cell_type": "code",
   "execution_count": 3,
   "id": "0b4f606d",
   "metadata": {},
   "outputs": [],
   "source": [
    "excess_returns = returns - np.expand_dims(np.array(rfts), axis=1)"
   ]
  },
  {
   "cell_type": "code",
   "execution_count": 4,
   "id": "4ab9b2c9",
   "metadata": {},
   "outputs": [
    {
     "data": {
      "text/plain": [
       "(648, 22630)"
      ]
     },
     "execution_count": 4,
     "metadata": {},
     "output_type": "execute_result"
    }
   ],
   "source": [
    "excess_returns.shape"
   ]
  },
  {
   "cell_type": "code",
   "execution_count": 5,
   "id": "301ec9f1",
   "metadata": {},
   "outputs": [],
   "source": [
    "rft_map = {i: rf for i, rf in enumerate(rfts)}"
   ]
  },
  {
   "cell_type": "code",
   "execution_count": 6,
   "id": "0078111e",
   "metadata": {},
   "outputs": [],
   "source": [
    "import numpy as np"
   ]
  },
  {
   "cell_type": "code",
   "execution_count": 7,
   "id": "d80097c8",
   "metadata": {},
   "outputs": [],
   "source": [
    "any_present = np.any(~np.isnan(percentile_rank_chars), axis=2)\n",
    "present_counts = np.sum(np.sum(np.logical_and(~np.isnan(percentile_rank_chars),\n",
    "                                             np.expand_dims(any_present, axis=2)), axis=0), axis=0)\n",
    "del any_present"
   ]
  },
  {
   "cell_type": "code",
   "execution_count": 8,
   "id": "00a34a3e",
   "metadata": {},
   "outputs": [
    {
     "name": "stdout",
     "output_type": "stream",
     "text": [
      "['ME' 'R2_1' 'D2P' 'SPREAD' 'RVAR' 'VAR' 'IdioVol' 'TURN' 'SUV' 'R12_7'\n",
      " 'CF2P' 'E2P' 'R12_2' 'S2P' 'B2M' 'CF2B' 'AT' 'A2ME' 'Q' 'PROF' 'PM' 'PCM'\n",
      " 'BETA_m' 'C2A' 'OL' 'ROE' 'CTO' 'ATO' 'LEV' 'NOA' 'ROA' 'RNA' 'OP' 'NI'\n",
      " 'INV' 'BETA_d' 'R36_13' 'D2A' 'FC2Y' 'SGA2S' 'OA' 'AC' 'HIGH52' 'R60_13'\n",
      " 'DPI2A']\n"
     ]
    }
   ],
   "source": [
    "ordering = np.argsort(present_counts)[::-1]\n",
    "print(chars[ordering])\n",
    "percentile_rank_chars = percentile_rank_chars[:,:,ordering]\n",
    "chars = chars[ordering]"
   ]
  },
  {
   "cell_type": "code",
   "execution_count": 9,
   "id": "da0fc123",
   "metadata": {},
   "outputs": [],
   "source": [
    "del percentile_rank_chars"
   ]
  },
  {
   "cell_type": "code",
   "execution_count": 10,
   "id": "74e95ab3",
   "metadata": {},
   "outputs": [],
   "source": [
    "def load_imputation(name, full=False):\n",
    "    base_path = '../Data/'\n",
    "    result_file_name = base_path + name + '.npz'\n",
    "    res = np.load(result_file_name)\n",
    "    if not full:\n",
    "        return res['data']\n",
    "    else:\n",
    "        return res['data'], res['dates'], res['permnos'], res['chars']"
   ]
  },
  {
   "cell_type": "code",
   "execution_count": 11,
   "id": "e9de3826",
   "metadata": {},
   "outputs": [],
   "source": [
    "from torch.utils.data import TensorDataset, DataLoader, Dataset"
   ]
  },
  {
   "cell_type": "code",
   "execution_count": 12,
   "id": "51b40558",
   "metadata": {},
   "outputs": [
    {
     "data": {
      "text/plain": [
       "<module 'eval_fn' from '/home/selwin_p_george/CS 236 Project/deep_stock_characteristic_imputation/Code/eval_fn.py'>"
      ]
     },
     "execution_count": 12,
     "metadata": {},
     "output_type": "execute_result"
    }
   ],
   "source": [
    "import importlib\n",
    "import eval_fn\n",
    "importlib.reload(data_loading)\n",
    "importlib.reload(eval_fn)"
   ]
  },
  {
   "cell_type": "code",
   "execution_count": 13,
   "id": "5aa76fd9",
   "metadata": {},
   "outputs": [
    {
     "name": "stdout",
     "output_type": "stream",
     "text": [
      "loaded\n",
      "1578149\n"
     ]
    },
    {
     "name": "stderr",
     "output_type": "stream",
     "text": [
      "100%|████████████████████████████████████████████████████████████████████████████| 400/400 [00:11<00:00, 36.25it/s]\n"
     ]
    },
    {
     "name": "stdout",
     "output_type": "stream",
     "text": [
      "loaded\n",
      "loaded\n",
      "loaded\n"
     ]
    },
    {
     "name": "stderr",
     "output_type": "stream",
     "text": [
      "100%|████████████████████████████████████████████████████████████████████████████| 100/100 [00:02<00:00, 49.38it/s]\n",
      "100%|████████████████████████████████████████████████████████████████████████████| 145/145 [00:02<00:00, 62.28it/s]\n"
     ]
    }
   ],
   "source": [
    "return_lag = 3\n",
    "gamma_ts = load_imputation('MAR_xs_factors_cs236_2')\n",
    "print(\"loaded\")\n",
    "first_masked_data = load_imputation('MAR_fit_data_cs236')[:, :, ordering]\n",
    "train_data_seq = data_loading.get_data(first_masked_data[:400], min_chars_present=10, fill_val=-1, \n",
    "                                   gamma_ts=gamma_ts[:400], ordered=True,\n",
    "                                        return_panel=excess_returns[return_lag:400+return_lag],\n",
    "                                      t_start=return_lag)\n",
    "\n",
    "del first_masked_data\n",
    "print(\"loaded\")\n",
    "masked_data = load_imputation('MAR_fit_data_cs236_2')[:, :, ordering]\n",
    "print(\"loaded\")\n",
    "eval_data = load_imputation('MAR_eval_data_cs236_2')[:, :, ordering]\n",
    "print(\"loaded\")\n",
    "eval_data_seq = data_loading.get_data(masked_data[400:500], min_chars_present=10, fill_val=-1, \n",
    "                                   gamma_ts=gamma_ts[400:500], ordered=False,\n",
    "                    oos_mask=~np.isnan(eval_data[400:500]), oos_eval_data=eval_data[400:500],\n",
    "                                        return_panel=excess_returns[400+return_lag:500+return_lag],\n",
    "                                      t_start=return_lag+400)\n",
    "test_data_seq = data_loading.get_data(masked_data[500:-return_lag], min_chars_present=10, fill_val=-1, \n",
    "                                   gamma_ts=gamma_ts[500:-return_lag], ordered=False,\n",
    "                    oos_mask=~np.isnan(eval_data[500:-return_lag]), oos_eval_data=eval_data[500:-return_lag],\n",
    "                                        return_panel=excess_returns[500+return_lag:],\n",
    "                                      t_start=return_lag+500)\n",
    "del masked_data\n",
    "del eval_data"
   ]
  },
  {
   "cell_type": "code",
   "execution_count": 14,
   "id": "0a7b39e4",
   "metadata": {},
   "outputs": [
    {
     "data": {
      "text/plain": [
       "(8745, 2970, 2700)"
      ]
     },
     "execution_count": 14,
     "metadata": {},
     "output_type": "execute_result"
    }
   ],
   "source": [
    "len(train_data_seq), len(eval_data_seq), len(test_data_seq),"
   ]
  },
  {
   "cell_type": "code",
   "execution_count": 15,
   "id": "2bb87a65",
   "metadata": {},
   "outputs": [
    {
     "data": {
      "text/plain": [
       "<module 'data_loading' from '/home/selwin_p_george/CS 236 Project/deep_stock_characteristic_imputation/Code/data_loading.py'>"
      ]
     },
     "execution_count": 15,
     "metadata": {},
     "output_type": "execute_result"
    }
   ],
   "source": [
    "importlib.reload(data_loading)"
   ]
  },
  {
   "cell_type": "code",
   "execution_count": 31,
   "id": "3ca5f210",
   "metadata": {},
   "outputs": [],
   "source": [
    "chunk_size = 20\n",
    "batch_size = 100\n",
    "\n",
    "all_dataset = data_loading.ListDatasetWithFactors(train_data_seq, batch_size=chunk_size,return_returns=True)\n",
    "train_data_loader = data_loading.DataLoader(all_dataset, batch_size=batch_size, shuffle=True, num_workers=4)\n",
    "\n",
    "all_dataset = data_loading.ListDatasetWithFactors(eval_data_seq, batch_size=chunk_size,\n",
    "                                                 return_oos_data=True,return_returns=True)\n",
    "eval_data_loader = data_loading.DataLoader(all_dataset, batch_size=batch_size, shuffle=True, num_workers=4)\n",
    "\n",
    "all_dataset = data_loading.ListDatasetWithFactors(test_data_seq, batch_size=chunk_size,\n",
    "                                                 return_oos_data=True,return_returns=True)\n",
    "test_data_loader = data_loading.DataLoader(all_dataset, batch_size=batch_size, shuffle=True, num_workers=4)\n"
   ]
  },
  {
   "cell_type": "code",
   "execution_count": 17,
   "id": "b934760c",
   "metadata": {},
   "outputs": [],
   "source": [
    "import models\n",
    "import loss_functions\n",
    "from tqdm.notebook import tqdm"
   ]
  },
  {
   "cell_type": "code",
   "execution_count": 18,
   "id": "eb629dd8",
   "metadata": {},
   "outputs": [],
   "source": [
    "import numpy as np\n",
    "import csv\n",
    "import pandas as pd\n",
    "import torch\n",
    "import torch.nn as nn\n",
    "from torch.optim.lr_scheduler import MultiStepLR\n",
    "import time"
   ]
  },
  {
   "cell_type": "code",
   "execution_count": 19,
   "id": "381c9fd7",
   "metadata": {
    "scrolled": true
   },
   "outputs": [
    {
     "data": {
      "text/plain": [
       "<module 'models' from '/home/selwin_p_george/CS 236 Project/deep_stock_characteristic_imputation/Code/models.py'>"
      ]
     },
     "execution_count": 19,
     "metadata": {},
     "output_type": "execute_result"
    }
   ],
   "source": [
    "import models\n",
    "import loss_functions\n",
    "importlib.reload(models)"
   ]
  },
  {
   "cell_type": "code",
   "execution_count": 20,
   "id": "336e1466",
   "metadata": {},
   "outputs": [
    {
     "data": {
      "text/plain": [
       "<module 'loss_functions' from '/home/selwin_p_george/CS 236 Project/deep_stock_characteristic_imputation/Code/loss_functions.py'>"
      ]
     },
     "execution_count": 20,
     "metadata": {},
     "output_type": "execute_result"
    }
   ],
   "source": [
    "import importlib\n",
    "importlib.reload(models)\n",
    "importlib.reload(loss_functions)"
   ]
  },
  {
   "cell_type": "markdown",
   "id": "bc6501d4",
   "metadata": {},
   "source": [
    "# Returns"
   ]
  },
  {
   "cell_type": "code",
   "execution_count": 22,
   "id": "bc2cbb83",
   "metadata": {},
   "outputs": [],
   "source": [
    "def markowitz(factors):\n",
    "    cov = np.cov(factors.T)\n",
    "    mu = np.mean(factors, axis=0)\n",
    "    print(cov.shape, mu.shape)\n",
    "    return np.linalg.solve(cov, mu) "
   ]
  },
  {
   "cell_type": "code",
   "execution_count": 25,
   "id": "c131d235",
   "metadata": {},
   "outputs": [
    {
     "data": {
      "text/plain": [
       "<module 'models' from '/home/selwin_p_george/CS 236 Project/deep_stock_characteristic_imputation/Code/models.py'>"
      ]
     },
     "execution_count": 25,
     "metadata": {},
     "output_type": "execute_result"
    }
   ],
   "source": [
    "importlib.reload(models)"
   ]
  },
  {
   "cell_type": "code",
   "execution_count": 36,
   "id": "45af3914",
   "metadata": {},
   "outputs": [],
   "source": [
    "exp_batch_size=100"
   ]
  },
  {
   "cell_type": "code",
   "execution_count": 56,
   "id": "c672d34a",
   "metadata": {},
   "outputs": [
    {
     "name": "stdout",
     "output_type": "stream",
     "text": [
      "Parameter containing:\n",
      "tensor([[0., 0., 0.,  ..., 0., 0., 0.],\n",
      "        [1., 0., 0.,  ..., 0., 0., 0.],\n",
      "        [1., 1., 0.,  ..., 0., 0., 0.],\n",
      "        ...,\n",
      "        [1., 1., 1.,  ..., 1., 0., 0.],\n",
      "        [1., 1., 1.,  ..., 1., 1., 0.],\n",
      "        [1., 1., 1.,  ..., 1., 1., 1.]], requires_grad=True) torch.Size([46, 45])\n",
      "torch device is cuda:0\n",
      "epoch 0\n"
     ]
    },
    {
     "data": {
      "application/vnd.jupyter.widget-view+json": {
       "model_id": "7a0ceb3eaae34c42a83506f93d3ce21b",
       "version_major": 2,
       "version_minor": 0
      },
      "text/plain": [
       "  0%|          | 0/370 [00:00<?, ?it/s]"
      ]
     },
     "metadata": {},
     "output_type": "display_data"
    },
    {
     "name": "stdout",
     "output_type": "stream",
     "text": [
      "epoch 0, avg ar model loss 33.226531982421875\n",
      "epoch 0 took 0.397344179948171 minutes\n",
      "epoch 1\n"
     ]
    },
    {
     "data": {
      "application/vnd.jupyter.widget-view+json": {
       "model_id": "76d4679fc5b84e97b7f4a1d62598a085",
       "version_major": 2,
       "version_minor": 0
      },
      "text/plain": [
       "  0%|          | 0/370 [00:00<?, ?it/s]"
      ]
     },
     "metadata": {},
     "output_type": "display_data"
    },
    {
     "name": "stdout",
     "output_type": "stream",
     "text": [
      "epoch 1, avg ar model loss -2.35969614982605\n",
      "epoch 1 took 0.4177919546763102 minutes\n"
     ]
    }
   ],
   "source": [
    "torch.manual_seed(0)\n",
    "ar_model = models.Beta_NADE(hidden_state_dim=0, latent_dimensions=15, predict_returns=True)\n",
    "exp_batch_size=100\n",
    "\n",
    "num_epochs = 2\n",
    "eval_freq = 10\n",
    "\n",
    "optimizer = torch.optim.AdamW(ar_model.parameters(), lr=0.01, weight_decay=0.1)\n",
    "\n",
    "\n",
    "scheduler = MultiStepLR(optimizer, [20, 35], gamma=0.1, last_epoch=-1)\n",
    "\n",
    "device = torch.device(\"cuda:0\" if torch.cuda.is_available() else \"cpu\")\n",
    "print(f'torch device is {device}')\n",
    "\n",
    "ar_model = ar_model.to(device)\n",
    "loss_fn = loss_functions.beta_ll_loss\n",
    "\n",
    "\n",
    "#basic training loop for local development\n",
    "for epoch in range(num_epochs):\n",
    "    epoch_start = time.time()\n",
    "    losses = []\n",
    "    ar_losses = []\n",
    "    # Forward pass\n",
    "    print(f'epoch {epoch}')\n",
    "    for i, data in enumerate(tqdm(train_data_loader)):\n",
    "\n",
    "        ts_idxs, stock_idxs, data, mask, ordered_mask, factors, return_sample = data\n",
    "        assert not torch.isnan(data).any()\n",
    "#         print(data, mask)\n",
    "        assert not torch.logical_and(data <= 0, ~mask).any(), torch.min(data * mask)\n",
    "\n",
    "        C_train = data.transpose_(0, 1).float().to(device)[:-1]\n",
    "\n",
    "        C_mask = mask.float().to(device).transpose_(0, 1)[:-1]\n",
    "        return_sample = return_sample.float().to(device).transpose_(0, 1)[:-1]\n",
    "        C_ordered_mask = ordered_mask.float().to(device).transpose_(0, 1)[:-1]\n",
    "\n",
    "        factors = factors.transpose_(0, 1).float().to(device)[1:]\n",
    "\n",
    "        train_input = torch.cat([C_train, C_mask, factors], axis=2)\n",
    "\n",
    "\n",
    "        if train_input.shape[1] > 0:\n",
    "\n",
    "            batch_size, batch_length, dim = C_train.shape\n",
    "            model_input = C_train.reshape(batch_size * batch_length, dim)\n",
    "\n",
    "            C_ordered_mask_reshape = C_ordered_mask.reshape(batch_size * batch_length, 45)\n",
    "            C_train_reshape = C_train.reshape(batch_size * batch_length, 45)\n",
    "            return_sample_reshape = return_sample.reshape(batch_size * batch_length, 1)\n",
    "\n",
    "            alphas_pred, betas_pred, return_mus, return_sigmas = ar_model(model_input)\n",
    "\n",
    "            ar_loss = loss_fn(C_train_reshape,\n",
    "                              alphas_pred, betas_pred, mask=C_ordered_mask_reshape,\n",
    "                             reduce_axis=1, ret_mus=return_mus, ret_sigmas=return_sigmas,\n",
    "                             return_gts=return_sample_reshape).mean()\n",
    "\n",
    "            net_loss = ar_loss\n",
    "            net_loss.backward()\n",
    "            ar_losses.append(ar_loss.data.detach().cpu().numpy())\n",
    "\n",
    "\n",
    "            optimizer.step()\n",
    "            ar_model.zero_grad()\n",
    "            optimizer.zero_grad()   \n",
    "\n",
    "    print(f'epoch {epoch}, avg ar model loss {np.mean(ar_losses)}')\n",
    "    print(f'epoch {epoch} took {(time.time() - epoch_start)/60.0} minutes')\n",
    "    scheduler.step()\n",
    "    if (epoch + 1) % eval_freq == 0 or np.mean(ar_losses) <= -15:\n",
    "        print(eval_fn.eval_model_is(chars, exp_batch_size, None, ar_model, train_data_loader, return_metrics=True, expect_oos_data=False))\n",
    "        ar_model.predict_returns = False\n",
    "        print(eval_fn.eval_model_oos(chars, exp_batch_size, None, ar_model, eval_data_loader))\n",
    "        ar_model.predict_returns = True"
   ]
  },
  {
   "cell_type": "code",
   "execution_count": 83,
   "id": "bca8b86f",
   "metadata": {},
   "outputs": [
    {
     "data": {
      "text/plain": [
       "<module 'loss_functions' from '/home/selwin_p_george/CS 236 Project/deep_stock_characteristic_imputation/Code/loss_functions.py'>"
      ]
     },
     "execution_count": 83,
     "metadata": {},
     "output_type": "execute_result"
    }
   ],
   "source": [
    "importlib.reload(models)\n",
    "importlib.reload(eval_fn)\n",
    "importlib.reload(loss_functions)\n"
   ]
  },
  {
   "cell_type": "code",
   "execution_count": 84,
   "id": "9bc7045f",
   "metadata": {},
   "outputs": [
    {
     "data": {
      "application/vnd.jupyter.widget-view+json": {
       "model_id": "142b781d56c84685a66c13b64a1ab06c",
       "version_major": 2,
       "version_minor": 0
      },
      "text/plain": [
       "  0%|          | 0/64 [00:00<?, ?it/s]"
      ]
     },
     "metadata": {},
     "output_type": "display_data"
    },
    {
     "name": "stdout",
     "output_type": "stream",
     "text": [
      "([('ME', 0.27624345), ('R2_1', 0.29071453), ('D2P', 0.2602412), ('SPREAD', 0.24409224), ('RVAR', 0.1425582), ('VAR', 0.14030018), ('IdioVol', 0.14934045), ('TURN', 0.28621265), ('SUV', 0.28335705), ('R12_7', 0.28669268), ('CF2P', 0.2540215), ('E2P', 0.26428276), ('R12_2', 0.26701814), ('S2P', 0.292448), ('B2M', 0.1486726), ('CF2B', 0.28124312), ('AT', 0.2548259), ('A2ME', 0.28786734), ('Q', 0.26716834), ('PROF', 0.29937845), ('PM', 0.21224505), ('PCM', 0.28532457), ('BETA_m', 0.25047293), ('C2A', 0.2855273), ('OL', 0.289188), ('ROE', 0.29118013), ('CTO', 0.2842887), ('ATO', 0.29274514), ('LEV', 0.28032345), ('NOA', 0.29036328), ('ROA', 0.26882234), ('RNA', 0.27770853), ('OP', 0.1759143), ('NI', 0.28737843), ('INV', 0.17837805), ('BETA_d', 0.2333447), ('R36_13', 0.20897608), ('D2A', 0.2842144), ('FC2Y', 0.1648383), ('SGA2S', 0.2546367), ('OA', 0.29199597), ('AC', 0.2915303), ('HIGH52', 0.15423967), ('R60_13', 0.17509651), ('DPI2A', 0.25642553)], 0.2547636, -1.1918643)\n"
     ]
    }
   ],
   "source": [
    "ar_model.predict_returns = False\n",
    "print(eval_fn.eval_model_oos(chars, exp_batch_size, None, ar_model, eval_data_loader))\n",
    "ar_model.predict_returns = True"
   ]
  },
  {
   "cell_type": "code",
   "execution_count": 42,
   "id": "33ac1cc5",
   "metadata": {},
   "outputs": [
    {
     "data": {
      "text/plain": [
       "<module 'eval_fn' from '/home/selwin_p_george/CS 236 Project/deep_stock_characteristic_imputation/Code/eval_fn.py'>"
      ]
     },
     "execution_count": 42,
     "metadata": {},
     "output_type": "execute_result"
    }
   ],
   "source": [
    "importlib.reload(eval_fn)"
   ]
  },
  {
   "cell_type": "code",
   "execution_count": 46,
   "id": "d9a94b3a",
   "metadata": {
    "scrolled": true
   },
   "outputs": [
    {
     "data": {
      "application/vnd.jupyter.widget-view+json": {
       "model_id": "1094ec3f191e4d0ca38a7f4a2b19ab09",
       "version_major": 2,
       "version_minor": 0
      },
      "text/plain": [
       "  0%|          | 0/370 [00:00<?, ?it/s]"
      ]
     },
     "metadata": {},
     "output_type": "display_data"
    },
    {
     "data": {
      "application/vnd.jupyter.widget-view+json": {
       "model_id": "175a8a6731344fa49015fe901cbbec86",
       "version_major": 2,
       "version_minor": 0
      },
      "text/plain": [
       "  0%|          | 0/64 [00:00<?, ?it/s]"
      ]
     },
     "metadata": {},
     "output_type": "display_data"
    },
    {
     "name": "stdout",
     "output_type": "stream",
     "text": [
      "(15, 15) (15,)\n"
     ]
    },
    {
     "data": {
      "text/plain": [
       "(1.0377766770696475, 0.1495394521971675)"
      ]
     },
     "execution_count": 46,
     "metadata": {},
     "output_type": "execute_result"
    }
   ],
   "source": [
    "is_hidden, is_returns = eval_fn.get_factors_returns(expected_batch_dim=exp_batch_size, model=None, ar_model=ar_model, \n",
    "                                            data_loader=train_data_loader, expect_oos_data=False)\n",
    "\n",
    "eval_hidden, eval_returns = eval_fn.get_factors_returns(expected_batch_dim=exp_batch_size, model=None,\n",
    "                                                        ar_model=ar_model, \n",
    "                                            data_loader=eval_data_loader, expect_oos_data=True)\n",
    "\n",
    "\n",
    "is_factors = eval_fn.get_factors(is_hidden, is_returns).squeeze()\n",
    "\n",
    "eval_factors = eval_fn.get_factors(eval_hidden, eval_returns).squeeze()\n",
    "\n",
    "weights = markowitz(is_factors.squeeze())\n",
    "\n",
    "np.mean(is_factors @ weights) / np.std(is_factors @ weights),\\\n",
    "    np.mean(eval_factors @ weights) / np.std(eval_factors @ weights)"
   ]
  },
  {
   "cell_type": "code",
   "execution_count": 47,
   "id": "af75f6f0",
   "metadata": {
    "scrolled": true
   },
   "outputs": [
    {
     "data": {
      "application/vnd.jupyter.widget-view+json": {
       "model_id": "424f87ea672d4acf93ddf3820b218321",
       "version_major": 2,
       "version_minor": 0
      },
      "text/plain": [
       "  0%|          | 0/77 [00:00<?, ?it/s]"
      ]
     },
     "metadata": {},
     "output_type": "display_data"
    },
    {
     "data": {
      "text/plain": [
       "0.19696000456025206"
      ]
     },
     "execution_count": 47,
     "metadata": {},
     "output_type": "execute_result"
    }
   ],
   "source": [
    "test_hidden, test_returns = eval_fn.get_factors_returns(expected_batch_dim=exp_batch_size, model=None,\n",
    "                                                        ar_model=ar_model, \n",
    "                                            data_loader=test_data_loader, expect_oos_data=True)\n",
    "test_factors = eval_fn.get_factors(test_hidden, test_returns).squeeze()\n",
    "np.mean(test_factors @ weights) / np.std(test_factors @ weights)"
   ]
  },
  {
   "cell_type": "code",
   "execution_count": 226,
   "id": "ae1ee503",
   "metadata": {},
   "outputs": [
    {
     "data": {
      "text/plain": [
       "<module 'models' from '/home/selwin_p_george/CS 236 Project/Code/models.py'>"
      ]
     },
     "execution_count": 226,
     "metadata": {},
     "output_type": "execute_result"
    }
   ],
   "source": [
    "importlib.reload(eval_fn)\n",
    "importlib.reload(models)\n"
   ]
  },
  {
   "cell_type": "code",
   "execution_count": 203,
   "id": "e1834442",
   "metadata": {},
   "outputs": [
    {
     "data": {
      "text/plain": [
       "<module 'models' from '/home/selwin_p_george/CS 236 Project/deep_stock_characteristic_imputation/Code/models.py'>"
      ]
     },
     "execution_count": 203,
     "metadata": {},
     "output_type": "execute_result"
    }
   ],
   "source": [
    "importlib.reload(models)"
   ]
  },
  {
   "cell_type": "code",
   "execution_count": 209,
   "id": "155484c9",
   "metadata": {
    "scrolled": true
   },
   "outputs": [
    {
     "name": "stdout",
     "output_type": "stream",
     "text": [
      "Parameter containing:\n",
      "tensor([[1., 1., 1.,  ..., 0., 0., 0.],\n",
      "        [1., 1., 1.,  ..., 0., 0., 0.],\n",
      "        [1., 1., 1.,  ..., 0., 0., 0.],\n",
      "        ...,\n",
      "        [1., 1., 1.,  ..., 1., 0., 0.],\n",
      "        [1., 1., 1.,  ..., 1., 1., 0.],\n",
      "        [1., 1., 1.,  ..., 1., 1., 1.]], requires_grad=True) torch.Size([46, 75])\n",
      "torch device is cuda:0\n",
      "epoch 0\n"
     ]
    },
    {
     "data": {
      "application/vnd.jupyter.widget-view+json": {
       "model_id": "9eb927be7e1849489c9d4b20d54c3e60",
       "version_major": 2,
       "version_minor": 0
      },
      "text/plain": [
       "  0%|          | 0/370 [00:00<?, ?it/s]"
      ]
     },
     "metadata": {},
     "output_type": "display_data"
    },
    {
     "name": "stdout",
     "output_type": "stream",
     "text": [
      "epoch 0 avg lstm loss -37.02377700805664, avg ar model loss 37.53178405761719\n",
      "epoch 0 took 0.40328752994537354 minutes\n",
      "epoch 1\n"
     ]
    },
    {
     "data": {
      "application/vnd.jupyter.widget-view+json": {
       "model_id": "e2f25a58966946db9d91528c4e4cfb9c",
       "version_major": 2,
       "version_minor": 0
      },
      "text/plain": [
       "  0%|          | 0/370 [00:00<?, ?it/s]"
      ]
     },
     "metadata": {},
     "output_type": "display_data"
    },
    {
     "name": "stdout",
     "output_type": "stream",
     "text": [
      "epoch 1 avg lstm loss -37.01823425292969, avg ar model loss -16.200931549072266\n",
      "epoch 1 took 0.41943745613098143 minutes\n",
      "epoch 2\n"
     ]
    },
    {
     "data": {
      "application/vnd.jupyter.widget-view+json": {
       "model_id": "111487e16ab7402da43044fa6a724aee",
       "version_major": 2,
       "version_minor": 0
      },
      "text/plain": [
       "  0%|          | 0/370 [00:00<?, ?it/s]"
      ]
     },
     "metadata": {},
     "output_type": "display_data"
    },
    {
     "name": "stdout",
     "output_type": "stream",
     "text": [
      "epoch 2 avg lstm loss -37.02055358886719, avg ar model loss -46.954856872558594\n",
      "epoch 2 took 0.40353940725326537 minutes\n",
      "epoch 3\n"
     ]
    },
    {
     "data": {
      "application/vnd.jupyter.widget-view+json": {
       "model_id": "320b98821ce34f4abe0f4d0438403193",
       "version_major": 2,
       "version_minor": 0
      },
      "text/plain": [
       "  0%|          | 0/370 [00:00<?, ?it/s]"
      ]
     },
     "metadata": {},
     "output_type": "display_data"
    },
    {
     "name": "stdout",
     "output_type": "stream",
     "text": [
      "epoch 3 avg lstm loss -37.02040100097656, avg ar model loss -62.9410514831543\n",
      "epoch 3 took 0.41858935753504434 minutes\n",
      "epoch 4\n"
     ]
    },
    {
     "data": {
      "application/vnd.jupyter.widget-view+json": {
       "model_id": "9c42762ae71d4b70890ad450624422fc",
       "version_major": 2,
       "version_minor": 0
      },
      "text/plain": [
       "  0%|          | 0/370 [00:00<?, ?it/s]"
      ]
     },
     "metadata": {},
     "output_type": "display_data"
    },
    {
     "name": "stdout",
     "output_type": "stream",
     "text": [
      "epoch 4 avg lstm loss -37.02196502685547, avg ar model loss -69.98509216308594\n",
      "epoch 4 took 0.42167458931605023 minutes\n",
      "epoch 5\n"
     ]
    },
    {
     "data": {
      "application/vnd.jupyter.widget-view+json": {
       "model_id": "2a9226c1ea26444f974471f0ec7463ef",
       "version_major": 2,
       "version_minor": 0
      },
      "text/plain": [
       "  0%|          | 0/370 [00:00<?, ?it/s]"
      ]
     },
     "metadata": {},
     "output_type": "display_data"
    },
    {
     "name": "stdout",
     "output_type": "stream",
     "text": [
      "epoch 5 avg lstm loss -37.01866149902344, avg ar model loss -72.90165710449219\n",
      "epoch 5 took 0.40137237707773843 minutes\n",
      "epoch 6\n"
     ]
    },
    {
     "data": {
      "application/vnd.jupyter.widget-view+json": {
       "model_id": "3f7c44f6a28e46d894be009a838b35ae",
       "version_major": 2,
       "version_minor": 0
      },
      "text/plain": [
       "  0%|          | 0/370 [00:00<?, ?it/s]"
      ]
     },
     "metadata": {},
     "output_type": "display_data"
    },
    {
     "name": "stdout",
     "output_type": "stream",
     "text": [
      "epoch 6 avg lstm loss -37.020538330078125, avg ar model loss -75.50926971435547\n",
      "epoch 6 took 0.4121622045834859 minutes\n",
      "epoch 7\n"
     ]
    },
    {
     "data": {
      "application/vnd.jupyter.widget-view+json": {
       "model_id": "12730aa147a3417480edb6aef83290f3",
       "version_major": 2,
       "version_minor": 0
      },
      "text/plain": [
       "  0%|          | 0/370 [00:00<?, ?it/s]"
      ]
     },
     "metadata": {},
     "output_type": "display_data"
    },
    {
     "name": "stdout",
     "output_type": "stream",
     "text": [
      "epoch 7 avg lstm loss -37.022010803222656, avg ar model loss -76.38477325439453\n",
      "epoch 7 took 0.40046411752700806 minutes\n",
      "epoch 8\n"
     ]
    },
    {
     "data": {
      "application/vnd.jupyter.widget-view+json": {
       "model_id": "d3d962f59f3c4e838be2deb132434367",
       "version_major": 2,
       "version_minor": 0
      },
      "text/plain": [
       "  0%|          | 0/370 [00:00<?, ?it/s]"
      ]
     },
     "metadata": {},
     "output_type": "display_data"
    },
    {
     "name": "stdout",
     "output_type": "stream",
     "text": [
      "epoch 8 avg lstm loss -37.02100372314453, avg ar model loss -76.75244140625\n",
      "epoch 8 took 0.41623769601186117 minutes\n",
      "epoch 9\n"
     ]
    },
    {
     "data": {
      "application/vnd.jupyter.widget-view+json": {
       "model_id": "9af04582d54d4739ab759f188737361f",
       "version_major": 2,
       "version_minor": 0
      },
      "text/plain": [
       "  0%|          | 0/370 [00:00<?, ?it/s]"
      ]
     },
     "metadata": {},
     "output_type": "display_data"
    },
    {
     "name": "stdout",
     "output_type": "stream",
     "text": [
      "epoch 9 avg lstm loss -37.018314361572266, avg ar model loss -76.99932098388672\n",
      "epoch 9 took 0.4190632184346517 minutes\n"
     ]
    }
   ],
   "source": [
    "torch.manual_seed(0)\n",
    "exp_batch_size = 100\n",
    "# model = models.XSCharLSTM(input_dim=96, hidden_dims=[30, 40], num_layers=4, batch_size=exp_batch_size)\n",
    "\n",
    "ar_model = models.Beta_NADE(hidden_state_dim=30, latent_dimensions=15, predict_returns=True)\n",
    "\n",
    "num_epochs = 10\n",
    "\n",
    "eval_freq = 1\n",
    "\n",
    "# optimizer = torch.optim.AdamW(list(model.parameters()) + list(ar_model.parameters()), lr=0.01,\n",
    "#                              weight_decay=0.01)\n",
    "optimizer = torch.optim.AdamW(ar_model.parameters(), lr=0.01,\n",
    "                             weight_decay=0.01)\n",
    "\n",
    "\n",
    "scheduler = MultiStepLR(optimizer, [30], gamma=0.1, last_epoch=-1)\n",
    "\n",
    "device = torch.device(\"cuda:0\" if torch.cuda.is_available() else \"cpu\")\n",
    "print(f'torch device is {device}')\n",
    "model = model.to(device)\n",
    "ar_model = ar_model.to(device)\n",
    "loss_fn = loss_functions.beta_ll_loss\n",
    "\n",
    "\n",
    "#basic training loop for local development\n",
    "for epoch in range(num_epochs):\n",
    "    epoch_start = time.time()\n",
    "    losses = []\n",
    "    ar_losses = []\n",
    "    # Forward pass\n",
    "    print(f'epoch {epoch}')\n",
    "    for i, data in enumerate(tqdm(train_data_loader)):\n",
    "        ts_idxs, stock_idxs, data, mask, ordered_mask, factors, return_sample = data\n",
    "        assert not torch.isnan(data).any()\n",
    "#         print(data, mask)\n",
    "        assert not torch.logical_and(data <= 0, ~mask).any(), torch.min(data * mask)\n",
    "        \n",
    "        C_train = data.transpose_(0, 1).float().to(device)[:-1]\n",
    "        \n",
    "        C_mask = mask.float().to(device).transpose_(0, 1)[:-1]\n",
    "        C_ordered_mask = ordered_mask.float().to(device).transpose_(0, 1)[:-1]\n",
    "        return_sample = return_sample.float().to(device).transpose_(0, 1)[:-1]\n",
    "        factors = factors.transpose_(0, 1).float().to(device)[1:]\n",
    "        \n",
    "        train_input = torch.cat([C_train, C_mask, factors], axis=2)\n",
    "        \n",
    "      \n",
    "        if train_input.shape[1] == exp_batch_size:\n",
    "            alpha_pred, beta_pred, hidden_out = model(train_input)\n",
    "            loss = loss_fn(C_train[1:], alpha_pred[:-1], beta_pred[:-1], mask=C_mask[1:]).mean()\n",
    "            assert not torch.isnan(loss).any()\n",
    "            \n",
    "#             loss.backward()\n",
    "            losses.append(loss.data.detach().cpu().numpy())\n",
    "            \n",
    "#             print(hidden_out.shape, C_train.shape)\n",
    "            model_input = torch.cat([hidden_out[:-1].detach(), C_train[1:]], axis=2)\n",
    "            batch_dim, batch_length, dim = model_input.shape\n",
    "            model_input = model_input.reshape(batch_dim * batch_length, dim)\n",
    "            \n",
    "            C_ordered_mask_reshape = C_ordered_mask[1:].reshape(batch_dim * batch_length, 45)\n",
    "            C_train_reshape = C_train[1:].reshape(batch_dim * batch_length, 45)\n",
    "            return_sample_reshape = return_sample[1:].reshape(batch_dim * batch_length, 1)\n",
    "            \n",
    "            alphas_pred, betas_pred, return_mus, return_sigmas = ar_model(model_input)\n",
    "            \n",
    "            \n",
    "            ar_loss = loss_fn(C_train_reshape,\n",
    "                              alphas_pred, betas_pred, mask=C_ordered_mask_reshape,\n",
    "                             reduce_axis=1, ret_mus=return_mus, ret_sigmas=return_sigmas,\n",
    "                             return_gts=return_sample_reshape).mean()\n",
    "            \n",
    "#             net_loss = ar_loss + loss\n",
    "            net_loss = ar_loss\n",
    "            net_loss.backward()\n",
    "            ar_losses.append(ar_loss.data.detach().cpu().numpy())\n",
    "            \n",
    "\n",
    "            optimizer.step()\n",
    "            model.zero_grad()\n",
    "            optimizer.zero_grad()       \n",
    "\n",
    "    print(f'epoch {epoch} avg lstm loss {np.mean(losses)}, avg ar model loss {np.mean(ar_losses)}')\n",
    "    print(f'epoch {epoch} took {(time.time() - epoch_start)/60.0} minutes')\n",
    "    scheduler.step()\n",
    "#     if (epoch + 1) % eval_freq == 0:\n",
    "#         print(eval_fn.eval_model_is(chars, exp_batch_size, model, ar_model, train_data_loader, return_metrics=True, expect_oos_data=False))\n",
    "#         print(eval_fn.eval_model_is(chars, exp_batch_size, model, ar_model, eval_data_loader, return_metrics=True, expect_oos_data=True))\n",
    "#         print(eval_fn.eval_model_is(chars, exp_batch_size, model, ar_model, test_data_loader, return_metrics=True, expect_oos_data=True))\n",
    "#         ar_model.predict_returns = False\n",
    "#         print(eval_fn.eval_model_oos(chars, exp_batch_size ,model, ar_model, eval_data_loader))\n",
    "#         ar_model.predict_returns = True\n",
    "#         print(eval_fn.eval_ts_model_oos(chars, exp_batch_size,model, eval_data_loader))"
   ]
  },
  {
   "cell_type": "code",
   "execution_count": 210,
   "id": "1952c696",
   "metadata": {},
   "outputs": [
    {
     "data": {
      "application/vnd.jupyter.widget-view+json": {
       "model_id": "85a1716e774441e7ae42179decde4d08",
       "version_major": 2,
       "version_minor": 0
      },
      "text/plain": [
       "  0%|          | 0/370 [00:00<?, ?it/s]"
      ]
     },
     "metadata": {},
     "output_type": "display_data"
    },
    {
     "data": {
      "application/vnd.jupyter.widget-view+json": {
       "model_id": "5d4a4230c9b54e4da1c52b8924ff3f45",
       "version_major": 2,
       "version_minor": 0
      },
      "text/plain": [
       "  0%|          | 0/64 [00:00<?, ?it/s]"
      ]
     },
     "metadata": {},
     "output_type": "display_data"
    },
    {
     "name": "stdout",
     "output_type": "stream",
     "text": [
      "(15, 15) (15,)\n"
     ]
    },
    {
     "data": {
      "text/plain": [
       "(0.7759846955897648, -0.008126460087896345)"
      ]
     },
     "execution_count": 210,
     "metadata": {},
     "output_type": "execute_result"
    }
   ],
   "source": [
    "is_hidden, is_returns = eval_fn.get_factors_returns(expected_batch_dim=exp_batch_size, model=model, ar_model=ar_model, \n",
    "                                            data_loader=train_data_loader, expect_oos_data=False)\n",
    "\n",
    "eval_hidden, eval_returns = eval_fn.get_factors_returns(expected_batch_dim=exp_batch_size, model=model,\n",
    "                                                        ar_model=ar_model, \n",
    "                                            data_loader=eval_data_loader, expect_oos_data=True)\n",
    "\n",
    "\n",
    "is_factors = eval_fn.get_factors(is_hidden, is_returns).squeeze()\n",
    "\n",
    "eval_factors = eval_fn.get_factors(eval_hidden, eval_returns).squeeze()\n",
    "\n",
    "weights = markowitz(is_factors.squeeze())\n",
    "\n",
    "np.mean(is_factors @ weights) / np.std(is_factors @ weights),\\\n",
    "    np.mean(eval_factors @ weights) / np.std(eval_factors @ weights)"
   ]
  },
  {
   "cell_type": "code",
   "execution_count": 211,
   "id": "8e60d6bc",
   "metadata": {},
   "outputs": [
    {
     "data": {
      "application/vnd.jupyter.widget-view+json": {
       "model_id": "7bced3e6da694f1fa1e787dfe017a870",
       "version_major": 2,
       "version_minor": 0
      },
      "text/plain": [
       "  0%|          | 0/77 [00:00<?, ?it/s]"
      ]
     },
     "metadata": {},
     "output_type": "display_data"
    },
    {
     "ename": "KeyboardInterrupt",
     "evalue": "",
     "output_type": "error",
     "traceback": [
      "\u001b[0;31m---------------------------------------------------------------------------\u001b[0m",
      "\u001b[0;31mKeyboardInterrupt\u001b[0m                         Traceback (most recent call last)",
      "\u001b[0;32m/tmp/ipykernel_2809/3770730908.py\u001b[0m in \u001b[0;36m<module>\u001b[0;34m\u001b[0m\n\u001b[0;32m----> 1\u001b[0;31m test_hidden, test_returns = eval_fn.get_factors_returns(expected_batch_dim=exp_batch_size, model=model,\n\u001b[0m\u001b[1;32m      2\u001b[0m                                                         \u001b[0mar_model\u001b[0m\u001b[0;34m=\u001b[0m\u001b[0mar_model\u001b[0m\u001b[0;34m,\u001b[0m\u001b[0;34m\u001b[0m\u001b[0;34m\u001b[0m\u001b[0m\n\u001b[1;32m      3\u001b[0m                                             data_loader=test_data_loader, expect_oos_data=True)\n\u001b[1;32m      4\u001b[0m \u001b[0mtest_factors\u001b[0m \u001b[0;34m=\u001b[0m \u001b[0meval_fn\u001b[0m\u001b[0;34m.\u001b[0m\u001b[0mget_factors\u001b[0m\u001b[0;34m(\u001b[0m\u001b[0mtest_hidden\u001b[0m\u001b[0;34m,\u001b[0m \u001b[0mtest_returns\u001b[0m\u001b[0;34m)\u001b[0m\u001b[0;34m.\u001b[0m\u001b[0msqueeze\u001b[0m\u001b[0;34m(\u001b[0m\u001b[0;34m)\u001b[0m\u001b[0;34m\u001b[0m\u001b[0;34m\u001b[0m\u001b[0m\n\u001b[1;32m      5\u001b[0m \u001b[0mnp\u001b[0m\u001b[0;34m.\u001b[0m\u001b[0mmean\u001b[0m\u001b[0;34m(\u001b[0m\u001b[0mtest_factors\u001b[0m \u001b[0;34m@\u001b[0m \u001b[0mweights\u001b[0m\u001b[0;34m)\u001b[0m \u001b[0;34m/\u001b[0m \u001b[0mnp\u001b[0m\u001b[0;34m.\u001b[0m\u001b[0mstd\u001b[0m\u001b[0;34m(\u001b[0m\u001b[0mtest_factors\u001b[0m \u001b[0;34m@\u001b[0m \u001b[0mweights\u001b[0m\u001b[0;34m)\u001b[0m\u001b[0;34m\u001b[0m\u001b[0;34m\u001b[0m\u001b[0m\n",
      "\u001b[0;32m~/CS 236 Project/deep_stock_characteristic_imputation/Code/eval_fn.py\u001b[0m in \u001b[0;36mget_factors_returns\u001b[0;34m(expected_batch_dim, model, ar_model, data_loader, expect_oos_data)\u001b[0m\n\u001b[1;32m    102\u001b[0m                     \u001b[0mreturns_reshape\u001b[0m \u001b[0;34m=\u001b[0m \u001b[0mreturns\u001b[0m\u001b[0;34m.\u001b[0m\u001b[0mreshape\u001b[0m\u001b[0;34m(\u001b[0m\u001b[0mbatch_size\u001b[0m \u001b[0;34m*\u001b[0m \u001b[0mbatch_length\u001b[0m\u001b[0;34m,\u001b[0m \u001b[0;36m1\u001b[0m\u001b[0;34m)\u001b[0m\u001b[0;34m\u001b[0m\u001b[0;34m\u001b[0m\u001b[0m\n\u001b[1;32m    103\u001b[0m \u001b[0;34m\u001b[0m\u001b[0m\n\u001b[0;32m--> 104\u001b[0;31m                 \u001b[0mhidden_states\u001b[0m \u001b[0;34m=\u001b[0m \u001b[0mar_model\u001b[0m\u001b[0;34m.\u001b[0m\u001b[0mget_hidden_state\u001b[0m\u001b[0;34m(\u001b[0m\u001b[0mmodel_input\u001b[0m\u001b[0;34m)\u001b[0m\u001b[0;34m\u001b[0m\u001b[0;34m\u001b[0m\u001b[0m\n\u001b[0m\u001b[1;32m    105\u001b[0m                 \u001b[0;32mfor\u001b[0m \u001b[0mi\u001b[0m \u001b[0;32min\u001b[0m \u001b[0mrange\u001b[0m\u001b[0;34m(\u001b[0m\u001b[0mhidden_states\u001b[0m\u001b[0;34m.\u001b[0m\u001b[0mshape\u001b[0m\u001b[0;34m[\u001b[0m\u001b[0;36m0\u001b[0m\u001b[0;34m]\u001b[0m\u001b[0;34m)\u001b[0m\u001b[0;34m:\u001b[0m\u001b[0;34m\u001b[0m\u001b[0;34m\u001b[0m\u001b[0m\n\u001b[1;32m    106\u001b[0m                     \u001b[0mts_factor_maps\u001b[0m\u001b[0;34m[\u001b[0m\u001b[0mtime_steps_reshape\u001b[0m\u001b[0;34m[\u001b[0m\u001b[0mi\u001b[0m\u001b[0;34m,\u001b[0m \u001b[0;36m0\u001b[0m\u001b[0;34m]\u001b[0m\u001b[0;34m.\u001b[0m\u001b[0mitem\u001b[0m\u001b[0;34m(\u001b[0m\u001b[0;34m)\u001b[0m\u001b[0;34m]\u001b[0m\u001b[0;34m.\u001b[0m\u001b[0mappend\u001b[0m\u001b[0;34m(\u001b[0m\u001b[0mhidden_states\u001b[0m\u001b[0;34m[\u001b[0m\u001b[0mi\u001b[0m\u001b[0;34m]\u001b[0m\u001b[0;34m.\u001b[0m\u001b[0mdetach\u001b[0m\u001b[0;34m(\u001b[0m\u001b[0;34m)\u001b[0m\u001b[0;34m.\u001b[0m\u001b[0mcpu\u001b[0m\u001b[0;34m(\u001b[0m\u001b[0;34m)\u001b[0m\u001b[0;34m.\u001b[0m\u001b[0mnumpy\u001b[0m\u001b[0;34m(\u001b[0m\u001b[0;34m)\u001b[0m\u001b[0;34m)\u001b[0m\u001b[0;34m\u001b[0m\u001b[0;34m\u001b[0m\u001b[0m\n",
      "\u001b[0;32m~/CS 236 Project/deep_stock_characteristic_imputation/Code/models.py\u001b[0m in \u001b[0;36mget_hidden_state\u001b[0;34m(self, x)\u001b[0m\n\u001b[1;32m    197\u001b[0m         \u001b[0;32mfor\u001b[0m \u001b[0mi\u001b[0m \u001b[0;32min\u001b[0m \u001b[0mrange\u001b[0m\u001b[0;34m(\u001b[0m\u001b[0mnum_missing\u001b[0m\u001b[0;34m)\u001b[0m\u001b[0;34m:\u001b[0m\u001b[0;34m\u001b[0m\u001b[0;34m\u001b[0m\u001b[0m\n\u001b[1;32m    198\u001b[0m             \u001b[0;32mif\u001b[0m \u001b[0mself\u001b[0m\u001b[0;34m.\u001b[0m\u001b[0mpredict_returns\u001b[0m\u001b[0;34m:\u001b[0m\u001b[0;34m\u001b[0m\u001b[0;34m\u001b[0m\u001b[0m\n\u001b[0;32m--> 199\u001b[0;31m                 \u001b[0malphas\u001b[0m\u001b[0;34m,\u001b[0m \u001b[0mbetas\u001b[0m\u001b[0;34m,\u001b[0m \u001b[0mret_mean\u001b[0m\u001b[0;34m,\u001b[0m \u001b[0mret_sigma\u001b[0m \u001b[0;34m=\u001b[0m \u001b[0mself\u001b[0m\u001b[0;34m.\u001b[0m\u001b[0mshape_vectors\u001b[0m\u001b[0;34m(\u001b[0m\u001b[0mx_copy\u001b[0m\u001b[0;34m)\u001b[0m\u001b[0;34m\u001b[0m\u001b[0;34m\u001b[0m\u001b[0m\n\u001b[0m\u001b[1;32m    200\u001b[0m             \u001b[0;32melse\u001b[0m\u001b[0;34m:\u001b[0m\u001b[0;34m\u001b[0m\u001b[0;34m\u001b[0m\u001b[0m\n\u001b[1;32m    201\u001b[0m                 \u001b[0malphas\u001b[0m\u001b[0;34m,\u001b[0m \u001b[0mbetas\u001b[0m \u001b[0;34m=\u001b[0m \u001b[0mself\u001b[0m\u001b[0;34m.\u001b[0m\u001b[0mshape_vectors\u001b[0m\u001b[0;34m(\u001b[0m\u001b[0mx_copy\u001b[0m\u001b[0;34m)\u001b[0m\u001b[0;34m\u001b[0m\u001b[0;34m\u001b[0m\u001b[0m\n",
      "\u001b[0;32m~/CS 236 Project/deep_stock_characteristic_imputation/Code/models.py\u001b[0m in \u001b[0;36mshape_vectors\u001b[0;34m(self, x, get_hidden_state)\u001b[0m\n\u001b[1;32m    136\u001b[0m         \u001b[0;32mif\u001b[0m \u001b[0mget_hidden_state\u001b[0m\u001b[0;34m:\u001b[0m\u001b[0;34m\u001b[0m\u001b[0;34m\u001b[0m\u001b[0m\n\u001b[1;32m    137\u001b[0m             \u001b[0;32mreturn\u001b[0m \u001b[0mhidden_beta_activations\u001b[0m\u001b[0;34m[\u001b[0m\u001b[0;34m:\u001b[0m\u001b[0;34m,\u001b[0m\u001b[0;34m-\u001b[0m\u001b[0;36m1\u001b[0m\u001b[0;34m,\u001b[0m\u001b[0;34m:\u001b[0m\u001b[0;34m]\u001b[0m\u001b[0;34m\u001b[0m\u001b[0;34m\u001b[0m\u001b[0m\n\u001b[0;32m--> 138\u001b[0;31m         beta_out= torch.sigmoid(torch.sum(torch.mul(hidden_beta_activations[:,:self.output_dmensions,:],\n\u001b[0m\u001b[1;32m    139\u001b[0m                                                     self.alpha_weights_beta), dim=2)\n\u001b[1;32m    140\u001b[0m                              + self.alpha_bias_beta)\n",
      "\u001b[0;31mKeyboardInterrupt\u001b[0m: "
     ]
    }
   ],
   "source": [
    "test_hidden, test_returns = eval_fn.get_factors_returns(expected_batch_dim=exp_batch_size, model=model,\n",
    "                                                        ar_model=ar_model, \n",
    "                                            data_loader=test_data_loader, expect_oos_data=True)\n",
    "test_factors = eval_fn.get_factors(test_hidden, test_returns).squeeze()\n",
    "np.mean(test_factors @ weights) / np.std(test_factors @ weights)"
   ]
  },
  {
   "cell_type": "code",
   "execution_count": null,
   "id": "6f891197",
   "metadata": {},
   "outputs": [],
   "source": []
  },
  {
   "cell_type": "code",
   "execution_count": null,
   "id": "e05a98ca",
   "metadata": {},
   "outputs": [],
   "source": []
  },
  {
   "cell_type": "code",
   "execution_count": null,
   "id": "5eb3cf20",
   "metadata": {},
   "outputs": [],
   "source": [
    "@ 4 [0.001977953470518154, 0.07228942832286273, 0.060806419080847954, -0.011563901668093778, 0.00026002147163928355, 0.06765969975657786, 0.14694436342760686, 0.11438107251132079, 0.07199162741893389, 0.22428494061929422, 0.12180594761727552]"
   ]
  },
  {
   "cell_type": "code",
   "execution_count": 290,
   "id": "cf56a787",
   "metadata": {},
   "outputs": [
    {
     "data": {
      "text/plain": [
       "<module 'eval_fn' from '/home/selwin_p_george/CS 236 Project/Code/eval_fn.py'>"
      ]
     },
     "execution_count": 290,
     "metadata": {},
     "output_type": "execute_result"
    }
   ],
   "source": [
    "importlib.reload(eval_fn)"
   ]
  },
  {
   "cell_type": "code",
   "execution_count": 54,
   "id": "1ed13b31",
   "metadata": {},
   "outputs": [
    {
     "data": {
      "application/vnd.jupyter.widget-view+json": {
       "model_id": "3c034f61a18b4ca6a9d04559f2875e32",
       "version_major": 2,
       "version_minor": 0
      },
      "text/plain": [
       "  0%|          | 0/370 [00:00<?, ?it/s]"
      ]
     },
     "metadata": {},
     "output_type": "display_data"
    },
    {
     "name": "stdout",
     "output_type": "stream",
     "text": [
      "([('ME', 0.008855535), ('R2_1', 0.005697643), ('D2P', 0.006664096), ('SPREAD', 0.006592712), ('RVAR', 0.010827155), ('VAR', 0.010680204), ('IdioVol', 0.0073566106), ('TURN', 0.008304125), ('SUV', 0.006479653), ('R12_7', 0.00808746), ('CF2P', 0.008772258), ('E2P', 0.0065189614), ('R12_2', 0.006516874), ('S2P', 0.010319276), ('B2M', 0.008913608), ('CF2B', 0.0059681376), ('AT', 0.009221396), ('A2ME', 0.011313069), ('Q', 0.008509975), ('PROF', 0.0073401593), ('PM', 0.006816445), ('PCM', 0.0061151786), ('BETA_m', 0.007682451), ('C2A', 0.007110572), ('OL', 0.009288064), ('ROE', 0.008334165), ('CTO', 0.00988218), ('ATO', 0.0074910237), ('LEV', 0.00793094), ('NOA', 0.0064094993), ('ROA', 0.007166346), ('RNA', 0.0052977544), ('OP', 0.008012586), ('NI', 0.0067808195), ('INV', 0.00845476), ('BETA_d', 0.011215329), ('R36_13', 0.00838214), ('D2A', 0.00789875), ('FC2Y', 0.00909588), ('SGA2S', 0.0068780496), ('OA', 0.0069415015), ('AC', 0.007709105), ('HIGH52', 0.0072687874), ('R60_13', 0.011510137), ('DPI2A', 0.0067100516)], 0.0081346445, 0.0026587089104112005, -73.08041971606201, [-0.1083606023081554, -0.054274006844707116, 0.026903154290322882, 0.0592945082843435, 0.0956380790635009, 0.14405603925795113, 0.1353764819266986, 0.1762798701258339, 0.22878292174979067, 0.28114045768636253, 0.6039820706714982])\n"
     ]
    },
    {
     "data": {
      "application/vnd.jupyter.widget-view+json": {
       "model_id": "f38470c1462345a08378fb32e94206f0",
       "version_major": 2,
       "version_minor": 0
      },
      "text/plain": [
       "  0%|          | 0/64 [00:00<?, ?it/s]"
      ]
     },
     "metadata": {},
     "output_type": "display_data"
    },
    {
     "name": "stdout",
     "output_type": "stream",
     "text": [
      "([('ME', 0.023574956), ('R2_1', 0.0060577486), ('D2P', 0.0067644934), ('SPREAD', 0.0070135877), ('RVAR', 0.014069514), ('VAR', 0.01309053), ('IdioVol', 0.00834095), ('TURN', 0.00811267), ('SUV', 0.006484365), ('R12_7', 0.009563644), ('CF2P', 0.010170094), ('E2P', 0.009615251), ('R12_2', 0.008498814), ('S2P', 0.014604301), ('B2M', 0.009639329), ('CF2B', 0.006657991), ('AT', 0.022795033), ('A2ME', 0.02177308), ('Q', 0.012942621), ('PROF', 0.00855805), ('PM', 0.0075769103), ('PCM', 0.0076797763), ('BETA_m', 0.008974282), ('C2A', 0.007126991), ('OL', 0.010616143), ('ROE', 0.009237268), ('CTO', 0.011900856), ('ATO', 0.0083425455), ('LEV', 0.009050978), ('NOA', 0.0069432645), ('ROA', 0.009631499), ('RNA', 0.005374136), ('OP', 0.009074297), ('NI', 0.0071789715), ('INV', 0.009012678), ('BETA_d', 0.012404959), ('R36_13', 0.010076339), ('D2A', 0.009472845), ('FC2Y', 0.013879378), ('SGA2S', 0.0076361243), ('OA', 0.0071610636), ('AC', 0.008647786), ('HIGH52', 0.007755195), ('R60_13', 0.013583305), ('DPI2A', 0.008043261)], 0.0108873835, 0.004086141623328543, -45.94646838340277, [-0.14925396922165926, -0.13261072856300749, -0.11362292754083876, -0.03715124168906961, -0.09891845662975406, -0.02441739071571656, 0.08084299559269886, 0.08824057228461836, 0.16990889856511618, 0.20435767422774032, 0.35433852889943884])\n"
     ]
    },
    {
     "data": {
      "application/vnd.jupyter.widget-view+json": {
       "model_id": "7ca248572902466a915ee4d217835ff6",
       "version_major": 2,
       "version_minor": 0
      },
      "text/plain": [
       "  0%|          | 0/77 [00:00<?, ?it/s]"
      ]
     },
     "metadata": {},
     "output_type": "display_data"
    },
    {
     "name": "stdout",
     "output_type": "stream",
     "text": [
      "([('ME', 0.023513164), ('R2_1', 0.006032398), ('D2P', 0.0065296274), ('SPREAD', 0.007177128), ('RVAR', 0.01952104), ('VAR', 0.018112466), ('IdioVol', 0.008639014), ('TURN', 0.0082338685), ('SUV', 0.006549479), ('R12_7', 0.009524478), ('CF2P', 0.010289551), ('E2P', 0.009681828), ('R12_2', 0.008537712), ('S2P', 0.014661506), ('B2M', 0.009631356), ('CF2B', 0.006654524), ('AT', 0.023182243), ('A2ME', 0.026068285), ('Q', 0.014435117), ('PROF', 0.009324116), ('PM', 0.008073493), ('PCM', 0.008778263), ('BETA_m', 0.009323122), ('C2A', 0.0069631324), ('OL', 0.011486181), ('ROE', 0.009373486), ('CTO', 0.012633923), ('ATO', 0.008830623), ('LEV', 0.009046309), ('NOA', 0.0071038315), ('ROA', 0.010023458), ('RNA', 0.0052379104), ('OP', 0.009554217), ('NI', 0.0076110284), ('INV', 0.009000656), ('BETA_d', 0.01208373), ('R36_13', 0.0101788845), ('D2A', 0.010709635), ('FC2Y', 0.014697587), ('SGA2S', 0.009498118), ('OA', 0.0072221565), ('AC', 0.009426906), ('HIGH52', 0.007480727), ('R60_13', 0.014865014), ('DPI2A', 0.007853287)], 0.0117199, -0.0005014921507990877, -38.4343231259139, [-0.022170012574196606, 0.058304355003246516, -0.0008081416124003304, 0.038323316689289774, 0.05778721815135652, 0.044889856917186756, 0.10586986284820417, 0.1193830477715884, 0.14592325818474905, 0.2027508455119424, 0.2292689600373955])\n"
     ]
    }
   ],
   "source": [
    "print(eval_fn.eval_model_is(chars, exp_batch_size, model, ar_model, train_data_loader,\n",
    "                            return_metrics=True, expect_oos_data=False))\n",
    "print(eval_fn.eval_model_is(chars, exp_batch_size, model, ar_model, eval_data_loader,\n",
    "                            return_metrics=True, expect_oos_data=True))\n",
    "print(eval_fn.eval_model_is(chars, exp_batch_size, model, ar_model, test_data_loader,\n",
    "                            return_metrics=True, expect_oos_data=True))"
   ]
  },
  {
   "cell_type": "code",
   "execution_count": 241,
   "id": "21ef3a2e",
   "metadata": {},
   "outputs": [
    {
     "data": {
      "application/vnd.jupyter.widget-view+json": {
       "model_id": "68224cb94bc447ebae824a384c4f2427",
       "version_major": 2,
       "version_minor": 0
      },
      "text/plain": [
       "  0%|          | 0/366 [00:00<?, ?it/s]"
      ]
     },
     "metadata": {},
     "output_type": "display_data"
    },
    {
     "data": {
      "application/vnd.jupyter.widget-view+json": {
       "model_id": "40f9ba62f9d54095be345e26b8edb837",
       "version_major": 2,
       "version_minor": 0
      },
      "text/plain": [
       "  0%|          | 0/63 [00:00<?, ?it/s]"
      ]
     },
     "metadata": {},
     "output_type": "display_data"
    },
    {
     "name": "stdout",
     "output_type": "stream",
     "text": [
      "(5, 5) (5,)\n"
     ]
    },
    {
     "data": {
      "text/plain": [
       "(0.138095236684946, 0.10802225494038135)"
      ]
     },
     "execution_count": 241,
     "metadata": {},
     "output_type": "execute_result"
    }
   ],
   "source": [
    "is_hidden, is_returns = eval_fn.get_factors_returns(exp_batch_size, model=model, ar_model=ar_model, \n",
    "                                            data_loader=train_data_loader, expect_oos_data=False)\n",
    "\n",
    "eval_hidden, eval_returns = eval_fn.get_factors_returns(exp_batch_size, model=model, ar_model=ar_model, \n",
    "                                            data_loader=eval_data_loader, expect_oos_data=True)\n",
    "\n",
    "\n",
    "is_factors = eval_fn.get_factors(is_hidden, is_returns).squeeze()\n",
    "\n",
    "eval_factors = eval_fn.get_factors(eval_hidden, eval_returns).squeeze()\n",
    "\n",
    "weights = markowitz(is_factors.squeeze())\n",
    "\n",
    "np.mean(is_factors @ weights) / np.std(is_factors @ weights),\\\n",
    "    np.mean(eval_factors @ weights) / np.std(eval_factors @ weights)"
   ]
  },
  {
   "cell_type": "markdown",
   "id": "d16e3249",
   "metadata": {},
   "source": [
    "# OOS validation"
   ]
  },
  {
   "cell_type": "code",
   "execution_count": 159,
   "id": "399e9110",
   "metadata": {},
   "outputs": [
    {
     "data": {
      "text/plain": [
       "49"
      ]
     },
     "execution_count": 159,
     "metadata": {},
     "output_type": "execute_result"
    }
   ],
   "source": []
  },
  {
   "cell_type": "code",
   "execution_count": 125,
   "id": "098dc8fd",
   "metadata": {},
   "outputs": [
    {
     "data": {
      "text/plain": [
       "<module 'eval_fn' from '/home/selwin_p_george/CS 236 Project/deep_stock_characteristic_imputation/Code/eval_fn.py'>"
      ]
     },
     "execution_count": 125,
     "metadata": {},
     "output_type": "execute_result"
    }
   ],
   "source": [
    "importlib.reload(eval_fn)"
   ]
  },
  {
   "cell_type": "code",
   "execution_count": 127,
   "id": "91be5d88",
   "metadata": {
    "scrolled": true
   },
   "outputs": [
    {
     "name": "stdout",
     "output_type": "stream",
     "text": [
      "torch device is cuda:0\n",
      "epoch 0\n"
     ]
    },
    {
     "data": {
      "application/vnd.jupyter.widget-view+json": {
       "model_id": "8e2ce8631be84803a42cf8ff750ade14",
       "version_major": 2,
       "version_minor": 0
      },
      "text/plain": [
       "  0%|          | 0/370 [00:00<?, ?it/s]"
      ]
     },
     "metadata": {},
     "output_type": "display_data"
    },
    {
     "name": "stdout",
     "output_type": "stream",
     "text": [
      "epoch 0 avg loss 19.876632690429688\n",
      "epoch 0 took 0.1310057322184245 minutes\n"
     ]
    },
    {
     "data": {
      "application/vnd.jupyter.widget-view+json": {
       "model_id": "6cbff167a46e4760bea639eca50c3651",
       "version_major": 2,
       "version_minor": 0
      },
      "text/plain": [
       "  0%|          | 0/64 [00:00<?, ?it/s]"
      ]
     },
     "metadata": {},
     "output_type": "display_data"
    },
    {
     "name": "stdout",
     "output_type": "stream",
     "text": [
      "eval oos ([('ME', 0.26309595), ('R2_1', 0.29270262), ('D2P', 0.25756076), ('SPREAD', 0.16491897), ('RVAR', 0.1502579), ('VAR', 0.14767343), ('IdioVol', 0.15719178), ('TURN', 0.29055732), ('SUV', 0.28396067), ('R12_7', 0.2857489), ('CF2P', 0.2474895), ('E2P', 0.2508824), ('R12_2', 0.27961594), ('S2P', 0.2952503), ('B2M', 0.29012042), ('CF2B', 0.27321962), ('AT', 0.21941195), ('A2ME', 0.2769044), ('Q', 0.27259365), ('PROF', 0.29590577), ('PM', 0.22646464), ('PCM', 0.2864225), ('BETA_m', 0.256671), ('C2A', 0.28463086), ('OL', 0.2768835), ('ROE', 0.26298422), ('CTO', 0.28862315), ('ATO', 0.29816708), ('LEV', 0.29333857), ('NOA', 0.29682016), ('ROA', 0.26291525), ('RNA', 0.2671224), ('OP', 0.2724555), ('NI', 0.28347522), ('INV', 0.2867042), ('BETA_d', 0.2630547), ('R36_13', 0.28565794), ('D2A', 0.28887153), ('FC2Y', 0.26234296), ('SGA2S', 0.26280707), ('OA', 0.2920981), ('AC', 0.2961573), ('HIGH52', 0.2322702), ('R60_13', 0.28759164), ('DPI2A', 0.2949238)], 0.26454479, -2.2079315)\n"
     ]
    },
    {
     "data": {
      "application/vnd.jupyter.widget-view+json": {
       "model_id": "638e3ec7b5ae46d6b41c6f76be57308b",
       "version_major": 2,
       "version_minor": 0
      },
      "text/plain": [
       "  0%|          | 0/77 [00:00<?, ?it/s]"
      ]
     },
     "metadata": {},
     "output_type": "display_data"
    },
    {
     "name": "stdout",
     "output_type": "stream",
     "text": [
      "test oos ([('ME', 0.22437754), ('R2_1', 0.2972301), ('D2P', 0.2676452), ('SPREAD', 0.16340098), ('RVAR', 0.1564434), ('VAR', 0.16134353), ('IdioVol', 0.16419677), ('TURN', 0.31069756), ('SUV', 0.28488103), ('R12_7', 0.2890958), ('CF2P', 0.270206), ('E2P', 0.26209942), ('R12_2', 0.28516024), ('S2P', 0.2938093), ('B2M', 0.29381618), ('CF2B', 0.28152075), ('AT', 0.21991384), ('A2ME', 0.28761324), ('Q', 0.28915536), ('PROF', 0.30008572), ('PM', 0.24304327), ('PCM', 0.28410015), ('BETA_m', 0.28410023), ('C2A', 0.28947097), ('OL', 0.27897042), ('ROE', 0.26801452), ('CTO', 0.28840545), ('ATO', 0.29371038), ('LEV', 0.29079998), ('NOA', 0.29858202), ('ROA', 0.26042357), ('RNA', 0.27604452), ('OP', 0.27700657), ('NI', 0.28100514), ('INV', 0.29362032), ('BETA_d', 0.29343557), ('R36_13', 0.2764), ('D2A', 0.3099466), ('FC2Y', 0.28114206), ('SGA2S', 0.28222647), ('OA', 0.29050618), ('AC', 0.29564455), ('HIGH52', 0.23707673), ('R60_13', 0.28081828), ('DPI2A', 0.29470333)], 0.27004197, -1.974364)\n",
      "epoch 1\n"
     ]
    },
    {
     "data": {
      "application/vnd.jupyter.widget-view+json": {
       "model_id": "91f3a6c6bd014477b2bf4decd9cdca2a",
       "version_major": 2,
       "version_minor": 0
      },
      "text/plain": [
       "  0%|          | 0/370 [00:00<?, ?it/s]"
      ]
     },
     "metadata": {},
     "output_type": "display_data"
    },
    {
     "name": "stdout",
     "output_type": "stream",
     "text": [
      "epoch 1 avg loss -5.972797870635986\n",
      "epoch 1 took 0.13034491936365764 minutes\n",
      "epoch 2\n"
     ]
    },
    {
     "data": {
      "application/vnd.jupyter.widget-view+json": {
       "model_id": "fce31df430454d5e873afa5082bd3d8b",
       "version_major": 2,
       "version_minor": 0
      },
      "text/plain": [
       "  0%|          | 0/370 [00:00<?, ?it/s]"
      ]
     },
     "metadata": {},
     "output_type": "display_data"
    },
    {
     "name": "stdout",
     "output_type": "stream",
     "text": [
      "epoch 2 avg loss -8.856234550476074\n",
      "epoch 2 took 0.13121496041615804 minutes\n",
      "epoch 3\n"
     ]
    },
    {
     "data": {
      "application/vnd.jupyter.widget-view+json": {
       "model_id": "c16ba757fabb4e7ca84fac24842dcdd0",
       "version_major": 2,
       "version_minor": 0
      },
      "text/plain": [
       "  0%|          | 0/370 [00:00<?, ?it/s]"
      ]
     },
     "metadata": {},
     "output_type": "display_data"
    },
    {
     "name": "stdout",
     "output_type": "stream",
     "text": [
      "epoch 3 avg loss -9.392715454101562\n",
      "epoch 3 took 0.13093676964441936 minutes\n",
      "epoch 4\n"
     ]
    },
    {
     "data": {
      "application/vnd.jupyter.widget-view+json": {
       "model_id": "38cd6112ce994987a215d75acc68bdd9",
       "version_major": 2,
       "version_minor": 0
      },
      "text/plain": [
       "  0%|          | 0/370 [00:00<?, ?it/s]"
      ]
     },
     "metadata": {},
     "output_type": "display_data"
    },
    {
     "name": "stdout",
     "output_type": "stream",
     "text": [
      "epoch 4 avg loss -9.632695198059082\n",
      "epoch 4 took 0.1310149312019348 minutes\n",
      "epoch 5\n"
     ]
    },
    {
     "data": {
      "application/vnd.jupyter.widget-view+json": {
       "model_id": "aaa6ba63490c4ecc982a77ba2a94689b",
       "version_major": 2,
       "version_minor": 0
      },
      "text/plain": [
       "  0%|          | 0/370 [00:00<?, ?it/s]"
      ]
     },
     "metadata": {},
     "output_type": "display_data"
    },
    {
     "name": "stdout",
     "output_type": "stream",
     "text": [
      "epoch 5 avg loss -10.31887435913086\n",
      "epoch 5 took 0.12915482918421428 minutes\n"
     ]
    },
    {
     "data": {
      "application/vnd.jupyter.widget-view+json": {
       "model_id": "9c7a148a7451433db1f1ff7f6c50f670",
       "version_major": 2,
       "version_minor": 0
      },
      "text/plain": [
       "  0%|          | 0/64 [00:00<?, ?it/s]"
      ]
     },
     "metadata": {},
     "output_type": "display_data"
    },
    {
     "name": "stdout",
     "output_type": "stream",
     "text": [
      "eval oos ([('ME', 0.2794273), ('R2_1', 0.29357514), ('D2P', 0.26190984), ('SPREAD', 0.18729609), ('RVAR', 0.18723488), ('VAR', 0.18634138), ('IdioVol', 0.2101585), ('TURN', 0.27639967), ('SUV', 0.28433827), ('R12_7', 0.28707424), ('CF2P', 0.24243712), ('E2P', 0.26093397), ('R12_2', 0.28295594), ('S2P', 0.15935959), ('B2M', 0.2518018), ('CF2B', 0.2829218), ('AT', 0.25618878), ('A2ME', 0.1829505), ('Q', 0.2188643), ('PROF', 0.24363093), ('PM', 0.26153612), ('PCM', 0.2820972), ('BETA_m', 0.26077852), ('C2A', 0.2670879), ('OL', 0.1790707), ('ROE', 0.28671548), ('CTO', 0.14902511), ('ATO', 0.22241007), ('LEV', 0.2657816), ('NOA', 0.28442279), ('ROA', 0.27441034), ('RNA', 0.27631372), ('OP', 0.28695503), ('NI', 0.2757502), ('INV', 0.29983434), ('BETA_d', 0.26581872), ('R36_13', 0.29391217), ('D2A', 0.26446906), ('FC2Y', 0.24736285), ('SGA2S', 0.2449433), ('OA', 0.29144615), ('AC', 0.29435587), ('HIGH52', 0.25578), ('R60_13', 0.27770278), ('DPI2A', 0.29264235)], 0.2541427, 4.6514583)\n"
     ]
    },
    {
     "data": {
      "application/vnd.jupyter.widget-view+json": {
       "model_id": "2d49702b8a8445b096acc43bda797d3a",
       "version_major": 2,
       "version_minor": 0
      },
      "text/plain": [
       "  0%|          | 0/77 [00:00<?, ?it/s]"
      ]
     },
     "metadata": {},
     "output_type": "display_data"
    },
    {
     "name": "stdout",
     "output_type": "stream",
     "text": [
      "test oos ([('ME', 0.2566911), ('R2_1', 0.29786387), ('D2P', 0.27192086), ('SPREAD', 0.18779318), ('RVAR', 0.19371879), ('VAR', 0.20067221), ('IdioVol', 0.21858864), ('TURN', 0.29595596), ('SUV', 0.2848955), ('R12_7', 0.28859958), ('CF2P', 0.2603329), ('E2P', 0.26980522), ('R12_2', 0.28492272), ('S2P', 0.16375585), ('B2M', 0.22634047), ('CF2B', 0.29434443), ('AT', 0.24158053), ('A2ME', 0.18888418), ('Q', 0.21962461), ('PROF', 0.24982655), ('PM', 0.27265364), ('PCM', 0.27946734), ('BETA_m', 0.2844125), ('C2A', 0.26902184), ('OL', 0.18185984), ('ROE', 0.28731826), ('CTO', 0.15177947), ('ATO', 0.20764649), ('LEV', 0.2727472), ('NOA', 0.2900132), ('ROA', 0.27921492), ('RNA', 0.28467876), ('OP', 0.28768912), ('NI', 0.27536875), ('INV', 0.30607593), ('BETA_d', 0.29141232), ('R36_13', 0.282869), ('D2A', 0.2794798), ('FC2Y', 0.26047605), ('SGA2S', 0.25846615), ('OA', 0.29082108), ('AC', 0.29618222), ('HIGH52', 0.25770432), ('R60_13', 0.2670172), ('DPI2A', 0.29499757)], 0.2578998, 5.584263)\n",
      "epoch 6\n"
     ]
    },
    {
     "data": {
      "application/vnd.jupyter.widget-view+json": {
       "model_id": "bca40ee26451429a9d9d8886a8ee0ab6",
       "version_major": 2,
       "version_minor": 0
      },
      "text/plain": [
       "  0%|          | 0/370 [00:00<?, ?it/s]"
      ]
     },
     "metadata": {},
     "output_type": "display_data"
    },
    {
     "name": "stdout",
     "output_type": "stream",
     "text": [
      "epoch 6 avg loss -12.835031509399414\n",
      "epoch 6 took 0.1299235701560974 minutes\n",
      "epoch 7\n"
     ]
    },
    {
     "data": {
      "application/vnd.jupyter.widget-view+json": {
       "model_id": "e19f9c508ae947ba966c6290c58f9226",
       "version_major": 2,
       "version_minor": 0
      },
      "text/plain": [
       "  0%|          | 0/370 [00:00<?, ?it/s]"
      ]
     },
     "metadata": {},
     "output_type": "display_data"
    },
    {
     "name": "stdout",
     "output_type": "stream",
     "text": [
      "epoch 7 avg loss -13.57624340057373\n",
      "epoch 7 took 0.1313893437385559 minutes\n",
      "epoch 8\n"
     ]
    },
    {
     "data": {
      "application/vnd.jupyter.widget-view+json": {
       "model_id": "6b1668e57d1644a2a1dba256b2a45daa",
       "version_major": 2,
       "version_minor": 0
      },
      "text/plain": [
       "  0%|          | 0/370 [00:00<?, ?it/s]"
      ]
     },
     "metadata": {},
     "output_type": "display_data"
    },
    {
     "name": "stdout",
     "output_type": "stream",
     "text": [
      "epoch 8 avg loss -13.948187828063965\n",
      "epoch 8 took 0.13258785009384155 minutes\n",
      "epoch 9\n"
     ]
    },
    {
     "data": {
      "application/vnd.jupyter.widget-view+json": {
       "model_id": "233e043f8c6b452c9ab4bf786c7b6bdc",
       "version_major": 2,
       "version_minor": 0
      },
      "text/plain": [
       "  0%|          | 0/370 [00:00<?, ?it/s]"
      ]
     },
     "metadata": {},
     "output_type": "display_data"
    },
    {
     "name": "stdout",
     "output_type": "stream",
     "text": [
      "epoch 9 avg loss -17.12700843811035\n",
      "epoch 9 took 0.13060919841130575 minutes\n",
      "epoch 10\n"
     ]
    },
    {
     "data": {
      "application/vnd.jupyter.widget-view+json": {
       "model_id": "c9b847cd0b234da3b4760e206557e965",
       "version_major": 2,
       "version_minor": 0
      },
      "text/plain": [
       "  0%|          | 0/370 [00:00<?, ?it/s]"
      ]
     },
     "metadata": {},
     "output_type": "display_data"
    },
    {
     "name": "stdout",
     "output_type": "stream",
     "text": [
      "epoch 10 avg loss -20.150447845458984\n",
      "epoch 10 took 0.13196224768956502 minutes\n"
     ]
    },
    {
     "data": {
      "application/vnd.jupyter.widget-view+json": {
       "model_id": "1f48e15b279846269f9c95cfcf218ffb",
       "version_major": 2,
       "version_minor": 0
      },
      "text/plain": [
       "  0%|          | 0/64 [00:00<?, ?it/s]"
      ]
     },
     "metadata": {},
     "output_type": "display_data"
    },
    {
     "name": "stdout",
     "output_type": "stream",
     "text": [
      "eval oos ([('ME', 0.19873655), ('R2_1', 0.29106057), ('D2P', 0.25888872), ('SPREAD', 0.18655449), ('RVAR', 0.16897723), ('VAR', 0.17712322), ('IdioVol', 0.19974825), ('TURN', 0.24338773), ('SUV', 0.28625697), ('R12_7', 0.2686119), ('CF2P', 0.21166044), ('E2P', 0.19363898), ('R12_2', 0.25148544), ('S2P', 0.12297259), ('B2M', 0.23200008), ('CF2B', 0.23620221), ('AT', 0.1887821), ('A2ME', 0.19230329), ('Q', 0.21734622), ('PROF', 0.21376139), ('PM', 0.13994946), ('PCM', 0.19511944), ('BETA_m', 0.22860628), ('C2A', 0.22000939), ('OL', 0.123909146), ('ROE', 0.23518787), ('CTO', 0.1270605), ('ATO', 0.19302164), ('LEV', 0.24526778), ('NOA', 0.20246433), ('ROA', 0.23624939), ('RNA', 0.19068772), ('OP', 0.1848702), ('NI', 0.27287516), ('INV', 0.26292378), ('BETA_d', 0.21477665), ('R36_13', 0.28164577), ('D2A', 0.2521546), ('FC2Y', 0.13177684), ('SGA2S', 0.13261706), ('OA', 0.2892876), ('AC', 0.2933253), ('HIGH52', 0.22386728), ('R60_13', 0.269824), ('DPI2A', 0.27746415)], 0.21698755, 5.9470057)\n"
     ]
    },
    {
     "data": {
      "application/vnd.jupyter.widget-view+json": {
       "model_id": "484a18eae83346c082b3a1deee756694",
       "version_major": 2,
       "version_minor": 0
      },
      "text/plain": [
       "  0%|          | 0/77 [00:00<?, ?it/s]"
      ]
     },
     "metadata": {},
     "output_type": "display_data"
    },
    {
     "name": "stdout",
     "output_type": "stream",
     "text": [
      "test oos ([('ME', 0.19553794), ('R2_1', 0.29630142), ('D2P', 0.26824942), ('SPREAD', 0.18088695), ('RVAR', 0.17489561), ('VAR', 0.19076969), ('IdioVol', 0.20819026), ('TURN', 0.25931728), ('SUV', 0.2869282), ('R12_7', 0.2757924), ('CF2P', 0.23103745), ('E2P', 0.20466033), ('R12_2', 0.26190975), ('S2P', 0.12867256), ('B2M', 0.21726274), ('CF2B', 0.2506938), ('AT', 0.18801905), ('A2ME', 0.19611312), ('Q', 0.21860364), ('PROF', 0.21271563), ('PM', 0.15605955), ('PCM', 0.19726655), ('BETA_m', 0.26282093), ('C2A', 0.22617322), ('OL', 0.1311093), ('ROE', 0.24105549), ('CTO', 0.12745523), ('ATO', 0.18656261), ('LEV', 0.25491342), ('NOA', 0.20378529), ('ROA', 0.24468945), ('RNA', 0.21264964), ('OP', 0.20030265), ('NI', 0.2797225), ('INV', 0.27347553), ('BETA_d', 0.24139059), ('R36_13', 0.26577058), ('D2A', 0.26023567), ('FC2Y', 0.1390755), ('SGA2S', 0.1376789), ('OA', 0.28874868), ('AC', 0.29545814), ('HIGH52', 0.22739673), ('R60_13', 0.25180626), ('DPI2A', 0.27826515)], 0.22289832, 7.149735)\n",
      "epoch 11\n"
     ]
    },
    {
     "data": {
      "application/vnd.jupyter.widget-view+json": {
       "model_id": "b3f291687ca7444e9865c530a2cb170d",
       "version_major": 2,
       "version_minor": 0
      },
      "text/plain": [
       "  0%|          | 0/370 [00:00<?, ?it/s]"
      ]
     },
     "metadata": {},
     "output_type": "display_data"
    },
    {
     "name": "stdout",
     "output_type": "stream",
     "text": [
      "epoch 11 avg loss -23.12584114074707\n",
      "epoch 11 took 0.13094874223073324 minutes\n",
      "epoch 12\n"
     ]
    },
    {
     "data": {
      "application/vnd.jupyter.widget-view+json": {
       "model_id": "9e2ea53c1ace479aba538f4c911da301",
       "version_major": 2,
       "version_minor": 0
      },
      "text/plain": [
       "  0%|          | 0/370 [00:00<?, ?it/s]"
      ]
     },
     "metadata": {},
     "output_type": "display_data"
    },
    {
     "name": "stdout",
     "output_type": "stream",
     "text": [
      "epoch 12 avg loss -25.33672523498535\n",
      "epoch 12 took 0.13197648922602337 minutes\n",
      "epoch 13\n"
     ]
    },
    {
     "data": {
      "application/vnd.jupyter.widget-view+json": {
       "model_id": "75f0674156df490098d242940adbc348",
       "version_major": 2,
       "version_minor": 0
      },
      "text/plain": [
       "  0%|          | 0/370 [00:00<?, ?it/s]"
      ]
     },
     "metadata": {},
     "output_type": "display_data"
    },
    {
     "name": "stdout",
     "output_type": "stream",
     "text": [
      "epoch 13 avg loss -27.618934631347656\n",
      "epoch 13 took 0.13051761786142985 minutes\n",
      "epoch 14\n"
     ]
    },
    {
     "data": {
      "application/vnd.jupyter.widget-view+json": {
       "model_id": "28cbc5cdd5864dcba3d45c8f1e6261c5",
       "version_major": 2,
       "version_minor": 0
      },
      "text/plain": [
       "  0%|          | 0/370 [00:00<?, ?it/s]"
      ]
     },
     "metadata": {},
     "output_type": "display_data"
    },
    {
     "name": "stdout",
     "output_type": "stream",
     "text": [
      "epoch 14 avg loss -29.70618438720703\n",
      "epoch 14 took 0.1305336634318034 minutes\n",
      "epoch 15\n"
     ]
    },
    {
     "data": {
      "application/vnd.jupyter.widget-view+json": {
       "model_id": "05d21f2be6d14b7ca45d7b3a72e69c4f",
       "version_major": 2,
       "version_minor": 0
      },
      "text/plain": [
       "  0%|          | 0/370 [00:00<?, ?it/s]"
      ]
     },
     "metadata": {},
     "output_type": "display_data"
    },
    {
     "name": "stdout",
     "output_type": "stream",
     "text": [
      "epoch 15 avg loss -31.3104190826416\n",
      "epoch 15 took 0.13164707024892172 minutes\n"
     ]
    },
    {
     "data": {
      "application/vnd.jupyter.widget-view+json": {
       "model_id": "035237ec8eff4c958932acedbb8ec0bc",
       "version_major": 2,
       "version_minor": 0
      },
      "text/plain": [
       "  0%|          | 0/64 [00:00<?, ?it/s]"
      ]
     },
     "metadata": {},
     "output_type": "display_data"
    },
    {
     "name": "stdout",
     "output_type": "stream",
     "text": [
      "eval oos ([('ME', 0.23559655), ('R2_1', 0.29738963), ('D2P', 0.23773225), ('SPREAD', 0.18751028), ('RVAR', 0.17300984), ('VAR', 0.18754494), ('IdioVol', 0.2281206), ('TURN', 0.24226314), ('SUV', 0.3040925), ('R12_7', 0.21095346), ('CF2P', 0.19349663), ('E2P', 0.16870044), ('R12_2', 0.21631503), ('S2P', 0.12057525), ('B2M', 0.15104601), ('CF2B', 0.23594183), ('AT', 0.21687953), ('A2ME', 0.18691711), ('Q', 0.20948112), ('PROF', 0.18204209), ('PM', 0.13964526), ('PCM', 0.1757497), ('BETA_m', 0.13909848), ('C2A', 0.19861937), ('OL', 0.11607511), ('ROE', 0.21938935), ('CTO', 0.11880245), ('ATO', 0.18163055), ('LEV', 0.17252065), ('NOA', 0.17396328), ('ROA', 0.20196241), ('RNA', 0.1870914), ('OP', 0.17482413), ('NI', 0.26352355), ('INV', 0.22328252), ('BETA_d', 0.15179168), ('R36_13', 0.21391593), ('D2A', 0.24022141), ('FC2Y', 0.12895176), ('SGA2S', 0.1138221), ('OA', 0.2890242), ('AC', 0.29443157), ('HIGH52', 0.20710482), ('R60_13', 0.20222735), ('DPI2A', 0.26978487)], 0.19962361, 16.061232)\n"
     ]
    },
    {
     "data": {
      "application/vnd.jupyter.widget-view+json": {
       "model_id": "f5b074eb4a07464b88b39813fefe386e",
       "version_major": 2,
       "version_minor": 0
      },
      "text/plain": [
       "  0%|          | 0/77 [00:00<?, ?it/s]"
      ]
     },
     "metadata": {},
     "output_type": "display_data"
    },
    {
     "name": "stdout",
     "output_type": "stream",
     "text": [
      "test oos ([('ME', 0.2319854), ('R2_1', 0.3030579), ('D2P', 0.24843597), ('SPREAD', 0.18910907), ('RVAR', 0.17983772), ('VAR', 0.20177835), ('IdioVol', 0.23946124), ('TURN', 0.263703), ('SUV', 0.30942425), ('R12_7', 0.21539593), ('CF2P', 0.2171454), ('E2P', 0.1785698), ('R12_2', 0.21748509), ('S2P', 0.12645857), ('B2M', 0.1410697), ('CF2B', 0.2530269), ('AT', 0.21662612), ('A2ME', 0.19070825), ('Q', 0.2123953), ('PROF', 0.18410276), ('PM', 0.15168601), ('PCM', 0.17622936), ('BETA_m', 0.14944641), ('C2A', 0.21144198), ('OL', 0.1210381), ('ROE', 0.23024125), ('CTO', 0.11913729), ('ATO', 0.17682882), ('LEV', 0.17656742), ('NOA', 0.1757728), ('ROA', 0.21171111), ('RNA', 0.20880388), ('OP', 0.1852599), ('NI', 0.27121297), ('INV', 0.2373869), ('BETA_d', 0.17491136), ('R36_13', 0.20361283), ('D2A', 0.25630176), ('FC2Y', 0.12981892), ('SGA2S', 0.11481971), ('OA', 0.28847352), ('AC', 0.29539582), ('HIGH52', 0.2118152), ('R60_13', 0.1948309), ('DPI2A', 0.27286345)], 0.20589742, 17.195568)\n",
      "epoch 16\n"
     ]
    },
    {
     "data": {
      "application/vnd.jupyter.widget-view+json": {
       "model_id": "98d5e2d5182e485ebfbfb2b74e4ae6b2",
       "version_major": 2,
       "version_minor": 0
      },
      "text/plain": [
       "  0%|          | 0/370 [00:00<?, ?it/s]"
      ]
     },
     "metadata": {},
     "output_type": "display_data"
    },
    {
     "name": "stdout",
     "output_type": "stream",
     "text": [
      "epoch 16 avg loss -32.706077575683594\n",
      "epoch 16 took 0.13140314022699992 minutes\n",
      "epoch 17\n"
     ]
    },
    {
     "data": {
      "application/vnd.jupyter.widget-view+json": {
       "model_id": "3b2b3eda64fa43b2a177ba305d50a8bc",
       "version_major": 2,
       "version_minor": 0
      },
      "text/plain": [
       "  0%|          | 0/370 [00:00<?, ?it/s]"
      ]
     },
     "metadata": {},
     "output_type": "display_data"
    },
    {
     "name": "stdout",
     "output_type": "stream",
     "text": [
      "epoch 17 avg loss -33.837799072265625\n",
      "epoch 17 took 0.1306575616200765 minutes\n",
      "epoch 18\n"
     ]
    },
    {
     "data": {
      "application/vnd.jupyter.widget-view+json": {
       "model_id": "39c81d6fe37d4bb28934d0bc30d1fb34",
       "version_major": 2,
       "version_minor": 0
      },
      "text/plain": [
       "  0%|          | 0/370 [00:00<?, ?it/s]"
      ]
     },
     "metadata": {},
     "output_type": "display_data"
    },
    {
     "name": "stdout",
     "output_type": "stream",
     "text": [
      "epoch 18 avg loss -35.04812240600586\n",
      "epoch 18 took 0.12987303733825684 minutes\n",
      "epoch 19\n"
     ]
    },
    {
     "data": {
      "application/vnd.jupyter.widget-view+json": {
       "model_id": "cae183fceb08433db82224ef64d06b98",
       "version_major": 2,
       "version_minor": 0
      },
      "text/plain": [
       "  0%|          | 0/370 [00:00<?, ?it/s]"
      ]
     },
     "metadata": {},
     "output_type": "display_data"
    },
    {
     "name": "stdout",
     "output_type": "stream",
     "text": [
      "epoch 19 avg loss -36.24156188964844\n",
      "epoch 19 took 0.13223708868026735 minutes\n"
     ]
    }
   ],
   "source": [
    "torch.manual_seed(0)\n",
    "exp_batch_size = 100\n",
    "model = models.XSCharLSTM(input_dim=96, hidden_dims=[30, 30], num_layers=4, batch_size=exp_batch_size)\n",
    "\n",
    "num_epochs = 20\n",
    "eval_freq = 5\n",
    "\n",
    "optimizer = torch.optim.AdamW(model.parameters(), lr=0.01, weight_decay=0.01)\n",
    "# optimizer = torch.optim.SGD(model.parameters(), lr=0.01)\n",
    "\n",
    "\n",
    "scheduler = MultiStepLR(optimizer, [30], gamma=0.1, last_epoch=-1)\n",
    "device = torch.device(\"cuda:0\" if torch.cuda.is_available() else \"cpu\")\n",
    "print(f'torch device is {device}')\n",
    "model = model.to(device)\n",
    "loss_fn = loss_functions.beta_ll_loss\n",
    "\n",
    "\n",
    "#basic training loop for local development\n",
    "for epoch in range(num_epochs):\n",
    "    epoch_start = time.time()\n",
    "    losses = []\n",
    "    # Forward pass\n",
    "    print(f'epoch {epoch}')\n",
    "    for i, data in enumerate(tqdm(train_data_loader)):\n",
    "        ts_idxs, stock_idxs, data, mask, ordered_mask, factors, return_sample = data\n",
    "        assert not torch.isnan(data).any()\n",
    "#         assert not (data <= 0).any(), torch.min(data)\n",
    "#         print(data.shape)\n",
    "        C_train = data.transpose_(0, 1).float().to(device)[:-1]\n",
    "        \n",
    "        C_mask = mask.float().to(device).transpose_(0, 1)[:-1]\n",
    "        C_ordered_mask = ordered_mask.float().to(device).transpose_(0, 1)[:-1]\n",
    "        \n",
    "        factors = factors.transpose_(0, 1).float().to(device)[1:]\n",
    "        \n",
    "        train_input = torch.cat([C_train, C_mask, factors], axis=2)\n",
    "        if train_input.shape[1] == exp_batch_size and train_input.shape[2] > 0:\n",
    "            alpha_pred, beta_pred, hidden_out = model(train_input)\n",
    "#             print(hidden_out.shape)\n",
    "\n",
    "            loss = loss_fn(C_train[1:], alpha_pred[:-1], beta_pred[:-1], mask=C_mask[1:]).mean()\n",
    "            assert not torch.isnan(loss).any()\n",
    "\n",
    "            loss.backward()\n",
    "            losses.append(loss.data.cpu().detach().numpy())\n",
    "\n",
    "            optimizer.step()\n",
    "            model.zero_grad()\n",
    "            optimizer.zero_grad()       \n",
    "\n",
    "\n",
    "    print(f'epoch {epoch} avg loss {np.mean(losses)}')\n",
    "    print(f'epoch {epoch} took {(time.time() - epoch_start)/60.0} minutes')\n",
    "    scheduler.step()\n",
    "    if (epoch) % eval_freq == 0:\n",
    "#         print(\"train is\", eval_fn.eval_ts_model_is(chars, exp_batch_size, model, train_data_loader))\n",
    "#         print(\"eval is\", eval_fn.eval_ts_model_is(chars, exp_batch_size, model, eval_data_loader))\n",
    "        print(\"eval oos\", eval_fn.eval_ts_model_oos(chars, exp_batch_size, model, eval_data_loader))\n",
    "        print(\"test oos\", eval_fn.eval_ts_model_oos(chars, exp_batch_size, model, test_data_loader))\n",
    "        "
   ]
  },
  {
   "cell_type": "code",
   "execution_count": 118,
   "id": "3efcfa76",
   "metadata": {},
   "outputs": [
    {
     "data": {
      "text/plain": [
       "<module 'eval_fn' from '/home/selwin_p_george/CS 236 Project/deep_stock_characteristic_imputation/Code/eval_fn.py'>"
      ]
     },
     "execution_count": 118,
     "metadata": {},
     "output_type": "execute_result"
    }
   ],
   "source": [
    "importlib.reload(loss_functions)\n",
    "importlib.reload(eval_fn)\n",
    "importlib.reload(loss_functions)\n",
    "importlib.reload(eval_fn)"
   ]
  },
  {
   "cell_type": "code",
   "execution_count": 119,
   "id": "775639be",
   "metadata": {},
   "outputs": [
    {
     "data": {
      "application/vnd.jupyter.widget-view+json": {
       "model_id": "3a1e1b55732a4c94ad3966e4eef5fe2a",
       "version_major": 2,
       "version_minor": 0
      },
      "text/plain": [
       "  0%|          | 0/370 [00:00<?, ?it/s]"
      ]
     },
     "metadata": {},
     "output_type": "display_data"
    },
    {
     "data": {
      "image/png": "[encoded data removed]",
      "text/plain": [
       "<Figure size 432x288 with 1 Axes>"
      ]
     },
     "metadata": {
      "needs_background": "light"
     },
     "output_type": "display_data"
    },
    {
     "data": {
      "image/png": "[encoded data removed]",
      "text/plain": [
       "<Figure size 432x288 with 1 Axes>"
      ]
     },
     "metadata": {
      "needs_background": "light"
     },
     "output_type": "display_data"
    },
    {
     "data": {
      "image/png": "[encoded data removed]",
      "text/plain": [
       "<Figure size 432x288 with 1 Axes>"
      ]
     },
     "metadata": {
      "needs_background": "light"
     },
     "output_type": "display_data"
    },
    {
     "data": {
      "image/png": "[encoded data removed]",
      "text/plain": [
       "<Figure size 432x288 with 1 Axes>"
      ]
     },
     "metadata": {
      "needs_background": "light"
     },
     "output_type": "display_data"
    },
    {
     "data": {
      "image/png": "[encoded data removed]",
      "text/plain": [
       "<Figure size 432x288 with 1 Axes>"
      ]
     },
     "metadata": {
      "needs_background": "light"
     },
     "output_type": "display_data"
    },
    {
     "name": "stdout",
     "output_type": "stream",
     "text": [
      "train is ([('ME', 0.02844139), ('R2_1', 0.29425007), ('D2P', 0.04697669), ('SPREAD', 0.18359005), ('RVAR', 0.123835884), ('VAR', 0.12506093), ('IdioVol', 0.17877655), ('TURN', 0.16992053), ('SUV', 0.3056337), ('R12_7', 0.16345851), ('CF2P', 0.098879635), ('E2P', 0.16498326), ('R12_2', 0.09793599), ('S2P', 0.06549711), ('B2M', 0.08369726), ('CF2B', 0.25790477), ('AT', 0.0319526), ('A2ME', 0.048547547), ('Q', 0.052153837), ('PROF', 0.099431984), ('PM', 0.14400847), ('PCM', 0.12738109), ('BETA_m', 0.04673309), ('C2A', 0.17273957), ('OL', 0.07124261), ('ROE', 0.14060333), ('CTO', 0.07371719), ('ATO', 0.13174683), ('LEV', 0.08911005), ('NOA', 0.08992866), ('ROA', 0.122261636), ('RNA', 0.15138921), ('OP', 0.18661283), ('NI', 0.21781416), ('INV', 0.15514264), ('BETA_d', 0.13880153), ('R36_13', 0.13085106), ('D2A', 0.1934219), ('FC2Y', 0.08147096), ('SGA2S', 0.08167805), ('OA', 0.28498933), ('AC', 0.28444418), ('HIGH52', 0.20445816), ('R60_13', 0.16120045), ('DPI2A', 0.24826589)], 0.14113204, -63.654472)\n"
     ]
    }
   ],
   "source": [
    "print(\"train is\", eval_fn.eval_ts_model_is(chars, exp_batch_size, model, train_data_loader, plot_ts=True))"
   ]
  },
  {
   "cell_type": "code",
   "execution_count": 113,
   "id": "5636ee7e",
   "metadata": {},
   "outputs": [
    {
     "data": {
      "application/vnd.jupyter.widget-view+json": {
       "model_id": "",
       "version_major": 2,
       "version_minor": 0
      },
      "text/plain": [
       "  0%|          | 0/370 [00:00<?, ?it/s]"
      ]
     },
     "metadata": {},
     "output_type": "display_data"
    },
    {
     "name": "stdout",
     "output_type": "stream",
     "text": [
      "train is ([('ME', 0.028438823), ('R2_1', 0.29427224), ('D2P', 0.046970874), ('SPREAD', 0.18360311), ('RVAR', 0.12383765), ('VAR', 0.1250588), ('IdioVol', 0.17879096), ('TURN', 0.16989523), ('SUV', 0.3056352), ('R12_7', 0.16346207), ('CF2P', 0.09886185), ('E2P', 0.16496865), ('R12_2', 0.097931646), ('S2P', 0.06549332), ('B2M', 0.083712496), ('CF2B', 0.25790632), ('AT', 0.031943444), ('A2ME', 0.04855191), ('Q', 0.05215146), ('PROF', 0.09945324), ('PM', 0.14400688), ('PCM', 0.12738347), ('BETA_m', 0.046731967), ('C2A', 0.17270656), ('OL', 0.07125253), ('ROE', 0.14059982), ('CTO', 0.07371299), ('ATO', 0.13170703), ('LEV', 0.08912947), ('NOA', 0.08991741), ('ROA', 0.122259535), ('RNA', 0.15138267), ('OP', 0.18660463), ('NI', 0.21784036), ('INV', 0.15512581), ('BETA_d', 0.13878283), ('R36_13', 0.13086773), ('D2A', 0.19348069), ('FC2Y', 0.081476405), ('SGA2S', 0.081651725), ('OA', 0.28499758), ('AC', 0.28443238), ('HIGH52', 0.20447092), ('R60_13', 0.16121663), ('DPI2A', 0.24825244)], 0.14113177, -63.65117)\n"
     ]
    },
    {
     "data": {
      "application/vnd.jupyter.widget-view+json": {
       "model_id": "",
       "version_major": 2,
       "version_minor": 0
      },
      "text/plain": [
       "  0%|          | 0/64 [00:00<?, ?it/s]"
      ]
     },
     "metadata": {},
     "output_type": "display_data"
    },
    {
     "name": "stdout",
     "output_type": "stream",
     "text": [
      "eval is ([('ME', 0.12276274), ('R2_1', 0.304493), ('D2P', 0.08079332), ('SPREAD', 0.18643168), ('RVAR', 0.1650362), ('VAR', 0.1593834), ('IdioVol', 0.19681497), ('TURN', 0.18412888), ('SUV', 0.3118031), ('R12_7', 0.20074946), ('CF2P', 0.12833129), ('E2P', 0.17622028), ('R12_2', 0.12388219), ('S2P', 0.117818855), ('B2M', 0.1276569), ('CF2B', 0.24405752), ('AT', 0.14485338), ('A2ME', 0.12937972), ('Q', 0.09956542), ('PROF', 0.14025766), ('PM', 0.13833082), ('PCM', 0.14749447), ('BETA_m', 0.08493901), ('C2A', 0.1807973), ('OL', 0.104841866), ('ROE', 0.17457315), ('CTO', 0.096156076), ('ATO', 0.17695583), ('LEV', 0.15274), ('NOA', 0.1383196), ('ROA', 0.15714015), ('RNA', 0.19950514), ('OP', 0.18772823), ('NI', 0.23823644), ('INV', 0.19338143), ('BETA_d', 0.15714292), ('R36_13', 0.17699763), ('D2A', 0.22952463), ('FC2Y', 0.11188977), ('SGA2S', 0.10589813), ('OA', 0.29029554), ('AC', 0.29183617), ('HIGH52', 0.20380177), ('R60_13', 0.19412927), ('DPI2A', 0.26805323)], 0.17211397, -8.925081)\n"
     ]
    },
    {
     "data": {
      "application/vnd.jupyter.widget-view+json": {
       "model_id": "",
       "version_major": 2,
       "version_minor": 0
      },
      "text/plain": [
       "  0%|          | 0/64 [00:00<?, ?it/s]"
      ]
     },
     "metadata": {},
     "output_type": "display_data"
    },
    {
     "name": "stdout",
     "output_type": "stream",
     "text": [
      "eval oos ([('ME', 0.23568718), ('R2_1', 0.3047231), ('D2P', 0.23272187), ('SPREAD', 0.19110037), ('RVAR', 0.17243654), ('VAR', 0.18864681), ('IdioVol', 0.23387365), ('TURN', 0.22851521), ('SUV', 0.3110202), ('R12_7', 0.21510528), ('CF2P', 0.18609859), ('E2P', 0.17219348), ('R12_2', 0.22843991), ('S2P', 0.11965375), ('B2M', 0.13777065), ('CF2B', 0.2380854), ('AT', 0.21568604), ('A2ME', 0.18162751), ('Q', 0.21369441), ('PROF', 0.16188289), ('PM', 0.13243827), ('PCM', 0.15809111), ('BETA_m', 0.11448732), ('C2A', 0.18596537), ('OL', 0.10996518), ('ROE', 0.20586984), ('CTO', 0.12306754), ('ATO', 0.18236905), ('LEV', 0.17092487), ('NOA', 0.15953271), ('ROA', 0.18618117), ('RNA', 0.19127604), ('OP', 0.17802274), ('NI', 0.24221528), ('INV', 0.2061961), ('BETA_d', 0.15837342), ('R36_13', 0.18965684), ('D2A', 0.23097646), ('FC2Y', 0.1333221), ('SGA2S', 0.111329675), ('OA', 0.28906053), ('AC', 0.29242405), ('HIGH52', 0.20582227), ('R60_13', 0.19879763), ('DPI2A', 0.26685256)], 0.19538178, 22.988386)\n"
     ]
    },
    {
     "data": {
      "application/vnd.jupyter.widget-view+json": {
       "model_id": "",
       "version_major": 2,
       "version_minor": 0
      },
      "text/plain": [
       "  0%|          | 0/77 [00:00<?, ?it/s]"
      ]
     },
     "metadata": {},
     "output_type": "display_data"
    },
    {
     "name": "stdout",
     "output_type": "stream",
     "text": [
      "test oos ([('ME', 0.23150781), ('R2_1', 0.30992007), ('D2P', 0.22472633), ('SPREAD', 0.18901123), ('RVAR', 0.1786773), ('VAR', 0.20273392), ('IdioVol', 0.24546531), ('TURN', 0.2343224), ('SUV', 0.31688762), ('R12_7', 0.21883771), ('CF2P', 0.19461055), ('E2P', 0.18200348), ('R12_2', 0.2284986), ('S2P', 0.12736163), ('B2M', 0.12992375), ('CF2B', 0.25453472), ('AT', 0.21515551), ('A2ME', 0.18482675), ('Q', 0.21630031), ('PROF', 0.16517581), ('PM', 0.14256832), ('PCM', 0.15541868), ('BETA_m', 0.120214306), ('C2A', 0.20352264), ('OL', 0.11262006), ('ROE', 0.21464609), ('CTO', 0.122829825), ('ATO', 0.17993328), ('LEV', 0.17218305), ('NOA', 0.16443609), ('ROA', 0.19530404), ('RNA', 0.21052733), ('OP', 0.18804324), ('NI', 0.2452252), ('INV', 0.214352), ('BETA_d', 0.18127643), ('R36_13', 0.18249989), ('D2A', 0.2305926), ('FC2Y', 0.13822718), ('SGA2S', 0.11427445), ('OA', 0.2887631), ('AC', 0.2929931), ('HIGH52', 0.20912081), ('R60_13', 0.19265015), ('DPI2A', 0.26799083)], 0.1997932, 23.519268)\n"
     ]
    }
   ],
   "source": [
    "print(\"train is\", eval_fn.eval_ts_model_is(chars, exp_batch_size, model, train_data_loader))\n",
    "print(\"eval is\", eval_fn.eval_ts_model_is(chars, exp_batch_size, model, eval_data_loader))\n",
    "print(\"eval oos\", eval_fn.eval_ts_model_oos(chars, exp_batch_size, model, eval_data_loader))\n",
    "print(\"test oos\", eval_fn.eval_ts_model_oos(chars, exp_batch_size, model, test_data_loader))"
   ]
  },
  {
   "cell_type": "code",
   "execution_count": 101,
   "id": "26fb6373",
   "metadata": {
    "scrolled": true
   },
   "outputs": [
    {
     "name": "stdout",
     "output_type": "stream",
     "text": [
      "Parameter containing:\n",
      "tensor([[0., 0., 0.,  ..., 0., 0., 0.],\n",
      "        [1., 0., 0.,  ..., 0., 0., 0.],\n",
      "        [1., 1., 0.,  ..., 0., 0., 0.],\n",
      "        ...,\n",
      "        [1., 1., 1.,  ..., 0., 0., 0.],\n",
      "        [1., 1., 1.,  ..., 1., 0., 0.],\n",
      "        [1., 1., 1.,  ..., 1., 1., 0.]], requires_grad=True) torch.Size([45, 45])\n",
      "torch device is cuda:0\n",
      "epoch 0\n"
     ]
    },
    {
     "data": {
      "application/vnd.jupyter.widget-view+json": {
       "model_id": "946b9e78ac8d455e917820dc81313207",
       "version_major": 2,
       "version_minor": 0
      },
      "text/plain": [
       "  0%|          | 0/370 [00:00<?, ?it/s]"
      ]
     },
     "metadata": {},
     "output_type": "display_data"
    },
    {
     "name": "stdout",
     "output_type": "stream",
     "text": [
      "epoch 0, avg ar model loss 17.70810890197754\n",
      "epoch 0 took 0.4344305157661438 minutes\n"
     ]
    },
    {
     "data": {
      "application/vnd.jupyter.widget-view+json": {
       "model_id": "1b5ba4a547294d928a994973445724c6",
       "version_major": 2,
       "version_minor": 0
      },
      "text/plain": [
       "  0%|          | 0/64 [00:00<?, ?it/s]"
      ]
     },
     "metadata": {},
     "output_type": "display_data"
    },
    {
     "name": "stdout",
     "output_type": "stream",
     "text": [
      "eval oos ([('ME', 0.20129241), ('R2_1', 0.2897739), ('D2P', 0.275849), ('SPREAD', 0.24493068), ('RVAR', 0.14388293), ('VAR', 0.10328799), ('IdioVol', 0.15729885), ('TURN', 0.26859102), ('SUV', 0.28038073), ('R12_7', 0.16083105), ('CF2P', 0.26044947), ('E2P', 0.21832138), ('R12_2', 0.13181768), ('S2P', 0.26323983), ('B2M', 0.22412206), ('CF2B', 0.2609526), ('AT', 0.07656967), ('A2ME', 0.11548729), ('Q', 0.096007586), ('PROF', 0.29557678), ('PM', 0.10517651), ('PCM', 0.22775613), ('BETA_m', 0.26501355), ('C2A', 0.24610585), ('OL', 0.21017654), ('ROE', 0.15387416), ('CTO', 0.1976552), ('ATO', 0.16415256), ('LEV', 0.21860106), ('NOA', 0.25986207), ('ROA', 0.11623044), ('RNA', 0.15409887), ('OP', 0.13941361), ('NI', 0.28345406), ('INV', 0.19516388), ('BETA_d', 0.16544041), ('R36_13', 0.2643935), ('D2A', 0.27459), ('FC2Y', 0.14754161), ('SGA2S', 0.099224165), ('OA', 0.2621535), ('AC', 0.26937196), ('HIGH52', 0.14752133), ('R60_13', 0.23828505), ('DPI2A', 0.22121143)], 0.21190557, -2.0584943)\n"
     ]
    },
    {
     "data": {
      "application/vnd.jupyter.widget-view+json": {
       "model_id": "1becb3a1e9054d569f21e700ce83775f",
       "version_major": 2,
       "version_minor": 0
      },
      "text/plain": [
       "  0%|          | 0/77 [00:00<?, ?it/s]"
      ]
     },
     "metadata": {},
     "output_type": "display_data"
    },
    {
     "name": "stdout",
     "output_type": "stream",
     "text": [
      "test oos ([('ME', 0.19012137), ('R2_1', 0.2941822), ('D2P', 0.28176394), ('SPREAD', 0.24282764), ('RVAR', 0.1407805), ('VAR', 0.11669688), ('IdioVol', 0.15692972), ('TURN', 0.28448513), ('SUV', 0.28097355), ('R12_7', 0.16648102), ('CF2P', 0.27109325), ('E2P', 0.22851066), ('R12_2', 0.13890627), ('S2P', 0.2623564), ('B2M', 0.22907656), ('CF2B', 0.26902294), ('AT', 0.079668246), ('A2ME', 0.11422248), ('Q', 0.11674046), ('PROF', 0.29871836), ('PM', 0.114399225), ('PCM', 0.2221355), ('BETA_m', 0.28058094), ('C2A', 0.25104994), ('OL', 0.20834027), ('ROE', 0.15006179), ('CTO', 0.19607124), ('ATO', 0.16827416), ('LEV', 0.2247516), ('NOA', 0.25743902), ('ROA', 0.1142778), ('RNA', 0.18136473), ('OP', 0.14486466), ('NI', 0.28043616), ('INV', 0.19556038), ('BETA_d', 0.18418416), ('R36_13', 0.25775254), ('D2A', 0.28476477), ('FC2Y', 0.13554914), ('SGA2S', 0.09583329), ('OA', 0.2628059), ('AC', 0.2714019), ('HIGH52', 0.14733683), ('R60_13', 0.2339565), ('DPI2A', 0.22288917)], 0.21514761, -1.8854848)\n",
      "epoch 1\n"
     ]
    },
    {
     "data": {
      "application/vnd.jupyter.widget-view+json": {
       "model_id": "cdd6760635b64defaae35e320d4fa499",
       "version_major": 2,
       "version_minor": 0
      },
      "text/plain": [
       "  0%|          | 0/370 [00:00<?, ?it/s]"
      ]
     },
     "metadata": {},
     "output_type": "display_data"
    },
    {
     "name": "stdout",
     "output_type": "stream",
     "text": [
      "epoch 1, avg ar model loss -36.17999267578125\n",
      "epoch 1 took 0.4359077135721842 minutes\n"
     ]
    },
    {
     "data": {
      "application/vnd.jupyter.widget-view+json": {
       "model_id": "27ab596657254c8887ee009bd7d8ea25",
       "version_major": 2,
       "version_minor": 0
      },
      "text/plain": [
       "  0%|          | 0/64 [00:00<?, ?it/s]"
      ]
     },
     "metadata": {},
     "output_type": "display_data"
    },
    {
     "name": "stdout",
     "output_type": "stream",
     "text": [
      "eval oos ([('ME', 0.06158487), ('R2_1', 0.18908867), ('D2P', 0.2041708), ('SPREAD', 0.18984133), ('RVAR', 0.10222184), ('VAR', 0.073773876), ('IdioVol', 0.20112763), ('TURN', 0.18937822), ('SUV', 0.19305393), ('R12_7', 0.1640895), ('CF2P', 0.13601695), ('E2P', 0.16507272), ('R12_2', 0.17347579), ('S2P', 0.084272735), ('B2M', 0.20166667), ('CF2B', 0.17650288), ('AT', 0.0516976), ('A2ME', 0.056243073), ('Q', 0.059587732), ('PROF', 0.1826431), ('PM', 0.1422945), ('PCM', 0.1424872), ('BETA_m', 0.19282545), ('C2A', 0.20633988), ('OL', 0.14624369), ('ROE', 0.17294687), ('CTO', 0.08209293), ('ATO', 0.20645608), ('LEV', 0.12694785), ('NOA', 0.14815834), ('ROA', 0.13382071), ('RNA', 0.10572024), ('OP', 0.1315051), ('NI', 0.19348231), ('INV', 0.18312721), ('BETA_d', 0.17903414), ('R36_13', 0.16780873), ('D2A', 0.19506921), ('FC2Y', 0.08763802), ('SGA2S', 0.08772551), ('OA', 0.1890307), ('AC', 0.1741365), ('HIGH52', 0.1632911), ('R60_13', 0.16504546), ('DPI2A', 0.19910358)], 0.15781975, 18.414145)\n"
     ]
    },
    {
     "data": {
      "application/vnd.jupyter.widget-view+json": {
       "model_id": "701fa3fd1afc4328bcb6c286ecede9fd",
       "version_major": 2,
       "version_minor": 0
      },
      "text/plain": [
       "  0%|          | 0/77 [00:00<?, ?it/s]"
      ]
     },
     "metadata": {},
     "output_type": "display_data"
    },
    {
     "name": "stdout",
     "output_type": "stream",
     "text": [
      "test oos ([('ME', 0.05887209), ('R2_1', 0.18823536), ('D2P', 0.21740478), ('SPREAD', 0.18857421), ('RVAR', 0.10410011), ('VAR', 0.091098875), ('IdioVol', 0.20139574), ('TURN', 0.19083853), ('SUV', 0.19656235), ('R12_7', 0.16650593), ('CF2P', 0.15091154), ('E2P', 0.16616176), ('R12_2', 0.1724749), ('S2P', 0.09407222), ('B2M', 0.20593256), ('CF2B', 0.18249601), ('AT', 0.055851884), ('A2ME', 0.06760931), ('Q', 0.079518735), ('PROF', 0.18113557), ('PM', 0.14817874), ('PCM', 0.15279551), ('BETA_m', 0.19212401), ('C2A', 0.20223433), ('OL', 0.14836533), ('ROE', 0.16837223), ('CTO', 0.08238789), ('ATO', 0.20627333), ('LEV', 0.14048882), ('NOA', 0.15296538), ('ROA', 0.14090024), ('RNA', 0.12265234), ('OP', 0.14121704), ('NI', 0.18701129), ('INV', 0.1863449), ('BETA_d', 0.1791904), ('R36_13', 0.16528691), ('D2A', 0.19100045), ('FC2Y', 0.088256344), ('SGA2S', 0.08898305), ('OA', 0.19112906), ('AC', 0.18585122), ('HIGH52', 0.1655529), ('R60_13', 0.1819982), ('DPI2A', 0.19824003)], 0.16115694, 20.177261)\n"
     ]
    }
   ],
   "source": [
    "torch.manual_seed(0)\n",
    "exp_batch_size = 100\n",
    "ar_model = models.Beta_NADE(hidden_state_dim=0, latent_dimensions=30)\n",
    "\n",
    "num_epochs = 2\n",
    "eval_freq = 1\n",
    "\n",
    "optimizer = torch.optim.AdamW(ar_model.parameters(), lr=0.01,\n",
    "                             weight_decay=0.01)\n",
    "\n",
    "scheduler = MultiStepLR(optimizer, [20, 35], gamma=0.1, last_epoch=-1)\n",
    "\n",
    "device = torch.device(\"cuda:0\" if torch.cuda.is_available() else \"cpu\")\n",
    "print(f'torch device is {device}')\n",
    "model = model.to(device)\n",
    "ar_model = ar_model.to(device)\n",
    "loss_fn = loss_functions.beta_ll_loss\n",
    "\n",
    "\n",
    "#basic training loop for local development\n",
    "for epoch in range(num_epochs):\n",
    "    epoch_start = time.time()\n",
    "    losses = []\n",
    "    ar_losses = []\n",
    "    # Forward pass\n",
    "    print(f'epoch {epoch}')\n",
    "    for i, data in enumerate(tqdm(train_data_loader)):\n",
    "        ts_idxs, stock_idxs, data, mask, ordered_mask, factors, return_sample = data\n",
    "        assert not torch.isnan(data).any()\n",
    "#         print(data, mask)\n",
    "        assert not torch.logical_and(data <= 0, ~mask).any(), torch.min(data * mask)\n",
    "        \n",
    "        C_train = data.transpose_(0, 1).float().to(device)[:-1]\n",
    "        \n",
    "        C_mask = mask.float().to(device).transpose_(0, 1)[:-1]\n",
    "        C_ordered_mask = ordered_mask.float().to(device).transpose_(0, 1)[:-1]\n",
    "        \n",
    "        factors = factors.transpose_(0, 1).float().to(device)[1:]\n",
    "        \n",
    "        train_input = torch.cat([C_train, C_mask, factors], axis=2)\n",
    "        \n",
    "      \n",
    "        if train_input.shape[1] > 0:\n",
    "            \n",
    "            batch_size, batch_length, dim = C_train.shape\n",
    "            model_input = C_train.reshape(batch_size * batch_length, dim)\n",
    "            \n",
    "            C_ordered_mask_reshape = C_ordered_mask.reshape(batch_size * batch_length, 45)\n",
    "            C_train_reshape = C_train.reshape(batch_size * batch_length, 45)\n",
    "\n",
    "            alphas_pred, betas_pred = ar_model(model_input)\n",
    "            \n",
    "            ar_loss = loss_fn(C_train_reshape,\n",
    "                              alphas_pred, betas_pred, mask=C_ordered_mask_reshape,\n",
    "                             reduce_axis=1).mean()\n",
    "            \n",
    "            net_loss = ar_loss\n",
    "            net_loss.backward()\n",
    "            ar_losses.append(ar_loss.data.detach().cpu().numpy())\n",
    "            \n",
    "\n",
    "            optimizer.step()\n",
    "            model.zero_grad()\n",
    "            optimizer.zero_grad()       \n",
    "\n",
    "    print(f'epoch {epoch}, avg ar model loss {np.mean(ar_losses)}')\n",
    "    print(f'epoch {epoch} took {(time.time() - epoch_start)/60.0} minutes')\n",
    "    scheduler.step()\n",
    "    if (epoch + 1) % eval_freq == 0:\n",
    "\n",
    "#         print(\"train is\", eval_fn.eval_model_is(chars, exp_batch_size, None, ar_model, train_data_loader))\n",
    "        print(\"eval oos\", eval_fn.eval_model_oos(chars, exp_batch_size, None, ar_model, eval_data_loader))\n",
    "        print(\"test oos\", eval_fn.eval_model_oos(chars, exp_batch_size, None, ar_model, test_data_loader))"
   ]
  },
  {
   "cell_type": "code",
   "execution_count": 103,
   "id": "73a72e15",
   "metadata": {},
   "outputs": [
    {
     "data": {
      "text/plain": [
       "<module 'eval_fn' from '/home/selwin_p_george/CS 236 Project/deep_stock_characteristic_imputation/Code/eval_fn.py'>"
      ]
     },
     "execution_count": 103,
     "metadata": {},
     "output_type": "execute_result"
    }
   ],
   "source": [
    "importlib.reload(eval_fn)"
   ]
  },
  {
   "cell_type": "code",
   "execution_count": 104,
   "id": "f318ee52",
   "metadata": {
    "scrolled": true
   },
   "outputs": [
    {
     "data": {
      "application/vnd.jupyter.widget-view+json": {
       "model_id": "47eb82c6df414e0cbdedfa49a939e104",
       "version_major": 2,
       "version_minor": 0
      },
      "text/plain": [
       "  0%|          | 0/370 [00:00<?, ?it/s]"
      ]
     },
     "metadata": {},
     "output_type": "display_data"
    },
    {
     "name": "stdout",
     "output_type": "stream",
     "text": [
      "train is ([('ME', 0.03381907), ('R2_1', 0.035663813), ('D2P', 0.18499751), ('SPREAD', 0.048093054), ('RVAR', 0.04643029), ('VAR', 0.048779417), ('IdioVol', 0.04017692), ('TURN', 0.035095904), ('SUV', 0.0372543), ('R12_7', 0.03315895), ('CF2P', 0.058066484), ('E2P', 0.029755974), ('R12_2', 0.033093195), ('S2P', 0.055733096), ('B2M', 0.044544946), ('CF2B', 0.16697222), ('AT', 0.022149695), ('A2ME', 0.03673573), ('Q', 0.04033619), ('PROF', 0.040614195), ('PM', 0.023643425), ('PCM', 0.026022865), ('BETA_m', 0.0389244), ('C2A', 0.037239872), ('OL', 0.038950264), ('ROE', 0.021040568), ('CTO', 0.040353462), ('ATO', 0.02586304), ('LEV', 0.041734308), ('NOA', 0.031631656), ('ROA', 0.019791305), ('RNA', 0.028808162), ('OP', 0.03035599), ('NI', 0.051620707), ('INV', 0.039771702), ('BETA_d', 0.042127315), ('R36_13', 0.027728554), ('D2A', 0.036683276), ('FC2Y', 0.030615142), ('SGA2S', 0.05277187), ('OA', 0.043273542), ('AC', 0.02844282), ('HIGH52', 0.023910675), ('R60_13', 0.03027644), ('DPI2A', 0.035300646)], 0.052241936, -51.282413)\n"
     ]
    },
    {
     "data": {
      "application/vnd.jupyter.widget-view+json": {
       "model_id": "ab5c04bbc8f24a6e9fa28b425efdfaee",
       "version_major": 2,
       "version_minor": 0
      },
      "text/plain": [
       "  0%|          | 0/64 [00:00<?, ?it/s]"
      ]
     },
     "metadata": {},
     "output_type": "display_data"
    },
    {
     "ename": "ValueError",
     "evalue": "too many values to unpack (expected 7)",
     "output_type": "error",
     "traceback": [
      "\u001b[0;31m---------------------------------------------------------------------------\u001b[0m",
      "\u001b[0;31mValueError\u001b[0m                                Traceback (most recent call last)",
      "\u001b[0;32m/tmp/ipykernel_2809/1558889376.py\u001b[0m in \u001b[0;36m<module>\u001b[0;34m\u001b[0m\n\u001b[1;32m      1\u001b[0m \u001b[0mprint\u001b[0m\u001b[0;34m(\u001b[0m\u001b[0;34m\"train is\"\u001b[0m\u001b[0;34m,\u001b[0m \u001b[0meval_fn\u001b[0m\u001b[0;34m.\u001b[0m\u001b[0meval_model_is\u001b[0m\u001b[0;34m(\u001b[0m\u001b[0mchars\u001b[0m\u001b[0;34m,\u001b[0m \u001b[0mexp_batch_size\u001b[0m\u001b[0;34m,\u001b[0m \u001b[0;32mNone\u001b[0m\u001b[0;34m,\u001b[0m \u001b[0mar_model\u001b[0m\u001b[0;34m,\u001b[0m \u001b[0mtrain_data_loader\u001b[0m\u001b[0;34m)\u001b[0m\u001b[0;34m)\u001b[0m\u001b[0;34m\u001b[0m\u001b[0;34m\u001b[0m\u001b[0m\n\u001b[0;32m----> 2\u001b[0;31m \u001b[0mprint\u001b[0m\u001b[0;34m(\u001b[0m\u001b[0;34m\"eval is\"\u001b[0m\u001b[0;34m,\u001b[0m \u001b[0meval_fn\u001b[0m\u001b[0;34m.\u001b[0m\u001b[0meval_model_is\u001b[0m\u001b[0;34m(\u001b[0m\u001b[0mchars\u001b[0m\u001b[0;34m,\u001b[0m \u001b[0mexp_batch_size\u001b[0m\u001b[0;34m,\u001b[0m \u001b[0;32mNone\u001b[0m\u001b[0;34m,\u001b[0m \u001b[0mar_model\u001b[0m\u001b[0;34m,\u001b[0m \u001b[0meval_data_loader\u001b[0m\u001b[0;34m)\u001b[0m\u001b[0;34m)\u001b[0m\u001b[0;34m\u001b[0m\u001b[0;34m\u001b[0m\u001b[0m\n\u001b[0m\u001b[1;32m      3\u001b[0m \u001b[0mprint\u001b[0m\u001b[0;34m(\u001b[0m\u001b[0;34m\"eval oos\"\u001b[0m\u001b[0;34m,\u001b[0m \u001b[0meval_fn\u001b[0m\u001b[0;34m.\u001b[0m\u001b[0meval_model_oos\u001b[0m\u001b[0;34m(\u001b[0m\u001b[0mchars\u001b[0m\u001b[0;34m,\u001b[0m \u001b[0mexp_batch_size\u001b[0m\u001b[0;34m,\u001b[0m \u001b[0;32mNone\u001b[0m\u001b[0;34m,\u001b[0m \u001b[0mar_model\u001b[0m\u001b[0;34m,\u001b[0m \u001b[0meval_data_loader\u001b[0m\u001b[0;34m)\u001b[0m\u001b[0;34m)\u001b[0m\u001b[0;34m\u001b[0m\u001b[0;34m\u001b[0m\u001b[0m\n\u001b[1;32m      4\u001b[0m \u001b[0mprint\u001b[0m\u001b[0;34m(\u001b[0m\u001b[0;34m\"test oos\"\u001b[0m\u001b[0;34m,\u001b[0m \u001b[0meval_fn\u001b[0m\u001b[0;34m.\u001b[0m\u001b[0meval_model_oos\u001b[0m\u001b[0;34m(\u001b[0m\u001b[0mchars\u001b[0m\u001b[0;34m,\u001b[0m \u001b[0mexp_batch_size\u001b[0m\u001b[0;34m,\u001b[0m \u001b[0;32mNone\u001b[0m\u001b[0;34m,\u001b[0m \u001b[0mar_model\u001b[0m\u001b[0;34m,\u001b[0m \u001b[0mtest_data_loader\u001b[0m\u001b[0;34m)\u001b[0m\u001b[0;34m)\u001b[0m\u001b[0;34m\u001b[0m\u001b[0;34m\u001b[0m\u001b[0m\n",
      "\u001b[0;32m~/CS 236 Project/deep_stock_characteristic_imputation/Code/eval_fn.py\u001b[0m in \u001b[0;36meval_model_is\u001b[0;34m(chars, expected_batch_size, model, ar_model, data_loader, return_metrics, expect_oos_data)\u001b[0m\n\u001b[1;32m    146\u001b[0m                 \u001b[0mtime_steps\u001b[0m\u001b[0;34m,\u001b[0m \u001b[0mstock_idxs\u001b[0m\u001b[0;34m,\u001b[0m \u001b[0mdata\u001b[0m\u001b[0;34m,\u001b[0m \u001b[0mmask\u001b[0m\u001b[0;34m,\u001b[0m \u001b[0mordered_mask\u001b[0m\u001b[0;34m,\u001b[0m \u001b[0mfactors\u001b[0m\u001b[0;34m,\u001b[0m \u001b[0m_\u001b[0m\u001b[0;34m,\u001b[0m \u001b[0m_\u001b[0m\u001b[0;34m,\u001b[0m \u001b[0mreturns\u001b[0m \u001b[0;34m=\u001b[0m \u001b[0mdata\u001b[0m\u001b[0;34m\u001b[0m\u001b[0;34m\u001b[0m\u001b[0m\n\u001b[1;32m    147\u001b[0m             \u001b[0;32melse\u001b[0m\u001b[0;34m:\u001b[0m\u001b[0;34m\u001b[0m\u001b[0;34m\u001b[0m\u001b[0m\n\u001b[0;32m--> 148\u001b[0;31m                 \u001b[0mtime_steps\u001b[0m\u001b[0;34m,\u001b[0m \u001b[0mstock_idxs\u001b[0m\u001b[0;34m,\u001b[0m \u001b[0mdata\u001b[0m\u001b[0;34m,\u001b[0m \u001b[0mmask\u001b[0m\u001b[0;34m,\u001b[0m \u001b[0mordered_mask\u001b[0m\u001b[0;34m,\u001b[0m \u001b[0mfactors\u001b[0m\u001b[0;34m,\u001b[0m \u001b[0mreturns\u001b[0m \u001b[0;34m=\u001b[0m \u001b[0mdata\u001b[0m\u001b[0;34m\u001b[0m\u001b[0;34m\u001b[0m\u001b[0m\n\u001b[0m\u001b[1;32m    149\u001b[0m \u001b[0;34m\u001b[0m\u001b[0m\n\u001b[1;32m    150\u001b[0m             \u001b[0;32massert\u001b[0m \u001b[0;32mnot\u001b[0m \u001b[0mtorch\u001b[0m\u001b[0;34m.\u001b[0m\u001b[0misnan\u001b[0m\u001b[0;34m(\u001b[0m\u001b[0mdata\u001b[0m\u001b[0;34m)\u001b[0m\u001b[0;34m.\u001b[0m\u001b[0many\u001b[0m\u001b[0;34m(\u001b[0m\u001b[0;34m)\u001b[0m\u001b[0;34m\u001b[0m\u001b[0;34m\u001b[0m\u001b[0m\n",
      "\u001b[0;31mValueError\u001b[0m: too many values to unpack (expected 7)"
     ]
    }
   ],
   "source": [
    "print(\"train is\", eval_fn.eval_model_is(chars, exp_batch_size, None, ar_model, train_data_loader))\n"
   ]
  },
  {
   "cell_type": "code",
   "execution_count": 105,
   "id": "0e7d6c48",
   "metadata": {},
   "outputs": [
    {
     "data": {
      "application/vnd.jupyter.widget-view+json": {
       "model_id": "f9d7b3db572f4edc839525097dc4ba32",
       "version_major": 2,
       "version_minor": 0
      },
      "text/plain": [
       "  0%|          | 0/64 [00:00<?, ?it/s]"
      ]
     },
     "metadata": {},
     "output_type": "display_data"
    },
    {
     "name": "stdout",
     "output_type": "stream",
     "text": [
      "eval is ([('ME', 0.035526235), ('R2_1', 0.036600802), ('D2P', 0.1900626), ('SPREAD', 0.05127617), ('RVAR', 0.050819334), ('VAR', 0.055239823), ('IdioVol', 0.042831622), ('TURN', 0.033644795), ('SUV', 0.036218762), ('R12_7', 0.034256738), ('CF2P', 0.06623804), ('E2P', 0.028497472), ('R12_2', 0.033889834), ('S2P', 0.045131043), ('B2M', 0.04632061), ('CF2B', 0.15750101), ('AT', 0.020372193), ('A2ME', 0.0361404), ('Q', 0.038673375), ('PROF', 0.0424652), ('PM', 0.02297452), ('PCM', 0.027276834), ('BETA_m', 0.038481064), ('C2A', 0.038018566), ('OL', 0.038758572), ('ROE', 0.02106009), ('CTO', 0.042037413), ('ATO', 0.025984576), ('LEV', 0.04443319), ('NOA', 0.029760187), ('ROA', 0.021078603), ('RNA', 0.029408688), ('OP', 0.02839764), ('NI', 0.05116848), ('INV', 0.03857773), ('BETA_d', 0.048303302), ('R36_13', 0.02971877), ('D2A', 0.03580563), ('FC2Y', 0.030100178), ('SGA2S', 0.04938969), ('OA', 0.04358108), ('AC', 0.028900534), ('HIGH52', 0.024579775), ('R60_13', 0.031662762), ('DPI2A', 0.037266962)], 0.05250183, -24.404402)\n"
     ]
    },
    {
     "data": {
      "application/vnd.jupyter.widget-view+json": {
       "model_id": "cac84b8d5a1740bf9d1b840525ed6f15",
       "version_major": 2,
       "version_minor": 0
      },
      "text/plain": [
       "  0%|          | 0/64 [00:00<?, ?it/s]"
      ]
     },
     "metadata": {},
     "output_type": "display_data"
    },
    {
     "name": "stdout",
     "output_type": "stream",
     "text": [
      "eval oos ([('ME', 0.06172234), ('R2_1', 0.1887485), ('D2P', 0.20399866), ('SPREAD', 0.18967931), ('RVAR', 0.102217995), ('VAR', 0.07379511), ('IdioVol', 0.20090888), ('TURN', 0.18897587), ('SUV', 0.19269359), ('R12_7', 0.16383964), ('CF2P', 0.13609453), ('E2P', 0.16578053), ('R12_2', 0.17343935), ('S2P', 0.08458434), ('B2M', 0.20176674), ('CF2B', 0.17652431), ('AT', 0.05175904), ('A2ME', 0.056494035), ('Q', 0.059875883), ('PROF', 0.18198359), ('PM', 0.14284727), ('PCM', 0.14200413), ('BETA_m', 0.19281602), ('C2A', 0.20519058), ('OL', 0.14712085), ('ROE', 0.1731567), ('CTO', 0.082350165), ('ATO', 0.20671797), ('LEV', 0.12686388), ('NOA', 0.14757022), ('ROA', 0.13407545), ('RNA', 0.10556776), ('OP', 0.1315727), ('NI', 0.19376795), ('INV', 0.18339981), ('BETA_d', 0.17876872), ('R36_13', 0.16757478), ('D2A', 0.1953711), ('FC2Y', 0.08772759), ('SGA2S', 0.08801498), ('OA', 0.1886722), ('AC', 0.17397474), ('HIGH52', 0.16334306), ('R60_13', 0.16394916), ('DPI2A', 0.19864736)], 0.15773925, 18.344213)\n"
     ]
    },
    {
     "data": {
      "application/vnd.jupyter.widget-view+json": {
       "model_id": "0fd51e282dd341449014040d010fbb4c",
       "version_major": 2,
       "version_minor": 0
      },
      "text/plain": [
       "  0%|          | 0/77 [00:00<?, ?it/s]"
      ]
     },
     "metadata": {},
     "output_type": "display_data"
    },
    {
     "name": "stdout",
     "output_type": "stream",
     "text": [
      "test oos ([('ME', 0.05894542), ('R2_1', 0.18876901), ('D2P', 0.21720396), ('SPREAD', 0.18862215), ('RVAR', 0.10414859), ('VAR', 0.0910933), ('IdioVol', 0.20143801), ('TURN', 0.19091937), ('SUV', 0.19664729), ('R12_7', 0.16601224), ('CF2P', 0.15106143), ('E2P', 0.16656286), ('R12_2', 0.17253506), ('S2P', 0.093774065), ('B2M', 0.20584126), ('CF2B', 0.18279013), ('AT', 0.056080323), ('A2ME', 0.067408256), ('Q', 0.07930097), ('PROF', 0.18065612), ('PM', 0.14811416), ('PCM', 0.1530776), ('BETA_m', 0.19209261), ('C2A', 0.2027904), ('OL', 0.14921057), ('ROE', 0.16851582), ('CTO', 0.082110666), ('ATO', 0.20646791), ('LEV', 0.14092006), ('NOA', 0.15239605), ('ROA', 0.14100496), ('RNA', 0.12353481), ('OP', 0.14081897), ('NI', 0.18725806), ('INV', 0.18546276), ('BETA_d', 0.17880197), ('R36_13', 0.16595896), ('D2A', 0.191026), ('FC2Y', 0.087503806), ('SGA2S', 0.088583134), ('OA', 0.19186078), ('AC', 0.18515365), ('HIGH52', 0.16606058), ('R60_13', 0.18161386), ('DPI2A', 0.19792157)], 0.16118075, 20.217035)\n"
     ]
    }
   ],
   "source": [
    "print(\"eval is\", eval_fn.eval_model_is(chars, exp_batch_size, None, ar_model, eval_data_loader,\n",
    "                                      expect_oos_data=True))\n",
    "print(\"eval oos\", eval_fn.eval_model_oos(chars, exp_batch_size, None, ar_model, eval_data_loader))\n",
    "print(\"test oos\", eval_fn.eval_model_oos(chars, exp_batch_size, None, ar_model, test_data_loader))"
   ]
  },
  {
   "cell_type": "code",
   "execution_count": 253,
   "id": "4688f60a",
   "metadata": {},
   "outputs": [
    {
     "data": {
      "text/plain": [
       "<module 'eval_fn' from '/home/selwin_p_george/CS 236 Project/Code/eval_fn.py'>"
      ]
     },
     "execution_count": 253,
     "metadata": {},
     "output_type": "execute_result"
    }
   ],
   "source": [
    "importlib.reload(eval_fn)"
   ]
  },
  {
   "cell_type": "code",
   "execution_count": 106,
   "id": "4458dece",
   "metadata": {
    "scrolled": true
   },
   "outputs": [
    {
     "name": "stdout",
     "output_type": "stream",
     "text": [
      "Parameter containing:\n",
      "tensor([[1., 1., 1.,  ..., 0., 0., 0.],\n",
      "        [1., 1., 1.,  ..., 0., 0., 0.],\n",
      "        [1., 1., 1.,  ..., 0., 0., 0.],\n",
      "        ...,\n",
      "        [1., 1., 1.,  ..., 0., 0., 0.],\n",
      "        [1., 1., 1.,  ..., 1., 0., 0.],\n",
      "        [1., 1., 1.,  ..., 1., 1., 0.]], requires_grad=True) torch.Size([45, 75])\n",
      "torch device is cuda:0\n",
      "epoch 0\n"
     ]
    },
    {
     "data": {
      "application/vnd.jupyter.widget-view+json": {
       "model_id": "33e5b68959be4fd8a056534a94aba0c2",
       "version_major": 2,
       "version_minor": 0
      },
      "text/plain": [
       "  0%|          | 0/370 [00:00<?, ?it/s]"
      ]
     },
     "metadata": {},
     "output_type": "display_data"
    },
    {
     "name": "stdout",
     "output_type": "stream",
     "text": [
      "epoch 0 avg lstm loss -37.0202751159668, avg ar model loss 18.914417266845703\n",
      "epoch 0 took 0.47095919847488404 minutes\n"
     ]
    },
    {
     "data": {
      "application/vnd.jupyter.widget-view+json": {
       "model_id": "8f8d07a1bf984da486081f48d653d4d3",
       "version_major": 2,
       "version_minor": 0
      },
      "text/plain": [
       "  0%|          | 0/64 [00:00<?, ?it/s]"
      ]
     },
     "metadata": {},
     "output_type": "display_data"
    },
    {
     "name": "stdout",
     "output_type": "stream",
     "text": [
      "eval oos ([('ME', 0.27858564), ('R2_1', 0.29420415), ('D2P', 0.27303955), ('SPREAD', 0.23714486), ('RVAR', 0.27953288), ('VAR', 0.23023677), ('IdioVol', 0.22674832), ('TURN', 0.2838467), ('SUV', 0.28316236), ('R12_7', 0.28441292), ('CF2P', 0.29998082), ('E2P', 0.255132), ('R12_2', 0.28472927), ('S2P', 0.29412594), ('B2M', 0.2914421), ('CF2B', 0.2883178), ('AT', 0.2608231), ('A2ME', 0.27778256), ('Q', 0.28102583), ('PROF', 0.2767931), ('PM', 0.22989881), ('PCM', 0.28622344), ('BETA_m', 0.2890588), ('C2A', 0.29150146), ('OL', 0.2836786), ('ROE', 0.22515953), ('CTO', 0.21812992), ('ATO', 0.28893924), ('LEV', 0.23639414), ('NOA', 0.2864016), ('ROA', 0.20757964), ('RNA', 0.23370244), ('OP', 0.14237788), ('NI', 0.28825128), ('INV', 0.24094842), ('BETA_d', 0.29035637), ('R36_13', 0.25811663), ('D2A', 0.28960288), ('FC2Y', 0.25182933), ('SGA2S', 0.24899065), ('OA', 0.29054675), ('AC', 0.2952917), ('HIGH52', 0.16540107), ('R60_13', 0.17544603), ('DPI2A', 0.28739855)], 0.26439893, -0.36765406)\n"
     ]
    },
    {
     "data": {
      "application/vnd.jupyter.widget-view+json": {
       "model_id": "2d5fe8a18071427ba9d26216a790a917",
       "version_major": 2,
       "version_minor": 0
      },
      "text/plain": [
       "  0%|          | 0/77 [00:00<?, ?it/s]"
      ]
     },
     "metadata": {},
     "output_type": "display_data"
    },
    {
     "name": "stdout",
     "output_type": "stream",
     "text": [
      "test oos ([('ME', 0.27192584), ('R2_1', 0.29872116), ('D2P', 0.2770868), ('SPREAD', 0.2336821), ('RVAR', 0.27032658), ('VAR', 0.2314547), ('IdioVol', 0.22427903), ('TURN', 0.29338506), ('SUV', 0.28488335), ('R12_7', 0.2873366), ('CF2P', 0.303859), ('E2P', 0.26332742), ('R12_2', 0.28959286), ('S2P', 0.29368055), ('B2M', 0.2956957), ('CF2B', 0.29481322), ('AT', 0.25633082), ('A2ME', 0.27494317), ('Q', 0.2893979), ('PROF', 0.27991185), ('PM', 0.24439566), ('PCM', 0.28574964), ('BETA_m', 0.2960588), ('C2A', 0.29347825), ('OL', 0.28156608), ('ROE', 0.22837722), ('CTO', 0.21391319), ('ATO', 0.28158146), ('LEV', 0.23890233), ('NOA', 0.28888306), ('ROA', 0.20843576), ('RNA', 0.24599794), ('OP', 0.14935869), ('NI', 0.28636083), ('INV', 0.25162503), ('BETA_d', 0.29405084), ('R36_13', 0.24835493), ('D2A', 0.30235544), ('FC2Y', 0.25910276), ('SGA2S', 0.2563742), ('OA', 0.28895593), ('AC', 0.29603106), ('HIGH52', 0.1562195), ('R60_13', 0.1777768), ('DPI2A', 0.29308227)], 0.26666936, -0.4243554)\n",
      "epoch 1\n"
     ]
    },
    {
     "data": {
      "application/vnd.jupyter.widget-view+json": {
       "model_id": "067b42b76b6b481fa320865892845628",
       "version_major": 2,
       "version_minor": 0
      },
      "text/plain": [
       "  0%|          | 0/370 [00:00<?, ?it/s]"
      ]
     },
     "metadata": {},
     "output_type": "display_data"
    },
    {
     "name": "stdout",
     "output_type": "stream",
     "text": [
      "epoch 1 avg lstm loss -37.01702880859375, avg ar model loss -30.75775909423828\n",
      "epoch 1 took 0.46490609645843506 minutes\n"
     ]
    },
    {
     "data": {
      "application/vnd.jupyter.widget-view+json": {
       "model_id": "b7d9ea4c13444268896f6d421b741160",
       "version_major": 2,
       "version_minor": 0
      },
      "text/plain": [
       "  0%|          | 0/64 [00:00<?, ?it/s]"
      ]
     },
     "metadata": {},
     "output_type": "display_data"
    },
    {
     "name": "stdout",
     "output_type": "stream",
     "text": [
      "eval oos ([('ME', 0.097035706), ('R2_1', 0.29083937), ('D2P', 0.0852564), ('SPREAD', 0.16368757), ('RVAR', 0.09385467), ('VAR', 0.069462456), ('IdioVol', 0.14464323), ('TURN', 0.1415049), ('SUV', 0.27801967), ('R12_7', 0.16061975), ('CF2P', 0.1657634), ('E2P', 0.1456892), ('R12_2', 0.10352675), ('S2P', 0.0733967), ('B2M', 0.08438039), ('CF2B', 0.18042561), ('AT', 0.08486202), ('A2ME', 0.104398325), ('Q', 0.073320426), ('PROF', 0.16986546), ('PM', 0.083473), ('PCM', 0.15078029), ('BETA_m', 0.12893066), ('C2A', 0.10951124), ('OL', 0.07439622), ('ROE', 0.13673744), ('CTO', 0.08825512), ('ATO', 0.1516812), ('LEV', 0.15710534), ('NOA', 0.11386427), ('ROA', 0.104825005), ('RNA', 0.11684852), ('OP', 0.16451134), ('NI', 0.18328945), ('INV', 0.18189983), ('BETA_d', 0.1305478), ('R36_13', 0.1661661), ('D2A', 0.18041058), ('FC2Y', 0.08079447), ('SGA2S', 0.10488882), ('OA', 0.20273043), ('AC', 0.26265442), ('HIGH52', 0.17278811), ('R60_13', 0.17201991), ('DPI2A', 0.1975054)], 0.15020028, 8.2172575)\n"
     ]
    },
    {
     "data": {
      "application/vnd.jupyter.widget-view+json": {
       "model_id": "8a332d2948bd494a821f4bbcd54ebdeb",
       "version_major": 2,
       "version_minor": 0
      },
      "text/plain": [
       "  0%|          | 0/77 [00:00<?, ?it/s]"
      ]
     },
     "metadata": {},
     "output_type": "display_data"
    },
    {
     "name": "stdout",
     "output_type": "stream",
     "text": [
      "test oos ([('ME', 0.09547852), ('R2_1', 0.29469958), ('D2P', 0.08237879), ('SPREAD', 0.16912729), ('RVAR', 0.097365625), ('VAR', 0.075071126), ('IdioVol', 0.15307568), ('TURN', 0.15166347), ('SUV', 0.28056842), ('R12_7', 0.16169462), ('CF2P', 0.16713712), ('E2P', 0.15015677), ('R12_2', 0.104283266), ('S2P', 0.07937773), ('B2M', 0.079415396), ('CF2B', 0.18289529), ('AT', 0.09197161), ('A2ME', 0.10984985), ('Q', 0.08566099), ('PROF', 0.17001559), ('PM', 0.0959462), ('PCM', 0.14965816), ('BETA_m', 0.14012644), ('C2A', 0.120466724), ('OL', 0.077761635), ('ROE', 0.13158819), ('CTO', 0.095329404), ('ATO', 0.15238301), ('LEV', 0.1603797), ('NOA', 0.117840916), ('ROA', 0.10345386), ('RNA', 0.13183962), ('OP', 0.17010798), ('NI', 0.1818461), ('INV', 0.18334171), ('BETA_d', 0.13296095), ('R36_13', 0.16658074), ('D2A', 0.18064718), ('FC2Y', 0.082405336), ('SGA2S', 0.10038987), ('OA', 0.20203303), ('AC', 0.26314852), ('HIGH52', 0.16385435), ('R60_13', 0.16453494), ('DPI2A', 0.19713922)], 0.15234923, 8.987944)\n"
     ]
    }
   ],
   "source": [
    "torch.manual_seed(0)\n",
    "exp_batch_size = 100\n",
    "# model = models.XSCharLSTM(input_dim=96, hidden_dims=[30, 30], num_layers=4, batch_size=exp_batch_size)\n",
    "\n",
    "ar_model = models.Beta_NADE(hidden_state_dim=30, latent_dimensions=30)\n",
    "\n",
    "num_epochs = 2\n",
    "eval_freq = 1\n",
    "\n",
    "# optimizer = torch.optim.AdamW(list(model.parameters()) + list(ar_model.parameters()), lr=0.01,\n",
    "#                              weight_decay=0.01)\n",
    "optimizer = torch.optim.AdamW(ar_model.parameters(), lr=0.01,\n",
    "                             weight_decay=0.1)\n",
    "\n",
    "\n",
    "scheduler = MultiStepLR(optimizer, [30], gamma=0.1, last_epoch=-1)\n",
    "\n",
    "device = torch.device(\"cuda:0\" if torch.cuda.is_available() else \"cpu\")\n",
    "print(f'torch device is {device}')\n",
    "model = model.to(device)\n",
    "ar_model = ar_model.to(device)\n",
    "loss_fn = loss_functions.beta_ll_loss\n",
    "\n",
    "\n",
    "#basic training loop for local development\n",
    "for epoch in range(num_epochs):\n",
    "    epoch_start = time.time()\n",
    "    losses = []\n",
    "    ar_losses = []\n",
    "    # Forward pass\n",
    "    print(f'epoch {epoch}')\n",
    "    for i, data in enumerate(tqdm(train_data_loader)):\n",
    "        ts_idxs, stock_idxs, data, mask, ordered_mask, factors, return_sample = data\n",
    "        assert not torch.isnan(data).any()\n",
    "#         print(data, mask)\n",
    "        assert not torch.logical_and(data <= 0, ~mask).any(), torch.min(data * mask)\n",
    "        \n",
    "        C_train = data.transpose_(0, 1).float().to(device)[:-1]\n",
    "        \n",
    "        C_mask = mask.float().to(device).transpose_(0, 1)[:-1]\n",
    "        C_ordered_mask = ordered_mask.float().to(device).transpose_(0, 1)[:-1]\n",
    "        \n",
    "        factors = factors.transpose_(0, 1).float().to(device)[1:]\n",
    "        \n",
    "        train_input = torch.cat([C_train, C_mask, factors], axis=2)\n",
    "        \n",
    "      \n",
    "        if train_input.shape[1] == exp_batch_size:\n",
    "            alpha_pred, beta_pred, hidden_out = model(train_input)\n",
    "            loss = loss_fn(C_train[1:], alpha_pred[:-1], beta_pred[:-1], mask=C_mask[1:]).mean()\n",
    "            assert not torch.isnan(loss).any()\n",
    "            \n",
    "#             loss.backward()\n",
    "            losses.append(loss.data.detach().cpu().numpy())\n",
    "            \n",
    "#             print(hidden_out.shape, C_train.shape)\n",
    "            model_input = torch.cat([hidden_out[:-1].detach(), C_train[1:]], axis=2)\n",
    "            batch_dim, batch_length, dim = model_input.shape\n",
    "            model_input = model_input.reshape(batch_dim * batch_length, dim)\n",
    "            \n",
    "            C_ordered_mask_reshape = C_ordered_mask[1:].reshape(batch_dim * batch_length, 45)\n",
    "            C_train_reshape = C_train[1:].reshape(batch_dim * batch_length, 45)\n",
    "\n",
    "            alphas_pred, betas_pred = ar_model(model_input)\n",
    "            \n",
    "            ar_loss = loss_fn(C_train_reshape,\n",
    "                              alphas_pred, betas_pred, mask=C_ordered_mask_reshape,\n",
    "                             reduce_axis=1).mean()\n",
    "            \n",
    "#             net_loss = ar_loss + loss\n",
    "            net_loss = ar_loss\n",
    "            net_loss.backward()\n",
    "            ar_losses.append(ar_loss.data.detach().cpu().numpy())\n",
    "            \n",
    "\n",
    "            optimizer.step()\n",
    "            model.zero_grad()\n",
    "            optimizer.zero_grad()       \n",
    "\n",
    "    print(f'epoch {epoch} avg lstm loss {np.mean(losses)}, avg ar model loss {np.mean(ar_losses)}')\n",
    "    print(f'epoch {epoch} took {(time.time() - epoch_start)/60.0} minutes')\n",
    "    scheduler.step()\n",
    "    if (epoch + 1) % eval_freq == 0:\n",
    "        print(\"eval oos\", eval_fn.eval_model_oos(chars, exp_batch_size, model, ar_model, eval_data_loader))\n",
    "        print(\"test oos\", eval_fn.eval_model_oos(chars, exp_batch_size, model, ar_model, test_data_loader))"
   ]
  },
  {
   "cell_type": "code",
   "execution_count": 108,
   "id": "0e8b83fb",
   "metadata": {},
   "outputs": [
    {
     "data": {
      "application/vnd.jupyter.widget-view+json": {
       "model_id": "730a5cd23d03468e9f38e02330419f69",
       "version_major": 2,
       "version_minor": 0
      },
      "text/plain": [
       "  0%|          | 0/370 [00:00<?, ?it/s]"
      ]
     },
     "metadata": {},
     "output_type": "display_data"
    },
    {
     "name": "stdout",
     "output_type": "stream",
     "text": [
      "train is ([('ME', 0.020083155), ('R2_1', 0.28055087), ('D2P', 0.021483092), ('SPREAD', 0.027327387), ('RVAR', 0.034034584), ('VAR', 0.024560006), ('IdioVol', 0.030602159), ('TURN', 0.10766412), ('SUV', 0.2780169), ('R12_7', 0.023812015), ('CF2P', 0.02973364), ('E2P', 0.025259785), ('R12_2', 0.031666007), ('S2P', 0.035534903), ('B2M', 0.03416874), ('CF2B', 0.024608817), ('AT', 0.031191494), ('A2ME', 0.03155731), ('Q', 0.019902725), ('PROF', 0.02513575), ('PM', 0.029228983), ('PCM', 0.027081551), ('BETA_m', 0.09187637), ('C2A', 0.077382274), ('OL', 0.03203059), ('ROE', 0.030374173), ('CTO', 0.06557226), ('ATO', 0.031231983), ('LEV', 0.028863508), ('NOA', 0.032134935), ('ROA', 0.031271327), ('RNA', 0.024338152), ('OP', 0.02507386), ('NI', 0.033518545), ('INV', 0.020292178), ('BETA_d', 0.027824856), ('R36_13', 0.023652242), ('D2A', 0.029129118), ('FC2Y', 0.046157498), ('SGA2S', 0.026577534), ('OA', 0.030183703), ('AC', 0.24757512), ('HIGH52', 0.021070004), ('R60_13', 0.033024654), ('DPI2A', 0.037891053)], 0.07888985, -52.838806)\n"
     ]
    },
    {
     "data": {
      "application/vnd.jupyter.widget-view+json": {
       "model_id": "90e9654d32f447ff973e9afe1dbb47d4",
       "version_major": 2,
       "version_minor": 0
      },
      "text/plain": [
       "  0%|          | 0/64 [00:00<?, ?it/s]"
      ]
     },
     "metadata": {},
     "output_type": "display_data"
    },
    {
     "ename": "ValueError",
     "evalue": "too many values to unpack (expected 7)",
     "output_type": "error",
     "traceback": [
      "\u001b[0;31m---------------------------------------------------------------------------\u001b[0m",
      "\u001b[0;31mValueError\u001b[0m                                Traceback (most recent call last)",
      "\u001b[0;32m/tmp/ipykernel_2809/4268148882.py\u001b[0m in \u001b[0;36m<module>\u001b[0;34m\u001b[0m\n\u001b[1;32m      1\u001b[0m \u001b[0mprint\u001b[0m\u001b[0;34m(\u001b[0m\u001b[0;34m\"train is\"\u001b[0m\u001b[0;34m,\u001b[0m \u001b[0meval_fn\u001b[0m\u001b[0;34m.\u001b[0m\u001b[0meval_model_is\u001b[0m\u001b[0;34m(\u001b[0m\u001b[0mchars\u001b[0m\u001b[0;34m,\u001b[0m \u001b[0mexp_batch_size\u001b[0m\u001b[0;34m,\u001b[0m \u001b[0mmodel\u001b[0m\u001b[0;34m,\u001b[0m \u001b[0mar_model\u001b[0m\u001b[0;34m,\u001b[0m \u001b[0mtrain_data_loader\u001b[0m\u001b[0;34m)\u001b[0m\u001b[0;34m)\u001b[0m\u001b[0;34m\u001b[0m\u001b[0;34m\u001b[0m\u001b[0m\n\u001b[0;32m----> 2\u001b[0;31m \u001b[0mprint\u001b[0m\u001b[0;34m(\u001b[0m\u001b[0;34m\"eval is\"\u001b[0m\u001b[0;34m,\u001b[0m \u001b[0meval_fn\u001b[0m\u001b[0;34m.\u001b[0m\u001b[0meval_model_is\u001b[0m\u001b[0;34m(\u001b[0m\u001b[0mchars\u001b[0m\u001b[0;34m,\u001b[0m \u001b[0mexp_batch_size\u001b[0m\u001b[0;34m,\u001b[0m \u001b[0mmodel\u001b[0m\u001b[0;34m,\u001b[0m \u001b[0mar_model\u001b[0m\u001b[0;34m,\u001b[0m \u001b[0meval_data_loader\u001b[0m\u001b[0;34m)\u001b[0m\u001b[0;34m)\u001b[0m\u001b[0;34m\u001b[0m\u001b[0;34m\u001b[0m\u001b[0m\n\u001b[0m\u001b[1;32m      3\u001b[0m \u001b[0mprint\u001b[0m\u001b[0;34m(\u001b[0m\u001b[0;34m\"eval oos\"\u001b[0m\u001b[0;34m,\u001b[0m \u001b[0meval_fn\u001b[0m\u001b[0;34m.\u001b[0m\u001b[0meval_model_oos\u001b[0m\u001b[0;34m(\u001b[0m\u001b[0mchars\u001b[0m\u001b[0;34m,\u001b[0m \u001b[0mexp_batch_size\u001b[0m\u001b[0;34m,\u001b[0m \u001b[0mmodel\u001b[0m\u001b[0;34m,\u001b[0m \u001b[0mar_model\u001b[0m\u001b[0;34m,\u001b[0m \u001b[0meval_data_loader\u001b[0m\u001b[0;34m)\u001b[0m\u001b[0;34m)\u001b[0m\u001b[0;34m\u001b[0m\u001b[0;34m\u001b[0m\u001b[0m\n\u001b[1;32m      4\u001b[0m \u001b[0mprint\u001b[0m\u001b[0;34m(\u001b[0m\u001b[0;34m\"test oos\"\u001b[0m\u001b[0;34m,\u001b[0m \u001b[0meval_fn\u001b[0m\u001b[0;34m.\u001b[0m\u001b[0meval_model_oos\u001b[0m\u001b[0;34m(\u001b[0m\u001b[0mchars\u001b[0m\u001b[0;34m,\u001b[0m \u001b[0mexp_batch_size\u001b[0m\u001b[0;34m,\u001b[0m \u001b[0mmodel\u001b[0m\u001b[0;34m,\u001b[0m \u001b[0mar_model\u001b[0m\u001b[0;34m,\u001b[0m \u001b[0mtest_data_loader\u001b[0m\u001b[0;34m)\u001b[0m\u001b[0;34m)\u001b[0m\u001b[0;34m\u001b[0m\u001b[0;34m\u001b[0m\u001b[0m\n",
      "\u001b[0;32m~/CS 236 Project/deep_stock_characteristic_imputation/Code/eval_fn.py\u001b[0m in \u001b[0;36meval_model_is\u001b[0;34m(chars, expected_batch_size, model, ar_model, data_loader, return_metrics, expect_oos_data)\u001b[0m\n\u001b[1;32m    146\u001b[0m                 \u001b[0mtime_steps\u001b[0m\u001b[0;34m,\u001b[0m \u001b[0mstock_idxs\u001b[0m\u001b[0;34m,\u001b[0m \u001b[0mdata\u001b[0m\u001b[0;34m,\u001b[0m \u001b[0mmask\u001b[0m\u001b[0;34m,\u001b[0m \u001b[0mordered_mask\u001b[0m\u001b[0;34m,\u001b[0m \u001b[0mfactors\u001b[0m\u001b[0;34m,\u001b[0m \u001b[0m_\u001b[0m\u001b[0;34m,\u001b[0m \u001b[0m_\u001b[0m\u001b[0;34m,\u001b[0m \u001b[0mreturns\u001b[0m \u001b[0;34m=\u001b[0m \u001b[0mdata\u001b[0m\u001b[0;34m\u001b[0m\u001b[0;34m\u001b[0m\u001b[0m\n\u001b[1;32m    147\u001b[0m             \u001b[0;32melse\u001b[0m\u001b[0;34m:\u001b[0m\u001b[0;34m\u001b[0m\u001b[0;34m\u001b[0m\u001b[0m\n\u001b[0;32m--> 148\u001b[0;31m                 \u001b[0mtime_steps\u001b[0m\u001b[0;34m,\u001b[0m \u001b[0mstock_idxs\u001b[0m\u001b[0;34m,\u001b[0m \u001b[0mdata\u001b[0m\u001b[0;34m,\u001b[0m \u001b[0mmask\u001b[0m\u001b[0;34m,\u001b[0m \u001b[0mordered_mask\u001b[0m\u001b[0;34m,\u001b[0m \u001b[0mfactors\u001b[0m\u001b[0;34m,\u001b[0m \u001b[0mreturns\u001b[0m \u001b[0;34m=\u001b[0m \u001b[0mdata\u001b[0m\u001b[0;34m\u001b[0m\u001b[0;34m\u001b[0m\u001b[0m\n\u001b[0m\u001b[1;32m    149\u001b[0m \u001b[0;34m\u001b[0m\u001b[0m\n\u001b[1;32m    150\u001b[0m             \u001b[0;32massert\u001b[0m \u001b[0;32mnot\u001b[0m \u001b[0mtorch\u001b[0m\u001b[0;34m.\u001b[0m\u001b[0misnan\u001b[0m\u001b[0;34m(\u001b[0m\u001b[0mdata\u001b[0m\u001b[0;34m)\u001b[0m\u001b[0;34m.\u001b[0m\u001b[0many\u001b[0m\u001b[0;34m(\u001b[0m\u001b[0;34m)\u001b[0m\u001b[0;34m\u001b[0m\u001b[0;34m\u001b[0m\u001b[0m\n",
      "\u001b[0;31mValueError\u001b[0m: too many values to unpack (expected 7)"
     ]
    }
   ],
   "source": [
    "print(\"train is\", eval_fn.eval_model_is(chars, exp_batch_size, model, ar_model, train_data_loader))\n",
    "print(\"eval is\", eval_fn.eval_model_is(chars, exp_batch_size, model, ar_model, eval_data_loader))\n",
    "print(\"eval oos\", eval_fn.eval_model_oos(chars, exp_batch_size, model, ar_model, eval_data_loader))\n",
    "print(\"test oos\", eval_fn.eval_model_oos(chars, exp_batch_size, model, ar_model, test_data_loader))"
   ]
  },
  {
   "cell_type": "code",
   "execution_count": 265,
   "id": "f69e6cbd",
   "metadata": {},
   "outputs": [
    {
     "data": {
      "application/vnd.jupyter.widget-view+json": {
       "model_id": "a163bf3b4bf04e428ebe2d6d39ad92cb",
       "version_major": 2,
       "version_minor": 0
      },
      "text/plain": [
       "  0%|          | 0/63 [00:00<?, ?it/s]"
      ]
     },
     "metadata": {},
     "output_type": "display_data"
    },
    {
     "name": "stdout",
     "output_type": "stream",
     "text": [
      "eval oos ([('A2ME', 0.10536056), ('AC', 0.17449063), ('AT', 0.21230346), ('ATO', 0.19269145), ('B2M', 0.04092196), ('BETA_d', 0.04652951), ('BETA_m', 0.22659256), ('C2A', 0.209662), ('CF2B', 0.2146566), ('CF2P', 0.21060885), ('CTO', 0.2066392), ('D2A', 0.19175221), ('D2P', 0.1961372), ('DPI2A', 0.22832267), ('E2P', 0.20253451), ('FC2Y', 0.19534673), ('HIGH52', 0.08216147), ('INV', 0.03930987), ('IdioVol', 0.047781587), ('LEV', 0.21651003), ('ME', 0.1780023), ('NI', 0.20914699), ('NOA', 0.19389413), ('OA', 0.22030994), ('OL', 0.14608136), ('OP', 0.19803634), ('PCM', 0.2168286), ('PM', 0.22026871), ('PROF', 0.20430529), ('Q', 0.21752992), ('R12_2', 0.20087689), ('R12_7', 0.20444821), ('R2_1', 0.19684927), ('R36_13', 0.22137447), ('R60_13', 0.2044911), ('RNA', 0.22181948), ('ROA', 0.16629039), ('ROE', 0.2170001), ('RVAR', 0.1911478), ('S2P', 0.1954653), ('SGA2S', 0.21906675), ('SPREAD', 0.20701844), ('SUV', 0.1855979), ('TURN', 0.23054521), ('VAR', 0.2833535)], 0.19412988)\n"
     ]
    },
    {
     "data": {
      "application/vnd.jupyter.widget-view+json": {
       "model_id": "cb369390ec344b77bceb77cba29b6e0e",
       "version_major": 2,
       "version_minor": 0
      },
      "text/plain": [
       "  0%|          | 0/76 [00:00<?, ?it/s]"
      ]
     },
     "metadata": {},
     "output_type": "display_data"
    },
    {
     "name": "stdout",
     "output_type": "stream",
     "text": [
      "test oos ([('A2ME', 0.102465786), ('AC', 0.1764793), ('AT', 0.20257854), ('ATO', 0.197344), ('B2M', 0.04638074), ('BETA_d', 0.052178003), ('BETA_m', 0.22899298), ('C2A', 0.21090877), ('CF2B', 0.21832037), ('CF2P', 0.20767754), ('CTO', 0.20785756), ('D2A', 0.19394664), ('D2P', 0.19493258), ('DPI2A', 0.22279502), ('E2P', 0.20556602), ('FC2Y', 0.1991703), ('HIGH52', 0.08015465), ('INV', 0.044751428), ('IdioVol', 0.05725504), ('LEV', 0.20658676), ('ME', 0.17708695), ('NI', 0.20794658), ('NOA', 0.19245341), ('OA', 0.21245033), ('OL', 0.13937564), ('OP', 0.19273183), ('PCM', 0.2047311), ('PM', 0.20926191), ('PROF', 0.20979418), ('Q', 0.22187218), ('R12_2', 0.19587877), ('R12_7', 0.19468276), ('R2_1', 0.20189002), ('R36_13', 0.21197182), ('R60_13', 0.2004303), ('RNA', 0.22548553), ('ROA', 0.16615266), ('ROE', 0.22159225), ('RVAR', 0.19197169), ('S2P', 0.19198857), ('SGA2S', 0.21719897), ('SPREAD', 0.21168381), ('SUV', 0.17543414), ('TURN', 0.216192), ('VAR', 0.28491297)], 0.19237408)\n"
     ]
    }
   ],
   "source": [
    "print(\"eval oos\", eval_fn.eval_model_oos(chars, exp_batch_size, model, ar_model, eval_data_loader))\n",
    "print(\"test oos\", eval_fn.eval_model_oos(chars, exp_batch_size, model, ar_model, test_data_loader))"
   ]
  },
  {
   "cell_type": "code",
   "execution_count": 132,
   "id": "3106df63",
   "metadata": {},
   "outputs": [
    {
     "data": {
      "text/plain": [
       "<module 'eval_fn' from '/home/selwin_p_george/CS 236 Project/deep_stock_characteristic_imputation/Code/eval_fn.py'>"
      ]
     },
     "execution_count": 132,
     "metadata": {},
     "output_type": "execute_result"
    }
   ],
   "source": [
    "importlib.reload(eval_fn)"
   ]
  },
  {
   "cell_type": "code",
   "execution_count": 133,
   "id": "557c6f2f",
   "metadata": {},
   "outputs": [
    {
     "data": {
      "application/vnd.jupyter.widget-view+json": {
       "model_id": "118840ff123745e3b70727528dc2ca6a",
       "version_major": 2,
       "version_minor": 0
      },
      "text/plain": [
       "  0%|          | 0/77 [00:00<?, ?it/s]"
      ]
     },
     "metadata": {},
     "output_type": "display_data"
    }
   ],
   "source": [
    "# preds, company_idxs, ts_idxs = eval_fn.get_oos_imputed_panel(chars, exp_batch_size, model, ar_model, test_data_loader)\n",
    "preds_2, company_idxs_2, ts_idxs_2 = eval_fn.get_oos_imputed_panel(chars, exp_batch_size, None, ar_model_2, test_data_loader)"
   ]
  },
  {
   "cell_type": "code",
   "execution_count": 138,
   "id": "92fe07b3",
   "metadata": {},
   "outputs": [
    {
     "data": {
      "text/plain": [
       "array([17827, 18278, 19117, ...,  9275, 20073, 15147])"
      ]
     },
     "execution_count": 138,
     "metadata": {},
     "output_type": "execute_result"
    }
   ],
   "source": [
    "company_idxs.squeeze().astype(int)"
   ]
  },
  {
   "cell_type": "code",
   "execution_count": 144,
   "id": "b6f42dc0",
   "metadata": {},
   "outputs": [
    {
     "data": {
      "text/plain": [
       "290"
      ]
     },
     "execution_count": 144,
     "metadata": {},
     "output_type": "execute_result"
    }
   ],
   "source": [
    "np.argmax(np.bincount(company_idxs.squeeze().astype(int)))"
   ]
  },
  {
   "cell_type": "code",
   "execution_count": 145,
   "id": "8b0ea070",
   "metadata": {},
   "outputs": [
    {
     "data": {
      "text/plain": [
       "126"
      ]
     },
     "execution_count": 145,
     "metadata": {},
     "output_type": "execute_result"
    }
   ],
   "source": [
    "np.sum(company_idxs.astype(int) == 290)"
   ]
  },
  {
   "cell_type": "code",
   "execution_count": 154,
   "id": "970b0fd6",
   "metadata": {},
   "outputs": [],
   "source": [
    "data_ser_idxs = np.argwhere(company_idxs.squeeze() == 290)\n",
    "ts_vals = ts_idxs.squeeze()[data_ser_idxs]\n",
    "ts_sort = np.argsort(ts_vals.squeeze().astype(int))\n"
   ]
  },
  {
   "cell_type": "code",
   "execution_count": 157,
   "id": "a86f84b7",
   "metadata": {},
   "outputs": [],
   "source": [
    "ts_idxs = ts_vals[ts_sort].squeeze()"
   ]
  },
  {
   "cell_type": "code",
   "execution_count": 192,
   "id": "2f6188b6",
   "metadata": {},
   "outputs": [
    {
     "data": {
      "text/plain": [
       "(array([[26]]), array([[42]]))"
      ]
     },
     "execution_count": 192,
     "metadata": {},
     "output_type": "execute_result"
    }
   ],
   "source": [
    "np.argwhere(chars == 'CTO'), np.argwhere(chars == 'HIGH52')"
   ]
  },
  {
   "cell_type": "code",
   "execution_count": 191,
   "id": "c65a2caa",
   "metadata": {},
   "outputs": [
    {
     "data": {
      "text/plain": [
       "array(['ME', 'R2_1', 'D2P', 'SPREAD', 'RVAR', 'VAR', 'IdioVol', 'TURN',\n",
       "       'SUV', 'R12_7', 'CF2P', 'E2P', 'R12_2', 'S2P', 'B2M', 'CF2B', 'AT',\n",
       "       'A2ME', 'Q', 'PROF', 'PM', 'PCM', 'BETA_m', 'C2A', 'OL', 'ROE',\n",
       "       'CTO', 'ATO', 'LEV', 'NOA', 'ROA', 'RNA', 'OP', 'NI', 'INV',\n",
       "       'BETA_d', 'R36_13', 'D2A', 'FC2Y', 'SGA2S', 'OA', 'AC', 'HIGH52',\n",
       "       'R60_13', 'DPI2A'], dtype='<U7')"
      ]
     },
     "execution_count": 191,
     "metadata": {},
     "output_type": "execute_result"
    }
   ],
   "source": [
    "chars"
   ]
  },
  {
   "cell_type": "code",
   "execution_count": 160,
   "id": "08c67f75",
   "metadata": {},
   "outputs": [
    {
     "data": {
      "text/plain": [
       "(136800, 45)"
      ]
     },
     "execution_count": 160,
     "metadata": {},
     "output_type": "execute_result"
    }
   ],
   "source": [
    "preds.shape"
   ]
  },
  {
   "cell_type": "code",
   "execution_count": 193,
   "id": "64d07417",
   "metadata": {},
   "outputs": [],
   "source": [
    "at_imputed = preds[data_ser_idxs, 26][ts_sort]\n",
    "high_52_imputed = preds[data_ser_idxs, 42][ts_sort]"
   ]
  },
  {
   "cell_type": "code",
   "execution_count": 187,
   "id": "ee91d501",
   "metadata": {},
   "outputs": [],
   "source": [
    "import matplotlib.pyplot as plt"
   ]
  },
  {
   "cell_type": "code",
   "execution_count": 196,
   "id": "edb72cc8",
   "metadata": {},
   "outputs": [
    {
     "data": {
      "text/plain": [
       "[19670131,\n",
       " 19670228,\n",
       " 19670331,\n",
       " 19670430,\n",
       " 19670531,\n",
       " 19670630,\n",
       " 19670731,\n",
       " 19670831,\n",
       " 19670930,\n",
       " 19671031,\n",
       " 19671130,\n",
       " 19671231,\n",
       " 19680131,\n",
       " 19680229,\n",
       " 19680331,\n",
       " 19680430,\n",
       " 19680531,\n",
       " 19680630,\n",
       " 19680731,\n",
       " 19680831,\n",
       " 19680930,\n",
       " 19681031,\n",
       " 19681130,\n",
       " 19681231,\n",
       " 19690131,\n",
       " 19690228,\n",
       " 19690331,\n",
       " 19690430,\n",
       " 19690531,\n",
       " 19690630,\n",
       " 19690731,\n",
       " 19690831,\n",
       " 19690930,\n",
       " 19691031,\n",
       " 19691130,\n",
       " 19691231,\n",
       " 19700131,\n",
       " 19700228,\n",
       " 19700331,\n",
       " 19700430,\n",
       " 19700531,\n",
       " 19700630,\n",
       " 19700731,\n",
       " 19700831,\n",
       " 19700930,\n",
       " 19701031,\n",
       " 19701130,\n",
       " 19701231,\n",
       " 19710131,\n",
       " 19710228,\n",
       " 19710331,\n",
       " 19710430,\n",
       " 19710531,\n",
       " 19710630,\n",
       " 19710731,\n",
       " 19710831,\n",
       " 19710930,\n",
       " 19711031,\n",
       " 19711130,\n",
       " 19711231,\n",
       " 19720131,\n",
       " 19720229,\n",
       " 19720331,\n",
       " 19720430,\n",
       " 19720531,\n",
       " 19720630,\n",
       " 19720731,\n",
       " 19720831,\n",
       " 19720930,\n",
       " 19721031,\n",
       " 19721130,\n",
       " 19721231,\n",
       " 19730131,\n",
       " 19730228,\n",
       " 19730331,\n",
       " 19730430,\n",
       " 19730531,\n",
       " 19730630,\n",
       " 19730731,\n",
       " 19730831,\n",
       " 19730930,\n",
       " 19731031,\n",
       " 19731130,\n",
       " 19731231,\n",
       " 19740131,\n",
       " 19740228,\n",
       " 19740331,\n",
       " 19740430,\n",
       " 19740531,\n",
       " 19740630,\n",
       " 19740731,\n",
       " 19740831,\n",
       " 19740930,\n",
       " 19741031,\n",
       " 19741130,\n",
       " 19741231,\n",
       " 19750131,\n",
       " 19750228,\n",
       " 19750331,\n",
       " 19750430,\n",
       " 19750531,\n",
       " 19750630,\n",
       " 19750731,\n",
       " 19750831,\n",
       " 19750930,\n",
       " 19751031,\n",
       " 19751130,\n",
       " 19751231,\n",
       " 19760131,\n",
       " 19760229,\n",
       " 19760331,\n",
       " 19760430,\n",
       " 19760531,\n",
       " 19760630,\n",
       " 19760731,\n",
       " 19760831,\n",
       " 19760930,\n",
       " 19761031,\n",
       " 19761130,\n",
       " 19761231,\n",
       " 19770131,\n",
       " 19770228,\n",
       " 19770331,\n",
       " 19770430,\n",
       " 19770531,\n",
       " 19770630,\n",
       " 19770731,\n",
       " 19770831,\n",
       " 19770930,\n",
       " 19771031,\n",
       " 19771130,\n",
       " 19771231,\n",
       " 19780131,\n",
       " 19780228,\n",
       " 19780331,\n",
       " 19780430,\n",
       " 19780531,\n",
       " 19780630,\n",
       " 19780731,\n",
       " 19780831,\n",
       " 19780930,\n",
       " 19781031,\n",
       " 19781130,\n",
       " 19781231,\n",
       " 19790131,\n",
       " 19790228,\n",
       " 19790331,\n",
       " 19790430,\n",
       " 19790531,\n",
       " 19790630,\n",
       " 19790731,\n",
       " 19790831,\n",
       " 19790930,\n",
       " 19791031,\n",
       " 19791130,\n",
       " 19791231,\n",
       " 19800131,\n",
       " 19800229,\n",
       " 19800331,\n",
       " 19800430,\n",
       " 19800531,\n",
       " 19800630,\n",
       " 19800731,\n",
       " 19800831,\n",
       " 19800930,\n",
       " 19801031,\n",
       " 19801130,\n",
       " 19801231,\n",
       " 19810131,\n",
       " 19810228,\n",
       " 19810331,\n",
       " 19810430,\n",
       " 19810531,\n",
       " 19810630,\n",
       " 19810731,\n",
       " 19810831,\n",
       " 19810930,\n",
       " 19811031,\n",
       " 19811130,\n",
       " 19811231,\n",
       " 19820131,\n",
       " 19820228,\n",
       " 19820331,\n",
       " 19820430,\n",
       " 19820531,\n",
       " 19820630,\n",
       " 19820731,\n",
       " 19820831,\n",
       " 19820930,\n",
       " 19821031,\n",
       " 19821130,\n",
       " 19821231,\n",
       " 19830131,\n",
       " 19830228,\n",
       " 19830331,\n",
       " 19830430,\n",
       " 19830531,\n",
       " 19830630,\n",
       " 19830731,\n",
       " 19830831,\n",
       " 19830930,\n",
       " 19831031,\n",
       " 19831130,\n",
       " 19831231,\n",
       " 19840131,\n",
       " 19840229,\n",
       " 19840331,\n",
       " 19840430,\n",
       " 19840531,\n",
       " 19840630,\n",
       " 19840731,\n",
       " 19840831,\n",
       " 19840930,\n",
       " 19841031,\n",
       " 19841130,\n",
       " 19841231,\n",
       " 19850131,\n",
       " 19850228,\n",
       " 19850331,\n",
       " 19850430,\n",
       " 19850531,\n",
       " 19850630,\n",
       " 19850731,\n",
       " 19850831,\n",
       " 19850930,\n",
       " 19851031,\n",
       " 19851130,\n",
       " 19851231,\n",
       " 19860131,\n",
       " 19860228,\n",
       " 19860331,\n",
       " 19860430,\n",
       " 19860531,\n",
       " 19860630,\n",
       " 19860731,\n",
       " 19860831,\n",
       " 19860930,\n",
       " 19861031,\n",
       " 19861130,\n",
       " 19861231,\n",
       " 19870131,\n",
       " 19870228,\n",
       " 19870331,\n",
       " 19870430,\n",
       " 19870531,\n",
       " 19870630,\n",
       " 19870731,\n",
       " 19870831,\n",
       " 19870930,\n",
       " 19871031,\n",
       " 19871130,\n",
       " 19871231,\n",
       " 19880131,\n",
       " 19880229,\n",
       " 19880331,\n",
       " 19880430,\n",
       " 19880531,\n",
       " 19880630,\n",
       " 19880731,\n",
       " 19880831,\n",
       " 19880930,\n",
       " 19881031,\n",
       " 19881130,\n",
       " 19881231,\n",
       " 19890131,\n",
       " 19890228,\n",
       " 19890331,\n",
       " 19890430,\n",
       " 19890531,\n",
       " 19890630,\n",
       " 19890731,\n",
       " 19890831,\n",
       " 19890930,\n",
       " 19891031,\n",
       " 19891130,\n",
       " 19891231,\n",
       " 19900131,\n",
       " 19900228,\n",
       " 19900331,\n",
       " 19900430,\n",
       " 19900531,\n",
       " 19900630,\n",
       " 19900731,\n",
       " 19900831,\n",
       " 19900930,\n",
       " 19901031,\n",
       " 19901130,\n",
       " 19901231,\n",
       " 19910131,\n",
       " 19910228,\n",
       " 19910331,\n",
       " 19910430,\n",
       " 19910531,\n",
       " 19910630,\n",
       " 19910731,\n",
       " 19910831,\n",
       " 19910930,\n",
       " 19911031,\n",
       " 19911130,\n",
       " 19911231,\n",
       " 19920131,\n",
       " 19920229,\n",
       " 19920331,\n",
       " 19920430,\n",
       " 19920531,\n",
       " 19920630,\n",
       " 19920731,\n",
       " 19920831,\n",
       " 19920930,\n",
       " 19921031,\n",
       " 19921130,\n",
       " 19921231,\n",
       " 19930131,\n",
       " 19930228,\n",
       " 19930331,\n",
       " 19930430,\n",
       " 19930531,\n",
       " 19930630,\n",
       " 19930731,\n",
       " 19930831,\n",
       " 19930930,\n",
       " 19931031,\n",
       " 19931130,\n",
       " 19931231,\n",
       " 19940131,\n",
       " 19940228,\n",
       " 19940331,\n",
       " 19940430,\n",
       " 19940531,\n",
       " 19940630,\n",
       " 19940731,\n",
       " 19940831,\n",
       " 19940930,\n",
       " 19941031,\n",
       " 19941130,\n",
       " 19941231,\n",
       " 19950131,\n",
       " 19950228,\n",
       " 19950331,\n",
       " 19950430,\n",
       " 19950531,\n",
       " 19950630,\n",
       " 19950731,\n",
       " 19950831,\n",
       " 19950930,\n",
       " 19951031,\n",
       " 19951130,\n",
       " 19951231,\n",
       " 19960131,\n",
       " 19960229,\n",
       " 19960331,\n",
       " 19960430,\n",
       " 19960531,\n",
       " 19960630,\n",
       " 19960731,\n",
       " 19960831,\n",
       " 19960930,\n",
       " 19961031,\n",
       " 19961130,\n",
       " 19961231,\n",
       " 19970131,\n",
       " 19970228,\n",
       " 19970331,\n",
       " 19970430,\n",
       " 19970531,\n",
       " 19970630,\n",
       " 19970731,\n",
       " 19970831,\n",
       " 19970930,\n",
       " 19971031,\n",
       " 19971130,\n",
       " 19971231,\n",
       " 19980131,\n",
       " 19980228,\n",
       " 19980331,\n",
       " 19980430,\n",
       " 19980531,\n",
       " 19980630,\n",
       " 19980731,\n",
       " 19980831,\n",
       " 19980930,\n",
       " 19981031,\n",
       " 19981130,\n",
       " 19981231,\n",
       " 19990131,\n",
       " 19990228,\n",
       " 19990331,\n",
       " 19990430,\n",
       " 19990531,\n",
       " 19990630,\n",
       " 19990731,\n",
       " 19990831,\n",
       " 19990930,\n",
       " 19991031,\n",
       " 19991130,\n",
       " 19991231,\n",
       " 20000131,\n",
       " 20000229,\n",
       " 20000331,\n",
       " 20000430,\n",
       " 20000531,\n",
       " 20000630,\n",
       " 20000731,\n",
       " 20000831,\n",
       " 20000930,\n",
       " 20001031,\n",
       " 20001130,\n",
       " 20001231,\n",
       " 20010131,\n",
       " 20010228,\n",
       " 20010331,\n",
       " 20010430,\n",
       " 20010531,\n",
       " 20010630,\n",
       " 20010731,\n",
       " 20010831,\n",
       " 20010930,\n",
       " 20011031,\n",
       " 20011130,\n",
       " 20011231,\n",
       " 20020131,\n",
       " 20020228,\n",
       " 20020331,\n",
       " 20020430,\n",
       " 20020531,\n",
       " 20020630,\n",
       " 20020731,\n",
       " 20020831,\n",
       " 20020930,\n",
       " 20021031,\n",
       " 20021130,\n",
       " 20021231,\n",
       " 20030131,\n",
       " 20030228,\n",
       " 20030331,\n",
       " 20030430,\n",
       " 20030531,\n",
       " 20030630,\n",
       " 20030731,\n",
       " 20030831,\n",
       " 20030930,\n",
       " 20031031,\n",
       " 20031130,\n",
       " 20031231,\n",
       " 20040131,\n",
       " 20040229,\n",
       " 20040331,\n",
       " 20040430,\n",
       " 20040531,\n",
       " 20040630,\n",
       " 20040731,\n",
       " 20040831,\n",
       " 20040930,\n",
       " 20041031,\n",
       " 20041130,\n",
       " 20041231,\n",
       " 20050131,\n",
       " 20050228,\n",
       " 20050331,\n",
       " 20050430,\n",
       " 20050531,\n",
       " 20050630,\n",
       " 20050731,\n",
       " 20050831,\n",
       " 20050930,\n",
       " 20051031,\n",
       " 20051130,\n",
       " 20051231,\n",
       " 20060131,\n",
       " 20060228,\n",
       " 20060331,\n",
       " 20060430,\n",
       " 20060531,\n",
       " 20060630,\n",
       " 20060731,\n",
       " 20060831,\n",
       " 20060930,\n",
       " 20061031,\n",
       " 20061130,\n",
       " 20061231,\n",
       " 20070131,\n",
       " 20070228,\n",
       " 20070331,\n",
       " 20070430,\n",
       " 20070531,\n",
       " 20070630,\n",
       " 20070731,\n",
       " 20070831,\n",
       " 20070930,\n",
       " 20071031,\n",
       " 20071130,\n",
       " 20071231,\n",
       " 20080131,\n",
       " 20080229,\n",
       " 20080331,\n",
       " 20080430,\n",
       " 20080531,\n",
       " 20080630,\n",
       " 20080731,\n",
       " 20080831,\n",
       " 20080930,\n",
       " 20081031,\n",
       " 20081130,\n",
       " 20081231,\n",
       " 20090131,\n",
       " 20090228,\n",
       " 20090331,\n",
       " 20090430,\n",
       " 20090531,\n",
       " 20090630,\n",
       " 20090731,\n",
       " 20090831,\n",
       " 20090930,\n",
       " 20091031,\n",
       " 20091130,\n",
       " 20091231,\n",
       " 20100131,\n",
       " 20100228,\n",
       " 20100331,\n",
       " 20100430,\n",
       " 20100531,\n",
       " 20100630,\n",
       " 20100731,\n",
       " 20100831,\n",
       " 20100930,\n",
       " 20101031,\n",
       " 20101130,\n",
       " 20101231,\n",
       " 20110131,\n",
       " 20110228,\n",
       " 20110331,\n",
       " 20110430,\n",
       " 20110531,\n",
       " 20110630,\n",
       " 20110731,\n",
       " 20110831,\n",
       " 20110930,\n",
       " 20111031,\n",
       " 20111130,\n",
       " 20111231,\n",
       " 20120131,\n",
       " 20120229,\n",
       " 20120331,\n",
       " 20120430,\n",
       " 20120531,\n",
       " 20120630,\n",
       " 20120731,\n",
       " 20120831,\n",
       " 20120930,\n",
       " 20121031,\n",
       " 20121130,\n",
       " 20121231,\n",
       " 20130131,\n",
       " 20130228,\n",
       " 20130331,\n",
       " 20130430,\n",
       " 20130531,\n",
       " 20130630,\n",
       " 20130731,\n",
       " 20130831,\n",
       " 20130930,\n",
       " 20131031,\n",
       " 20131130,\n",
       " 20131231,\n",
       " 20140131,\n",
       " 20140228,\n",
       " 20140331,\n",
       " 20140430,\n",
       " 20140531,\n",
       " 20140630,\n",
       " 20140731,\n",
       " 20140831,\n",
       " 20140930,\n",
       " 20141031,\n",
       " 20141130,\n",
       " 20141231,\n",
       " 20150131,\n",
       " 20150228,\n",
       " 20150331,\n",
       " 20150430,\n",
       " 20150531,\n",
       " 20150630,\n",
       " 20150731,\n",
       " 20150831,\n",
       " 20150930,\n",
       " 20151031,\n",
       " 20151130,\n",
       " 20151231,\n",
       " 20160131,\n",
       " 20160229,\n",
       " 20160331,\n",
       " 20160430,\n",
       " 20160531,\n",
       " 20160630,\n",
       " 20160731,\n",
       " 20160831,\n",
       " 20160930,\n",
       " 20161031,\n",
       " 20161130,\n",
       " 20161231,\n",
       " 20170131,\n",
       " 20170228,\n",
       " 20170331,\n",
       " 20170430,\n",
       " 20170531,\n",
       " 20170630,\n",
       " 20170731,\n",
       " 20170831,\n",
       " 20170930,\n",
       " 20171031,\n",
       " 20171130,\n",
       " 20171231,\n",
       " 20180131,\n",
       " 20180228,\n",
       " 20180331,\n",
       " 20180430,\n",
       " 20180531,\n",
       " 20180630,\n",
       " 20180731,\n",
       " 20180831,\n",
       " 20180930,\n",
       " 20181031,\n",
       " 20181130,\n",
       " 20181231,\n",
       " 20190131,\n",
       " 20190228,\n",
       " 20190331,\n",
       " 20190430,\n",
       " 20190531,\n",
       " 20190630,\n",
       " 20190731,\n",
       " 20190831,\n",
       " 20190930,\n",
       " 20191031,\n",
       " 20191130,\n",
       " 20191231,\n",
       " 20200131,\n",
       " 20200229,\n",
       " 20200331,\n",
       " 20200430,\n",
       " 20200531,\n",
       " 20200630,\n",
       " 20200731,\n",
       " 20200831,\n",
       " 20200930,\n",
       " 20201031,\n",
       " 20201130,\n",
       " 20201231]"
      ]
     },
     "execution_count": 196,
     "metadata": {},
     "output_type": "execute_result"
    }
   ],
   "source": [
    "dates"
   ]
  },
  {
   "cell_type": "code",
   "execution_count": 197,
   "id": "230e3559",
   "metadata": {},
   "outputs": [],
   "source": [
    "date_vals = np.array(dates) // 10000 + ((np.array(dates) // 100) % 100) / 12"
   ]
  },
  {
   "cell_type": "code",
   "execution_count": 199,
   "id": "6e912ce2",
   "metadata": {},
   "outputs": [
    {
     "data": {
      "image/png": "[encoded data removed]",
      "text/plain": [
       "<Figure size 432x288 with 1 Axes>"
      ]
     },
     "metadata": {
      "needs_background": "light"
     },
     "output_type": "display_data"
    },
    {
     "data": {
      "image/png": "[encoded data removed]",
      "text/plain": [
       "<Figure size 432x288 with 1 Axes>"
      ]
     },
     "metadata": {
      "needs_background": "light"
     },
     "output_type": "display_data"
    }
   ],
   "source": [
    "plt.plot(date_vals[ts_idxs.astype(int)], at_imputed, label=\"imputed\")\n",
    "plt.plot(date_vals[ts_idxs.astype(int)], percentile_rank_chars[ts_idxs.astype(int),290,26], label=\"imputed\")\n",
    "plt.ylabel(\"characteristic value\")\n",
    "plt.title(\"Capital Turnover\")\n",
    "plt.legend()\n",
    "plt.show()\n",
    "plt.plot(date_vals[ts_idxs.astype(int)], high_52_imputed, label=\"imputed\")\n",
    "plt.ylabel(\"characteristic value\")\n",
    "plt.plot(date_vals[ts_idxs.astype(int)], percentile_rank_chars[ts_idxs.astype(int),290,42], label=\"observed\")\n",
    "plt.title(\"High 52\")\n",
    "plt.legend()\n",
    "plt.show()"
   ]
  },
  {
   "cell_type": "code",
   "execution_count": 168,
   "id": "4841e492",
   "metadata": {},
   "outputs": [
    {
     "data": {
      "text/plain": [
       "array(['ME', 'R2_1', 'D2P', 'SPREAD', 'RVAR', 'VAR', 'IdioVol', 'TURN',\n",
       "       'SUV', 'R12_7', 'CF2P', 'E2P', 'R12_2', 'S2P', 'B2M', 'CF2B', 'AT',\n",
       "       'A2ME', 'Q', 'PROF', 'PM', 'PCM', 'BETA_m', 'C2A', 'OL', 'ROE',\n",
       "       'CTO', 'ATO', 'LEV', 'NOA', 'ROA', 'RNA', 'OP', 'NI', 'INV',\n",
       "       'BETA_d', 'R36_13', 'D2A', 'FC2Y', 'SGA2S', 'OA', 'AC', 'HIGH52',\n",
       "       'R60_13', 'DPI2A'], dtype='<U7')"
      ]
     },
     "execution_count": 168,
     "metadata": {},
     "output_type": "execute_result"
    }
   ],
   "source": [
    "chars"
   ]
  },
  {
   "cell_type": "code",
   "execution_count": 174,
   "id": "6cefe422",
   "metadata": {},
   "outputs": [
    {
     "data": {
      "text/plain": [
       "(648, 22630, 45)"
      ]
     },
     "execution_count": 174,
     "metadata": {},
     "output_type": "execute_result"
    }
   ],
   "source": []
  },
  {
   "cell_type": "code",
   "execution_count": null,
   "id": "bf9f7554",
   "metadata": {},
   "outputs": [],
   "source": []
  }
 ],
 "metadata": {
  "kernelspec": {
   "display_name": "Python 3 (ipykernel)",
   "language": "python",
   "name": "python3"
  },
  "language_info": {
   "codemirror_mode": {
    "name": "ipython",
    "version": 3
   },
   "file_extension": ".py",
   "mimetype": "text/x-python",
   "name": "python",
   "nbconvert_exporter": "python",
   "pygments_lexer": "ipython3",
   "version": "3.8.8"
  }
 },
 "nbformat": 4,
 "nbformat_minor": 5
}
